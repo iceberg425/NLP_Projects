{
 "cells": [
  {
   "cell_type": "code",
   "execution_count": 30,
   "metadata": {},
   "outputs": [],
   "source": [
    "# Imports\n",
    "import numpy as np\n",
    "import pandas as pd\n",
    "import matplotlib.pyplot as plt\n",
    "import re, nltk, spacy, gensim\n",
    "\n",
    "# Sklearn\n",
    "from sklearn.linear_model import LogisticRegression\n",
    "from sklearn.naive_bayes import MultinomialNB\n",
    "from sklearn.svm import SVC\n",
    "\n",
    "from sklearn.model_selection import train_test_split\n",
    "from sklearn.feature_extraction.text import CountVectorizer, TfidfVectorizer\n",
    "from sklearn.model_selection import GridSearchCV\n",
    "from sklearn.pipeline import Pipeline\n",
    "\n",
    "from sklearn.preprocessing import StandardScaler\n",
    "from sklearn.metrics import accuracy_score, confusion_matrix, classification_report, roc_auc_score, precision_recall_curve, roc_curve, auc \n",
    "\n",
    "# Neural Network\n",
    "from keras.models import Sequential\n",
    "from keras.layers import Dense, Dropout, GRU\n",
    "from keras.optimizers import Adam\n",
    "from keras.preprocessing.sequence import TimeseriesGenerator\n",
    "from keras.preprocessing.text import Tokenizer\n",
    "from keras.preprocessing.sequence import pad_sequences\n",
    "\n",
    "\n",
    "\n",
    "from pprint import pprint\n",
    "%matplotlib inline"
   ]
  },
  {
   "cell_type": "code",
   "execution_count": 6,
   "metadata": {},
   "outputs": [
    {
     "data": {
      "text/html": [
       "<div>\n",
       "<style scoped>\n",
       "    .dataframe tbody tr th:only-of-type {\n",
       "        vertical-align: middle;\n",
       "    }\n",
       "\n",
       "    .dataframe tbody tr th {\n",
       "        vertical-align: top;\n",
       "    }\n",
       "\n",
       "    .dataframe thead th {\n",
       "        text-align: right;\n",
       "    }\n",
       "</style>\n",
       "<table border=\"1\" class=\"dataframe\">\n",
       "  <thead>\n",
       "    <tr style=\"text-align: right;\">\n",
       "      <th></th>\n",
       "      <th>district_report</th>\n",
       "      <th>date</th>\n",
       "      <th>district</th>\n",
       "      <th>rate</th>\n",
       "      <th>rate_change</th>\n",
       "      <th>is_up</th>\n",
       "      <th>Document_No</th>\n",
       "      <th>Dominant_Topic</th>\n",
       "      <th>Topic_Perc_Contrib</th>\n",
       "      <th>Keywords</th>\n",
       "      <th>Text</th>\n",
       "      <th>clean_text</th>\n",
       "    </tr>\n",
       "  </thead>\n",
       "  <tbody>\n",
       "    <tr>\n",
       "      <th>0</th>\n",
       "      <td>\\n\\r\\n    var ref = document.referrer;\\r\\n    ...</td>\n",
       "      <td>2019-04</td>\n",
       "      <td>at</td>\n",
       "      <td>2.532381</td>\n",
       "      <td>NaN</td>\n",
       "      <td>0</td>\n",
       "      <td>0</td>\n",
       "      <td>1.0</td>\n",
       "      <td>0.6633</td>\n",
       "      <td>increase, price, demand, estate, service, real...</td>\n",
       "      <td>['economic', 'sixth', 'business', 'indicate', ...</td>\n",
       "      <td>economic sixth business indicated economic con...</td>\n",
       "    </tr>\n",
       "    <tr>\n",
       "      <th>1</th>\n",
       "      <td>\\n\\r\\n    var ref = document.referrer;\\r\\n    ...</td>\n",
       "      <td>2019-03</td>\n",
       "      <td>at</td>\n",
       "      <td>2.570952</td>\n",
       "      <td>0.015231</td>\n",
       "      <td>1</td>\n",
       "      <td>1</td>\n",
       "      <td>1.0</td>\n",
       "      <td>0.6734</td>\n",
       "      <td>increase, price, demand, estate, service, real...</td>\n",
       "      <td>['economic', 'sixth', 'business', 'economic', ...</td>\n",
       "      <td>economic sixth business reported economic cont...</td>\n",
       "    </tr>\n",
       "    <tr>\n",
       "      <th>2</th>\n",
       "      <td>\\n\\r\\n    var ref = document.referrer;\\r\\n    ...</td>\n",
       "      <td>2019-01</td>\n",
       "      <td>at</td>\n",
       "      <td>2.713810</td>\n",
       "      <td>0.055566</td>\n",
       "      <td>1</td>\n",
       "      <td>2</td>\n",
       "      <td>1.0</td>\n",
       "      <td>0.6796</td>\n",
       "      <td>increase, price, demand, estate, service, real...</td>\n",
       "      <td>['economic', 'sixth', 'business', 'remain', 'l...</td>\n",
       "      <td>economic sixth business remained largely posit...</td>\n",
       "    </tr>\n",
       "    <tr>\n",
       "      <th>3</th>\n",
       "      <td>\\n\\r\\n    var ref = document.referrer;\\r\\n    ...</td>\n",
       "      <td>2018-12</td>\n",
       "      <td>at</td>\n",
       "      <td>2.832632</td>\n",
       "      <td>0.043784</td>\n",
       "      <td>1</td>\n",
       "      <td>3</td>\n",
       "      <td>1.0</td>\n",
       "      <td>0.6348</td>\n",
       "      <td>increase, price, demand, estate, service, real...</td>\n",
       "      <td>['economic', 'sixth', 'business', 'describe', ...</td>\n",
       "      <td>economic reports sixth business described econ...</td>\n",
       "    </tr>\n",
       "    <tr>\n",
       "      <th>4</th>\n",
       "      <td>\\n\\r\\n    var ref = document.referrer;\\r\\n    ...</td>\n",
       "      <td>2018-10</td>\n",
       "      <td>at</td>\n",
       "      <td>3.152273</td>\n",
       "      <td>0.112842</td>\n",
       "      <td>1</td>\n",
       "      <td>4</td>\n",
       "      <td>1.0</td>\n",
       "      <td>0.6380</td>\n",
       "      <td>increase, price, demand, estate, service, real...</td>\n",
       "      <td>['economic', 'sixth', 'business', 'indicate', ...</td>\n",
       "      <td>economic reports sixth business indicated econ...</td>\n",
       "    </tr>\n",
       "  </tbody>\n",
       "</table>\n",
       "</div>"
      ],
      "text/plain": [
       "                                     district_report     date district  \\\n",
       "0  \\n\\r\\n    var ref = document.referrer;\\r\\n    ...  2019-04       at   \n",
       "1  \\n\\r\\n    var ref = document.referrer;\\r\\n    ...  2019-03       at   \n",
       "2  \\n\\r\\n    var ref = document.referrer;\\r\\n    ...  2019-01       at   \n",
       "3  \\n\\r\\n    var ref = document.referrer;\\r\\n    ...  2018-12       at   \n",
       "4  \\n\\r\\n    var ref = document.referrer;\\r\\n    ...  2018-10       at   \n",
       "\n",
       "       rate  rate_change  is_up  Document_No  Dominant_Topic  \\\n",
       "0  2.532381          NaN      0            0             1.0   \n",
       "1  2.570952     0.015231      1            1             1.0   \n",
       "2  2.713810     0.055566      1            2             1.0   \n",
       "3  2.832632     0.043784      1            3             1.0   \n",
       "4  3.152273     0.112842      1            4             1.0   \n",
       "\n",
       "   Topic_Perc_Contrib                                           Keywords  \\\n",
       "0              0.6633  increase, price, demand, estate, service, real...   \n",
       "1              0.6734  increase, price, demand, estate, service, real...   \n",
       "2              0.6796  increase, price, demand, estate, service, real...   \n",
       "3              0.6348  increase, price, demand, estate, service, real...   \n",
       "4              0.6380  increase, price, demand, estate, service, real...   \n",
       "\n",
       "                                                Text  \\\n",
       "0  ['economic', 'sixth', 'business', 'indicate', ...   \n",
       "1  ['economic', 'sixth', 'business', 'economic', ...   \n",
       "2  ['economic', 'sixth', 'business', 'remain', 'l...   \n",
       "3  ['economic', 'sixth', 'business', 'describe', ...   \n",
       "4  ['economic', 'sixth', 'business', 'indicate', ...   \n",
       "\n",
       "                                          clean_text  \n",
       "0  economic sixth business indicated economic con...  \n",
       "1  economic sixth business reported economic cont...  \n",
       "2  economic sixth business remained largely posit...  \n",
       "3  economic reports sixth business described econ...  \n",
       "4  economic reports sixth business indicated econ...  "
      ]
     },
     "execution_count": 6,
     "metadata": {},
     "output_type": "execute_result"
    }
   ],
   "source": [
    "# import the complete and cleaned data\n",
    "df = pd.read_csv('./data/complete_clean_text.csv')\n",
    "df.head()"
   ]
  },
  {
   "cell_type": "code",
   "execution_count": 7,
   "metadata": {},
   "outputs": [
    {
     "data": {
      "text/html": [
       "<div>\n",
       "<style scoped>\n",
       "    .dataframe tbody tr th:only-of-type {\n",
       "        vertical-align: middle;\n",
       "    }\n",
       "\n",
       "    .dataframe tbody tr th {\n",
       "        vertical-align: top;\n",
       "    }\n",
       "\n",
       "    .dataframe thead th {\n",
       "        text-align: right;\n",
       "    }\n",
       "</style>\n",
       "<table border=\"1\" class=\"dataframe\">\n",
       "  <thead>\n",
       "    <tr style=\"text-align: right;\">\n",
       "      <th></th>\n",
       "      <th>district_report</th>\n",
       "      <th>date</th>\n",
       "      <th>district</th>\n",
       "      <th>rate</th>\n",
       "      <th>rate_change</th>\n",
       "      <th>is_up</th>\n",
       "      <th>Document_No</th>\n",
       "      <th>Dominant_Topic</th>\n",
       "      <th>Topic_Perc_Contrib</th>\n",
       "      <th>Keywords</th>\n",
       "      <th>Text</th>\n",
       "      <th>clean_text</th>\n",
       "    </tr>\n",
       "  </thead>\n",
       "  <tbody>\n",
       "    <tr>\n",
       "      <th>0</th>\n",
       "      <td>\\n\\r\\n    var ref = document.referrer;\\r\\n    ...</td>\n",
       "      <td>2019-04-01</td>\n",
       "      <td>at</td>\n",
       "      <td>2.532381</td>\n",
       "      <td>NaN</td>\n",
       "      <td>0</td>\n",
       "      <td>0</td>\n",
       "      <td>1.0</td>\n",
       "      <td>0.6633</td>\n",
       "      <td>increase, price, demand, estate, service, real...</td>\n",
       "      <td>['economic', 'sixth', 'business', 'indicate', ...</td>\n",
       "      <td>economic sixth business indicated economic con...</td>\n",
       "    </tr>\n",
       "    <tr>\n",
       "      <th>1</th>\n",
       "      <td>\\n\\r\\n    var ref = document.referrer;\\r\\n    ...</td>\n",
       "      <td>2019-03-01</td>\n",
       "      <td>at</td>\n",
       "      <td>2.570952</td>\n",
       "      <td>0.015231</td>\n",
       "      <td>1</td>\n",
       "      <td>1</td>\n",
       "      <td>1.0</td>\n",
       "      <td>0.6734</td>\n",
       "      <td>increase, price, demand, estate, service, real...</td>\n",
       "      <td>['economic', 'sixth', 'business', 'economic', ...</td>\n",
       "      <td>economic sixth business reported economic cont...</td>\n",
       "    </tr>\n",
       "    <tr>\n",
       "      <th>2</th>\n",
       "      <td>\\n\\r\\n    var ref = document.referrer;\\r\\n    ...</td>\n",
       "      <td>2019-01-01</td>\n",
       "      <td>at</td>\n",
       "      <td>2.713810</td>\n",
       "      <td>0.055566</td>\n",
       "      <td>1</td>\n",
       "      <td>2</td>\n",
       "      <td>1.0</td>\n",
       "      <td>0.6796</td>\n",
       "      <td>increase, price, demand, estate, service, real...</td>\n",
       "      <td>['economic', 'sixth', 'business', 'remain', 'l...</td>\n",
       "      <td>economic sixth business remained largely posit...</td>\n",
       "    </tr>\n",
       "    <tr>\n",
       "      <th>3</th>\n",
       "      <td>\\n\\r\\n    var ref = document.referrer;\\r\\n    ...</td>\n",
       "      <td>2018-12-01</td>\n",
       "      <td>at</td>\n",
       "      <td>2.832632</td>\n",
       "      <td>0.043784</td>\n",
       "      <td>1</td>\n",
       "      <td>3</td>\n",
       "      <td>1.0</td>\n",
       "      <td>0.6348</td>\n",
       "      <td>increase, price, demand, estate, service, real...</td>\n",
       "      <td>['economic', 'sixth', 'business', 'describe', ...</td>\n",
       "      <td>economic reports sixth business described econ...</td>\n",
       "    </tr>\n",
       "    <tr>\n",
       "      <th>4</th>\n",
       "      <td>\\n\\r\\n    var ref = document.referrer;\\r\\n    ...</td>\n",
       "      <td>2018-10-01</td>\n",
       "      <td>at</td>\n",
       "      <td>3.152273</td>\n",
       "      <td>0.112842</td>\n",
       "      <td>1</td>\n",
       "      <td>4</td>\n",
       "      <td>1.0</td>\n",
       "      <td>0.6380</td>\n",
       "      <td>increase, price, demand, estate, service, real...</td>\n",
       "      <td>['economic', 'sixth', 'business', 'indicate', ...</td>\n",
       "      <td>economic reports sixth business indicated econ...</td>\n",
       "    </tr>\n",
       "  </tbody>\n",
       "</table>\n",
       "</div>"
      ],
      "text/plain": [
       "                                     district_report       date district  \\\n",
       "0  \\n\\r\\n    var ref = document.referrer;\\r\\n    ... 2019-04-01       at   \n",
       "1  \\n\\r\\n    var ref = document.referrer;\\r\\n    ... 2019-03-01       at   \n",
       "2  \\n\\r\\n    var ref = document.referrer;\\r\\n    ... 2019-01-01       at   \n",
       "3  \\n\\r\\n    var ref = document.referrer;\\r\\n    ... 2018-12-01       at   \n",
       "4  \\n\\r\\n    var ref = document.referrer;\\r\\n    ... 2018-10-01       at   \n",
       "\n",
       "       rate  rate_change  is_up  Document_No  Dominant_Topic  \\\n",
       "0  2.532381          NaN      0            0             1.0   \n",
       "1  2.570952     0.015231      1            1             1.0   \n",
       "2  2.713810     0.055566      1            2             1.0   \n",
       "3  2.832632     0.043784      1            3             1.0   \n",
       "4  3.152273     0.112842      1            4             1.0   \n",
       "\n",
       "   Topic_Perc_Contrib                                           Keywords  \\\n",
       "0              0.6633  increase, price, demand, estate, service, real...   \n",
       "1              0.6734  increase, price, demand, estate, service, real...   \n",
       "2              0.6796  increase, price, demand, estate, service, real...   \n",
       "3              0.6348  increase, price, demand, estate, service, real...   \n",
       "4              0.6380  increase, price, demand, estate, service, real...   \n",
       "\n",
       "                                                Text  \\\n",
       "0  ['economic', 'sixth', 'business', 'indicate', ...   \n",
       "1  ['economic', 'sixth', 'business', 'economic', ...   \n",
       "2  ['economic', 'sixth', 'business', 'remain', 'l...   \n",
       "3  ['economic', 'sixth', 'business', 'describe', ...   \n",
       "4  ['economic', 'sixth', 'business', 'indicate', ...   \n",
       "\n",
       "                                          clean_text  \n",
       "0  economic sixth business indicated economic con...  \n",
       "1  economic sixth business reported economic cont...  \n",
       "2  economic sixth business remained largely posit...  \n",
       "3  economic reports sixth business described econ...  \n",
       "4  economic reports sixth business indicated econ...  "
      ]
     },
     "execution_count": 7,
     "metadata": {},
     "output_type": "execute_result"
    }
   ],
   "source": [
    "# convert the date column to datetime\n",
    "df['date'] = pd.to_datetime(df['date'])\n",
    "df.head()"
   ]
  },
  {
   "cell_type": "code",
   "execution_count": 8,
   "metadata": {},
   "outputs": [],
   "source": [
    "# declare the dataset as a timeseries\n",
    "df.set_index('date', inplace=True)"
   ]
  },
  {
   "cell_type": "code",
   "execution_count": 9,
   "metadata": {},
   "outputs": [
    {
     "data": {
      "text/html": [
       "<div>\n",
       "<style scoped>\n",
       "    .dataframe tbody tr th:only-of-type {\n",
       "        vertical-align: middle;\n",
       "    }\n",
       "\n",
       "    .dataframe tbody tr th {\n",
       "        vertical-align: top;\n",
       "    }\n",
       "\n",
       "    .dataframe thead th {\n",
       "        text-align: right;\n",
       "    }\n",
       "</style>\n",
       "<table border=\"1\" class=\"dataframe\">\n",
       "  <thead>\n",
       "    <tr style=\"text-align: right;\">\n",
       "      <th></th>\n",
       "      <th>district_report</th>\n",
       "      <th>district</th>\n",
       "      <th>rate</th>\n",
       "      <th>rate_change</th>\n",
       "      <th>is_up</th>\n",
       "      <th>Document_No</th>\n",
       "      <th>Dominant_Topic</th>\n",
       "      <th>Topic_Perc_Contrib</th>\n",
       "      <th>Keywords</th>\n",
       "      <th>Text</th>\n",
       "      <th>clean_text</th>\n",
       "    </tr>\n",
       "    <tr>\n",
       "      <th>date</th>\n",
       "      <th></th>\n",
       "      <th></th>\n",
       "      <th></th>\n",
       "      <th></th>\n",
       "      <th></th>\n",
       "      <th></th>\n",
       "      <th></th>\n",
       "      <th></th>\n",
       "      <th></th>\n",
       "      <th></th>\n",
       "      <th></th>\n",
       "    </tr>\n",
       "  </thead>\n",
       "  <tbody>\n",
       "    <tr>\n",
       "      <th>2019-04-01</th>\n",
       "      <td>\\n\\r\\n    var ref = document.referrer;\\r\\n    ...</td>\n",
       "      <td>at</td>\n",
       "      <td>2.532381</td>\n",
       "      <td>NaN</td>\n",
       "      <td>0</td>\n",
       "      <td>0</td>\n",
       "      <td>1.0</td>\n",
       "      <td>0.6633</td>\n",
       "      <td>increase, price, demand, estate, service, real...</td>\n",
       "      <td>['economic', 'sixth', 'business', 'indicate', ...</td>\n",
       "      <td>economic sixth business indicated economic con...</td>\n",
       "    </tr>\n",
       "    <tr>\n",
       "      <th>2019-03-01</th>\n",
       "      <td>\\n\\r\\n    var ref = document.referrer;\\r\\n    ...</td>\n",
       "      <td>at</td>\n",
       "      <td>2.570952</td>\n",
       "      <td>0.015231</td>\n",
       "      <td>1</td>\n",
       "      <td>1</td>\n",
       "      <td>1.0</td>\n",
       "      <td>0.6734</td>\n",
       "      <td>increase, price, demand, estate, service, real...</td>\n",
       "      <td>['economic', 'sixth', 'business', 'economic', ...</td>\n",
       "      <td>economic sixth business reported economic cont...</td>\n",
       "    </tr>\n",
       "    <tr>\n",
       "      <th>2019-01-01</th>\n",
       "      <td>\\n\\r\\n    var ref = document.referrer;\\r\\n    ...</td>\n",
       "      <td>at</td>\n",
       "      <td>2.713810</td>\n",
       "      <td>0.055566</td>\n",
       "      <td>1</td>\n",
       "      <td>2</td>\n",
       "      <td>1.0</td>\n",
       "      <td>0.6796</td>\n",
       "      <td>increase, price, demand, estate, service, real...</td>\n",
       "      <td>['economic', 'sixth', 'business', 'remain', 'l...</td>\n",
       "      <td>economic sixth business remained largely posit...</td>\n",
       "    </tr>\n",
       "    <tr>\n",
       "      <th>2018-12-01</th>\n",
       "      <td>\\n\\r\\n    var ref = document.referrer;\\r\\n    ...</td>\n",
       "      <td>at</td>\n",
       "      <td>2.832632</td>\n",
       "      <td>0.043784</td>\n",
       "      <td>1</td>\n",
       "      <td>3</td>\n",
       "      <td>1.0</td>\n",
       "      <td>0.6348</td>\n",
       "      <td>increase, price, demand, estate, service, real...</td>\n",
       "      <td>['economic', 'sixth', 'business', 'describe', ...</td>\n",
       "      <td>economic reports sixth business described econ...</td>\n",
       "    </tr>\n",
       "    <tr>\n",
       "      <th>2018-10-01</th>\n",
       "      <td>\\n\\r\\n    var ref = document.referrer;\\r\\n    ...</td>\n",
       "      <td>at</td>\n",
       "      <td>3.152273</td>\n",
       "      <td>0.112842</td>\n",
       "      <td>1</td>\n",
       "      <td>4</td>\n",
       "      <td>1.0</td>\n",
       "      <td>0.6380</td>\n",
       "      <td>increase, price, demand, estate, service, real...</td>\n",
       "      <td>['economic', 'sixth', 'business', 'indicate', ...</td>\n",
       "      <td>economic reports sixth business indicated econ...</td>\n",
       "    </tr>\n",
       "  </tbody>\n",
       "</table>\n",
       "</div>"
      ],
      "text/plain": [
       "                                              district_report district  \\\n",
       "date                                                                     \n",
       "2019-04-01  \\n\\r\\n    var ref = document.referrer;\\r\\n    ...       at   \n",
       "2019-03-01  \\n\\r\\n    var ref = document.referrer;\\r\\n    ...       at   \n",
       "2019-01-01  \\n\\r\\n    var ref = document.referrer;\\r\\n    ...       at   \n",
       "2018-12-01  \\n\\r\\n    var ref = document.referrer;\\r\\n    ...       at   \n",
       "2018-10-01  \\n\\r\\n    var ref = document.referrer;\\r\\n    ...       at   \n",
       "\n",
       "                rate  rate_change  is_up  Document_No  Dominant_Topic  \\\n",
       "date                                                                    \n",
       "2019-04-01  2.532381          NaN      0            0             1.0   \n",
       "2019-03-01  2.570952     0.015231      1            1             1.0   \n",
       "2019-01-01  2.713810     0.055566      1            2             1.0   \n",
       "2018-12-01  2.832632     0.043784      1            3             1.0   \n",
       "2018-10-01  3.152273     0.112842      1            4             1.0   \n",
       "\n",
       "            Topic_Perc_Contrib  \\\n",
       "date                             \n",
       "2019-04-01              0.6633   \n",
       "2019-03-01              0.6734   \n",
       "2019-01-01              0.6796   \n",
       "2018-12-01              0.6348   \n",
       "2018-10-01              0.6380   \n",
       "\n",
       "                                                     Keywords  \\\n",
       "date                                                            \n",
       "2019-04-01  increase, price, demand, estate, service, real...   \n",
       "2019-03-01  increase, price, demand, estate, service, real...   \n",
       "2019-01-01  increase, price, demand, estate, service, real...   \n",
       "2018-12-01  increase, price, demand, estate, service, real...   \n",
       "2018-10-01  increase, price, demand, estate, service, real...   \n",
       "\n",
       "                                                         Text  \\\n",
       "date                                                            \n",
       "2019-04-01  ['economic', 'sixth', 'business', 'indicate', ...   \n",
       "2019-03-01  ['economic', 'sixth', 'business', 'economic', ...   \n",
       "2019-01-01  ['economic', 'sixth', 'business', 'remain', 'l...   \n",
       "2018-12-01  ['economic', 'sixth', 'business', 'describe', ...   \n",
       "2018-10-01  ['economic', 'sixth', 'business', 'indicate', ...   \n",
       "\n",
       "                                                   clean_text  \n",
       "date                                                           \n",
       "2019-04-01  economic sixth business indicated economic con...  \n",
       "2019-03-01  economic sixth business reported economic cont...  \n",
       "2019-01-01  economic sixth business remained largely posit...  \n",
       "2018-12-01  economic reports sixth business described econ...  \n",
       "2018-10-01  economic reports sixth business indicated econ...  "
      ]
     },
     "execution_count": 9,
     "metadata": {},
     "output_type": "execute_result"
    }
   ],
   "source": [
    "df.head()"
   ]
  },
  {
   "cell_type": "code",
   "execution_count": 141,
   "metadata": {},
   "outputs": [],
   "source": [
    "labels = y"
   ]
  },
  {
   "cell_type": "markdown",
   "metadata": {},
   "source": [
    "## Preprocessing (getting ready for modeling)"
   ]
  },
  {
   "cell_type": "code",
   "execution_count": 253,
   "metadata": {},
   "outputs": [
    {
     "name": "stdout",
     "output_type": "stream",
     "text": [
      "Found 14807 unique tokens.\n",
      "Shape of data tensor: (5148, 500)\n",
      "Shape of label tensor: (5148,)\n"
     ]
    }
   ],
   "source": [
    "embedding_dim = 100 \n",
    "max_words = 10000\n",
    "\n",
    "np.random.seed(20190514)\n",
    "\n",
    "maxlen = 500 \n",
    "training_samples = 1000 \n",
    "test_samples = 10000 \n",
    "max_words = 10000\n",
    "\n",
    "tokenizer = Tokenizer(num_words=max_words) \n",
    "tokenizer.fit_on_texts(df['Text']) \n",
    "sequences = tokenizer.texts_to_sequences(df['Text'])\n",
    "\n",
    "word_index = tokenizer.word_index \n",
    "print('Found %s unique tokens.' % len(word_index))\n",
    "\n",
    "data = pad_sequences(sequences, maxlen=maxlen)\n",
    "\n",
    "labels = np.asarray(labels) \n",
    "print('Shape of data tensor:', data.shape) \n",
    "print('Shape of label tensor:', labels.shape)\n",
    "\n",
    "indices = np.arange(data.shape[0]) \n",
    "np.random.shuffle(indices) \n",
    "data = data[indices] \n",
    "labels = labels[indices]"
   ]
  },
  {
   "cell_type": "code",
   "execution_count": 254,
   "metadata": {},
   "outputs": [],
   "source": [
    "X_train = data[:training_samples]\n",
    "y_train = labels[:training_samples]\n",
    "X_test = data[training_samples: training_samples + test_samples]\n",
    "y_test = labels[training_samples: training_samples + test_samples]"
   ]
  },
  {
   "cell_type": "markdown",
   "metadata": {},
   "source": [
    "## Parsing the GloVe word-embeddings file"
   ]
  },
  {
   "cell_type": "markdown",
   "metadata": {},
   "source": [
    "Go [here](https://nlp.stanford.edu/projects/glove) to download the pre-trained embeddings from 2014 English Wikipedia."
   ]
  },
  {
   "cell_type": "code",
   "execution_count": 56,
   "metadata": {},
   "outputs": [],
   "source": [
    "import os"
   ]
  },
  {
   "cell_type": "code",
   "execution_count": 57,
   "metadata": {},
   "outputs": [],
   "source": [
    "# imports the embeddings\n",
    "glove_dir = './resources/glove.6B'"
   ]
  },
  {
   "cell_type": "code",
   "execution_count": 255,
   "metadata": {},
   "outputs": [
    {
     "name": "stdout",
     "output_type": "stream",
     "text": [
      "Found 400000 word vectors.\n"
     ]
    }
   ],
   "source": [
    "# builds an index that maps words (as strings) as number vectors\n",
    "embeddings_index = {}\n",
    "f = open(os.path.join(glove_dir, 'glove.6B.100d.txt'))\n",
    "for line in f:\n",
    "    values = line.split()\n",
    "    word = values[0]\n",
    "    coefs = np.asarray(values[1:], dtype='float32')\n",
    "    embeddings_index[word] = coefs\n",
    "f.close()\n",
    "\n",
    "print('Found %s word vectors.' % len(embeddings_index))"
   ]
  },
  {
   "cell_type": "markdown",
   "metadata": {},
   "source": [
    "## Preparing the GloVe word-embeddings matrix"
   ]
  },
  {
   "cell_type": "code",
   "execution_count": 256,
   "metadata": {},
   "outputs": [],
   "source": [
    "embedding_matrix = np.zeros((max_words, embedding_dim))\n",
    "for word, i in word_index.items():\n",
    "    if i < max_words:\n",
    "        embedding_vector = embeddings_index.get(word)\n",
    "        if embedding_vector is not None:\n",
    "            embedding_matrix[i] = embedding_vector # words not found in the embedding index will be all zeros\n",
    "            \n",
    "            "
   ]
  },
  {
   "cell_type": "markdown",
   "metadata": {},
   "source": [
    "## Defining the Model"
   ]
  },
  {
   "cell_type": "code",
   "execution_count": 60,
   "metadata": {},
   "outputs": [],
   "source": [
    "# Model definition\n",
    "from keras.models import Sequential\n",
    "from keras.layers import Embedding, Flatten, Dense"
   ]
  },
  {
   "cell_type": "code",
   "execution_count": 118,
   "metadata": {},
   "outputs": [
    {
     "data": {
      "text/plain": [
       "<bound method Network.summary of <keras.engine.sequential.Sequential object at 0x155215e10>>"
      ]
     },
     "execution_count": 118,
     "metadata": {},
     "output_type": "execute_result"
    }
   ],
   "source": [
    "# setting up the model architecture \n",
    "model = Sequential()\n",
    "\n",
    "model.add(Embedding(max_words, embedding_dim, input_length=maxlen))\n",
    "model.add(Flatten())\n",
    "model.add(Dense(32, activation='relu'))\n",
    "model.add(Dense(1, activation='sigmoid'))\n",
    "model.summary"
   ]
  },
  {
   "cell_type": "markdown",
   "metadata": {},
   "source": [
    "## Loading the GloVe Embeddings in the Model"
   ]
  },
  {
   "cell_type": "code",
   "execution_count": 119,
   "metadata": {},
   "outputs": [],
   "source": [
    "model.layers[0].set_weights([embedding_matrix])\n",
    "model.layers[0].trainable = False"
   ]
  },
  {
   "cell_type": "markdown",
   "metadata": {},
   "source": [
    "## Training and Evaluating the Model"
   ]
  },
  {
   "cell_type": "code",
   "execution_count": 120,
   "metadata": {},
   "outputs": [
    {
     "name": "stdout",
     "output_type": "stream",
     "text": [
      "Train on 700 samples, validate on 4448 samples\n",
      "Epoch 1/50\n",
      "700/700 [==============================] - 1s 1ms/step - loss: 0.6932 - acc: 0.5029 - val_loss: 0.6930 - val_acc: 0.5054\n",
      "Epoch 2/50\n",
      "700/700 [==============================] - 0s 223us/step - loss: 0.6899 - acc: 0.5271 - val_loss: 0.6930 - val_acc: 0.5063\n",
      "Epoch 3/50\n",
      "700/700 [==============================] - 0s 221us/step - loss: 0.6883 - acc: 0.5271 - val_loss: 0.6930 - val_acc: 0.5063\n",
      "Epoch 4/50\n",
      "700/700 [==============================] - 0s 212us/step - loss: 0.6863 - acc: 0.5271 - val_loss: 0.6931 - val_acc: 0.5058\n",
      "Epoch 5/50\n",
      "700/700 [==============================] - 0s 226us/step - loss: 0.6852 - acc: 0.5271 - val_loss: 0.6932 - val_acc: 0.5058\n",
      "Epoch 6/50\n",
      "700/700 [==============================] - 0s 203us/step - loss: 0.6844 - acc: 0.5271 - val_loss: 0.6933 - val_acc: 0.5056\n",
      "Epoch 7/50\n",
      "700/700 [==============================] - 0s 200us/step - loss: 0.6838 - acc: 0.5271 - val_loss: 0.6934 - val_acc: 0.5056\n",
      "Epoch 8/50\n",
      "700/700 [==============================] - 0s 214us/step - loss: 0.6833 - acc: 0.5271 - val_loss: 0.6936 - val_acc: 0.5061\n",
      "Epoch 9/50\n",
      "700/700 [==============================] - 0s 247us/step - loss: 0.6834 - acc: 0.5271 - val_loss: 0.6935 - val_acc: 0.5061\n",
      "Epoch 10/50\n",
      "700/700 [==============================] - 0s 235us/step - loss: 0.6827 - acc: 0.5271 - val_loss: 0.6937 - val_acc: 0.5061\n",
      "Epoch 11/50\n",
      "700/700 [==============================] - 0s 204us/step - loss: 0.6825 - acc: 0.5271 - val_loss: 0.6937 - val_acc: 0.5058\n",
      "Epoch 12/50\n",
      "700/700 [==============================] - 0s 208us/step - loss: 0.6826 - acc: 0.5271 - val_loss: 0.6941 - val_acc: 0.5058\n",
      "Epoch 13/50\n",
      "700/700 [==============================] - 0s 235us/step - loss: 0.6823 - acc: 0.5271 - val_loss: 0.6938 - val_acc: 0.5061\n",
      "Epoch 14/50\n",
      "700/700 [==============================] - 0s 217us/step - loss: 0.6822 - acc: 0.5271 - val_loss: 0.6940 - val_acc: 0.5058\n",
      "Epoch 15/50\n",
      "700/700 [==============================] - 0s 202us/step - loss: 0.6821 - acc: 0.5271 - val_loss: 0.6940 - val_acc: 0.5061\n",
      "Epoch 16/50\n",
      "700/700 [==============================] - 0s 248us/step - loss: 0.6822 - acc: 0.5271 - val_loss: 0.6937 - val_acc: 0.5063\n",
      "Epoch 17/50\n",
      "700/700 [==============================] - 0s 236us/step - loss: 0.6821 - acc: 0.5271 - val_loss: 0.6939 - val_acc: 0.5061\n",
      "Epoch 18/50\n",
      "700/700 [==============================] - 0s 194us/step - loss: 0.6819 - acc: 0.5271 - val_loss: 0.6940 - val_acc: 0.5063\n",
      "Epoch 19/50\n",
      "700/700 [==============================] - 0s 218us/step - loss: 0.6819 - acc: 0.5271 - val_loss: 0.6941 - val_acc: 0.5061\n",
      "Epoch 20/50\n",
      "700/700 [==============================] - 0s 252us/step - loss: 0.6818 - acc: 0.5271 - val_loss: 0.6941 - val_acc: 0.5058\n",
      "Epoch 21/50\n",
      "700/700 [==============================] - 0s 197us/step - loss: 0.6819 - acc: 0.5271 - val_loss: 0.6940 - val_acc: 0.5058\n",
      "Epoch 22/50\n",
      "700/700 [==============================] - 0s 208us/step - loss: 0.6818 - acc: 0.5271 - val_loss: 0.6941 - val_acc: 0.5058\n",
      "Epoch 23/50\n",
      "700/700 [==============================] - 0s 237us/step - loss: 0.6820 - acc: 0.5271 - val_loss: 0.6944 - val_acc: 0.5058\n",
      "Epoch 24/50\n",
      "700/700 [==============================] - 0s 249us/step - loss: 0.6820 - acc: 0.5271 - val_loss: 0.6941 - val_acc: 0.5058\n",
      "Epoch 25/50\n",
      "700/700 [==============================] - 0s 239us/step - loss: 0.6818 - acc: 0.5271 - val_loss: 0.6941 - val_acc: 0.5058\n",
      "Epoch 26/50\n",
      "700/700 [==============================] - 0s 257us/step - loss: 0.6817 - acc: 0.5271 - val_loss: 0.6942 - val_acc: 0.5058\n",
      "Epoch 27/50\n",
      "700/700 [==============================] - 0s 243us/step - loss: 0.6817 - acc: 0.5271 - val_loss: 0.6941 - val_acc: 0.5063\n",
      "Epoch 28/50\n",
      "700/700 [==============================] - 0s 206us/step - loss: 0.6817 - acc: 0.5271 - val_loss: 0.6943 - val_acc: 0.5058\n",
      "Epoch 29/50\n",
      "700/700 [==============================] - 0s 219us/step - loss: 0.6818 - acc: 0.5271 - val_loss: 0.6944 - val_acc: 0.5063\n",
      "Epoch 30/50\n",
      "700/700 [==============================] - 0s 207us/step - loss: 0.6817 - acc: 0.5271 - val_loss: 0.6943 - val_acc: 0.5058\n",
      "Epoch 31/50\n",
      "700/700 [==============================] - 0s 223us/step - loss: 0.6817 - acc: 0.5271 - val_loss: 0.6942 - val_acc: 0.5063\n",
      "Epoch 32/50\n",
      "700/700 [==============================] - 0s 264us/step - loss: 0.6817 - acc: 0.5271 - val_loss: 0.6943 - val_acc: 0.5063\n",
      "Epoch 33/50\n",
      "700/700 [==============================] - 0s 226us/step - loss: 0.6817 - acc: 0.5271 - val_loss: 0.6943 - val_acc: 0.5063\n",
      "Epoch 34/50\n",
      "700/700 [==============================] - 0s 210us/step - loss: 0.6818 - acc: 0.5271 - val_loss: 0.6943 - val_acc: 0.5061\n",
      "Epoch 35/50\n",
      "700/700 [==============================] - 0s 230us/step - loss: 0.6817 - acc: 0.5271 - val_loss: 0.6943 - val_acc: 0.5065\n",
      "Epoch 36/50\n",
      "700/700 [==============================] - 0s 263us/step - loss: 0.6817 - acc: 0.5271 - val_loss: 0.6944 - val_acc: 0.5061\n",
      "Epoch 37/50\n",
      "700/700 [==============================] - 0s 204us/step - loss: 0.6817 - acc: 0.5271 - val_loss: 0.6943 - val_acc: 0.5065\n",
      "Epoch 38/50\n",
      "700/700 [==============================] - 0s 182us/step - loss: 0.6816 - acc: 0.5271 - val_loss: 0.6944 - val_acc: 0.5065\n",
      "Epoch 39/50\n",
      "700/700 [==============================] - 0s 192us/step - loss: 0.6816 - acc: 0.5271 - val_loss: 0.6944 - val_acc: 0.5065\n",
      "Epoch 40/50\n",
      "700/700 [==============================] - 0s 196us/step - loss: 0.6816 - acc: 0.5271 - val_loss: 0.6944 - val_acc: 0.5065\n",
      "Epoch 41/50\n",
      "700/700 [==============================] - 0s 211us/step - loss: 0.6818 - acc: 0.5271 - val_loss: 0.6946 - val_acc: 0.5058\n",
      "Epoch 42/50\n",
      "700/700 [==============================] - 0s 228us/step - loss: 0.6817 - acc: 0.5271 - val_loss: 0.6946 - val_acc: 0.5061\n",
      "Epoch 43/50\n",
      "700/700 [==============================] - 0s 244us/step - loss: 0.6818 - acc: 0.5271 - val_loss: 0.6943 - val_acc: 0.5067\n",
      "Epoch 44/50\n",
      "700/700 [==============================] - 0s 230us/step - loss: 0.6817 - acc: 0.5271 - val_loss: 0.6944 - val_acc: 0.5065\n",
      "Epoch 45/50\n",
      "700/700 [==============================] - 0s 195us/step - loss: 0.6816 - acc: 0.5271 - val_loss: 0.6945 - val_acc: 0.5065\n",
      "Epoch 46/50\n",
      "700/700 [==============================] - 0s 279us/step - loss: 0.6817 - acc: 0.5271 - val_loss: 0.6944 - val_acc: 0.5067\n",
      "Epoch 47/50\n",
      "700/700 [==============================] - 0s 231us/step - loss: 0.6816 - acc: 0.5271 - val_loss: 0.6945 - val_acc: 0.5065\n",
      "Epoch 48/50\n",
      "700/700 [==============================] - 0s 241us/step - loss: 0.6817 - acc: 0.5271 - val_loss: 0.6945 - val_acc: 0.5065\n",
      "Epoch 49/50\n",
      "700/700 [==============================] - 0s 260us/step - loss: 0.6816 - acc: 0.5271 - val_loss: 0.6945 - val_acc: 0.5065\n",
      "Epoch 50/50\n",
      "700/700 [==============================] - 0s 224us/step - loss: 0.6816 - acc: 0.5271 - val_loss: 0.6945 - val_acc: 0.5065\n"
     ]
    }
   ],
   "source": [
    "# compile and train the model\n",
    "model.compile(optimizer='adam',\n",
    "             loss='binary_crossentropy',\n",
    "             metrics=['acc'])\n",
    "\n",
    "history = model.fit(X_train, y_train,\n",
    "                   epochs=50,\n",
    "                   batch_size=32,\n",
    "                   validation_data=(X_test, y_test))\n",
    "\n",
    "model.save_weights('pre_trained_glove_model.h5')"
   ]
  },
  {
   "cell_type": "markdown",
   "metadata": {},
   "source": [
    "## Plotting the results"
   ]
  },
  {
   "cell_type": "code",
   "execution_count": 121,
   "metadata": {},
   "outputs": [
    {
     "data": {
      "image/png": "[encoded data removed]",
      "text/plain": [
       "<Figure size 432x288 with 1 Axes>"
      ]
     },
     "metadata": {
      "needs_background": "light"
     },
     "output_type": "display_data"
    },
    {
     "data": {
      "image/png": "[encoded data removed]",
      "text/plain": [
       "<Figure size 432x288 with 1 Axes>"
      ]
     },
     "metadata": {
      "needs_background": "light"
     },
     "output_type": "display_data"
    }
   ],
   "source": [
    "# plotting the training and test scores\n",
    "train_acc = history.history['acc']\n",
    "test_acc = history.history['val_acc']\n",
    "train_loss = history.history['loss']\n",
    "test_loss = history.history['val_loss']\n",
    "\n",
    "epochs = range(1, len(train_acc) + 1)\n",
    "\n",
    "plt.plot(epochs, train_acc, 'bo', label='Training acc')\n",
    "plt.plot(epochs, test_acc, 'b', label='Test acc')\n",
    "plt.title('Training and Test accuracy')\n",
    "plt.legend()\n",
    "\n",
    "plt.figure()\n",
    "\n",
    "plt.plot(epochs, train_loss, 'bo', label='Training loss')\n",
    "plt.plot(epochs, test_loss, 'b', label='Test loss')\n",
    "plt.title('Training and Test loss')\n",
    "plt.legend()\n",
    "\n",
    "plt.show()"
   ]
  },
  {
   "cell_type": "markdown",
   "metadata": {},
   "source": [
    "The model overfits very quickly. The model performs relatively worse on unseen data. The accuracy of the model suggests that our model does not do better than a guess. \n",
    "We will attempt to address this in a number of ways presented below."
   ]
  },
  {
   "cell_type": "markdown",
   "metadata": {},
   "source": [
    "## Training the same model without pretrained word embeddings"
   ]
  },
  {
   "cell_type": "code",
   "execution_count": 122,
   "metadata": {},
   "outputs": [
    {
     "name": "stdout",
     "output_type": "stream",
     "text": [
      "_________________________________________________________________\n",
      "Layer (type)                 Output Shape              Param #   \n",
      "=================================================================\n",
      "embedding_13 (Embedding)     (None, 100, 100)          1000000   \n",
      "_________________________________________________________________\n",
      "flatten_13 (Flatten)         (None, 10000)             0         \n",
      "_________________________________________________________________\n",
      "dense_26 (Dense)             (None, 32)                320032    \n",
      "_________________________________________________________________\n",
      "dense_27 (Dense)             (None, 1)                 33        \n",
      "=================================================================\n",
      "Total params: 1,320,065\n",
      "Trainable params: 1,320,065\n",
      "Non-trainable params: 0\n",
      "_________________________________________________________________\n"
     ]
    }
   ],
   "source": [
    "model = Sequential()\n",
    "\n",
    "model.add(Embedding(max_words, embedding_dim, input_length=maxlen))\n",
    "model.add(Flatten())\n",
    "model.add(Dense(32, activation='relu'))\n",
    "model.add(Dense(1, activation='sigmoid'))\n",
    "model.summary()"
   ]
  },
  {
   "cell_type": "code",
   "execution_count": 104,
   "metadata": {},
   "outputs": [
    {
     "name": "stdout",
     "output_type": "stream",
     "text": [
      "Train on 200 samples, validate on 4948 samples\n",
      "Epoch 1/10\n",
      "200/200 [==============================] - 1s 7ms/step - loss: 0.6960 - acc: 0.4400 - val_loss: 0.6936 - val_acc: 0.4899\n",
      "Epoch 2/10\n",
      "200/200 [==============================] - 0s 948us/step - loss: 0.5772 - acc: 1.0000 - val_loss: 0.6937 - val_acc: 0.4923\n",
      "Epoch 3/10\n",
      "200/200 [==============================] - 0s 925us/step - loss: 0.4753 - acc: 1.0000 - val_loss: 0.6945 - val_acc: 0.5032\n",
      "Epoch 4/10\n",
      "200/200 [==============================] - 0s 763us/step - loss: 0.3416 - acc: 1.0000 - val_loss: 0.6976 - val_acc: 0.5040\n",
      "Epoch 5/10\n",
      "200/200 [==============================] - 0s 904us/step - loss: 0.1872 - acc: 1.0000 - val_loss: 0.7033 - val_acc: 0.5006\n",
      "Epoch 6/10\n",
      "200/200 [==============================] - 0s 832us/step - loss: 0.0786 - acc: 1.0000 - val_loss: 0.7113 - val_acc: 0.5028\n",
      "Epoch 7/10\n",
      "200/200 [==============================] - 0s 743us/step - loss: 0.0304 - acc: 1.0000 - val_loss: 0.7229 - val_acc: 0.5042\n",
      "Epoch 8/10\n",
      "200/200 [==============================] - 0s 726us/step - loss: 0.0140 - acc: 1.0000 - val_loss: 0.7350 - val_acc: 0.5044\n",
      "Epoch 9/10\n",
      "200/200 [==============================] - 0s 841us/step - loss: 0.0076 - acc: 1.0000 - val_loss: 0.7432 - val_acc: 0.5067\n",
      "Epoch 10/10\n",
      "200/200 [==============================] - 0s 903us/step - loss: 0.0050 - acc: 1.0000 - val_loss: 0.7485 - val_acc: 0.5075\n"
     ]
    }
   ],
   "source": [
    "model.compile(optimizer='adam',\n",
    "             loss='binary_crossentropy',\n",
    "             metrics=['acc'])\n",
    "history = model.fit(X_train, y_train,\n",
    "                   epochs=10,\n",
    "                   batch_size=32,\n",
    "                   validation_data=(X_test, y_test))"
   ]
  },
  {
   "cell_type": "code",
   "execution_count": 123,
   "metadata": {},
   "outputs": [
    {
     "data": {
      "image/png": "[encoded data removed]",
      "text/plain": [
       "<Figure size 432x288 with 1 Axes>"
      ]
     },
     "metadata": {
      "needs_background": "light"
     },
     "output_type": "display_data"
    },
    {
     "data": {
      "image/png": "[encoded data removed]",
      "text/plain": [
       "<Figure size 432x288 with 1 Axes>"
      ]
     },
     "metadata": {
      "needs_background": "light"
     },
     "output_type": "display_data"
    }
   ],
   "source": [
    "train_acc = history.history['acc']\n",
    "test_acc = history.history['val_acc']\n",
    "train_loss = history.history['loss']\n",
    "test_loss = history.history['val_loss']\n",
    "\n",
    "epochs = range(1, len(train_acc) + 1)\n",
    "\n",
    "plt.plot(epochs, train_acc, 'bo', label='Training acc')\n",
    "plt.plot(epochs, test_acc, 'b', label='Test acc')\n",
    "plt.title('Training and Test accuracy')\n",
    "plt.legend()\n",
    "\n",
    "plt.figure()\n",
    "\n",
    "plt.plot(epochs, train_loss, 'bo', label='Training loss')\n",
    "plt.plot(epochs, test_loss, 'b', label='Test loss')\n",
    "plt.title('Training and Test loss')\n",
    "plt.legend()\n",
    "\n",
    "plt.show()"
   ]
  },
  {
   "cell_type": "markdown",
   "metadata": {},
   "source": [
    "We do not observe any significant difference between the model with embeddings and the one without.\n",
    "Next, we turn to a Recurrent Neural Networ to see if we can do better."
   ]
  },
  {
   "cell_type": "markdown",
   "metadata": {},
   "source": [
    "## RNN (Using an LSTM layer)"
   ]
  },
  {
   "cell_type": "code",
   "execution_count": 124,
   "metadata": {},
   "outputs": [],
   "source": [
    "from keras.layers import LSTM"
   ]
  },
  {
   "cell_type": "code",
   "execution_count": 133,
   "metadata": {},
   "outputs": [],
   "source": [
    "batch_size = 32"
   ]
  },
  {
   "cell_type": "code",
   "execution_count": 134,
   "metadata": {},
   "outputs": [],
   "source": [
    "model = Sequential()\n",
    "\n",
    "model.add(Embedding(max_features, 32))\n",
    "model.add(LSTM(32))\n",
    "model.add(Dense(1, activation='sigmoid'))"
   ]
  },
  {
   "cell_type": "code",
   "execution_count": 135,
   "metadata": {},
   "outputs": [
    {
     "name": "stdout",
     "output_type": "stream",
     "text": [
      "Train on 1600 samples, validate on 400 samples\n",
      "Epoch 1/10\n",
      "1600/1600 [==============================] - 6s 4ms/step - loss: 0.6932 - acc: 0.5112 - val_loss: 0.6909 - val_acc: 0.5425\n",
      "Epoch 2/10\n",
      "1600/1600 [==============================] - 5s 3ms/step - loss: 0.6897 - acc: 0.5175 - val_loss: 0.6909 - val_acc: 0.5450\n",
      "Epoch 3/10\n",
      "1600/1600 [==============================] - 5s 3ms/step - loss: 0.6835 - acc: 0.6331 - val_loss: 0.6911 - val_acc: 0.5400\n",
      "Epoch 4/10\n",
      "1600/1600 [==============================] - 5s 3ms/step - loss: 0.6657 - acc: 0.6975 - val_loss: 0.6928 - val_acc: 0.5100\n",
      "Epoch 5/10\n",
      "1600/1600 [==============================] - 5s 3ms/step - loss: 0.6138 - acc: 0.7575 - val_loss: 0.7152 - val_acc: 0.4975\n",
      "Epoch 6/10\n",
      "1600/1600 [==============================] - 5s 3ms/step - loss: 0.5026 - acc: 0.8006 - val_loss: 0.7917 - val_acc: 0.4875\n",
      "Epoch 7/10\n",
      "1600/1600 [==============================] - 5s 3ms/step - loss: 0.3859 - acc: 0.8506 - val_loss: 0.8352 - val_acc: 0.4950\n",
      "Epoch 8/10\n",
      "1600/1600 [==============================] - 5s 3ms/step - loss: 0.2820 - acc: 0.9025 - val_loss: 0.9659 - val_acc: 0.5050\n",
      "Epoch 9/10\n",
      "1600/1600 [==============================] - 5s 3ms/step - loss: 0.2073 - acc: 0.9375 - val_loss: 1.0750 - val_acc: 0.4850\n",
      "Epoch 10/10\n",
      "1600/1600 [==============================] - 5s 3ms/step - loss: 0.1569 - acc: 0.9581 - val_loss: 1.1560 - val_acc: 0.5000\n"
     ]
    }
   ],
   "source": [
    "model.compile(optimizer='adam',\n",
    "             loss='binary_crossentropy',\n",
    "             metrics=['acc'])\n",
    "history = model.fit(X_train, y_train,\n",
    "                   epochs=10,\n",
    "                   batch_size=128,\n",
    "                   validation_split=0.2)"
   ]
  },
  {
   "cell_type": "code",
   "execution_count": 136,
   "metadata": {},
   "outputs": [
    {
     "data": {
      "image/png": "[encoded data removed]",
      "text/plain": [
       "<Figure size 432x288 with 1 Axes>"
      ]
     },
     "metadata": {
      "needs_background": "light"
     },
     "output_type": "display_data"
    },
    {
     "data": {
      "image/png": "[encoded data removed]",
      "text/plain": [
       "<Figure size 432x288 with 1 Axes>"
      ]
     },
     "metadata": {
      "needs_background": "light"
     },
     "output_type": "display_data"
    }
   ],
   "source": [
    "train_acc = history.history['acc']\n",
    "test_acc = history.history['val_acc']\n",
    "train_loss = history.history['loss']\n",
    "test_loss = history.history['val_loss']\n",
    "\n",
    "epochs = range(1, len(train_acc) + 1)\n",
    "\n",
    "plt.plot(epochs, train_acc, 'bo', label='Training acc')\n",
    "plt.plot(epochs, test_acc, 'b', label='Test acc')\n",
    "plt.title('Training and Test accuracy')\n",
    "plt.legend()\n",
    "\n",
    "plt.figure()\n",
    "\n",
    "plt.plot(epochs, train_loss, 'bo', label='Training loss')\n",
    "plt.plot(epochs, test_loss, 'b', label='Test loss')\n",
    "plt.title('Training and Test loss')\n",
    "plt.legend()\n",
    "\n",
    "plt.show()"
   ]
  },
  {
   "cell_type": "markdown",
   "metadata": {},
   "source": [
    "Although we have a high accuracy score, we find that the model overfits again. "
   ]
  },
  {
   "cell_type": "markdown",
   "metadata": {},
   "source": [
    "## Regularization"
   ]
  },
  {
   "cell_type": "code",
   "execution_count": 238,
   "metadata": {},
   "outputs": [],
   "source": [
    "from keras import regularizers"
   ]
  },
  {
   "cell_type": "code",
   "execution_count": 247,
   "metadata": {},
   "outputs": [
    {
     "data": {
      "text/plain": [
       "<bound method Network.summary of <keras.engine.sequential.Sequential object at 0x157cc5080>>"
      ]
     },
     "execution_count": 247,
     "metadata": {},
     "output_type": "execute_result"
    }
   ],
   "source": [
    "model_dropout = Sequential()\n",
    "\n",
    "model_dropout.add(Embedding(max_words, embedding_dim, input_length=maxlen))\n",
    "model_dropout.add(Flatten())\n",
    "model_dropout.add(Dense(32, activation='relu'))\n",
    "model_dropout.add(Dropout(0.5))\n",
    "model_dropout.add(Dense(1, activation='sigmoid'))\n",
    "model_dropout.summary"
   ]
  },
  {
   "cell_type": "code",
   "execution_count": 248,
   "metadata": {},
   "outputs": [],
   "source": [
    "model_dropout.layers[0].set_weights([embedding_matrix])\n",
    "model_dropout.layers[0].trainable = False"
   ]
  },
  {
   "cell_type": "code",
   "execution_count": 249,
   "metadata": {},
   "outputs": [
    {
     "name": "stdout",
     "output_type": "stream",
     "text": [
      "Train on 1000 samples, validate on 4148 samples\n",
      "Epoch 1/10\n",
      "1000/1000 [==============================] - 2s 2ms/step - loss: 0.6933 - acc: 0.4750 - val_loss: 0.6933 - val_acc: 0.5096\n",
      "Epoch 2/10\n",
      "1000/1000 [==============================] - 0s 495us/step - loss: 0.6855 - acc: 0.5190 - val_loss: 0.6935 - val_acc: 0.4899\n",
      "Epoch 3/10\n",
      "1000/1000 [==============================] - 0s 494us/step - loss: 0.6770 - acc: 0.5560 - val_loss: 0.6941 - val_acc: 0.4882\n",
      "Epoch 4/10\n",
      "1000/1000 [==============================] - 0s 495us/step - loss: 0.6705 - acc: 0.5540 - val_loss: 0.6947 - val_acc: 0.4875\n",
      "Epoch 5/10\n",
      "1000/1000 [==============================] - 1s 513us/step - loss: 0.6637 - acc: 0.5540 - val_loss: 0.6959 - val_acc: 0.4867\n",
      "Epoch 6/10\n",
      "1000/1000 [==============================] - 1s 541us/step - loss: 0.6584 - acc: 0.5530 - val_loss: 0.6965 - val_acc: 0.4875\n",
      "Epoch 7/10\n",
      "1000/1000 [==============================] - 1s 512us/step - loss: 0.6549 - acc: 0.5470 - val_loss: 0.6975 - val_acc: 0.4879\n",
      "Epoch 8/10\n",
      "1000/1000 [==============================] - 1s 502us/step - loss: 0.6496 - acc: 0.5490 - val_loss: 0.6990 - val_acc: 0.4872\n",
      "Epoch 9/10\n",
      "1000/1000 [==============================] - 1s 511us/step - loss: 0.6480 - acc: 0.5600 - val_loss: 0.6997 - val_acc: 0.4882\n",
      "Epoch 10/10\n",
      "1000/1000 [==============================] - 1s 541us/step - loss: 0.6432 - acc: 0.5540 - val_loss: 0.7009 - val_acc: 0.4872\n"
     ]
    }
   ],
   "source": [
    "# compile and train the model\n",
    "model_dropout.compile(optimizer='adam',\n",
    "             loss='binary_crossentropy',\n",
    "             metrics=['acc'])\n",
    "\n",
    "history_dropout = model_dropout.fit(X_train, y_train,\n",
    "                   epochs=10,\n",
    "                   batch_size=64,\n",
    "                   validation_data=(X_test, y_test))"
   ]
  },
  {
   "cell_type": "code",
   "execution_count": 250,
   "metadata": {},
   "outputs": [
    {
     "data": {
      "image/png": "[encoded data removed]",
      "text/plain": [
       "<Figure size 720x504 with 1 Axes>"
      ]
     },
     "metadata": {
      "needs_background": "light"
     },
     "output_type": "display_data"
    }
   ],
   "source": [
    "plt.figure(figsize=(10,7))\n",
    "plt.plot(history_dropout.history['loss'], label='Train loss')\n",
    "plt.plot(history_dropout.history['val_loss'], label='Test loss')\n",
    "plt.legend();"
   ]
  },
  {
   "cell_type": "code",
   "execution_count": 251,
   "metadata": {},
   "outputs": [
    {
     "data": {
      "image/png": "[encoded data removed]",
      "text/plain": [
       "<Figure size 720x504 with 1 Axes>"
      ]
     },
     "metadata": {
      "needs_background": "light"
     },
     "output_type": "display_data"
    }
   ],
   "source": [
    "plt.figure(figsize=(10,7))\n",
    "plt.plot(history_dropout.history['acc'], label='Train acc')\n",
    "plt.plot(history_dropout.history['val_acc'], label='Test acc')\n",
    "plt.legend();"
   ]
  },
  {
   "cell_type": "code",
   "execution_count": 259,
   "metadata": {},
   "outputs": [],
   "source": [
    "model_dropout = Sequential()\n",
    "\n",
    "model_dropout.add(Embedding(max_features, 32))\n",
    "model_dropout.add(LSTM(32))\n",
    "model_dropout.add(Dropout(0.5))\n",
    "model_dropout.add(Dense(1, activation='sigmoid'))"
   ]
  },
  {
   "cell_type": "code",
   "execution_count": 260,
   "metadata": {},
   "outputs": [
    {
     "name": "stdout",
     "output_type": "stream",
     "text": [
      "Train on 800 samples, validate on 200 samples\n",
      "Epoch 1/10\n",
      "800/800 [==============================] - 4s 5ms/step - loss: 0.6874 - acc: 0.5600 - val_loss: 0.6957 - val_acc: 0.4800\n",
      "Epoch 2/10\n",
      "800/800 [==============================] - 3s 3ms/step - loss: 0.6818 - acc: 0.5750 - val_loss: 0.6972 - val_acc: 0.4850\n",
      "Epoch 3/10\n",
      "800/800 [==============================] - 3s 3ms/step - loss: 0.6721 - acc: 0.6062 - val_loss: 0.6995 - val_acc: 0.4900\n",
      "Epoch 4/10\n",
      "800/800 [==============================] - 3s 3ms/step - loss: 0.6547 - acc: 0.7125 - val_loss: 0.7025 - val_acc: 0.4600\n",
      "Epoch 5/10\n",
      "800/800 [==============================] - 3s 3ms/step - loss: 0.6213 - acc: 0.8150 - val_loss: 0.7209 - val_acc: 0.4850\n",
      "Epoch 6/10\n",
      "800/800 [==============================] - 3s 3ms/step - loss: 0.5689 - acc: 0.7950 - val_loss: 0.7128 - val_acc: 0.4800\n",
      "Epoch 7/10\n",
      "800/800 [==============================] - 3s 3ms/step - loss: 0.5104 - acc: 0.8925 - val_loss: 0.7449 - val_acc: 0.5100\n",
      "Epoch 8/10\n",
      "800/800 [==============================] - 3s 3ms/step - loss: 0.4154 - acc: 0.8612 - val_loss: 0.7995 - val_acc: 0.5100\n",
      "Epoch 9/10\n",
      "800/800 [==============================] - 3s 3ms/step - loss: 0.3161 - acc: 0.9187 - val_loss: 0.9636 - val_acc: 0.5100\n",
      "Epoch 10/10\n",
      "800/800 [==============================] - 3s 3ms/step - loss: 0.2493 - acc: 0.9350 - val_loss: 0.9395 - val_acc: 0.5150\n"
     ]
    }
   ],
   "source": [
    "model_dropout.compile(optimizer='adam',\n",
    "             loss='binary_crossentropy',\n",
    "             metrics=['acc'])\n",
    "history_dropout = model.fit(X_train, y_train,\n",
    "                   epochs=10,\n",
    "                   batch_size=128,\n",
    "                   validation_split=0.2)"
   ]
  },
  {
   "cell_type": "markdown",
   "metadata": {},
   "source": [
    "We do not observe any changes in the model's performance after regularization.\n",
    "Next, we explicitly account for time in the model."
   ]
  },
  {
   "cell_type": "markdown",
   "metadata": {},
   "source": [
    "## Explicitly Incorporating Time"
   ]
  },
  {
   "cell_type": "markdown",
   "metadata": {},
   "source": [
    "The Beige books and the interest rates are not time invariant. Therefore, we attempt to model this assumed relationship by explicitly accounting for time. "
   ]
  },
  {
   "cell_type": "markdown",
   "metadata": {},
   "source": [
    "### Train/Test Split "
   ]
  },
  {
   "cell_type": "code",
   "execution_count": 181,
   "metadata": {},
   "outputs": [],
   "source": [
    "# Create X and y\n",
    "features = ['clean_text'] \n",
    "X = df[features] \n",
    "y = df['is_up'].values"
   ]
  },
  {
   "cell_type": "code",
   "execution_count": 182,
   "metadata": {},
   "outputs": [
    {
     "data": {
      "text/html": [
       "<div>\n",
       "<style scoped>\n",
       "    .dataframe tbody tr th:only-of-type {\n",
       "        vertical-align: middle;\n",
       "    }\n",
       "\n",
       "    .dataframe tbody tr th {\n",
       "        vertical-align: top;\n",
       "    }\n",
       "\n",
       "    .dataframe thead th {\n",
       "        text-align: right;\n",
       "    }\n",
       "</style>\n",
       "<table border=\"1\" class=\"dataframe\">\n",
       "  <thead>\n",
       "    <tr style=\"text-align: right;\">\n",
       "      <th></th>\n",
       "      <th>clean_text</th>\n",
       "    </tr>\n",
       "    <tr>\n",
       "      <th>date</th>\n",
       "      <th></th>\n",
       "    </tr>\n",
       "  </thead>\n",
       "  <tbody>\n",
       "    <tr>\n",
       "      <th>2019-04-01</th>\n",
       "      <td>economic sixth business indicated economic con...</td>\n",
       "    </tr>\n",
       "    <tr>\n",
       "      <th>2019-03-01</th>\n",
       "      <td>economic sixth business reported economic cont...</td>\n",
       "    </tr>\n",
       "    <tr>\n",
       "      <th>2019-01-01</th>\n",
       "      <td>economic sixth business remained largely posit...</td>\n",
       "    </tr>\n",
       "    <tr>\n",
       "      <th>2018-12-01</th>\n",
       "      <td>economic reports sixth business described econ...</td>\n",
       "    </tr>\n",
       "    <tr>\n",
       "      <th>2018-10-01</th>\n",
       "      <td>economic reports sixth business indicated econ...</td>\n",
       "    </tr>\n",
       "  </tbody>\n",
       "</table>\n",
       "</div>"
      ],
      "text/plain": [
       "                                                   clean_text\n",
       "date                                                         \n",
       "2019-04-01  economic sixth business indicated economic con...\n",
       "2019-03-01  economic sixth business reported economic cont...\n",
       "2019-01-01  economic sixth business remained largely posit...\n",
       "2018-12-01  economic reports sixth business described econ...\n",
       "2018-10-01  economic reports sixth business indicated econ..."
      ]
     },
     "execution_count": 182,
     "metadata": {},
     "output_type": "execute_result"
    }
   ],
   "source": [
    "# Train/Test Split\n",
    "# since this is a time series, we do not shuffle observations in the train and test sets.\n",
    "X_train, X_test, y_train, y_test = train_test_split(X, y, shuffle=False) \n",
    "X_train.head()"
   ]
  },
  {
   "cell_type": "code",
   "execution_count": 183,
   "metadata": {},
   "outputs": [
    {
     "data": {
      "text/plain": [
       "(3861, 1)"
      ]
     },
     "execution_count": 183,
     "metadata": {},
     "output_type": "execute_result"
    }
   ],
   "source": [
    "X_train.shape"
   ]
  },
  {
   "cell_type": "code",
   "execution_count": 184,
   "metadata": {},
   "outputs": [
    {
     "data": {
      "text/plain": [
       "(1287, 1)"
      ]
     },
     "execution_count": 184,
     "metadata": {},
     "output_type": "execute_result"
    }
   ],
   "source": [
    "X_test.shape"
   ]
  },
  {
   "cell_type": "code",
   "execution_count": 198,
   "metadata": {},
   "outputs": [],
   "source": [
    "# vectorize the data\n",
    "tvec = TfidfVectorizer(analyzer='word',\n",
    "                       #stop_words='english',\n",
    "                       ngram_range= (2, 3),\n",
    "                      max_features=1000)"
   ]
  },
  {
   "cell_type": "code",
   "execution_count": 199,
   "metadata": {},
   "outputs": [],
   "source": [
    "X_train_vec = tvec.fit_transform(X_train['clean_text'])\n",
    "X_test_vec = tvec.transform(X_test['clean_text'])"
   ]
  },
  {
   "cell_type": "code",
   "execution_count": 200,
   "metadata": {},
   "outputs": [
    {
     "data": {
      "text/plain": [
       "(3861, 1000)"
      ]
     },
     "execution_count": 200,
     "metadata": {},
     "output_type": "execute_result"
    }
   ],
   "source": [
    "X_train_vec.shape"
   ]
  },
  {
   "cell_type": "code",
   "execution_count": 206,
   "metadata": {},
   "outputs": [
    {
     "data": {
      "text/plain": [
       "(1287, 1000)"
      ]
     },
     "execution_count": 206,
     "metadata": {},
     "output_type": "execute_result"
    }
   ],
   "source": [
    "X_test_vec.shape"
   ]
  },
  {
   "cell_type": "code",
   "execution_count": 203,
   "metadata": {},
   "outputs": [],
   "source": [
    "feature_names = tvec.get_feature_names()"
   ]
  },
  {
   "cell_type": "code",
   "execution_count": 217,
   "metadata": {},
   "outputs": [],
   "source": [
    "train_X = X_train_vec.todense()\n",
    "test_X = X_test_vec.todense()"
   ]
  },
  {
   "cell_type": "code",
   "execution_count": 218,
   "metadata": {},
   "outputs": [],
   "source": [
    "# Create training sequences\n",
    "train_sequences = TimeseriesGenerator(train_X, y_train, \n",
    "                                      length=3, # prior 3 months\n",
    "                                      batch_size=64)"
   ]
  },
  {
   "cell_type": "code",
   "execution_count": 219,
   "metadata": {},
   "outputs": [],
   "source": [
    "# Create test sequences\n",
    "test_sequences = TimeseriesGenerator(test_X, y_test,\n",
    "                                    length=3,\n",
    "                                    batch_size=64)"
   ]
  },
  {
   "cell_type": "code",
   "execution_count": 220,
   "metadata": {},
   "outputs": [
    {
     "data": {
      "text/plain": [
       "(64, 3, 1000)"
      ]
     },
     "execution_count": 220,
     "metadata": {},
     "output_type": "execute_result"
    }
   ],
   "source": [
    "train_sequences[0][0].shape"
   ]
  },
  {
   "cell_type": "code",
   "execution_count": 224,
   "metadata": {},
   "outputs": [],
   "source": [
    "# Design RNN architecture\n",
    "model = Sequential()\n",
    "\n",
    "model.add(GRU(\n",
    "    16,\n",
    "    input_shape=(3, 1000), # 3 rows, 1000 columns each\n",
    "    return_sequences=True  # if the next layer is also RNN \n",
    "))\n",
    "\n",
    "model.add(GRU(\n",
    "    16,\n",
    "    return_sequences=False  # False if the next layer is Dense\n",
    "))\n",
    "\n",
    "model.add(Dense(\n",
    "    8, \n",
    "    activation='relu'\n",
    "))\n",
    "\n",
    "model.add(Dense(\n",
    "    1, \n",
    "    activation='sigmoid'\n",
    "))"
   ]
  },
  {
   "cell_type": "code",
   "execution_count": 225,
   "metadata": {},
   "outputs": [],
   "source": [
    "model.compile(\n",
    "    loss='binary_crossentropy',\n",
    "    optimizer=Adam(lr=0.0005),\n",
    "    metrics=['accuracy'])"
   ]
  },
  {
   "cell_type": "code",
   "execution_count": 226,
   "metadata": {},
   "outputs": [
    {
     "name": "stdout",
     "output_type": "stream",
     "text": [
      "Epoch 1/10\n",
      "61/61 [==============================] - 3s 44ms/step - loss: 0.6932 - acc: 0.4973 - val_loss: 0.6928 - val_acc: 0.5179\n",
      "Epoch 2/10\n",
      "61/61 [==============================] - 0s 7ms/step - loss: 0.6908 - acc: 0.5593 - val_loss: 0.6910 - val_acc: 0.5093\n",
      "Epoch 3/10\n",
      "61/61 [==============================] - 0s 8ms/step - loss: 0.6845 - acc: 0.5602 - val_loss: 0.6856 - val_acc: 0.5561\n",
      "Epoch 4/10\n",
      "61/61 [==============================] - 0s 8ms/step - loss: 0.6716 - acc: 0.6142 - val_loss: 0.6775 - val_acc: 0.5615\n",
      "Epoch 5/10\n",
      "61/61 [==============================] - 0s 8ms/step - loss: 0.6499 - acc: 0.6309 - val_loss: 0.6756 - val_acc: 0.5584\n",
      "Epoch 6/10\n",
      "61/61 [==============================] - 0s 7ms/step - loss: 0.6252 - acc: 0.6596 - val_loss: 0.6897 - val_acc: 0.5600\n",
      "Epoch 7/10\n",
      "61/61 [==============================] - 0s 8ms/step - loss: 0.6046 - acc: 0.6763 - val_loss: 0.6963 - val_acc: 0.5639\n",
      "Epoch 8/10\n",
      "61/61 [==============================] - 0s 7ms/step - loss: 0.5976 - acc: 0.6894 - val_loss: 0.6976 - val_acc: 0.5646\n",
      "Epoch 9/10\n",
      "61/61 [==============================] - 0s 8ms/step - loss: 0.5813 - acc: 0.6963 - val_loss: 0.7061 - val_acc: 0.5763\n",
      "Epoch 10/10\n",
      "61/61 [==============================] - 0s 7ms/step - loss: 0.5700 - acc: 0.7084 - val_loss: 0.7276 - val_acc: 0.5607\n"
     ]
    }
   ],
   "source": [
    "history = model.fit_generator(train_sequences,  # fit method differs for TimeseriesGen\n",
    "                    validation_data=test_sequences, \n",
    "                    epochs=10)"
   ]
  },
  {
   "cell_type": "code",
   "execution_count": 227,
   "metadata": {},
   "outputs": [
    {
     "data": {
      "image/png": "[encoded data removed]",
      "text/plain": [
       "<Figure size 720x504 with 1 Axes>"
      ]
     },
     "metadata": {
      "needs_background": "light"
     },
     "output_type": "display_data"
    }
   ],
   "source": [
    "plt.figure(figsize=(10,7))\n",
    "plt.plot(history.history['loss'], label='Train loss')\n",
    "plt.plot(history.history['val_loss'], label='Test loss')\n",
    "plt.legend();"
   ]
  },
  {
   "cell_type": "code",
   "execution_count": 228,
   "metadata": {},
   "outputs": [
    {
     "data": {
      "image/png": "[encoded data removed]",
      "text/plain": [
       "<Figure size 720x504 with 1 Axes>"
      ]
     },
     "metadata": {
      "needs_background": "light"
     },
     "output_type": "display_data"
    }
   ],
   "source": [
    "plt.figure(figsize=(10,7))\n",
    "plt.plot(history.history['acc'], label='Train accuracy')\n",
    "plt.plot(history.history['val_acc'], label='Test accuracy')\n",
    "plt.legend();"
   ]
  },
  {
   "cell_type": "markdown",
   "metadata": {},
   "source": [
    "The model begins to overfit just after two epochs. Again, the model overfits."
   ]
  },
  {
   "cell_type": "code",
   "execution_count": 229,
   "metadata": {},
   "outputs": [
    {
     "data": {
      "text/plain": [
       "array([[0.17348483],\n",
       "       [0.20628566],\n",
       "       [0.17866185],\n",
       "       ...,\n",
       "       [0.64244074],\n",
       "       [0.7069046 ],\n",
       "       [0.7419022 ]], dtype=float32)"
      ]
     },
     "execution_count": 229,
     "metadata": {},
     "output_type": "execute_result"
    }
   ],
   "source": [
    "# generates predictions for the input samples\n",
    "model.predict_generator(test_sequences)"
   ]
  },
  {
   "cell_type": "markdown",
   "metadata": {},
   "source": [
    "## Parametric Modeling"
   ]
  },
  {
   "cell_type": "markdown",
   "metadata": {},
   "source": [
    "We have used methods that assume no functional form. As we saw from the previous models, more flexible models require estimating a greater number of parameters. Now, we turn to less flexible since we observe high overfitting in the previous models. "
   ]
  },
  {
   "cell_type": "code",
   "execution_count": 278,
   "metadata": {},
   "outputs": [],
   "source": [
    "# Create X and y\n",
    "#features = ['Text'] \n",
    "X = df['Text'] \n",
    "y = df['is_up']"
   ]
  },
  {
   "cell_type": "code",
   "execution_count": 279,
   "metadata": {},
   "outputs": [
    {
     "data": {
      "text/plain": [
       "(5148,)"
      ]
     },
     "execution_count": 279,
     "metadata": {},
     "output_type": "execute_result"
    }
   ],
   "source": [
    "X.shape"
   ]
  },
  {
   "cell_type": "code",
   "execution_count": 280,
   "metadata": {},
   "outputs": [
    {
     "data": {
      "text/plain": [
       "(5148,)"
      ]
     },
     "execution_count": 280,
     "metadata": {},
     "output_type": "execute_result"
    }
   ],
   "source": [
    "y.shape"
   ]
  },
  {
   "cell_type": "code",
   "execution_count": 281,
   "metadata": {},
   "outputs": [
    {
     "data": {
      "text/plain": [
       "1    0.508159\n",
       "0    0.491841\n",
       "Name: is_up, dtype: float64"
      ]
     },
     "execution_count": 281,
     "metadata": {},
     "output_type": "execute_result"
    }
   ],
   "source": [
    "y.value_counts(normalize=True)"
   ]
  },
  {
   "cell_type": "code",
   "execution_count": 286,
   "metadata": {},
   "outputs": [],
   "source": [
    "def classifier(X, y, estimator, random_state=20190515):\n",
    "    \n",
    "    '''\n",
    "    A function that takes 4 arguments: an n x 1 predictor vector, \n",
    "    an n x 1 target vector, an estimator, and sets a random state.\n",
    "    \n",
    "    It trains tests splits the data, uses a pipeline, performs a\n",
    "    grid search for optimal hyperparameters, calculates evaluation\n",
    "    metrics and returns a classification report and an roc-auc curve.\n",
    "    '''\n",
    "   \n",
    "    X_train, X_test, y_train, y_test = train_test_split(X, y, \n",
    "                                                        test_size = .40, \n",
    "                                                        stratify=y,\n",
    "                                                       random_state=20190515)\n",
    "    \n",
    "    \n",
    "    pipe = Pipeline([\n",
    "    ('tvec', TfidfVectorizer()),\n",
    "    ('clf', estimator)\n",
    "    ])\n",
    "\n",
    "    pipe_params = {\n",
    "    'tvec__ngram_range': [(1, 2), (1, 3)],\n",
    "    'tvec__max_features': [500, 1000, 2000],\n",
    "    #'tvec__min_df': [1, 2, 3],\n",
    "    #'tvec__max_df': [1.0, 0.8, 0.6]\n",
    "    }\n",
    "\n",
    "    gs = GridSearchCV(pipe, param_grid=pipe_params, cv=5)\n",
    "\n",
    "    gs.fit(X_train, y_train)\n",
    "\n",
    "    #print(f'The Accuracy score is: {round(gs.score(X_train, y_train), 2)}')\n",
    "\n",
    "    print(gs.best_params_)\n",
    "    print(f'The cross_val_score is: {round(gs.best_score_, 2)}')\n",
    "    #y_predpr_lr = gs.best_estimator_.predict_proba(X_test)[:, 1]\n",
    "\n",
    "    tn, fp, fn, tp = confusion_matrix(y_test, gs.best_estimator_.predict(X_test)).ravel()\n",
    "\n",
    "\n",
    "\n",
    "    accuracy = round((tn + tp) / (tn + fp + fn + tp), 2)\n",
    "    misclassification = round((1 - accuracy), 2)\n",
    "    sensitivity = round((tp) / (tp + fn), 2)\n",
    "    specificity = round((tn) / (tn + fp), 2)\n",
    "    precision = round((tp) / (tp + fp), 2)\n",
    "\n",
    "    print(f'The Accuracy is: {accuracy}')\n",
    "    print(f'The Missclassification Rate is: {misclassification}')\n",
    "    print(f'The Sensitivity/Recall is: {sensitivity}')\n",
    "    print(f'The Specificity is: {specificity}')\n",
    "    print(f'The Precision is: {precision}')\n",
    "\n",
    "\n",
    "    fpr_clf, tpr_clf, _ = roc_curve(y_test, gs.best_estimator_.predict_proba(X_test)[:, 1])\n",
    "    roc_auc_clf = auc(fpr_clf, tpr_clf)\n",
    "\n",
    "    plt.figure(figsize = (10, 7))\n",
    "    plt.xlim([-0.01, 1.00])\n",
    "    plt.ylim([-0.01, 1.01])\n",
    "    plt.plot(fpr_clf, tpr_clf, lw=3, label='The ROC curve (area = {:0.2f})'.format(roc_auc_clf))\n",
    "    plt.xlabel('False Positive Rate', fontsize=16)\n",
    "    plt.ylabel('True Positive Rate', fontsize=16)\n",
    "    plt.title('ROC curve (10 Year Bond Rates)', fontsize=18)\n",
    "    plt.legend(loc='lower right', fontsize=13)\n",
    "    plt.plot([0, 1], [0, 1], color='navy', lw=3, linestyle='--')\n",
    "\n",
    "    print(classification_report(y_test, gs.best_estimator_.predict(X_test)))\n"
   ]
  },
  {
   "cell_type": "code",
   "execution_count": 287,
   "metadata": {},
   "outputs": [
    {
     "name": "stderr",
     "output_type": "stream",
     "text": [
      "/anaconda3/lib/python3.7/site-packages/sklearn/linear_model/logistic.py:433: FutureWarning: Default solver will be changed to 'lbfgs' in 0.22. Specify a solver to silence this warning.\n",
      "  FutureWarning)\n"
     ]
    },
    {
     "name": "stdout",
     "output_type": "stream",
     "text": [
      "{'tvec__max_features': 500, 'tvec__ngram_range': (1, 2)}\n",
      "The cross_val_score is: 0.54\n",
      "The Accuracy is: 0.54\n",
      "The Missclassification Rate is: 0.46\n",
      "The Sensitivity/Recall is: 0.59\n",
      "The Specificity is: 0.49\n",
      "The Precision is: 0.55\n",
      "              precision    recall  f1-score   support\n",
      "\n",
      "           0       0.54      0.49      0.51      1013\n",
      "           1       0.55      0.59      0.57      1047\n",
      "\n",
      "   micro avg       0.54      0.54      0.54      2060\n",
      "   macro avg       0.54      0.54      0.54      2060\n",
      "weighted avg       0.54      0.54      0.54      2060\n",
      "\n"
     ]
    },
    {
     "data": {
      "image/png": "[encoded data removed]",
      "text/plain": [
       "<Figure size 720x504 with 1 Axes>"
      ]
     },
     "metadata": {
      "needs_background": "light"
     },
     "output_type": "display_data"
    }
   ],
   "source": [
    "classifier(X, y, \n",
    "           LogisticRegression(), \n",
    "           random_state=20190515)"
   ]
  },
  {
   "cell_type": "markdown",
   "metadata": {},
   "source": [
    "The Logistic regression model (and the Naive Bayes model not displyed here) does not perform any better than the Neural Network algorithms. This suggests that predicting interest rate movements may require more **X** features. That is, our model may not include other variables that account for the variation in our dependent variable."
   ]
  },
  {
   "cell_type": "code",
   "execution_count": null,
   "metadata": {},
   "outputs": [],
   "source": []
  }
 ],
 "metadata": {
  "kernelspec": {
   "display_name": "Python 3",
   "language": "python",
   "name": "python3"
  },
  "language_info": {
   "codemirror_mode": {
    "name": "ipython",
    "version": 3
   },
   "file_extension": ".py",
   "mimetype": "text/x-python",
   "name": "python",
   "nbconvert_exporter": "python",
   "pygments_lexer": "ipython3",
   "version": "3.7.1"
  }
 },
 "nbformat": 4,
 "nbformat_minor": 2
}
