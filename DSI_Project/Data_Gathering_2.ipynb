{
 "cells": [
  {
   "cell_type": "markdown",
   "metadata": {},
   "source": [
    "## Data Gathering Part II: 2007-2013\n"
   ]
  },
  {
   "cell_type": "code",
   "execution_count": 173,
   "metadata": {},
   "outputs": [],
   "source": [
    "# Import libaries\n",
    "\n",
    "from bs4 import BeautifulSoup\n",
    "import requests\n",
    "import pandas as pd"
   ]
  },
  {
   "cell_type": "code",
   "execution_count": 174,
   "metadata": {},
   "outputs": [],
   "source": [
    "url = 'https://www.federalreserve.gov/monetarypolicy/fomc_historical_year.htm' \n",
    "res = requests.get(url)"
   ]
  },
  {
   "cell_type": "code",
   "execution_count": 175,
   "metadata": {},
   "outputs": [
    {
     "data": {
      "text/plain": [
       "200"
      ]
     },
     "execution_count": 175,
     "metadata": {},
     "output_type": "execute_result"
    }
   ],
   "source": [
    "res.status_code"
   ]
  },
  {
   "cell_type": "code",
   "execution_count": 176,
   "metadata": {},
   "outputs": [
    {
     "data": {
      "text/plain": [
       "'ï»¿<!doctype html>\\n<html lang=\"en\" class=\"no-js\">\\n    <head>\\n        <meta charset=\"utf-8\">\\n        '"
      ]
     },
     "execution_count": 176,
     "metadata": {},
     "output_type": "execute_result"
    }
   ],
   "source": [
    "res.text[:100]"
   ]
  },
  {
   "cell_type": "code",
   "execution_count": 177,
   "metadata": {},
   "outputs": [],
   "source": [
    "soup = BeautifulSoup(res.content, 'lxml')"
   ]
  },
  {
   "cell_type": "code",
   "execution_count": 178,
   "metadata": {},
   "outputs": [
    {
     "data": {
      "text/plain": [
       "<li class=\"navbar-text navbar-text__social\">\n",
       "<span class=\"navbar-link\" tabindex=\"0\">Stay Connected</span>\n",
       "<ul class=\"nav navbar-nav t1_social\">\n",
       "<li class=\"social__item\"><a class=\"noIcon\" data-icon=\"facebook\" href=\"https://www.facebook.com/federalreserve\"><div class=\"icon-facebook-color icon icon__sm\"></div><span class=\"sr-only\">Link to Federal Reserve Facebook Page</span></a></li>\n",
       "<li class=\"social__item\"><a class=\"noIcon\" data-icon=\"twitter\" href=\"https://twitter.com/federalreserve\"><div class=\"icon-twitter-color icon icon__sm\"></div><span class=\"sr-only\">Link to Federal Reserve Twitter Page</span></a></li>\n",
       "<li class=\"social__item\"><a class=\"noIcon\" data-icon=\"youtube\" href=\"https://www.youtube.com/federalreserve\"><div class=\"icon-youtube-color icon icon__sm\"></div><span class=\"sr-only\">Link to Federal Reserve YouTube Page</span></a></li>\n",
       "<li class=\"social__item\"><a class=\"noIcon\" data-icon=\"flickr\" href=\"https://www.flickr.com/photos/federalreserve/\"><div class=\"icon-flickr-color icon icon__sm\"></div><span class=\"sr-only\">Link to Federal Reserve Flickr Page</span></a></li>\n",
       "<li class=\"social__item\"><a class=\"noIcon\" data-icon=\"linkedin\" href=\"https://www.linkedin.com/company/federal-reserve-board\"><div class=\"icon-linkedin-color icon icon__sm\"></div><span class=\"sr-only\">Federal Reserve LinkedIn Page</span></a></li>\n",
       "<li class=\"social__item\"><a class=\"noIcon\" data-icon=\"rss\" href=\"/feeds/feeds.htm\"><div class=\"icon-rss-color icon icon__sm\"></div><span class=\"sr-only\">Subscribe to RSS</span></a></li>\n",
       "<li class=\"social__item\"><a class=\"noIcon\" data-icon=\"email\" href=\"/subscribe.htm\"><div class=\"icon-email-color icon icon__sm\"></div><span class=\"sr-only\">Subscribe to Email</span></a></li>\n",
       "</ul>\n",
       "</li>"
      ]
     },
     "execution_count": 178,
     "metadata": {},
     "output_type": "execute_result"
    }
   ],
   "source": [
    "soup.find('li')"
   ]
  },
  {
   "cell_type": "code",
   "execution_count": 179,
   "metadata": {},
   "outputs": [],
   "source": [
    "div = soup.find('div', {'class': 'panel'})"
   ]
  },
  {
   "cell_type": "code",
   "execution_count": 180,
   "metadata": {},
   "outputs": [
    {
     "data": {
      "text/plain": [
       "{'class': ['panel', 'panel-default', 'panel-padded']}"
      ]
     },
     "execution_count": 180,
     "metadata": {},
     "output_type": "execute_result"
    }
   ],
   "source": [
    "div.attrs"
   ]
  },
  {
   "cell_type": "code",
   "execution_count": 181,
   "metadata": {},
   "outputs": [
    {
     "data": {
      "text/plain": [
       "'\\n2010+\\n\\n2013201220112010\\n\\n'"
      ]
     },
     "execution_count": 181,
     "metadata": {},
     "output_type": "execute_result"
    }
   ],
   "source": [
    "div.text"
   ]
  },
  {
   "cell_type": "code",
   "execution_count": 182,
   "metadata": {},
   "outputs": [],
   "source": [
    "ul = soup.find('ul', {'class': 'list-unstyled'})"
   ]
  },
  {
   "cell_type": "code",
   "execution_count": 183,
   "metadata": {},
   "outputs": [
    {
     "data": {
      "text/plain": [
       "{'class': ['col-sm-4', 'list-unstyled']}"
      ]
     },
     "execution_count": 183,
     "metadata": {},
     "output_type": "execute_result"
    }
   ],
   "source": [
    "ul.attrs"
   ]
  },
  {
   "cell_type": "code",
   "execution_count": 184,
   "metadata": {},
   "outputs": [
    {
     "data": {
      "text/plain": [
       "<a class=\"globalskip\" href=\"#content\">Skip to main content</a>"
      ]
     },
     "execution_count": 184,
     "metadata": {},
     "output_type": "execute_result"
    }
   ],
   "source": [
    "soup.find('a')"
   ]
  },
  {
   "cell_type": "code",
   "execution_count": 185,
   "metadata": {},
   "outputs": [],
   "source": [
    "dates = []\n",
    "for date in soup.find_all('div', {'class': 'panel'}):\n",
    "    #print(date)\n",
    "    for lst in date.find_all('ul', {'class': 'list-unstyled'}):\n",
    "        aas = lst.find_all('a')\n",
    "        for a in aas:\n",
    "            #print(a.attrs)\n",
    "            #print('https://www.federalreserve.gov'+a.attrs['href'])\n",
    "            links = {}\n",
    "            links['docs'] = 'https://www.federalreserve.gov'+a.attrs['href']\n",
    "            \n",
    "            dates.append(links)\n",
    "            \n",
    "df = pd.DataFrame(dates)\n",
    "             \n",
    "        "
   ]
  },
  {
   "cell_type": "code",
   "execution_count": 186,
   "metadata": {},
   "outputs": [
    {
     "data": {
      "text/html": [
       "<div>\n",
       "<style scoped>\n",
       "    .dataframe tbody tr th:only-of-type {\n",
       "        vertical-align: middle;\n",
       "    }\n",
       "\n",
       "    .dataframe tbody tr th {\n",
       "        vertical-align: top;\n",
       "    }\n",
       "\n",
       "    .dataframe thead th {\n",
       "        text-align: right;\n",
       "    }\n",
       "</style>\n",
       "<table border=\"1\" class=\"dataframe\">\n",
       "  <thead>\n",
       "    <tr style=\"text-align: right;\">\n",
       "      <th></th>\n",
       "      <th>docs</th>\n",
       "    </tr>\n",
       "  </thead>\n",
       "  <tbody>\n",
       "    <tr>\n",
       "      <th>0</th>\n",
       "      <td>https://www.federalreserve.gov/monetarypolicy/...</td>\n",
       "    </tr>\n",
       "    <tr>\n",
       "      <th>1</th>\n",
       "      <td>https://www.federalreserve.gov/monetarypolicy/...</td>\n",
       "    </tr>\n",
       "    <tr>\n",
       "      <th>2</th>\n",
       "      <td>https://www.federalreserve.gov/monetarypolicy/...</td>\n",
       "    </tr>\n",
       "    <tr>\n",
       "      <th>3</th>\n",
       "      <td>https://www.federalreserve.gov/monetarypolicy/...</td>\n",
       "    </tr>\n",
       "    <tr>\n",
       "      <th>4</th>\n",
       "      <td>https://www.federalreserve.gov/monetarypolicy/...</td>\n",
       "    </tr>\n",
       "  </tbody>\n",
       "</table>\n",
       "</div>"
      ],
      "text/plain": [
       "                                                docs\n",
       "0  https://www.federalreserve.gov/monetarypolicy/...\n",
       "1  https://www.federalreserve.gov/monetarypolicy/...\n",
       "2  https://www.federalreserve.gov/monetarypolicy/...\n",
       "3  https://www.federalreserve.gov/monetarypolicy/...\n",
       "4  https://www.federalreserve.gov/monetarypolicy/..."
      ]
     },
     "execution_count": 186,
     "metadata": {},
     "output_type": "execute_result"
    }
   ],
   "source": [
    "df.head()"
   ]
  },
  {
   "cell_type": "code",
   "execution_count": 272,
   "metadata": {},
   "outputs": [
    {
     "data": {
      "text/plain": [
       "'https://www.federalreserve.gov/monetarypolicy/fomchistorical2013.htm'"
      ]
     },
     "execution_count": 272,
     "metadata": {},
     "output_type": "execute_result"
    }
   ],
   "source": [
    "df.docs[0]"
   ]
  },
  {
   "cell_type": "code",
   "execution_count": 434,
   "metadata": {},
   "outputs": [],
   "source": [
    "documents = []\n",
    "for link in df.docs:\n",
    "    #print(link)\n",
    "    url_2 = link\n",
    "    res_2 = requests.get(url_2)\n",
    "    soup = BeautifulSoup(res_2.content, 'lxml')\n",
    "    for item in soup.find_all('div', {'class': 'col-xs-12'}):\n",
    "        #print(item)\n",
    "        row = item.find_all('a')\n",
    "        for a in row:\n",
    "            #print(a.attrs['href'])\n",
    "             if a.text == 'HTML':\n",
    "                    if 'fomcminutes' in a.attrs['href']:\n",
    "                        #print('https://www.federalreserve.gov'+a.attrs['href'])\n",
    "                        docs_2 = {}\n",
    "                        docs_2['link'] = 'https://www.federalreserve.gov'+a.attrs['href'].strip()\n",
    "                        \n",
    "                        documents.append(docs_2)\n",
    "            \n",
    "                    else:\n",
    "                        pass\n",
    "            \n",
    "df_2 = pd.DataFrame(documents)            \n",
    "                        "
   ]
  },
  {
   "cell_type": "code",
   "execution_count": 435,
   "metadata": {},
   "outputs": [
    {
     "data": {
      "text/html": [
       "<div>\n",
       "<style scoped>\n",
       "    .dataframe tbody tr th:only-of-type {\n",
       "        vertical-align: middle;\n",
       "    }\n",
       "\n",
       "    .dataframe tbody tr th {\n",
       "        vertical-align: top;\n",
       "    }\n",
       "\n",
       "    .dataframe thead th {\n",
       "        text-align: right;\n",
       "    }\n",
       "</style>\n",
       "<table border=\"1\" class=\"dataframe\">\n",
       "  <thead>\n",
       "    <tr style=\"text-align: right;\">\n",
       "      <th></th>\n",
       "      <th>link</th>\n",
       "    </tr>\n",
       "  </thead>\n",
       "  <tbody>\n",
       "    <tr>\n",
       "      <th>0</th>\n",
       "      <td>https://www.federalreserve.gov/monetarypolicy/...</td>\n",
       "    </tr>\n",
       "    <tr>\n",
       "      <th>1</th>\n",
       "      <td>https://www.federalreserve.gov/monetarypolicy/...</td>\n",
       "    </tr>\n",
       "    <tr>\n",
       "      <th>2</th>\n",
       "      <td>https://www.federalreserve.gov/monetarypolicy/...</td>\n",
       "    </tr>\n",
       "    <tr>\n",
       "      <th>3</th>\n",
       "      <td>https://www.federalreserve.gov/monetarypolicy/...</td>\n",
       "    </tr>\n",
       "    <tr>\n",
       "      <th>4</th>\n",
       "      <td>https://www.federalreserve.gov/monetarypolicy/...</td>\n",
       "    </tr>\n",
       "  </tbody>\n",
       "</table>\n",
       "</div>"
      ],
      "text/plain": [
       "                                                link\n",
       "0  https://www.federalreserve.gov/monetarypolicy/...\n",
       "1  https://www.federalreserve.gov/monetarypolicy/...\n",
       "2  https://www.federalreserve.gov/monetarypolicy/...\n",
       "3  https://www.federalreserve.gov/monetarypolicy/...\n",
       "4  https://www.federalreserve.gov/monetarypolicy/..."
      ]
     },
     "execution_count": 435,
     "metadata": {},
     "output_type": "execute_result"
    }
   ],
   "source": [
    "df_2.head()"
   ]
  },
  {
   "cell_type": "code",
   "execution_count": 436,
   "metadata": {},
   "outputs": [
    {
     "data": {
      "text/plain": [
       "(98,)"
      ]
     },
     "execution_count": 436,
     "metadata": {},
     "output_type": "execute_result"
    }
   ],
   "source": [
    "df_2.link.shape"
   ]
  },
  {
   "cell_type": "code",
   "execution_count": 354,
   "metadata": {},
   "outputs": [],
   "source": [
    "import numpy as np"
   ]
  },
  {
   "cell_type": "code",
   "execution_count": 385,
   "metadata": {},
   "outputs": [
    {
     "data": {
      "text/html": [
       "<div>\n",
       "<style scoped>\n",
       "    .dataframe tbody tr th:only-of-type {\n",
       "        vertical-align: middle;\n",
       "    }\n",
       "\n",
       "    .dataframe tbody tr th {\n",
       "        vertical-align: top;\n",
       "    }\n",
       "\n",
       "    .dataframe thead th {\n",
       "        text-align: right;\n",
       "    }\n",
       "</style>\n",
       "<table border=\"1\" class=\"dataframe\">\n",
       "  <thead>\n",
       "    <tr style=\"text-align: right;\">\n",
       "      <th></th>\n",
       "      <th>a</th>\n",
       "      <th>b</th>\n",
       "      <th>c</th>\n",
       "    </tr>\n",
       "  </thead>\n",
       "  <tbody>\n",
       "    <tr>\n",
       "      <th>0</th>\n",
       "      <td>1</td>\n",
       "      <td>2</td>\n",
       "      <td>3</td>\n",
       "    </tr>\n",
       "    <tr>\n",
       "      <th>1</th>\n",
       "      <td>44</td>\n",
       "      <td>45</td>\n",
       "      <td>46</td>\n",
       "    </tr>\n",
       "    <tr>\n",
       "      <th>2</th>\n",
       "      <td>47</td>\n",
       "      <td>48</td>\n",
       "      <td>49</td>\n",
       "    </tr>\n",
       "    <tr>\n",
       "      <th>3</th>\n",
       "      <td>3</td>\n",
       "      <td>4</td>\n",
       "      <td>6</td>\n",
       "    </tr>\n",
       "  </tbody>\n",
       "</table>\n",
       "</div>"
      ],
      "text/plain": [
       "    a   b   c\n",
       "0   1   2   3\n",
       "1  44  45  46\n",
       "2  47  48  49\n",
       "3   3   4   6"
      ]
     },
     "execution_count": 385,
     "metadata": {},
     "output_type": "execute_result"
    }
   ],
   "source": [
    "# test = pd.DataFrame(np.array([[1, 2, 3], ['44', '45', '46'], ['47', '48', '49'], [3, 4, 6]]),\n",
    "#                    columns=['a', 'b', 'c']\n",
    "#                    )\n",
    "# test"
   ]
  },
  {
   "cell_type": "code",
   "execution_count": 425,
   "metadata": {},
   "outputs": [
    {
     "data": {
      "text/html": [
       "<div>\n",
       "<style scoped>\n",
       "    .dataframe tbody tr th:only-of-type {\n",
       "        vertical-align: middle;\n",
       "    }\n",
       "\n",
       "    .dataframe tbody tr th {\n",
       "        vertical-align: top;\n",
       "    }\n",
       "\n",
       "    .dataframe thead th {\n",
       "        text-align: right;\n",
       "    }\n",
       "</style>\n",
       "<table border=\"1\" class=\"dataframe\">\n",
       "  <thead>\n",
       "    <tr style=\"text-align: right;\">\n",
       "      <th></th>\n",
       "      <th>a</th>\n",
       "      <th>b</th>\n",
       "      <th>c</th>\n",
       "    </tr>\n",
       "  </thead>\n",
       "  <tbody>\n",
       "    <tr>\n",
       "      <th>0</th>\n",
       "      <td>1</td>\n",
       "      <td>2</td>\n",
       "      <td>3</td>\n",
       "    </tr>\n",
       "    <tr>\n",
       "      <th>2</th>\n",
       "      <td>47</td>\n",
       "      <td>48</td>\n",
       "      <td>49</td>\n",
       "    </tr>\n",
       "    <tr>\n",
       "      <th>3</th>\n",
       "      <td>3</td>\n",
       "      <td>4</td>\n",
       "      <td>6</td>\n",
       "    </tr>\n",
       "  </tbody>\n",
       "</table>\n",
       "</div>"
      ],
      "text/plain": [
       "    a   b   c\n",
       "0   1   2   3\n",
       "2  47  48  49\n",
       "3   3   4   6"
      ]
     },
     "execution_count": 425,
     "metadata": {},
     "output_type": "execute_result"
    }
   ],
   "source": [
    "test.drop(index=1)"
   ]
  },
  {
   "cell_type": "code",
   "execution_count": 388,
   "metadata": {},
   "outputs": [
    {
     "name": "stdout",
     "output_type": "stream",
     "text": [
      "4\n",
      "7\n",
      "[{'test_2': '4'}, {'test_2': '7'}]\n"
     ]
    }
   ],
   "source": [
    "# new = []\n",
    "# for i in test['a'][1:3]:\n",
    "#     #print(i)\n",
    "#     print(i.replace('4', '', 1))\n",
    "#     x = {}\n",
    "#     x['test_2'] = i.replace('4', '', 1)\n",
    "#     new.append(x)\n",
    "# print(new)\n",
    "# test_2 = pd.DataFrame(new) \n",
    "\n",
    "# #     test['a'][1:3] = new\n",
    "# # test"
   ]
  },
  {
   "cell_type": "code",
   "execution_count": null,
   "metadata": {},
   "outputs": [],
   "source": []
  },
  {
   "cell_type": "code",
   "execution_count": 437,
   "metadata": {},
   "outputs": [],
   "source": [
    "new = []\n",
    "for i, j in enumerate(df_2.link[32:48]):\n",
    "    #print(i, j)\n",
    "    #print(j.replace('https://www.federalreserve.gov', '', 1))\n",
    "    corrected = {}\n",
    "    corrected['link'] = j.replace('https://www.federalreserve.gov', '', 1)\n",
    "    new.append(corrected)\n",
    "update = pd.DataFrame(new)"
   ]
  },
  {
   "cell_type": "code",
   "execution_count": 467,
   "metadata": {},
   "outputs": [
    {
     "data": {
      "text/plain": [
       "(16, 1)"
      ]
     },
     "execution_count": 467,
     "metadata": {},
     "output_type": "execute_result"
    }
   ],
   "source": [
    "update.shape"
   ]
  },
  {
   "cell_type": "code",
   "execution_count": 455,
   "metadata": {},
   "outputs": [
    {
     "name": "stdout",
     "output_type": "stream",
     "text": [
      "https://www.federalreserve.gov/monetarypolicy/fomcminutes20110126.htm\n",
      "https://www.federalreserve.gov/monetarypolicy/fomcminutes20110315.htm\n",
      "https://www.federalreserve.gov/monetarypolicy/fomcminutes20110427.htm\n",
      "https://www.federalreserve.gov/monetarypolicy/fomcminutes20110622.htm\n",
      "https://www.federalreserve.gov/monetarypolicy/fomcminutes20110809.htm\n",
      "https://www.federalreserve.gov/monetarypolicy/fomcminutes20110921.htm\n",
      "https://www.federalreserve.gov/monetarypolicy/fomcminutes20111102.htm\n",
      "https://www.federalreserve.gov/monetarypolicy/fomcminutes20111213.htm\n",
      "https://www.federalreserve.gov/monetarypolicy/fomcminutes20110126.htm\n",
      "https://www.federalreserve.gov/monetarypolicy/fomcminutes20110315.htm\n",
      "https://www.federalreserve.gov/monetarypolicy/fomcminutes20110427.htm\n",
      "https://www.federalreserve.gov/monetarypolicy/fomcminutes20110622.htm\n",
      "https://www.federalreserve.gov/monetarypolicy/fomcminutes20110809.htm\n",
      "https://www.federalreserve.gov/monetarypolicy/fomcminutes20110921.htm\n",
      "https://www.federalreserve.gov/monetarypolicy/fomcminutes20111102.htm\n",
      "https://www.federalreserve.gov/monetarypolicy/fomcminutes20111213.htm\n"
     ]
    }
   ],
   "source": [
    "for i in update['link']:\n",
    "    print (i)"
   ]
  },
  {
   "cell_type": "code",
   "execution_count": 441,
   "metadata": {},
   "outputs": [],
   "source": [
    "df_2.drop(index=[32, 33, 34, 35, 36, 37, 38, 39, 40, 41, 42, 43, 44, 45, 46, 47],\n",
    "         inplace=True)"
   ]
  },
  {
   "cell_type": "code",
   "execution_count": 442,
   "metadata": {},
   "outputs": [],
   "source": [
    "combined = [df_2, update]\n",
    "df_4 = pd.concat(combined, sort=False).reset_index(drop=True)"
   ]
  },
  {
   "cell_type": "code",
   "execution_count": 443,
   "metadata": {},
   "outputs": [
    {
     "data": {
      "text/plain": [
       "(98, 1)"
      ]
     },
     "execution_count": 443,
     "metadata": {},
     "output_type": "execute_result"
    }
   ],
   "source": [
    "df_4.shape"
   ]
  },
  {
   "cell_type": "code",
   "execution_count": 452,
   "metadata": {},
   "outputs": [
    {
     "data": {
      "text/html": [
       "<div>\n",
       "<style scoped>\n",
       "    .dataframe tbody tr th:only-of-type {\n",
       "        vertical-align: middle;\n",
       "    }\n",
       "\n",
       "    .dataframe tbody tr th {\n",
       "        vertical-align: top;\n",
       "    }\n",
       "\n",
       "    .dataframe thead th {\n",
       "        text-align: right;\n",
       "    }\n",
       "</style>\n",
       "<table border=\"1\" class=\"dataframe\">\n",
       "  <thead>\n",
       "    <tr style=\"text-align: right;\">\n",
       "      <th></th>\n",
       "      <th>link</th>\n",
       "    </tr>\n",
       "  </thead>\n",
       "  <tbody>\n",
       "    <tr>\n",
       "      <th>93</th>\n",
       "      <td>https://www.federalreserve.gov/monetarypolicy/...</td>\n",
       "    </tr>\n",
       "    <tr>\n",
       "      <th>94</th>\n",
       "      <td>https://www.federalreserve.gov/monetarypolicy/...</td>\n",
       "    </tr>\n",
       "    <tr>\n",
       "      <th>95</th>\n",
       "      <td>https://www.federalreserve.gov/monetarypolicy/...</td>\n",
       "    </tr>\n",
       "    <tr>\n",
       "      <th>96</th>\n",
       "      <td>https://www.federalreserve.gov/monetarypolicy/...</td>\n",
       "    </tr>\n",
       "    <tr>\n",
       "      <th>97</th>\n",
       "      <td>https://www.federalreserve.gov/monetarypolicy/...</td>\n",
       "    </tr>\n",
       "  </tbody>\n",
       "</table>\n",
       "</div>"
      ],
      "text/plain": [
       "                                                 link\n",
       "93  https://www.federalreserve.gov/monetarypolicy/...\n",
       "94  https://www.federalreserve.gov/monetarypolicy/...\n",
       "95  https://www.federalreserve.gov/monetarypolicy/...\n",
       "96  https://www.federalreserve.gov/monetarypolicy/...\n",
       "97  https://www.federalreserve.gov/monetarypolicy/..."
      ]
     },
     "execution_count": 452,
     "metadata": {},
     "output_type": "execute_result"
    }
   ],
   "source": [
    "df_4.tail()"
   ]
  },
  {
   "cell_type": "code",
   "execution_count": 235,
   "metadata": {},
   "outputs": [],
   "source": [
    "import re"
   ]
  },
  {
   "cell_type": "code",
   "execution_count": 259,
   "metadata": {},
   "outputs": [],
   "source": [
    "documents = []\n",
    "for link in df.docs:\n",
    "    #print(link)\n",
    "    url_2 = link\n",
    "    res_2 = requests.get(url_2)\n",
    "    soup = BeautifulSoup(res_2.content, 'lxml')\n",
    "    for item in soup.find_all('div', {'class': 'col-xs-12'}):\n",
    "        date = item.find_all('p')\n",
    "\n",
    "        #regex = r\"[a-zA-Z]+ \\d+\"\n",
    "        for p in date:\n",
    "            if 'Minutes (Released ' in p.text:\n",
    "                #print(p.text.replace(':\\nHTML | PDF', ''))\n",
    "                dates = {}\n",
    "                dates['date'] = p.text.replace(':\\nHTML | PDF', '')\n",
    "                \n",
    "                documents.append(dates)\n",
    "                \n",
    "df_3 = pd.DataFrame(documents)\n",
    "                \n",
    "                \n",
    "                \n",
    "                \n",
    "            #for match in p.text: \n",
    "                #re.findall(regex, 'Released', flags=0)\n",
    "                #print(p.text)\n",
    "#             if p.text.contains('Minutes'):\n",
    "#                 print(p.text)\n",
    "#         \n",
    "            "
   ]
  },
  {
   "cell_type": "code",
   "execution_count": 260,
   "metadata": {},
   "outputs": [
    {
     "data": {
      "text/html": [
       "<div>\n",
       "<style scoped>\n",
       "    .dataframe tbody tr th:only-of-type {\n",
       "        vertical-align: middle;\n",
       "    }\n",
       "\n",
       "    .dataframe tbody tr th {\n",
       "        vertical-align: top;\n",
       "    }\n",
       "\n",
       "    .dataframe thead th {\n",
       "        text-align: right;\n",
       "    }\n",
       "</style>\n",
       "<table border=\"1\" class=\"dataframe\">\n",
       "  <thead>\n",
       "    <tr style=\"text-align: right;\">\n",
       "      <th></th>\n",
       "      <th>date</th>\n",
       "    </tr>\n",
       "  </thead>\n",
       "  <tbody>\n",
       "    <tr>\n",
       "      <th>0</th>\n",
       "      <td>Minutes (Released February 20, 2013)</td>\n",
       "    </tr>\n",
       "    <tr>\n",
       "      <th>1</th>\n",
       "      <td>Minutes (Released April 10, 2013)</td>\n",
       "    </tr>\n",
       "    <tr>\n",
       "      <th>2</th>\n",
       "      <td>Minutes (Released May 22, 2013)</td>\n",
       "    </tr>\n",
       "    <tr>\n",
       "      <th>3</th>\n",
       "      <td>Minutes (Released July 10, 2013)</td>\n",
       "    </tr>\n",
       "    <tr>\n",
       "      <th>4</th>\n",
       "      <td>Minutes (Released August 21, 2013)</td>\n",
       "    </tr>\n",
       "  </tbody>\n",
       "</table>\n",
       "</div>"
      ],
      "text/plain": [
       "                                   date\n",
       "0  Minutes (Released February 20, 2013)\n",
       "1     Minutes (Released April 10, 2013)\n",
       "2       Minutes (Released May 22, 2013)\n",
       "3      Minutes (Released July 10, 2013)\n",
       "4    Minutes (Released August 21, 2013)"
      ]
     },
     "execution_count": 260,
     "metadata": {},
     "output_type": "execute_result"
    }
   ],
   "source": [
    "df_3.head()"
   ]
  },
  {
   "cell_type": "code",
   "execution_count": 209,
   "metadata": {},
   "outputs": [
    {
     "data": {
      "text/plain": [
       "'/monetarypolicy/fomcminutes20130130.htm'"
      ]
     },
     "execution_count": 209,
     "metadata": {},
     "output_type": "execute_result"
    }
   ],
   "source": [
    "# re = requests.get('https://www.federalreserve.gov/monetarypolicy/fomchistorical2013.htm')\n",
    "# s = BeautifulSoup(re.text, 'lxml')\n",
    "# s.find_all('div', {'class': 'col-xs-12 col-md-6'})[1].find_all('p')[1].a.attrs['href']"
   ]
  },
  {
   "cell_type": "code",
   "execution_count": null,
   "metadata": {},
   "outputs": [],
   "source": []
  },
  {
   "cell_type": "code",
   "execution_count": 86,
   "metadata": {},
   "outputs": [
    {
     "data": {
      "text/plain": [
       "'\\nMinutes of the Federal Open Market Committee\\n\\nJanuary 29-30, 2013\\nA meeting of the Federal Open Market Committee was held in the offices of the Board of Governors of the Federal Reserve System in Washington, D.C., on Tuesday, January 29, 2013, at 2:00 p.m., and continued on Wednesday, January 30, 2013, at 9:00 a.m.\\nPRESENT:\\nBen Bernanke, Chairman\\nWilliam C. Dudley, Vice Chairman\\nJames Bullard\\nElizabeth Duke\\nCharles L. Evans\\nEsther L. George\\nJerome H. Powell\\nSarah Bloom Raskin\\nEric Rosengren\\nJeremy C. Stein\\nDaniel K. Tarullo\\nJanet L. Yellen\\nChristine Cumming, Richard W. Fisher, Narayana Kocherlakota, Sandra Pianalto, and Charles I. Plosser, Alternate Members of the Federal Open Market Committee\\nJeffrey M. Lacker, Dennis P. Lockhart, and John C. Williams, Presidents of the Federal Reserve Banks of Richmond, Atlanta, and San Francisco, respectively\\nWilliam B. English, Secretary and Economist\\nDeborah J. Danker, Deputy Secretary\\nMatthew M. Luecke, Assistant Secretary\\nDavid W. Skidmore, Assistant Secretary\\nMichelle A. Smith, Assistant Secretary\\nScott G. Alvarez, General Counsel\\nThomas C. Baxter, Deputy General Counsel\\nSteven B. Kamin, Economist\\nDavid W. Wilcox, Economist\\nThomas A. Connors, Troy Davig, Michael P. Leahy, James J. McAndrews, Stephen A. Meyer, David Reifschneider, Daniel G. Sullivan, Christopher J. Waller, and William Wascher, Associate Economists\\nSimon Potter, Manager, System Open Market Account\\nNellie Liang,1 Director, Office of Financial Stability Policy and Research, Board of Governors\\nJon W. Faust, Special Advisor to the Board, Office of Board Members, Board of Governors\\nJames A. Clouse and William Nelson, Deputy Directors, Division of Monetary Affairs, Board of Governors; Mark E. Van Der Weide, Deputy Director, Division of Banking Supervision and Regulation, Board of Governors\\nLinda Robertson, Assistant to the Board, Office of Board Members, Board of Governors\\nJoyce K. Zickler, Senior Adviser, Division of Monetary Affairs, Board of Governors\\nEric M. Engen, Thomas Laubach, and David E. Lebow, Associate Directors, Division of Research and Statistics, Board of Governors\\nBeth Anne Wilson, Deputy Associate Director, Division of International Finance, Board of Governors\\nKaren M. Pence and Stacey Tevlin, Assistant Directors, Division of Research and Statistics, Board of Governors\\nJeremy B. Rudd, Adviser, Division of Research and Statistics, Board of Governors\\nDavid H. Small, Project Manager, Division of Monetary Affairs, Board of Governors\\nAndrew Figura, Group Manager, Division of Research and Statistics, Board of Governors\\nJohn C. Driscoll and Jennifer E. Roush, Senior Economists, Division of Monetary Affairs, Board of Governors; Ruth Judson, Senior Economist, Division of International Finance, Board of Governors\\nJonathan D. Rose, Economist, Division of Monetary Affairs, Board of Governors\\nSarah G. Green, First Vice President, Federal Reserve Bank of Richmond\\nDavid Altig, Jeff Fuhrer, Loretta J. Mester, Glenn D. Rudebusch, and Mark S. Sniderman, Executive Vice Presidents, Federal Reserve Banks of Atlanta, Boston, Philadelphia, San Francisco, and Cleveland, respectively\\nRon Feldman and Lorie K. Logan, Senior Vice Presidents, Federal Reserve Banks of Minneapolis and New York, respectively\\nEvan F. Koenig and Steven M. Friedman, Vice Presidents, Federal Reserve Banks of Dallas and New York, respectively\\nMatthew D. Raskin, Markets Officer, Federal Reserve Bank of New York\\nRobert L. Hetzel, Senior Economist, Federal Reserve Bank of Richmond\\nAnnual Organizational Matters2\\xa0\\nIn the agenda for this meeting, it was reported that advices of the election of the following members and alternate members of the Federal Open Market Committee for a term beginning January 29, 2013, had been received and that these individuals had executed their oaths of office.\\nThe elected members and alternate members were as follows:\\nWilliam C. Dudley, President of the Federal Reserve Bank of New York, with Christine Cumming, First Vice President of the Federal Reserve Bank of New York, as alternate.\\nEric Rosengren, President of the Federal Reserve Bank of Boston, with Charles I. Plosser, President of the Federal Reserve Bank of Philadelphia, as alternate.\\nCharles L. Evans, President of the Federal Reserve Bank of Chicago, with Sandra Pianalto, President of the Federal Reserve Bank of Cleveland, as alternate.\\nJames Bullard, President of the Federal Reserve Bank of St. Louis, with Richard W. Fisher, President of the Federal Reserve Bank of Dallas, as alternate.\\nEsther L. George, President of the Federal Reserve Bank of Kansas City, with Narayana Kocherlakota, President of the Federal Reserve Bank of Minneapolis, as alternate.\\nBy unanimous vote, the following officers of the Federal Open Market Committee were selected to serve until the selection of their successors at the first regularly scheduled meeting of the Committee in 2014:\\xa0\\n\\xa0\\n\\n\\n\\nBen Bernanke\\nChairman\\n\\n\\nWilliam C. Dudley\\nVice Chairman\\n\\n\\nWilliam B. English\\nSecretary and Economist\\n\\n\\nDeborah J. Danker\\nDeputy Secretary\\n\\n\\nMatthew M. Luecke\\nAssistant Secretary\\n\\n\\nDavid W. Skidmore\\nAssistant Secretary\\n\\n\\nMichelle A. Smith\\nAssistant Secretary\\n\\n\\nScott G. Alvarez\\nGeneral Counsel\\n\\n\\nThomas C. Baxter\\nDeputy General Counsel\\n\\n\\nRichard M. Ashton\\nAssistant General Counsel\\n\\n\\nSteven B. Kamin\\nEconomist\\n\\n\\nDavid W. Wilcox\\nEconomist\\n\\n\\n\\xa0\\n\\n\\nThomas A. Connors\\n\\n\\nTroy Davig\\n\\n\\nMichael P. Leahy\\n\\n\\nJames J. McAndrews\\n\\n\\nStephen A. Meyer\\n\\n\\nDavid Reifschneider\\n\\n\\nDaniel G. Sullivan\\n\\n\\nGeoffrey Tootell\\n\\n\\nChristopher J. Waller\\n\\n\\nWilliam Wascher\\nAssociate Economists\\n\\n\\n\\n\\xa0\\nBy unanimous vote, the Federal Reserve Bank of New York was selected to execute transactions for the System Open Market Account.\\nBy unanimous vote, Simon Potter was selected to serve at the pleasure of the Committee as Manager, System Open Market Account, on the understanding that his selection was subject to being satisfactory to the Federal Reserve Bank of New York.\\nSecretary\\'s note: Advice subsequently was received that the selection of Mr. Potter as Manager was satisfactory to the Federal Reserve Bank of New York.\\nBy unanimous vote, the Authorization for Domestic Open Market Operations was approved with two amendments. The first broadened the actions that the Open Market Desk may take, at the Chairman\\'s instruction during an intermeeting period, to include transactions to address temporary disruptions of an operational or highly unusual nature in U.S. dollar funding markets. For example, if secured funding rates were to increase to high levels in the wake of a natural disaster, the risk of a broader, more systemic disruption to the functioning of asset markets could result. In this case, the prospect that repurchase operations could potentially alleviate some of the market strains might warrant immediate action. Consistent with Committee practice, the Chairman, if feasible, would consult with the Committee before making any such instruction. The second amendment harmonized the language referring to the Committee\\'s longer-run objectives with that in the Committee\\'s Statement on Longer-Run Goals and Monetary Policy Strategy. The Guidelines for the Conduct of System Open Market Operations in Federal-Agency Issues remained suspended.\\nAUTHORIZATION FOR DOMESTIC OPEN MARKET OPERATIONS\\n(Amended effective on January 29, 2013)\\n1. The Federal Open Market Committee authorizes and directs the Federal Reserve Bank of New York, to the extent necessary to carry out the most recent domestic policy directive adopted at a meeting of the Committee:\\n\\nA. To buy or sell U.S. government securities, including securities of the Federal Financing Bank, and securities that are direct obligations of, or fully guaranteed as to principal and interest by, any agency of the United States in the open market, from or to securities dealers and foreign and international accounts maintained at the Federal Reserve Bank of New York, on a cash, regular, or deferred delivery basis, for the System Open Market Account at market prices, and, for such Account, to exchange maturing U.S. government and federal agency securities with the Treasury or the individual agencies or to allow them to mature without replacement; and\\nB. To buy or sell in the open market U.S. government securities, and securities that are direct obligations of, or fully guaranteed as to principal and interest by, any agency of the United States, for the System Open Market Account under agreements to resell or repurchase such securities or obligations (including such transactions as are commonly referred to as repo and reverse repo transactions) in 65 business days or less, at rates that, unless otherwise expressly authorized by the Committee, shall be determined by competitive bidding, after applying reasonable limitations on the volume of agreements with individual counterparties.\\n\\n2. The Federal Open Market Committee authorizes the Federal Reserve Bank of New York to undertake transactions of the type described in paragraphs 1.A and 1.B from time to time for the purpose of testing operational readiness. The aggregate par value of such transactions of the type described in paragraph 1.A shall not exceed $5 billion per calendar year. The outstanding amount of such transactions of the type described in paragraph 1.B shall not exceed $5 billion at any given time. These transactions shall be conducted with prior notice to the Committee.\\n3. In order to ensure the effective conduct of open market operations, the Federal Open Market Committee authorizes the Federal Reserve Bank of New York to use agents in agency MBS-related transactions.\\n4. In order to ensure the effective conduct of open market operations, the Federal Open Market Committee authorizes the Federal Reserve Bank of New York to lend on an overnight basis U.S. government securities and securities that are direct obligations of any agency of the United States, held in the System Open Market Account, to dealers at rates that shall be determined by competitive bidding. The Federal Reserve Bank of New York shall set a minimum lending fee consistent with the objectives of the program and apply reasonable limitations on the total amount of a specific issue that may be auctioned and on the amount of securities that each dealer may borrow. The Federal Reserve Bank of New York may reject bids that could facilitate a dealer\\'s ability to control a single issue as determined solely by the Federal Reserve Bank of New York. The Federal Reserve Bank of New York may lend securities on longer than an overnight basis to accommodate weekend, holiday, and similar trading conventions.\\n5. In order to ensure the effective conduct of open market operations, while assisting in the provision of short-term investments or other authorized services for foreign and international accounts maintained at the Federal Reserve Bank of New York and accounts maintained at the Federal Reserve Bank of New York as fiscal agent of the United States pursuant to section 15 of the Federal Reserve Act, the Federal Open Market Committee authorizes and directs the Federal Reserve Bank of New York:\\n\\nA. For the System Open Market Account, to sell U.S. government securities and securities that are direct obligations of, or fully guaranteed as to principal and interest by, any agency of the United States to such accounts on the bases set forth in paragraph 1.A under agreements providing for the resale by such accounts of those securities in 65 business days or less on terms comparable to those available on such transactions in the market;\\nB. For the New York Bank account, when appropriate, to undertake with dealers, subject to the conditions imposed on purchases and sales of securities in paragraph l.B, repurchase agreements in U.S. government securities and securities that are direct obligations of, or fully guaranteed as to principal and interest by, any agency of the United States, and to arrange corresponding sale and repurchase agreements between its own account and such foreign, international, and fiscal agency accounts maintained at the Bank; and\\nC. For the New York Bank account, when appropriate, to buy U.S. government securities and obligations that are direct obligations of, or fully guaranteed as to principal and interest by, any agency of the United States from such foreign and international accounts maintained at the Bank under agreements providing for the repurchase by such accounts of those securities on the same business day.\\n\\nTransactions undertaken with such accounts under the provisions of this paragraph may provide for a service fee when appropriate.\\n6. In the execution of the Committee\\'s decision regarding policy during any intermeeting period, the Committee authorizes and directs the Federal Reserve Bank of New York, upon the instruction of the Chairman of the Committee, to (i) adjust somewhat in exceptional circumstances the degree of pressure on reserve positions and hence the intended federal funds rate and to take actions that result in material changes in the composition and size of the assets in the System Open Market Account other than those anticipated by the Committee at its most recent meeting or (ii) undertake transactions of the type described in paragraphs 1.A and 1.B in order to appropriately address temporary disruptions of an operational or highly unusual nature in U.S. dollar funding markets. Any such adjustment as described in clause (i) shall be made in the context of the Committee\\'s discussion and decision at its most recent meeting and the Committee\\'s long-run objectives to foster maximum employment and price stability, and shall be based on economic, financial, and monetary developments during the intermeeting period. Consistent with Committee practice, the Chairman, if feasible, will consult with the Committee before making any instruction under this paragraph.\\nThe Committee voted unanimously to amend the Authorization for Foreign Currency Operations and the Procedural Instructions with Respect to Foreign Currency Operations, and to reaffirm the Foreign Currency Directive in the form shown below. The approval of these documents included approval of the System\\'s warehousing agreement with the U.S. Treasury. The Authorization for Foreign Currency Operations and the Procedural Instructions with Respect to Foreign Currency Operations were amended to include the authority to conduct small-value operations against the full range of foreign transactions that the Desk is authorized to conduct. This change was made to allow for prudent testing of operational readiness, and is similar in purpose to the amendment that the Committee approved in June 2012 to the Authorization for Domestic Open Market Operations.\\nAUTHORIZATION FOR FOREIGN CURRENCY OPERATIONS\\n(Amended effective on January 29, 2013)\\n1. The Federal Open Market Committee authorizes and directs the Federal Reserve Bank of New York, for the System Open Market Account, to the extent necessary to carry out the Committee\\'s foreign currency directive and express authorizations by the Committee pursuant thereto, and in conformity with such procedural instructions as the Committee may issue from time to time:\\n\\nA. To purchase and sell the following foreign currencies in the form of cable transfers through spot or forward transactions on the open market at home and abroad, including transactions with the U.S. Treasury, with the U.S. Exchange Stabilization Fund established by section 10 of the Gold Reserve Act of 1934, with foreign monetary authorities, with the Bank for International Settlements, and with other international financial institutions:\\nAustralian dollars\\nBrazilian reais\\nCanadian dollars\\nDanish kroner\\neuro\\nJapanese yen\\nKorean won\\nMexican pesos\\nNew Zealand dollars\\nNorwegian kroner\\nPounds sterling\\nSingapore dollars\\nSwedish kronor\\nSwiss francs\\nB. To hold balances of, and to have outstanding forward contracts to receive or to deliver, the foreign currencies listed in paragraph A above.\\nC. To draw foreign currencies and to permit foreign banks to draw dollars under the reciprocal currency arrangements listed in paragraph 2 below, provided that drawings by either party to any such arrangement shall be fully liquidated within 12 months after any amount outstanding at that time was first drawn, unless the Committee, because of exceptional circumstances, specifically authorizes a delay.\\nD. To maintain an overall open position in all foreign currencies not exceeding $25.0 billion. For this purpose, the overall open position in all foreign currencies is defined as the sum (disregarding signs) of net positions in individual currencies, excluding changes in dollar value due to foreign exchange rate movements and interest accruals. The net position in a single foreign currency is defined as holdings of balances in that currency, plus outstanding contracts for future receipt, minus outstanding contracts for future delivery of that currency, i.e., as the sum of these elements with due regard to sign.\\n\\n2. The Federal Open Market Committee directs the Federal Reserve Bank of New York to maintain reciprocal currency arrangements (\"swap\" arrangements) for the System Open Market Account for periods up to a maximum of 12 months with the following foreign banks, which are among those designated by the Board of Governors of the Federal Reserve System under section 214.5 of Regulation N, Relations with Foreign Banks and Bankers, and with the approval of the Committee to renew such arrangements on maturity:\\n\\n\\n\\nForeign bank\\nAmount of arrangement\\n\\t\\t\\t(millions of dollars equivalent)\\n\\n\\n\\n\\nBank of Canada\\n2,000\\n\\n\\nBank of Mexico\\n3,000\\n\\n\\n\\nAny changes in the terms of existing swap arrangements, and the proposed terms of any new arrangements that may be authorized, shall be referred for review and approval to the Committee.\\n3. All transactions in foreign currencies undertaken under paragraph 1.A above shall, unless otherwise expressly authorized by the Committee, be at prevailing market rates. For the purpose of providing an investment return on System holdings of foreign currencies or for the purpose of adjusting interest rates paid or received in connection with swap drawings, transactions with foreign central banks may be undertaken at non-market exchange rates.\\n4. It shall be the normal practice to arrange with foreign central banks for the coordination of foreign currency transactions. In making operating arrangements with foreign central banks on System holdings of foreign currencies, the Federal Reserve Bank of New York shall not commit itself to maintain any specific balance, unless authorized by the Federal Open Market Committee. Any agreements or understandings concerning the administration of the accounts maintained by the Federal Reserve Bank of New York with the foreign banks designated by the Board of Governors under section 214.5 of Regulation N shall be referred for review and approval to the Committee.\\n5. Foreign currency holdings shall be invested to ensure that adequate liquidity is maintained to meet anticipated needs and so that each currency portfolio shall generally have an average duration of no more than 18 months (calculated as Macaulay duration). Such investments may include buying or selling outright obligations of, or fully guaranteed as to principal and interest by, a foreign government or agency thereof; buying such securities under agreements for repurchase of such securities; selling such securities under agreements for the resale of such securities; and holding various time and other deposit accounts at foreign institutions. In addition, when appropriate in connection with arrangements to provide investment facilities for foreign currency holdings, U.S. government securities may be purchased from foreign central banks under agreements for repurchase of such securities within 30 calendar days.\\n6. All operations undertaken pursuant to the preceding paragraphs shall be reported promptly to the Foreign Currency Subcommittee and the Committee. The Foreign Currency Subcommittee consists of the Chairman and Vice Chairman of the Committee, the Vice Chairman of the Board of Governors, and such other member of the Board as the Chairman may designate (or in the absence of members of the Board serving on the Subcommittee, other Board members designated by the Chairman as alternates, and in the absence of the Vice Chairman of the Committee, the Vice Chairman\\'s alternate). Meetings of the Subcommittee shall be called at the request of any member, or at the request of the Manager, System Open Market Account (\"Manager\"), for the purposes of reviewing recent or contemplated operations and of consulting with the Manager on other matters relating to the Manager\\'s responsibilities. At the request of any member of the Subcommittee, questions arising from such reviews and consultations shall be referred for determination to the Federal Open Market Committee.\\n7. The Chairman is authorized:\\n\\nA. With the approval of the Committee, to enter into any needed agreement or understanding with the Secretary of the Treasury about the division of responsibility for foreign currency operations between the System and the Treasury;\\nB. To keep the Secretary of the Treasury fully advised concerning System foreign currency operations, and to consult with the Secretary on policy matters relating to foreign currency operations;\\nC. From time to time, to transmit appropriate reports and information to the National Advisory Council on International Monetary and Financial Policies.\\n\\n8. Staff officers of the Committee are authorized to transmit pertinent information on System foreign currency operations to appropriate officials of the Treasury Department.\\n9. All Federal Reserve Banks shall participate in the foreign currency operations for System Account in accordance with paragraph 3G(1) of the Board of Governors\\' Statement of Procedure with Respect to Foreign Relationships of Federal Reserve Banks dated January 1, 1944.\\n10. The Federal Open Market Committee authorizes the Federal Reserve Bank of New York to undertake transactions of the type described in paragraphs 1, 2, and 5, and foreign exchange and investment transactions that it may be otherwise authorized to undertake from time to time for the purpose of testing operational readiness. The aggregate amount of such transactions shall not exceed $2.5 billion per calendar year. These transactions shall be conducted with prior notice to the Committee.\\nPROCEDURAL INSTRUCTIONS WITH RESPECT TO FOREIGN CURRENCY OPERATIONS\\n(Amended effective on January 29, 2013)\\nIn conducting operations pursuant to the authorization and direction of the Federal Open Market Committee as set forth in the Authorization for Foreign Currency Operations and the Foreign Currency Directive, the Federal Reserve Bank of New York, through the Manager, System Open Market Account (\"Manager\"), shall be guided by the following procedural understandings with respect to consultations and clearances with the Committee, the Foreign Currency Subcommittee, and the Chairman of the Committee, unless otherwise directed by the Committee. All operations undertaken pursuant to such clearances shall be reported promptly to the Committee.\\n1. The Manager shall clear with the Subcommittee (or with the Chairman, if the Chairman believes that consultation with the Subcommittee is not feasible in the time available):\\n\\nA. Any operation that would result in a change in the System\\'s overall open position in foreign currencies exceeding $300 million on any day or $600 million since the most recent regular meeting of the Committee.\\nB. Any operation that would result in a change on any day in the System\\'s net position in a single foreign currency exceeding $150 million, or $300 million when the operation is associated with re-payment of swap drawings.\\nC. Any operation that might generate a substantial volume of trading in a particular currency by the System, even though the change in the System\\'s net position in that currency might be less than the limits specified in 1.B.\\nD. Any swap drawing proposed by a foreign bank not exceeding the larger of (i) $200 million or (ii) 15 percent of the size of the swap arrangement.\\n\\n2. The Manager shall clear with the Committee (or with the Subcommittee, if the Subcommittee believes that consultation with the full Committee is not feasible in the time available, or with the Chairman, if the Chairman believes that consultation with the Subcommittee is not feasible in the time available):\\n\\nA. Any operation that would result in a change in the System\\'s overall open position in foreign currencies exceeding $1.5 billion since the most recent regular meeting of the Committee.\\nB. Any swap drawing proposed by a foreign bank exceeding the larger of (i) $200 million or (ii) 15 percent of the size of the swap arrangement.\\n\\n3. The Manager shall also consult with the Subcommittee or the Chairman about proposed swap drawings by the System and about any operations that are not of a routine character.\\n4. The Federal Open Market Committee authorizes the Federal Reserve Bank of New York to undertake transactions of the type described in paragraphs 1, 2, and 5 of the Foreign Authorization and foreign exchange and investment transactions that it may be otherwise authorized to undertake from time to time for the purpose of testing operational readiness. The aggregate amount of such transactions shall not exceed $2.5 billion per calendar year. These transactions shall be conducted with prior notice to the Committee.\\nFOREIGN CURRENCY DIRECTIVE\\n(Reaffirmed January 29, 2013)\\n1. System operations in foreign currencies shall generally be directed at countering disorderly market conditions, provided that market exchange rates for the U.S. dollar reflect actions and behavior consistent with IMF Article IV, Section 1.\\n2. To achieve this end the System shall:\\n\\nA. Undertake spot and forward purchases and sales of foreign exchange.\\nB. Maintain reciprocal currency (\"swap\") arrangements with selected foreign central banks.\\nC. Cooperate in other respects with central banks of other countries and with international monetary institutions.\\n\\n3. Transactions may also be undertaken:\\n\\nA. To adjust System balances in light of probable future needs for currencies.\\nB. To provide means for meeting System and Treasury commitments in particular currencies, and to facilitate operations of the Exchange Stabilization Fund.\\nC. For such other purposes as may be expressly authorized by the Committee.\\n\\n4. System foreign currency operations shall be conducted:\\n\\nA. In close and continuous consultation and cooperation with the United States Treasury;\\nB. In cooperation, as appropriate, with foreign monetary authorities; and\\nC. In a manner consistent with the obligations of the United States in the International Monetary Fund regarding exchange arrangements under IMF Article IV.\\n\\nAll participants but one supported making only minor wording changes to the Statement on Longer-Run Goals and Monetary Policy Strategy. Mr. Tarullo abstained because he did not think the statement had advanced the cause of achieving or communicating greater consensus in the policy views of the Committee.\\nSTATEMENT ON LONGER-RUN GOALS AND MONETARY POLICY STRATEGY\\n(Amended effective on January 29, 2013)\\n\"The Federal Open Market Committee (FOMC) is firmly committed to fulfilling its statutory mandate from the Congress of promoting maximum employment, stable prices, and moderate long-term interest rates. The Committee seeks to explain its monetary policy decisions to the public as clearly as possible. Such clarity facilitates well-informed decisionmaking by households and businesses, reduces economic and financial uncertainty, increases the effectiveness of monetary policy, and enhances transparency and accountability, which are essential in a democratic society.\\nInflation, employment, and long-term interest rates fluctuate over time in response to economic and financial disturbances. Moreover, monetary policy actions tend to influence economic activity and prices with a lag. Therefore, the Committee\\'s policy decisions reflect its longer-run goals, its medium-term outlook, and its assessments of the balance of risks, including risks to the financial system that could impede the attainment of the Committee\\'s goals.\\nThe inflation rate over the longer run is primarily determined by monetary policy, and hence the Committee has the ability to specify a longer-run goal for inflation. The Committee judges that inflation at the rate of 2 percent, as measured by the annual change in the price index for personal consumption expenditures, is most consistent over the longer run with the Federal Reserve\\'s statutory mandate. Communicating this inflation goal clearly to the public helps keep longer-term inflation expectations firmly anchored, thereby fostering price stability and moderate long-term interest rates and enhancing the Committee\\'s ability to promote maximum employment in the face of significant economic disturbances.\\nThe maximum level of employment is largely determined by nonmonetary factors that affect the structure and dynamics of the labor market. These factors may change over time and may not be directly measurable. Consequently, it would not be appropriate to specify a fixed goal for employment; rather, the Committee\\'s policy decisions must be informed by assessments of the maximum level of employment, recognizing that such assessments are necessarily uncertain and subject to revision. The Committee considers a wide range of indicators in making these assessments. Information about Committee participants\\' estimates of the longer-run normal rates of output growth and unemployment is published four times per year in the FOMC\\'s Summary of Economic Projections. For example, in the most recent projections, FOMC participants\\' estimates of the longer-run normal rate of unemployment had a central tendency of 5.2 percent to 6.0 percent, unchanged from one year ago but substantially higher than the corresponding interval several years earlier.\\nIn setting monetary policy, the Committee seeks to mitigate deviations of inflation from its longer-run goal and deviations of employment from the Committee\\'s assessments of its maximum level. These objectives are generally complementary. However, under circumstances in which the Committee judges that the objectives are not complementary, it follows a balanced approach in promoting them, taking into account the magnitude of the deviations and the potentially different time horizons over which employment and inflation are projected to return to levels judged consistent with its mandate.\\nThe Committee intends to reaffirm these principles and to make adjustments as appropriate at its annual organizational meeting each January.\"\\nBy unanimous vote, the Policy on External Communications of Committee Participants and the Policy on External Communications of Federal Reserve System Staff were amended to clarify the precise beginning and end of the communication blackout period surrounding regular meetings of the Federal Open Market Committee (FOMC).\\nBy unanimous vote, the Rules of Procedure were amended to change the quorum requirements to state that a meeting of the FOMC could not be convened without a representative of a Reserve Bank.\\nBy unanimous vote, the Committee reaffirmed its Program for Security of FOMC Information.\\nDevelopments in Financial Markets and the Federal Reserve\\'s Balance Sheet\\nThe Manager of the System Open Market Account (SOMA) reported on developments in domestic and foreign financial markets as well as the System open market operations during the period since the FOMC met on December 11-12, 2012. By unanimous vote, the Committee ratified the Open Market Desk\\'s domestic transactions over the intermeeting period. There were no intervention operations in foreign currencies for the System\\'s account over the intermeeting period.\\nStaff Review of the Economic Situation\\nThe information reviewed at the January 29-30 meeting indicated that the expansion in overall economic activity slowed in the fourth quarter of last year, reflecting weather-related disruptions and other transitory factors, but private domestic final demand grew at a solid rate. Employment continued to increase at a moderate pace, and the unemployment rate, though still high, was lower at the end of the fourth quarter than in the preceding quarter. Consumer price inflation was subdued, and measures of longer-run inflation expectations remained stable.\\nPrivate nonfarm employment expanded in December at about the same rate as in the fourth quarter as a whole, while government employment decreased. The unemployment rate was 7.8 percent in December, below its average in the third quarter, while the labor force participation rate was the same as its third-quarter average. The rate of long-duration unemployment and the share of workers employed part time for economic reasons edged down in December, but both measures were still elevated. The rate of private-sector hiring, along with indicators of job openings and firms\\' hiring plans, was generally muted but remained consistent with continued moderate increases in employment in the coming months.\\nManufacturing production increased briskly in November and December after declining in October when activity was disrupted by Hurricane Sandy. As a result, factory output expanded only slightly in the fourth quarter as a whole, and the rate of manufacturing capacity utilization was only a little higher in December than in the third quarter. The production of motor vehicles and parts increased considerably in the fourth quarter, but factory output outside of the motor vehicle sector declined somewhat. Automakers\\' schedules indicated that the pace of motor vehicle assemblies in the first quarter would be roughly the same as in the fourth quarter. Broader indicators of manufacturing production, such as the diffusion indexes of new orders from the national and regional manufacturing surveys, were at levels consistent with only modest increases in factory output in the near term.\\nIncreases in real personal consumption expenditures picked up somewhat in the fourth quarter, boosted importantly by higher spending on motor vehicles. After being roughly flat in the third quarter, households\\' real disposable income rose considerably, in part reflecting an acceleration of income payments in anticipation of increases in individual income tax rates after the turn of the year. In December and January, consumer sentiment was more downbeat than in the previous several months.\\nConditions in the housing sector continued to improve, but construction activity remained at a relatively low level, restrained by tight underwriting standards for mortgage loans and the substantial inventory of foreclosed and distressed properties. Starts of both new single-family homes and multifamily units advanced in the fourth quarter, and permits also rose, which pointed to additional gains in construction in the coming months. Home prices increased further in November. In the fourth quarter, sales of both new and existing homes were higher than in the previous quarter.\\nReal business expenditures on equipment and software rose briskly in the fourth quarter after declining moderately in the preceding quarter. Although nominal new orders for nondefense capital goods excluding aircraft also increased markedly last quarter, the level of orders remained below shipments. Moreover, other recent forward-looking indicators, such as surveys of business conditions and capital spending plans, suggested that outlays for business equipment would rise only modestly in the coming months. Real business spending for nonresidential construction declined somewhat in the fourth quarter and remained at a relatively low level. A reduction in the accumulation of nonfarm business inventories subtracted a considerable amount from the change in real gross domestic product (GDP) in the fourth quarter.\\xa0\\nReal federal government purchases decreased substantially in the fourth quarter, primarily because of a sharp decline in defense spending that followed a marked increase in the previous quarter. Real state and local government purchases decreased slightly in the fourth quarter.\\xa0\\nThe U.S. international trade deficit widened substantially in November, as imports rose more quickly than exports. The rise in imports was fairly broad-based, led by strong increases in consumer goods, while the increase in exports mainly reflected higher sales of capital goods and automotive products. Exports to Europe posted another significant decline in November. Based on data for October and November and an estimate of the trade data for December, the advance release of the national income and product accounts showed that real net exports of goods and services made a small negative arithmetic contribution to the change in U.S. real GDP in the fourth quarter, with exports declining more than imports.\\nOverall U.S. consumer prices increased more slowly in the fourth quarter than in the previous quarter. Consumer energy prices declined in November and December, and survey data indicated that retail gasoline prices fell further in the first few weeks of January. Consumer food prices continued to rise at a faster pace in November and December than in the third quarter, likely reflecting the ongoing effects of last summer\\'s drought. In the fourth quarter, the rise in consumer prices excluding food and energy slowed. Near-term inflation expectations from the Thomson Reuters/University of Michigan Surveys of Consumers rose a little in December and early January; longer-term inflation expectations were unchanged.\\nAvailable measures of labor compensation indicated that recent gains in nominal wages remained relatively slow. Increases in average hourly earnings for all employees picked up a little in the fourth quarter but continued to be fairly subdued.\\nEconomic growth in the advanced foreign economies appeared to remain weak in the fourth quarter. In the euro area, industrial production and retail sales were below their third-quarter levels through November, and real GDP contracted in the United Kingdom. In Japan, indicators of production and exports remained weak; however, household consumption showed some improvement, and the new government introduced a large fiscal stimulus program and called for aggressive monetary easing to end deflation. In emerging market economies, real GDP growth is estimated to have picked up in China in the fourth quarter, consistent with other Chinese indicators that pointed to an improvement in activity. Production and exports rebounded at year-end in a number of other emerging Asian economies as well. Inflation generally remained well contained in both advanced foreign economies and emerging market economies.\\nStaff Review of the Financial Situation\\nU.S. financial market conditions improved on net between the December and January FOMC meetings, largely in response to the partial resolution of the issues associated with the so-called fiscal cliff, a positive start to the corporate earnings reporting season, and some favorable policy developments in Europe.\\nThe expected path of the federal funds rate based on market quotes moved up on balance over the intermeeting period, likely reflecting a somewhat more positive assessment of the economic outlook. Results from the Desk\\'s survey of primary dealers conducted prior to the January meeting showed that dealers continued to view the third quarter of 2015 as the most likely time of the first increase in the target federal funds rate. In addition, the median dealer continued to see the first quarter of 2014 as the most likely time for the Committee\\'s asset purchases to conclude, although fewer dealers than in December expected those purchases to continue beyond 2014.\\xa0\\nTreasury coupon yields increased over the intermeeting period, including a notable rise just after year-end when passage of the American Taxpayer Relief Act of 2012 apparently lessened concerns about the risk of substantially higher fiscal drag on growth in the near term. More-positive investor sentiment regarding the outlook for global economic growth, along with some optimism about a federal debt ceiling deal, may also have contributed to the increase in yields. Measures of inflation compensation derived from nominal and inflation-protected Treasury securities rose slightly over the intermeeting period.\\xa0\\nConditions in short-term dollar funding markets were generally little changed on balance; year-end funding pressures were modest overall and roughly in line with market expectations. The outstanding amount of unsecured commercial paper issued by European financial institutions increased noticeably.\\xa0\\nIndicators of the condition of domestic financial institutions generally improved over the intermeeting period. A broad index of bank stock prices rose, and the median spread on credit default swaps of the largest banking organizations moved lower.\\xa0\\nBroad U.S. equity price indexes increased on net over the intermeeting period, buoyed by many of the same factors that contributed to the rise in Treasury yields. In addition, the fourth-quarter earnings reporting season started off well, as earnings and revenue results were above analysts\\' expectations for a higher-than-average number of firms. Option-implied volatility for the S&P 500 index over the near term dipped to its lowest level since early 2007. The option-implied price of insurance against downside risk on the index at longer horizons remained elevated.\\nYields on speculative-grade corporate bonds decreased over the intermeeting period, and yields on investment-grade corporate bonds were up a bit. Risk spreads on speculative-grade bonds narrowed substantially, and spreads on investment-grade bonds decreased as well.\\xa0\\nNet debt financing by nonfinancial firms increased in the fourth quarter. Outstanding volumes of corporate bonds, commercial and industrial loans, and nonfinancial commercial paper all expanded. The pace of gross public issuance of equity by nonfinancial firms remained solid in the fourth quarter, but it was subdued in January, likely because of seasonal factors.\\xa0\\nConditions in the commercial real estate sector continued to be strained amid elevated vacancy and delinquency rates. However, issuance of commercial mortgage-backed securities strengthened during the fourth quarter, and spreads on those securities narrowed over the intermeeting period.\\nConforming home mortgage rates edged up, on net, after touching new lows during the intermeeting period. Yields on residential mortgage-backed securities (MBS) rose by more, leaving the spread between the primary mortgage rate and MBS yields narrower. Mortgage refinancing originations in December and January stayed near their highest levels since the housing market began to recover. The share of existing mortgages that were seriously delinquent edged down in October and November but remained high.\\nConsumer credit expanded briskly again in October and November. Nonrevolving credit continued to increase at a robust pace because of growth in student and auto loans, while revolving credit moved roughly sideways. Issuance of consumer asset-backed securities remained strong in the fourth quarter.\\nGrowth of bank credit in the fourth quarter slowed to about half its pace compared with earlier in the year, as loan growth declined. According to the January Senior Loan Officer Opinion Survey on Bank Lending Practices, domestic banks continued to ease somewhat their lending standards and some loan terms, on balance; they also experienced an increase in demand, on net, in most major loan categories in the fourth quarter.\\xa0\\nM2 and its largest component, liquid deposits, expanded robustly in December. Initial data suggested that the expiration of unlimited deposit insurance on noninterest-bearing transaction accounts at year-end had only a limited effect on bank deposits through early January. The monetary base expanded at a strong rate in December, reflecting growth in both currency and reserve balances.\\xa0\\nForeign financial conditions improved over the intermeeting period as markets responded favorably to the passage of fiscal policy legislation in the United States and to further progress in addressing euro-area strains. On net, global equity prices rose and euro-area peripheral spreads narrowed. As global risk sentiment improved, the dollar depreciated against the euro and most emerging market currencies. Against the yen, however, the dollar appreciated substantially. The yen\\'s depreciation appeared to occur in part in response to statements from Japan\\'s new prime minister, who urged the Bank of Japan to ease policy more aggressively. At its January meeting, the Bank of Japan restated its monetary policy framework, replacing its inflation goal of 1 percent with an inflation target of 2 percent, and announced it would commence a program of asset purchases in January 2014 with no predetermined limit on the maximum amount ultimately purchased. Yields on long-term Japanese sovereign bonds rose a few basis points on net over the intermeeting period, but yields on other foreign benchmark sovereign bonds increased more, reflecting both the improvement in global sentiment and reduced expectations for additional monetary accommodation, as the European Central Bank and the Bank of England kept their policy rates on hold and appeared to signal less likelihood of further easing.\\xa0\\nStaff Economic Outlook\\nIn the economic forecast prepared by the staff for the January meeting of the FOMC, the near-term projection for real GDP growth was revised up, in large part because the fiscal policy legislation enacted in early January was slightly less restrictive than the staff had assumed. The staff\\'s medium-term forecast for real GDP growth was essentially unchanged. With fiscal policy still anticipated to be tighter this year than last year, the staff expected that increases in real GDP would only moderately exceed the growth rate of potential output. In 2014 and 2015, real GDP was projected to accelerate gradually, supported by an eventual lessening of fiscal policy restraint, increases in consumer and business sentiment, further improvements in credit availability and financial conditions, and accommodative monetary policy. The expansion in economic activity was expected to slowly reduce the slack in labor and product markets over the projection period, and progress in reducing the unemployment rate was anticipated to be gradual.\\xa0\\nThe staff\\'s forecast for inflation was little changed from that prepared for the December FOMC meeting. The staff continued to project that inflation would be subdued through 2015. That forecast is based on the expectation that crude oil prices will trend down slowly from their current levels, the boost to retail food prices from last summer\\'s drought will be temporary and relatively small, longer-run inflation expectations will remain stable, and significant resource slack will persist over the forecast period.\\nParticipants\\' Views on Current Conditions and the Economic Outlook\\nIn their discussion of the economic situation, meeting participants indicated that they viewed the information received during the intermeeting period as suggesting that, apart from some temporary factors that had led to a pause in overall output growth in recent months, the economy remained on a moderate growth path. In particular, participants saw the economic outlook as little changed or modestly improved relative to the December meeting. Most participants judged that there had been some reduction in downside risks facing the economy: Strains in global financial markets had eased somewhat, and U.S. fiscal policymakers had come to a partial resolution of the so-called fiscal cliff. Supported by a highly accommodative stance of monetary policy, the housing sector was strengthening, and the unemployment rate appeared likely to continue its gradual decline. Nearly all participants anticipated that inflation over the medium-term would run at or below the Committee\\'s 2 percent objective.\\nIn their discussion of the household sector, participants noted various factors influencing consumer spending. Some participants stated that low interest rates appeared to be contributing to strong sales of autos or, more generally, of consumer durables. It was also noted that continued deleveraging by households was improving their financial positions, which would likely support increased spending. Holiday shopping reportedly was relatively solid, and, reflecting the improvement in the housing market, demand for home furnishings and construction materials was up. However, some participants were concerned that the recent increase in the payroll tax could have a significant negative effect on spending, particularly on the part of lower-income consumers.\\nParticipants remarked on the ongoing recovery in the housing market, pointing variously to rising house prices, growth in residential construction and sales, and the lower inventory of homes for sale. A number of participants thought it likely that higher home values and low mortgage rates were helping support other sectors of the economy as well, and a couple saw the housing market as having the potential to cause overall growth to be stronger than expected this year. Nonetheless, it was noted that mortgage credit remained tight and the fraction of homeowners with mortgage balances exceeding the value of their homes remained high.\\nIn general, participants indicated that, relative to the recent past, more business contacts reported an improvement in confidence and some cautious optimism about the economic outlook. Anecdotal reports suggested that uncertainty about the evolution of the economy and government policy continued to restrain firms\\' hiring and capital spending decisions, but the passage of fiscal legislation in early January helped resolve some of the uncertainty about federal tax policy. Moreover, it was noted that businesses were in a good position to expand once they came to view the economic environment as more favorable. Survey data from one District indicated that more than half of the respondents expected to increase employment this year, with many citing expected sales growth as the reason. Reports from a number of industries across the country also suggested a more positive assessment of future prospects, particularly in the automotive, energy, and technology sectors. However, reports from the non-automotive manufacturing sector were less positive. In agriculture, record payouts from crop insurance following last year\\'s drought supported farm incomes, and land prices continued to rise. Reports on business conditions in the commercial real estate sector were more mixed but, on the whole, somewhat improved. The strength of exports reportedly varied, with indications of higher demand from Mexico but some relatively pessimistic readings from firms about business conditions in Europe. Participants generally welcomed an apparent pickup in economic growth in parts of Asia and saw reduced risk that the Chinese economy would slow abruptly, but it was noted that no economy was currently in a position to lead global growth higher.\\nThe passage of legislation in early January resolved some of the uncertainties surrounding the federal fiscal outlook, but near-term uncertainties remained, including the prospect of automatic budget cuts. Participants generally agreed that fiscal negotiations could develop in a way that would result in significantly greater drag on economic growth than in their baseline outlook. One participant noted positive news about the fiscal position of the states; in some cases, revenues had risen sufficiently to enable increases in state government spending and employment.\\nIn their comments on labor market developments, participants viewed the decline in the unemployment rate from the third quarter to the fourth and the continued moderate gains in payroll employment as consistent with a gradually improving job market. However, the unemployment rate remained well above estimates of its longer-run normal level, and other indicators, such as the share of long-term unemployed and the number of people working part time for economic reasons, suggested that the recovery in the labor market was far from complete. One participant reported that firms in his District continued to have difficulty finding workers with suitable skills, suggesting that labor market mismatch was a factor deterring job growth. A few others, however, pointed to evidence that weak aggregate demand was the primary factor restraining job growth, citing data and analyses in support of the view that there was still a substantial margin of slack in the labor market. For example, a couple of participants noted evidence suggesting that a shift in the relationship between the unemployment rate and the level of job vacancies in recent years was unlikely to persist as the economy recovered and unemployment benefits returned to customary levels. Similarly, one participant cited empirical analysis showing that employment growth was lower in the states where a greater share of small businesses identified lack of demand as their most important business problem. Several participants expressed concern that continuation of only slow job growth and persistently high long-duration unemployment could lead to permanent damage to the labor market.\\nParticipants generally saw recent price developments as consistent with their projections that inflation would remain at or below the Committee\\'s 2 percent objective over the medium run. There was little evidence of wage or cost pressures outside of isolated sectors, and measures of inflation expectations remained stable. However, a few participants expressed concerns that the current highly accommodative stance of monetary policy posed upside risks to inflation in the medium or longer term.\\nParticipants also touched on the implications for monetary policy of changes in estimates of the economy\\'s potential output. A number of participants thought that the growth of potential output had been reduced in recent years, possibly in part because restrictive financial conditions and weak economic activity in the aftermath of the financial crisis had reduced investment, business formation, and the pace of adoption of new technologies. Many of these participants worried that, should the economy continue to operate below potential for too long, reduced investment and underutilization of labor could further undermine the growth of potential output over time. A couple of participants noted that uncertainties concerning both the level of, and the source of shifts in, potential output made it difficult to base decisions about monetary policy on real-time measures of the output gap.\\nParticipants noted that financial conditions appeared to have been supported by the recent fiscal agreement, a perceived reduction in the risk that the debt ceiling would not be raised in a timely manner, accommodative monetary policy, and actions taken by European authorities. With regard to Europe, participants continued to see downside risks to growth emanating from that region, given its unresolved imbalances and weak economic outlook. Several participants mentioned that domestic credit conditions appeared to have improved: Automobile loans were expanding rapidly and it was reported that competition to make commercial and industrial loans was robust. Although mortgage availability was still limited, a couple of participants indicated that they expected increased competition to bring about some lessening of the restraints on mortgage credit. In general, after having been depressed for some time, investor appetite for risk had increased. A few participants commented that the Committee\\'s accommodative policies were intended in part to promote a more balanced approach to risk-taking, but several others expressed concern about the potential for excessive risk-taking and adverse consequences for financial stability. Some participants mentioned the potential for a sharp increase in longer-term interest rates to adversely affect financial stability and indicated their interest in further work on this topic.\\nThe Committee again discussed the possible benefits and costs of additional asset purchases. Most participants commented that the Committee\\'s asset purchases had been effective in easing financial conditions and helping stimulate economic activity, and many pointed, in particular, to the support that low longer-term interest rates had provided to housing or consumer durable purchases. In addition, the Committee\\'s highly accommodative policy was seen as helping keep inflation over the medium term closer to its longer-run goal of 2 percent than would otherwise have been the case. Policy was also aimed at improving the labor market outlook. In this regard, several participants stressed the economic and social costs of high unemployment, as well as the potential for negative effects on the economy\\'s longer-term path of a prolonged period of underutilization of resources. However, many participants also expressed some concerns about potential costs and risks arising from further asset purchases. Several participants discussed the possible complications that additional purchases could cause for the eventual withdrawal of policy accommodation, a few mentioned the prospect of inflationary risks, and some noted that further asset purchases could foster market behavior that could undermine financial stability. Several participants noted that a very large portfolio of long-duration assets would, under certain circumstances, expose the Federal Reserve to significant capital losses when these holdings were unwound, but others pointed to offsetting factors and one noted that losses would not impede the effective operation of monetary policy. A few also raised concerns about the potential effects of further asset purchases on the functioning of particular financial markets, although a couple of other participants noted that there had been little evidence to date of such effects. In light of this discussion, the staff was asked for additional analysis ahead of future meetings to support the Committee\\'s ongoing assessment of the asset purchase program.\\nSeveral participants emphasized that the Committee should be prepared to vary the pace of asset purchases, either in response to changes in the economic outlook or as its evaluation of the efficacy and costs of such purchases evolved. For example, one participant argued that purchases should vary incrementally from meeting to meeting in response to incoming information about the economy. A number of participants stated that an ongoing evaluation of the efficacy, costs, and risks of asset purchases might well lead the Committee to taper or end its purchases before it judged that a substantial improvement in the outlook for the labor market had occurred. Several others argued that the potential costs of reducing or ending asset purchases too soon were also significant, or that asset purchases should continue until a substantial improvement in the labor market outlook had occurred. A few participants noted examples of past instances in which policymakers had prematurely removed accommodation, with adverse effects on economic growth, employment, and price stability; they also stressed the importance of communicating the Committee\\'s commitment to maintaining a highly accommodative stance of policy as long as warranted by economic conditions. In this regard, a number of participants discussed the possibility of providing monetary accommodation by holding securities for a longer period than envisioned in the Committee\\'s exit principles, either as a supplement to, or a replacement for, asset purchases.\\nParticipants also discussed the economic thresholds in the Committee\\'s forward guidance on the path of the federal funds rate. On the whole, participants judged that financial markets had adapted to the shift from date-based communication to guidance based on economic thresholds without difficulty, although a few participants stated that communications challenges remained. For example, one participant commented that some market participants appeared to have incorrectly interpreted the thresholds as triggers that, when reached, would necessarily lead to an immediate rise in the federal funds rate. A couple of participants noted that this policy tool would be more effective if the Committee were able to communicate a consensus expectation for the path of the federal funds rate after a threshold was crossed. One participant also indicated a preference for lowering the threshold for the unemployment rate as a means of providing additional accommodation.\\nCommittee Policy Action\\nCommittee members saw the information received over the intermeeting period as suggesting that growth in economic activity had paused in recent months, in large part because of weather-related disruptions and other transitory factors. Employment had continued to expand at a moderate pace, but the unemployment rate remained elevated. However, members generally expected that, with appropriately accommodative monetary policy, economic growth would proceed at a moderate pace and the unemployment rate would gradually decline toward levels they judged to be consistent with the Committee\\'s dual mandate. Although members saw strains in global financial markets as having eased somewhat, they continued to see an increase in such strains as well as slower global growth and a greater-than-expected fiscal tightening in the United States as downside risks to the economy. Members generally continued to anticipate that, with longer-term inflation expectations stable and slack in resource utilization remaining, inflation over the medium term would run at or below the Committee\\'s longer-run objective of 2 percent.\\xa0\\nIn their discussion of monetary policy for the period ahead, members saw the economic outlook as relatively little changed since the previous meeting. Accordingly, all but one member judged that maintaining the highly accommodative stance of monetary policy was warranted in order to foster a stronger economic recovery in a context of price stability. The Committee agreed that it would be appropriate to continue purchases of MBS at a pace of $40 billion per month and purchases of longer-term Treasury securities at a pace of $45 billion per month, as well as to maintain the Committee\\'s reinvestment policies. The Committee also retained its forward guidance about the federal funds rate, including the thresholds on the unemployment and inflation rates. Some members remarked favorably on the move away from providing calendar dates in the forward guidance and toward highlighting the economic conditionality of future monetary policy. One member dissented from the Committee\\'s policy decision, expressing concern that the continued high level of monetary accommodation increased the risks of future economic and financial imbalances and, over time, could cause an increase in long-term inflation expectations.\\nIn the statement to be released following the meeting, the Committee made relatively small modifications to the language of its December statement, including to acknowledge both the pause in economic growth during the fourth quarter and some easing of the strains in global financial markets. In light of the importance of ongoing U.S. fiscal concerns, members discussed whether to include a reference to unresolved fiscal issues, but decided to refrain. Similarly, one member raised a question about whether the statement language adequately captured the importance of the Committee\\'s assessment of the likely efficacy and costs in its asset purchase decisions, but the Committee decided to maintain the current language pending a review, planned for the March meeting, of its asset purchases.\\nAt the conclusion of the discussion, the Committee voted to authorize and direct the Federal Reserve Bank of New York, until it was instructed otherwise, to execute transactions in the System Account in accordance with the following domestic policy directive:\\n\"Consistent with its statutory mandate, the Federal Open Market Committee seeks monetary and financial conditions that will foster maximum employment and price stability. In particular, the Committee seeks conditions in reserve markets consistent with federal funds trading in a range from 0 to 1/4 percent. The Committee directs the Desk to undertake open market operations as necessary to maintain such conditions. The Desk is directed to continue purchasing longer-term Treasury securities at a pace of about $45 billion per month and to continue purchasing agency mortgage-backed securities at a pace of about $40 billion per month. The Committee also directs the Desk to engage in dollar roll and coupon swap transactions as necessary to facilitate settlement of the Federal Reserve\\'s agency MBS transactions. The Committee directs the Desk to maintain its policy of rolling over maturing Treasury securities into new issues and its policy of reinvesting principal payments on all agency debt and agency mortgage-backed securities in agency mortgage-backed securities. The System Open Market Account Manager and the Secretary will keep the Committee informed of ongoing developments regarding the System\\'s balance sheet that could affect the attainment over time of the Committee\\'s objectives of maximum employment and price stability.\"\\nThe vote encompassed approval of the statement below to be released at 2:15 p.m.:\\n\\n\"Information received since the Federal Open Market Committee met in December suggests that growth in economic activity paused in recent months, in large part because of weather-related disruptions and other transitory factors. Employment has continued to expand at a moderate pace but the unemployment rate remains elevated. Household spending and business fixed investment advanced, and the housing sector has shown further improvement. Inflation has been running somewhat below the Committee\\'s longer-run objective, apart from temporary variations that largely reflect fluctuations in energy prices. Longer-term inflation expectations have remained stable.\\nConsistent with its statutory mandate, the Committee seeks to foster maximum employment and price stability. The Committee expects that, with appropriate policy accommodation, economic growth will proceed at a moderate pace and the unemployment rate will gradually decline toward levels the Committee judges consistent with its dual mandate. Although strains in global financial markets have eased somewhat, the Committee continues to see downside risks to the economic outlook. The Committee also anticipates that inflation over the medium term likely will run at or below its 2 percent objective.\\nTo support a stronger economic recovery and to help ensure that inflation, over time, is at the rate most consistent with its dual mandate, the Committee will continue purchasing additional agency mortgage-backed securities at a pace of $40 billion per month and longer-term Treasury securities at a pace of $45 billion per month. The Committee is maintaining its existing policy of reinvesting principal payments from its holdings of agency debt and agency mortgage-backed securities in agency mortgage-backed securities and of rolling over maturing Treasury securities at auction. Taken together, these actions should maintain downward pressure on longer-term interest rates, support mortgage markets, and help to make broader financial conditions more accommodative.\\nThe Committee will closely monitor incoming information on economic and financial developments in coming months. If the outlook for the labor market does not improve substantially, the Committee will continue its purchases of Treasury and agency mortgage-backed securities, and employ its other policy tools as appropriate, until such improvement is achieved in a context of price stability. In determining the size, pace, and composition of its asset purchases, the Committee will, as always, take appropriate account of the likely efficacy and costs of such purchases.\\nTo support continued progress toward maximum employment and price stability, the Committee expects that a highly accommodative stance of monetary policy will remain appropriate for a considerable time after the asset purchase program ends and the economic recovery strengthens. In particular, the Committee decided to keep the target range for the federal funds rate at 0 to 1/4 percent and currently anticipates that this exceptionally low range for the federal funds rate will be appropriate at least as long as the unemployment rate remains above 6-1/2 percent, inflation between one and two years ahead is projected to be no more than a half percentage point above the Committee\\'s 2 percent longer-run goal, and longer-term inflation expectations continue to be well anchored. In determining how long to maintain a highly accommodative stance of monetary policy, the Committee will also consider other information, including additional measures of labor market conditions, indicators of inflation pressures and inflation expectations, and readings on financial developments. When the Committee decides to begin to remove policy accommodation, it will take a balanced approach consistent with its longer-run goals of maximum employment and inflation of 2 percent.\"\\n\\nVoting for this action: Ben Bernanke, William C. Dudley, James Bullard, Elizabeth Duke, Charles L. Evans, Jerome H. Powell, Sarah Bloom Raskin, Eric Rosengren, Jeremy C. Stein, Daniel K. Tarullo, and Janet L. Yellen.\\nVoting against this action: Esther L. George.\\nMs. George dissented out of concern that the continued high level of monetary accommodation increased the risks of future economic and financial imbalances and, over time, could cause an increase in inflation expectations. In her view, the potential costs and risks posed by the Committee\\'s asset purchases outweighed their uncertain benefits. Although she noted that monetary policy needed to remain supportive of the economy, Ms. George believed that policy had become too accommodative and that possible unintended side effects of ongoing asset purchases, posing risks to financial stability and complicating future monetary policy, argued against continuing on the Committee\\'s current path.\\nDiscussion of Communications Regarding Economic Projections\\nAs a follow-up to the FOMC\\'s discussion in October about providing more information on the Committee\\'s collective judgment regarding the economic outlook and appropriate monetary policy, the staff presented several options for enhancing the Summary of Economic Projections (SEP). Most of the options involved displaying the information currently collected from participants in new ways by using different summary statistics or aggregations. In the ensuing discussion, participants expressed a range of views on the advantages and disadvantages of implementing changes to the SEP. For example, they generally judged that the addition of the median of participants\\' projections could be useful to better illustrate the central outlook of the Committee. Many participants also expressed interest in exploring the potential for using the SEP to convey information about issues related to the Committee\\'s future asset purchases and the Federal Reserve\\'s balance sheet. However, the discussion highlighted the complexity involved in providing this information, in part because participants\\' quantitative assessments of the likely evolution of the Federal Reserve\\'s asset holdings under appropriate policy may not adequately convey the nature of the conditionality and the broader cost-benefit considerations guiding the Committee\\'s actions in this area. At the end of the discussion, the Chairman asked the subcommittee on communications to explore potential approaches to providing more information about participants\\' individual views of appropriate balance sheet policy and its conditionality.\\nIt was agreed that the next meeting of the Committee would be held on Tuesday-Wednesday, March 19-20, 2013. The meeting adjourned at 1:45 p.m. on January 30, 2013.\\nNotation Vote\\nBy notation vote completed on January 2, 2013, the Committee unanimously approved the minutes of the FOMC meeting held on December 11-12, 2012.\\n_____________________________\\nWilliam B. English\\nSecretary\\n\\n1. Attended Tuesday\\'s session only. Return to text\\n2. Versions of the current Committee documents are available at http://www.federalreserve.gov/monetarypolicy/rules_authorizations.htm. Return to text\\n\\n'"
      ]
     },
     "execution_count": 86,
     "metadata": {},
     "output_type": "execute_result"
    }
   ],
   "source": [
    "body.text"
   ]
  },
  {
   "cell_type": "code",
   "execution_count": 463,
   "metadata": {},
   "outputs": [
    {
     "name": "stdout",
     "output_type": "stream",
     "text": [
      "Extracted 10 of 98.\n",
      "Extracted 20 of 98.\n",
      "Extracted 30 of 98.\n",
      "Extracted 40 of 98.\n",
      "Extracted 50 of 98.\n",
      "Extracted 60 of 98.\n",
      "Extracted 70 of 98.\n",
      "Extracted 80 of 98.\n",
      "Extracted 90 of 98.\n"
     ]
    }
   ],
   "source": [
    "fomc_docs = []\n",
    "j = 0\n",
    "for link in df_4.link:\n",
    "    #print(link)\n",
    "    url_3 = link\n",
    "    res_3 = requests.get(url_3)\n",
    "    soup = BeautifulSoup(res_3.content, 'lxml')\n",
    "    content = {}\n",
    "    try:\n",
    "        body = soup.find('div', {'id': 'article'})\n",
    "        #print(body.text)\n",
    "        content['minutes'] = body.text\n",
    "    except:\n",
    "        body = soup.find('div', {'id': 'leftText'})\n",
    "        content['minutes'] = body.text\n",
    "        \n",
    "    fomc_docs.append(content)   \n",
    "        \n",
    "        \n",
    "    if (j + 1) % 10 == 0:\n",
    "        print(f'Extracted {j + 1} of {len(df_4.link)}.')\n",
    "        \n",
    "    j += 1\n",
    "    \n",
    "     \n",
    "fomc_13_07 = pd.DataFrame(fomc_docs)"
   ]
  },
  {
   "cell_type": "code",
   "execution_count": 464,
   "metadata": {},
   "outputs": [
    {
     "data": {
      "text/plain": [
       "(98, 1)"
      ]
     },
     "execution_count": 464,
     "metadata": {},
     "output_type": "execute_result"
    }
   ],
   "source": [
    "fomc_13_07.shape"
   ]
  },
  {
   "cell_type": "code",
   "execution_count": 465,
   "metadata": {},
   "outputs": [
    {
     "data": {
      "text/html": [
       "<div>\n",
       "<style scoped>\n",
       "    .dataframe tbody tr th:only-of-type {\n",
       "        vertical-align: middle;\n",
       "    }\n",
       "\n",
       "    .dataframe tbody tr th {\n",
       "        vertical-align: top;\n",
       "    }\n",
       "\n",
       "    .dataframe thead th {\n",
       "        text-align: right;\n",
       "    }\n",
       "</style>\n",
       "<table border=\"1\" class=\"dataframe\">\n",
       "  <thead>\n",
       "    <tr style=\"text-align: right;\">\n",
       "      <th></th>\n",
       "      <th>minutes</th>\n",
       "    </tr>\n",
       "  </thead>\n",
       "  <tbody>\n",
       "    <tr>\n",
       "      <th>0</th>\n",
       "      <td>\\nMinutes of the Federal Open Market Committee...</td>\n",
       "    </tr>\n",
       "    <tr>\n",
       "      <th>1</th>\n",
       "      <td>\\nMinutes of the Federal Open Market Committee...</td>\n",
       "    </tr>\n",
       "    <tr>\n",
       "      <th>2</th>\n",
       "      <td>\\nMinutes of the Federal Open Market Committee...</td>\n",
       "    </tr>\n",
       "    <tr>\n",
       "      <th>3</th>\n",
       "      <td>\\nMinutes of the Federal Open Market Committee...</td>\n",
       "    </tr>\n",
       "    <tr>\n",
       "      <th>4</th>\n",
       "      <td>\\nMinutes of the Federal Open Market Committee...</td>\n",
       "    </tr>\n",
       "  </tbody>\n",
       "</table>\n",
       "</div>"
      ],
      "text/plain": [
       "                                             minutes\n",
       "0  \\nMinutes of the Federal Open Market Committee...\n",
       "1  \\nMinutes of the Federal Open Market Committee...\n",
       "2  \\nMinutes of the Federal Open Market Committee...\n",
       "3  \\nMinutes of the Federal Open Market Committee...\n",
       "4  \\nMinutes of the Federal Open Market Committee..."
      ]
     },
     "execution_count": 465,
     "metadata": {},
     "output_type": "execute_result"
    }
   ],
   "source": [
    "fomc_13_07.head()"
   ]
  },
  {
   "cell_type": "code",
   "execution_count": 466,
   "metadata": {},
   "outputs": [],
   "source": [
    "fomc_13_07.to_csv('./data/fomc_minutes_2013_2007.csv')"
   ]
  },
  {
   "cell_type": "code",
   "execution_count": null,
   "metadata": {},
   "outputs": [],
   "source": []
  }
 ],
 "metadata": {
  "kernelspec": {
   "display_name": "Python 3",
   "language": "python",
   "name": "python3"
  },
  "language_info": {
   "codemirror_mode": {
    "name": "ipython",
    "version": 3
   },
   "file_extension": ".py",
   "mimetype": "text/x-python",
   "name": "python",
   "nbconvert_exporter": "python",
   "pygments_lexer": "ipython3",
   "version": "3.7.1"
  }
 },
 "nbformat": 4,
 "nbformat_minor": 2
}
