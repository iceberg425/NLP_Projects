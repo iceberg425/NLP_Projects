{
 "cells": [
  {
   "cell_type": "code",
   "execution_count": 1,
   "metadata": {},
   "outputs": [],
   "source": [
    "# Import libaries\n",
    "\n",
    "from bs4 import BeautifulSoup\n",
    "import requests\n",
    "import pandas as pd\n",
    "import numpy as np"
   ]
  },
  {
   "cell_type": "code",
   "execution_count": 107,
   "metadata": {},
   "outputs": [],
   "source": [
    "url = 'https://www.federalreserve.gov/monetarypolicy/beige-book-archive.htm' \n",
    "res = requests.get(url)"
   ]
  },
  {
   "cell_type": "code",
   "execution_count": 108,
   "metadata": {},
   "outputs": [],
   "source": [
    "soup = BeautifulSoup(res.content, 'lxml')"
   ]
  },
  {
   "cell_type": "code",
   "execution_count": 109,
   "metadata": {},
   "outputs": [],
   "source": [
    "dates = []\n",
    "for date in soup.find_all('div', {'class': 'col-xs-12 col-sm-5'}):\n",
    "    #print(date)\n",
    "    for lst in date.find_all('ul', {'class': 'list-unstyled'}):\n",
    "        aas = lst.find_all('a')\n",
    "        for a in aas:\n",
    "            #print(a.attrs)\n",
    "            #print('https://www.federalreserve.gov'+a.attrs['href'])\n",
    "            links = {}\n",
    "            links['docs'] = 'https://www.federalreserve.gov'+a.attrs['href']\n",
    "            \n",
    "            dates.append(links)\n",
    "            \n",
    "df = pd.DataFrame(dates)"
   ]
  },
  {
   "cell_type": "code",
   "execution_count": 110,
   "metadata": {},
   "outputs": [
    {
     "data": {
      "text/html": [
       "<div>\n",
       "<style scoped>\n",
       "    .dataframe tbody tr th:only-of-type {\n",
       "        vertical-align: middle;\n",
       "    }\n",
       "\n",
       "    .dataframe tbody tr th {\n",
       "        vertical-align: top;\n",
       "    }\n",
       "\n",
       "    .dataframe thead th {\n",
       "        text-align: right;\n",
       "    }\n",
       "</style>\n",
       "<table border=\"1\" class=\"dataframe\">\n",
       "  <thead>\n",
       "    <tr style=\"text-align: right;\">\n",
       "      <th></th>\n",
       "      <th>docs</th>\n",
       "    </tr>\n",
       "  </thead>\n",
       "  <tbody>\n",
       "    <tr>\n",
       "      <th>0</th>\n",
       "      <td>https://www.federalreserve.gov/monetarypolicy/...</td>\n",
       "    </tr>\n",
       "    <tr>\n",
       "      <th>1</th>\n",
       "      <td>https://www.federalreserve.gov/monetarypolicy/...</td>\n",
       "    </tr>\n",
       "    <tr>\n",
       "      <th>2</th>\n",
       "      <td>https://www.federalreserve.gov/monetarypolicy/...</td>\n",
       "    </tr>\n",
       "    <tr>\n",
       "      <th>3</th>\n",
       "      <td>https://www.federalreserve.gov/monetarypolicy/...</td>\n",
       "    </tr>\n",
       "    <tr>\n",
       "      <th>4</th>\n",
       "      <td>https://www.federalreserve.gov/monetarypolicy/...</td>\n",
       "    </tr>\n",
       "  </tbody>\n",
       "</table>\n",
       "</div>"
      ],
      "text/plain": [
       "                                                docs\n",
       "0  https://www.federalreserve.gov/monetarypolicy/...\n",
       "1  https://www.federalreserve.gov/monetarypolicy/...\n",
       "2  https://www.federalreserve.gov/monetarypolicy/...\n",
       "3  https://www.federalreserve.gov/monetarypolicy/...\n",
       "4  https://www.federalreserve.gov/monetarypolicy/..."
      ]
     },
     "execution_count": 110,
     "metadata": {},
     "output_type": "execute_result"
    }
   ],
   "source": [
    "df.head()"
   ]
  },
  {
   "cell_type": "code",
   "execution_count": 111,
   "metadata": {},
   "outputs": [
    {
     "data": {
      "text/plain": [
       "(23, 1)"
      ]
     },
     "execution_count": 111,
     "metadata": {},
     "output_type": "execute_result"
    }
   ],
   "source": [
    "df.shape"
   ]
  },
  {
   "cell_type": "code",
   "execution_count": 112,
   "metadata": {},
   "outputs": [
    {
     "data": {
      "text/html": [
       "<div>\n",
       "<style scoped>\n",
       "    .dataframe tbody tr th:only-of-type {\n",
       "        vertical-align: middle;\n",
       "    }\n",
       "\n",
       "    .dataframe tbody tr th {\n",
       "        vertical-align: top;\n",
       "    }\n",
       "\n",
       "    .dataframe thead th {\n",
       "        text-align: right;\n",
       "    }\n",
       "</style>\n",
       "<table border=\"1\" class=\"dataframe\">\n",
       "  <thead>\n",
       "    <tr style=\"text-align: right;\">\n",
       "      <th></th>\n",
       "      <th>link</th>\n",
       "    </tr>\n",
       "  </thead>\n",
       "  <tbody>\n",
       "    <tr>\n",
       "      <th>0</th>\n",
       "      <td>https://www.federalreserve.gov/monetarypolicy/...</td>\n",
       "    </tr>\n",
       "    <tr>\n",
       "      <th>1</th>\n",
       "      <td>https://www.federalreserve.gov/monetarypolicy/...</td>\n",
       "    </tr>\n",
       "    <tr>\n",
       "      <th>2</th>\n",
       "      <td>https://www.federalreserve.gov/monetarypolicy/...</td>\n",
       "    </tr>\n",
       "    <tr>\n",
       "      <th>3</th>\n",
       "      <td>https://www.federalreserve.gov/monetarypolicy/...</td>\n",
       "    </tr>\n",
       "    <tr>\n",
       "      <th>4</th>\n",
       "      <td>https://www.federalreserve.gov/monetarypolicy/...</td>\n",
       "    </tr>\n",
       "  </tbody>\n",
       "</table>\n",
       "</div>"
      ],
      "text/plain": [
       "                                                link\n",
       "0  https://www.federalreserve.gov/monetarypolicy/...\n",
       "1  https://www.federalreserve.gov/monetarypolicy/...\n",
       "2  https://www.federalreserve.gov/monetarypolicy/...\n",
       "3  https://www.federalreserve.gov/monetarypolicy/...\n",
       "4  https://www.federalreserve.gov/monetarypolicy/..."
      ]
     },
     "execution_count": 112,
     "metadata": {},
     "output_type": "execute_result"
    }
   ],
   "source": [
    "documents = []\n",
    "for link in df.docs:\n",
    "    #print(link)\n",
    "    url_2 = link\n",
    "    res_2 = requests.get(url_2)\n",
    "    soup = BeautifulSoup(res_2.content, 'lxml')\n",
    "    for item in soup.find_all('div', {'class': 'col-xs-12'}):\n",
    "        #print(item)\n",
    "        row = item.find_all('a')\n",
    "        for a in row:\n",
    "            #print(a.attrs['href'])\n",
    "             if a.text == 'HTML':\n",
    "                    #print('https://www.federalreserve.gov'+a.attrs['href'])\n",
    "                    beige_book = {}\n",
    "                    beige_book['link'] = 'https://www.federalreserve.gov'+a.attrs['href']\n",
    "                    \n",
    "                    documents.append(beige_book)\n",
    "                    \n",
    "df_2 = pd.DataFrame(documents)\n",
    "\n",
    "df_2.head()\n",
    "                    \n",
    "            "
   ]
  },
  {
   "cell_type": "code",
   "execution_count": 113,
   "metadata": {},
   "outputs": [
    {
     "data": {
      "text/plain": [
       "(177, 1)"
      ]
     },
     "execution_count": 113,
     "metadata": {},
     "output_type": "execute_result"
    }
   ],
   "source": [
    "df_2.shape"
   ]
  },
  {
   "cell_type": "code",
   "execution_count": 114,
   "metadata": {},
   "outputs": [
    {
     "name": "stdout",
     "output_type": "stream",
     "text": [
      "https://www.federalreserve.gov/monetarypolicy/beigebook201801.htm\n",
      "https://www.federalreserve.gov/monetarypolicy/beigebook201803.htm\n",
      "https://www.federalreserve.gov/monetarypolicy/beigebook201804.htm\n",
      "https://www.federalreserve.gov/monetarypolicy/beigebook201805.htm\n",
      "https://www.federalreserve.gov/monetarypolicy/beigebook201807.htm\n",
      "https://www.federalreserve.gov/monetarypolicy/beigebook201809.htm\n",
      "https://www.federalreserve.gov/monetarypolicy/beigebook201810.htm\n",
      "https://www.federalreserve.gov/monetarypolicy/beigebook201812.htm\n",
      "https://www.federalreserve.gov/monetarypolicy/beigebook201701.htm\n",
      "https://www.federalreserve.gov/monetarypolicy/beigebook201703.htm\n",
      "https://www.federalreserve.gov/monetarypolicy/beigebook201704.htm\n",
      "https://www.federalreserve.gov/monetarypolicy/beigebook201705.htm\n",
      "https://www.federalreserve.gov/monetarypolicy/beigebook201707.htm\n",
      "https://www.federalreserve.gov/monetarypolicy/beigebook201709.htm\n",
      "https://www.federalreserve.gov/monetarypolicy/beigebook201710.htm\n",
      "https://www.federalreserve.gov/monetarypolicy/beigebook201711.htm\n",
      "https://www.federalreserve.govhttps://www.federalreserve.gov/monetarypolicy/beigebook/beigebook201601.htm\n",
      "https://www.federalreserve.govhttps://www.federalreserve.gov/monetarypolicy/beigebook/beigebook201603.htm\n",
      "https://www.federalreserve.govhttps://www.federalreserve.gov/monetarypolicy/beigebook/beigebook201604.htm\n",
      "https://www.federalreserve.govhttps://www.federalreserve.gov/monetarypolicy/beigebook/beigebook201606.htm\n",
      "https://www.federalreserve.govhttps://www.federalreserve.gov/monetarypolicy/beigebook/beigebook201607.htm\n",
      "https://www.federalreserve.govhttps://www.federalreserve.gov/monetarypolicy/beigebook/beigebook201609.htm\n",
      "https://www.federalreserve.govhttps://www.federalreserve.gov/monetarypolicy/beigebook/beigebook201610.htm\n",
      "https://www.federalreserve.govhttps://www.federalreserve.gov/monetarypolicy/beigebook/beigebook201611.htm\n",
      "https://www.federalreserve.govhttps://www.federalreserve.gov/monetarypolicy/beigebook/beigebook201501.htm\n",
      "https://www.federalreserve.govhttps://www.federalreserve.gov/monetarypolicy/beigebook/beigebook20150304.htm\n",
      "https://www.federalreserve.govhttps://www.federalreserve.gov/monetarypolicy/beigebook/beigebook201504.htm\n",
      "https://www.federalreserve.govhttps://www.federalreserve.gov/monetarypolicy/beigebook/beigebook201506.htm\n",
      "https://www.federalreserve.govhttps://www.federalreserve.gov/monetarypolicy/beigebook/beigebook201507.htm\n",
      "https://www.federalreserve.govhttps://www.federalreserve.gov/monetarypolicy/beigebook/beigebook201509.htm\n",
      "https://www.federalreserve.govhttps://www.federalreserve.gov/monetarypolicy/beigebook/beigebook201510.htm\n",
      "https://www.federalreserve.govhttps://www.federalreserve.gov/monetarypolicy/beigebook/beigebook201512.htm\n",
      "https://www.federalreserve.govhttps://www.federalreserve.gov/monetarypolicy/beigebook/beigebook201401.htm\n",
      "https://www.federalreserve.govhttps://www.federalreserve.gov/monetarypolicy/beigebook/beigebook201403.htm\n",
      "https://www.federalreserve.govhttps://www.federalreserve.gov/monetarypolicy/beigebook/beigebook201404.htm\n",
      "https://www.federalreserve.govhttps://www.federalreserve.gov/monetarypolicy/beigebook/beigebook201406.htm\n",
      "https://www.federalreserve.govhttps://www.federalreserve.gov/monetarypolicy/beigebook/beigebook201407.htm\n",
      "https://www.federalreserve.govhttps://www.federalreserve.gov/monetarypolicy/beigebook/beigebook201409.htm\n",
      "https://www.federalreserve.govhttps://www.federalreserve.gov/monetarypolicy/beigebook/beigebook201410.htm\n",
      "https://www.federalreserve.govhttps://www.federalreserve.gov/monetarypolicy/beigebook/beigebook201412.htm\n",
      "https://www.federalreserve.govhttps://www.federalreserve.gov/monetarypolicy/beigebook/beigebook201301.htm\n",
      "https://www.federalreserve.govhttps://www.federalreserve.gov/monetarypolicy/beigebook/beigebook201303.htm\n",
      "https://www.federalreserve.govhttps://www.federalreserve.gov/monetarypolicy/beigebook/beigebook201304.htm\n",
      "https://www.federalreserve.govhttps://www.federalreserve.gov/monetarypolicy/beigebook/beigebook201306.htm\n",
      "https://www.federalreserve.govhttps://www.federalreserve.gov/monetarypolicy/beigebook/beigebook201307.htm\n",
      "https://www.federalreserve.govhttps://www.federalreserve.gov/monetarypolicy/beigebook/beigebook201309.htm\n",
      "https://www.federalreserve.govhttps://www.federalreserve.gov/monetarypolicy/beigebook/beigebook201310.htm\n",
      "https://www.federalreserve.govhttps://www.federalreserve.gov/monetarypolicy/beigebook/beigebook201312.htm\n",
      "https://www.federalreserve.govhttps://www.federalreserve.gov/monetarypolicy/beigebook/beigebook201201.htm\n",
      "https://www.federalreserve.govhttps://www.federalreserve.gov/monetarypolicy/beigebook/beigebook201202.htm\n",
      "https://www.federalreserve.govhttps://www.federalreserve.gov/monetarypolicy/beigebook/beigebook201204.htm\n",
      "https://www.federalreserve.govhttps://www.federalreserve.gov/monetarypolicy/beigebook/beigebook201206.htm\n",
      "https://www.federalreserve.govhttps://www.federalreserve.gov/monetarypolicy/beigebook/beigebook201207.htm\n",
      "https://www.federalreserve.govhttps://www.federalreserve.gov/monetarypolicy/beigebook/beigebook201208.htm\n",
      "https://www.federalreserve.govhttps://www.federalreserve.gov/monetarypolicy/beigebook/beigebook201210.htm\n",
      "https://www.federalreserve.govhttps://www.federalreserve.gov/monetarypolicy/beigebook/beigebook201211.htm\n",
      "https://www.federalreserve.govhttps://www.federalreserve.gov/monetarypolicy/beigebook/beigebook201101.htm\n",
      "https://www.federalreserve.govhttps://www.federalreserve.gov/monetarypolicy/beigebook/beigebook20110302.htm\n",
      "https://www.federalreserve.govhttps://www.federalreserve.gov/monetarypolicy/beigebook/beigebook201104.htm\n",
      "https://www.federalreserve.govhttps://www.federalreserve.gov/monetarypolicy/beigebook/beigebook201106.htm\n",
      "https://www.federalreserve.govhttps://www.federalreserve.gov/monetarypolicy/beigebook/beigebook201107.htm\n",
      "https://www.federalreserve.govhttps://www.federalreserve.gov/monetarypolicy/beigebook/beigebook201109.htm\n",
      "https://www.federalreserve.govhttps://www.federalreserve.gov/monetarypolicy/beigebook/beigebook201110.htm\n",
      "https://www.federalreserve.govhttps://www.federalreserve.gov/monetarypolicy/beigebook/beigebook201111.htm\n",
      "https://www.federalreserve.govhttps://www.federalreserve.gov/fomc/beigebook/2010/20100113/default.htm\n",
      "https://www.federalreserve.govhttps://www.federalreserve.gov/fomc/beigebook/2010/20100303/default.htm\n",
      "https://www.federalreserve.govhttps://www.federalreserve.gov/fomc/beigebook/2010/20100414/default.htm\n",
      "https://www.federalreserve.govhttps://www.federalreserve.gov/fomc/beigebook/2010/20100609/default.htm\n",
      "https://www.federalreserve.govhttps://www.federalreserve.gov/fomc/beigebook/2010/20100728/default.htm\n",
      "https://www.federalreserve.govhttps://www.federalreserve.gov/fomc/beigebook/2010/20100908/default.htm\n",
      "https://www.federalreserve.govhttps://www.federalreserve.gov/fomc/beigebook/2010/20101020/default.htm\n",
      "https://www.federalreserve.govhttps://www.federalreserve.gov/fomc/beigebook/2010/20101201/default.htm\n",
      "https://www.federalreserve.govhttps://www.federalreserve.gov/fomc/beigebook/2009/20090114/default.htm\n",
      "https://www.federalreserve.govhttps://www.federalreserve.gov/fomc/beigebook/2009/20090304/default.htm\n",
      "https://www.federalreserve.govhttps://www.federalreserve.gov/fomc/beigebook/2009/20090415/default.htm\n",
      "https://www.federalreserve.govhttps://www.federalreserve.gov/fomc/beigebook/2009/20090610/default.htm\n",
      "https://www.federalreserve.govhttps://www.federalreserve.gov/fomc/beigebook/2009/20090729/default.htm\n",
      "https://www.federalreserve.govhttps://www.federalreserve.gov/fomc/beigebook/2009/20090909/default.htm\n",
      "https://www.federalreserve.govhttps://www.federalreserve.gov/fomc/beigebook/2009/20091021/default.htm\n",
      "https://www.federalreserve.govhttps://www.federalreserve.gov/fomc/beigebook/2009/20091202/default.htm\n",
      "https://www.federalreserve.govhttps://www.federalreserve.gov/fomc/beigebook/2008/20080116/default.htm\n",
      "https://www.federalreserve.govhttps://www.federalreserve.gov/fomc/beigebook/2008/20080305/default.htm\n",
      "https://www.federalreserve.govhttps://www.federalreserve.gov/fomc/beigebook/2008/20080416/default.htm\n",
      "https://www.federalreserve.govhttps://www.federalreserve.gov/fomc/beigebook/2008/20080611/default.htm\n",
      "https://www.federalreserve.govhttps://www.federalreserve.gov/fomc/beigebook/2008/20080723/default.htm\n",
      "https://www.federalreserve.govhttps://www.federalreserve.gov/fomc/beigebook/2008/20080903/default.htm\n",
      "https://www.federalreserve.govhttps://www.federalreserve.gov/fomc/beigebook/2008/20081015/default.htm\n",
      "https://www.federalreserve.govhttps://www.federalreserve.gov/fomc/beigebook/2008/20081203/default.htm\n"
     ]
    },
    {
     "name": "stdout",
     "output_type": "stream",
     "text": [
      "https://www.federalreserve.govhttps://www.federalreserve.gov/fomc/beigebook/2007/20070117/default.htm\n",
      "https://www.federalreserve.govhttps://www.federalreserve.gov/fomc/beigebook/2007/20070307/default.htm\n",
      "https://www.federalreserve.govhttps://www.federalreserve.gov/fomc/beigebook/2007/20070425/default.htm\n",
      "https://www.federalreserve.govhttps://www.federalreserve.gov/fomc/beigebook/2007/20070613/default.htm\n",
      "https://www.federalreserve.govhttps://www.federalreserve.gov/fomc/beigebook/2007/20070725/default.htm\n",
      "https://www.federalreserve.govhttps://www.federalreserve.gov/fomc/beigebook/2007/20070905/default.htm\n",
      "https://www.federalreserve.govhttps://www.federalreserve.gov/fomc/beigebook/2007/20071017/default.htm\n",
      "https://www.federalreserve.govhttps://www.federalreserve.gov/fomc/beigebook/2007/20071128/default.htm\n",
      "https://www.federalreserve.govhttps://www.federalreserve.gov/fomc/beigebook/2006/20060118/default.htm\n",
      "https://www.federalreserve.govhttps://www.federalreserve.gov/fomc/beigebook/2006/20060315/default.htm\n",
      "https://www.federalreserve.govhttps://www.federalreserve.gov/fomc/beigebook/2006/20060426/default.htm\n",
      "https://www.federalreserve.govhttps://www.federalreserve.gov/fomc/beigebook/2006/20060614/default.htm\n",
      "https://www.federalreserve.govhttps://www.federalreserve.gov/fomc/beigebook/2006/20060726/default.htm\n",
      "https://www.federalreserve.govhttps://www.federalreserve.gov/fomc/beigebook/2006/20060906/default.htm\n",
      "https://www.federalreserve.govhttps://www.federalreserve.gov/fomc/beigebook/2006/20061012/default.htm\n",
      "https://www.federalreserve.govhttps://www.federalreserve.gov/fomc/beigebook/2006/20061129/default.htm\n",
      "https://www.federalreserve.govhttps://www.federalreserve.gov/fomc/beigebook/2005/20050119/default.htm\n",
      "https://www.federalreserve.govhttps://www.federalreserve.gov/fomc/beigebook/2005/20050309/default.htm\n",
      "https://www.federalreserve.govhttps://www.federalreserve.gov/fomc/beigebook/2005/20050420/default.htm\n",
      "https://www.federalreserve.govhttps://www.federalreserve.gov/fomc/beigebook/2005/20050615/default.htm\n",
      "https://www.federalreserve.govhttps://www.federalreserve.gov/fomc/beigebook/2005/20050727/default.htm\n",
      "https://www.federalreserve.govhttps://www.federalreserve.gov/fomc/beigebook/2005/20050907/default.htm\n",
      "https://www.federalreserve.govhttps://www.federalreserve.gov/fomc/beigebook/2005/20051019/default.htm\n",
      "https://www.federalreserve.govhttps://www.federalreserve.gov/fomc/beigebook/2005/20051130/default.htm\n",
      "https://www.federalreserve.govhttps://www.federalreserve.gov/fomc/beigebook/2004/20040114/default.htm\n",
      "https://www.federalreserve.govhttps://www.federalreserve.gov/fomc/beigebook/2004/20040303/default.htm\n",
      "https://www.federalreserve.govhttps://www.federalreserve.gov/fomc/beigebook/2004/20040421/default.htm\n",
      "https://www.federalreserve.govhttps://www.federalreserve.gov/fomc/beigebook/2004/20040616/default.htm\n",
      "https://www.federalreserve.govhttps://www.federalreserve.gov/fomc/beigebook/2004/20040728/default.htm\n",
      "https://www.federalreserve.govhttps://www.federalreserve.gov/fomc/beigebook/2004/20040908/default.htm\n",
      "https://www.federalreserve.govhttps://www.federalreserve.gov/fomc/beigebook/2004/20041027/default.htm\n",
      "https://www.federalreserve.govhttps://www.federalreserve.gov/fomc/beigebook/2004/20041201/default.htm\n",
      "https://www.federalreserve.govhttps://www.federalreserve.gov/fomc/beigebook/2003/20030115/default.htm\n",
      "https://www.federalreserve.govhttps://www.federalreserve.gov/fomc/beigebook/2003/20030305/default.htm\n",
      "https://www.federalreserve.govhttps://www.federalreserve.gov/fomc/beigebook/2003/20030423/default.htm\n",
      "https://www.federalreserve.govhttps://www.federalreserve.gov/fomc/beigebook/2003/20030611/default.htm\n",
      "https://www.federalreserve.govhttps://www.federalreserve.gov/fomc/beigebook/2003/20030730/default.htm\n",
      "https://www.federalreserve.govhttps://www.federalreserve.gov/fomc/beigebook/2003/20031015/default.htm\n",
      "https://www.federalreserve.govhttps://www.federalreserve.gov/fomc/beigebook/2003/20031126/default.htm\n",
      "https://www.federalreserve.govhttps://www.federalreserve.gov/fomc/beigebook/2002/20020116/default.htm\n",
      "https://www.federalreserve.govhttps://www.federalreserve.gov/fomc/beigebook/2002/20020306/default.htm\n",
      "https://www.federalreserve.govhttps://www.federalreserve.gov/fomc/beigebook/2002/20020424/default.htm\n",
      "https://www.federalreserve.govhttps://www.federalreserve.gov/fomc/beigebook/2002/20020612/default.htm\n",
      "https://www.federalreserve.govhttps://www.federalreserve.gov/fomc/beigebook/2002/20020731/default.htm\n",
      "https://www.federalreserve.govhttps://www.federalreserve.gov/fomc/beigebook/2002/20020911/default.htm\n",
      "https://www.federalreserve.govhttps://www.federalreserve.gov/fomc/beigebook/2002/20021023/default.htm\n",
      "https://www.federalreserve.govhttps://www.federalreserve.gov/fomc/beigebook/2002/20020911/default.htm\n",
      "https://www.federalreserve.govhttps://www.federalreserve.gov/fomc/beigebook/2001/20010117/default.htm\n",
      "https://www.federalreserve.govhttps://www.federalreserve.gov/fomc/beigebook/2001/20010307/default.htm\n",
      "https://www.federalreserve.govhttps://www.federalreserve.gov/fomc/beigebook/2001/20010502/default.htm\n",
      "https://www.federalreserve.govhttps://www.federalreserve.gov/fomc/beigebook/2001/20010613/default.htm\n",
      "https://www.federalreserve.govhttps://www.federalreserve.gov/fomc/beigebook/2001/20010808/default.htm\n",
      "https://www.federalreserve.govhttps://www.federalreserve.gov/fomc/beigebook/2001/20010919/default.htm\n",
      "https://www.federalreserve.govhttps://www.federalreserve.gov/fomc/beigebook/2001/20011024/default.htm\n",
      "https://www.federalreserve.govhttps://www.federalreserve.gov/fomc/beigebook/2001/20011128/default.htm\n",
      "https://www.federalreserve.govhttps://www.federalreserve.gov/fomc/beigebook/2000/20000119/default.htm\n",
      "https://www.federalreserve.govhttps://www.federalreserve.gov/fomc/beigebook/2000/20000308/default.htm\n",
      "https://www.federalreserve.govhttps://www.federalreserve.gov/fomc/beigebook/2000/20000503/default.htm\n",
      "https://www.federalreserve.govhttps://www.federalreserve.gov/fomc/beigebook/2000/20000614/default.htm\n",
      "https://www.federalreserve.govhttps://www.federalreserve.gov/fomc/beigebook/2000/20000809/default.htm\n",
      "https://www.federalreserve.govhttps://www.federalreserve.gov/fomc/beigebook/2000/20000920/default.htm\n",
      "https://www.federalreserve.govhttps://www.federalreserve.gov/fomc/beigebook/2000/20001101/default.htm\n",
      "https://www.federalreserve.govhttps://www.federalreserve.gov/fomc/beigebook/2000/20001206/default.htm\n",
      "https://www.federalreserve.govhttps://www.federalreserve.gov/fomc/beigebook/1999/19990120/default.htm\n",
      "https://www.federalreserve.govhttps://www.federalreserve.gov/fomc/beigebook/1999/19990317/default.htm\n",
      "https://www.federalreserve.govhttps://www.federalreserve.gov/fomc/beigebook/1999/19990505/default.htm\n",
      "https://www.federalreserve.govhttps://www.federalreserve.gov/fomc/beigebook/1999/19990616/default.htm\n",
      "https://www.federalreserve.govhttps://www.federalreserve.gov/fomc/beigebook/1999/19990811/default.htm\n",
      "https://www.federalreserve.govhttps://www.federalreserve.gov/fomc/beigebook/1999/19990922/default.htm\n",
      "https://www.federalreserve.govhttps://www.federalreserve.gov/fomc/beigebook/1999/19991103/default.htm\n",
      "https://www.federalreserve.govhttps://www.federalreserve.gov/fomc/beigebook/1999/19991208/default.htm\n",
      "https://www.federalreserve.govhttps://www.federalreserve.gov/fomc/beigebook/1998/19980121/default.htm\n",
      "https://www.federalreserve.govhttps://www.federalreserve.gov/fomc/beigebook/1998/19980318/default.htm\n",
      "https://www.federalreserve.govhttps://www.federalreserve.gov/fomc/beigebook/1998/19980506/default.htm\n",
      "https://www.federalreserve.govhttps://www.federalreserve.gov/fomc/beigebook/1998/19980617/default.htm\n",
      "https://www.federalreserve.govhttps://www.federalreserve.gov/fomc/beigebook/1998/19980805/default.htm\n",
      "https://www.federalreserve.govhttps://www.federalreserve.gov/fomc/beigebook/1998/19980916/default.htm\n",
      "https://www.federalreserve.govhttps://www.federalreserve.gov/fomc/beigebook/1998/19981104/default.htm\n",
      "https://www.federalreserve.govhttps://www.federalreserve.gov/fomc/beigebook/1998/19981209/default.htm\n",
      "https://www.federalreserve.govhttps://www.federalreserve.gov/fomc/beigebook/1997/19970122/default.htm\n",
      "https://www.federalreserve.govhttps://www.federalreserve.gov/fomc/beigebook/1997/19970312/default.htm\n",
      "https://www.federalreserve.govhttps://www.federalreserve.gov/fomc/beigebook/1997/19970507/default.htm\n",
      "https://www.federalreserve.govhttps://www.federalreserve.gov/fomc/beigebook/1997/19970618/default.htm\n",
      "https://www.federalreserve.govhttps://www.federalreserve.gov/fomc/beigebook/1997/19970806/default.htm\n",
      "https://www.federalreserve.govhttps://www.federalreserve.gov/fomc/beigebook/1997/19970917/default.htm\n",
      "https://www.federalreserve.govhttps://www.federalreserve.gov/fomc/beigebook/1997/19971029/default.htm\n",
      "https://www.federalreserve.govhttps://www.federalreserve.gov/fomc/beigebook/1997/19971203/default.htm\n"
     ]
    },
    {
     "name": "stdout",
     "output_type": "stream",
     "text": [
      "https://www.federalreserve.govhttps://www.federalreserve.gov/fomc/beigebook/1996/19961030/default.htm\n",
      "https://www.federalreserve.govhttps://www.federalreserve.gov/fomc/beigebook/1996/19961204/default.htm\n"
     ]
    }
   ],
   "source": [
    "for link in df.docs:\n",
    "    url_2 = link\n",
    "    res_2 = requests.get(url_2)\n",
    "    soup = BeautifulSoup(res_2.content, 'lxml')\n",
    "    for item in soup.find_all('div', {'class': 'col-xs-12'}):\n",
    "        row = item.find_all('a')\n",
    "        for a in row:\n",
    "            #print(a.attrs['href'])\n",
    "             if a.text == 'HTML':\n",
    "                    print('https://www.federalreserve.gov'+a.attrs['href'])"
   ]
  },
  {
   "cell_type": "code",
   "execution_count": 115,
   "metadata": {},
   "outputs": [],
   "source": [
    "new = []\n",
    "for i, j in enumerate(df_2.link[16:]):\n",
    "    #print(i, j)\n",
    "    #print(j.replace('https://www.federalreserve.gov', '', 1))\n",
    "    corrected = {}\n",
    "    corrected['link'] = j.replace('https://www.federalreserve.gov', '', 1)\n",
    "    new.append(corrected)\n",
    "update = pd.DataFrame(new)"
   ]
  },
  {
   "cell_type": "code",
   "execution_count": 116,
   "metadata": {},
   "outputs": [
    {
     "data": {
      "text/plain": [
       "(161, 1)"
      ]
     },
     "execution_count": 116,
     "metadata": {},
     "output_type": "execute_result"
    }
   ],
   "source": [
    "update.shape"
   ]
  },
  {
   "cell_type": "code",
   "execution_count": 117,
   "metadata": {},
   "outputs": [
    {
     "data": {
      "text/html": [
       "<div>\n",
       "<style scoped>\n",
       "    .dataframe tbody tr th:only-of-type {\n",
       "        vertical-align: middle;\n",
       "    }\n",
       "\n",
       "    .dataframe tbody tr th {\n",
       "        vertical-align: top;\n",
       "    }\n",
       "\n",
       "    .dataframe thead th {\n",
       "        text-align: right;\n",
       "    }\n",
       "</style>\n",
       "<table border=\"1\" class=\"dataframe\">\n",
       "  <thead>\n",
       "    <tr style=\"text-align: right;\">\n",
       "      <th></th>\n",
       "      <th>link</th>\n",
       "    </tr>\n",
       "  </thead>\n",
       "  <tbody>\n",
       "    <tr>\n",
       "      <th>0</th>\n",
       "      <td>https://www.federalreserve.gov/monetarypolicy/...</td>\n",
       "    </tr>\n",
       "    <tr>\n",
       "      <th>1</th>\n",
       "      <td>https://www.federalreserve.gov/monetarypolicy/...</td>\n",
       "    </tr>\n",
       "    <tr>\n",
       "      <th>2</th>\n",
       "      <td>https://www.federalreserve.gov/monetarypolicy/...</td>\n",
       "    </tr>\n",
       "    <tr>\n",
       "      <th>3</th>\n",
       "      <td>https://www.federalreserve.gov/monetarypolicy/...</td>\n",
       "    </tr>\n",
       "    <tr>\n",
       "      <th>4</th>\n",
       "      <td>https://www.federalreserve.gov/monetarypolicy/...</td>\n",
       "    </tr>\n",
       "  </tbody>\n",
       "</table>\n",
       "</div>"
      ],
      "text/plain": [
       "                                                link\n",
       "0  https://www.federalreserve.gov/monetarypolicy/...\n",
       "1  https://www.federalreserve.gov/monetarypolicy/...\n",
       "2  https://www.federalreserve.gov/monetarypolicy/...\n",
       "3  https://www.federalreserve.gov/monetarypolicy/...\n",
       "4  https://www.federalreserve.gov/monetarypolicy/..."
      ]
     },
     "execution_count": 117,
     "metadata": {},
     "output_type": "execute_result"
    }
   ],
   "source": [
    "update.head()"
   ]
  },
  {
   "cell_type": "code",
   "execution_count": 118,
   "metadata": {},
   "outputs": [],
   "source": [
    "df_3 = df_2.iloc[0:16]"
   ]
  },
  {
   "cell_type": "code",
   "execution_count": 119,
   "metadata": {},
   "outputs": [
    {
     "data": {
      "text/html": [
       "<div>\n",
       "<style scoped>\n",
       "    .dataframe tbody tr th:only-of-type {\n",
       "        vertical-align: middle;\n",
       "    }\n",
       "\n",
       "    .dataframe tbody tr th {\n",
       "        vertical-align: top;\n",
       "    }\n",
       "\n",
       "    .dataframe thead th {\n",
       "        text-align: right;\n",
       "    }\n",
       "</style>\n",
       "<table border=\"1\" class=\"dataframe\">\n",
       "  <thead>\n",
       "    <tr style=\"text-align: right;\">\n",
       "      <th></th>\n",
       "      <th>link</th>\n",
       "    </tr>\n",
       "  </thead>\n",
       "  <tbody>\n",
       "    <tr>\n",
       "      <th>0</th>\n",
       "      <td>https://www.federalreserve.gov/monetarypolicy/...</td>\n",
       "    </tr>\n",
       "    <tr>\n",
       "      <th>1</th>\n",
       "      <td>https://www.federalreserve.gov/monetarypolicy/...</td>\n",
       "    </tr>\n",
       "    <tr>\n",
       "      <th>2</th>\n",
       "      <td>https://www.federalreserve.gov/monetarypolicy/...</td>\n",
       "    </tr>\n",
       "    <tr>\n",
       "      <th>3</th>\n",
       "      <td>https://www.federalreserve.gov/monetarypolicy/...</td>\n",
       "    </tr>\n",
       "    <tr>\n",
       "      <th>4</th>\n",
       "      <td>https://www.federalreserve.gov/monetarypolicy/...</td>\n",
       "    </tr>\n",
       "  </tbody>\n",
       "</table>\n",
       "</div>"
      ],
      "text/plain": [
       "                                                link\n",
       "0  https://www.federalreserve.gov/monetarypolicy/...\n",
       "1  https://www.federalreserve.gov/monetarypolicy/...\n",
       "2  https://www.federalreserve.gov/monetarypolicy/...\n",
       "3  https://www.federalreserve.gov/monetarypolicy/...\n",
       "4  https://www.federalreserve.gov/monetarypolicy/..."
      ]
     },
     "execution_count": 119,
     "metadata": {},
     "output_type": "execute_result"
    }
   ],
   "source": [
    "df_3.head()"
   ]
  },
  {
   "cell_type": "code",
   "execution_count": 120,
   "metadata": {},
   "outputs": [],
   "source": [
    "combined = [df_3, update]\n",
    "df_4 = pd.concat(combined, sort=False).reset_index(drop=True)"
   ]
  },
  {
   "cell_type": "code",
   "execution_count": 121,
   "metadata": {},
   "outputs": [
    {
     "data": {
      "text/plain": [
       "(177, 1)"
      ]
     },
     "execution_count": 121,
     "metadata": {},
     "output_type": "execute_result"
    }
   ],
   "source": [
    "df_4.shape"
   ]
  },
  {
   "cell_type": "code",
   "execution_count": 122,
   "metadata": {},
   "outputs": [
    {
     "data": {
      "text/html": [
       "<div>\n",
       "<style scoped>\n",
       "    .dataframe tbody tr th:only-of-type {\n",
       "        vertical-align: middle;\n",
       "    }\n",
       "\n",
       "    .dataframe tbody tr th {\n",
       "        vertical-align: top;\n",
       "    }\n",
       "\n",
       "    .dataframe thead th {\n",
       "        text-align: right;\n",
       "    }\n",
       "</style>\n",
       "<table border=\"1\" class=\"dataframe\">\n",
       "  <thead>\n",
       "    <tr style=\"text-align: right;\">\n",
       "      <th></th>\n",
       "      <th>link</th>\n",
       "    </tr>\n",
       "  </thead>\n",
       "  <tbody>\n",
       "    <tr>\n",
       "      <th>0</th>\n",
       "      <td>https://www.federalreserve.gov/monetarypolicy/...</td>\n",
       "    </tr>\n",
       "    <tr>\n",
       "      <th>1</th>\n",
       "      <td>https://www.federalreserve.gov/monetarypolicy/...</td>\n",
       "    </tr>\n",
       "    <tr>\n",
       "      <th>2</th>\n",
       "      <td>https://www.federalreserve.gov/monetarypolicy/...</td>\n",
       "    </tr>\n",
       "    <tr>\n",
       "      <th>3</th>\n",
       "      <td>https://www.federalreserve.gov/monetarypolicy/...</td>\n",
       "    </tr>\n",
       "    <tr>\n",
       "      <th>4</th>\n",
       "      <td>https://www.federalreserve.gov/monetarypolicy/...</td>\n",
       "    </tr>\n",
       "  </tbody>\n",
       "</table>\n",
       "</div>"
      ],
      "text/plain": [
       "                                                link\n",
       "0  https://www.federalreserve.gov/monetarypolicy/...\n",
       "1  https://www.federalreserve.gov/monetarypolicy/...\n",
       "2  https://www.federalreserve.gov/monetarypolicy/...\n",
       "3  https://www.federalreserve.gov/monetarypolicy/...\n",
       "4  https://www.federalreserve.gov/monetarypolicy/..."
      ]
     },
     "execution_count": 122,
     "metadata": {},
     "output_type": "execute_result"
    }
   ],
   "source": [
    "df_4.head()"
   ]
  },
  {
   "cell_type": "code",
   "execution_count": 131,
   "metadata": {},
   "outputs": [
    {
     "data": {
      "text/plain": [
       "\"\\n\\n\\n  \\nPrepared at the Federal Reserve Bank of  Philadelphia and based on information collected on or before January 4, 2010.  This document summarizes comments received from businesses and other contacts  outside the Federal Reserve and is not a commentary on the views of Federal  Reserve officials.\\n\\nReports from the twelve Federal Reserve Districts indicated that while economic activity remains at a low level, conditions have improved modestly further, and those improvements are broader geographically than in the last report. Ten Districts reported some increased activity or improvement in conditions, while the remaining two--Philadelphia and Richmond--reported mixed conditions. The last Beige Book reported eight Districts with increased activity or improving conditions and four Districts showing little change and/or mixed conditions.\\nMost Districts reported that consumer spending in the recent 2009 holiday season was slightly greater than in 2008, but still far below 2007 levels. Retail inventory levels remain very lean in nearly all Districts. Auto sales held steady or increased slightly since the last Beige Book in most Districts. Reports on tourism were mostly flat or weak, but for two Districts whose ski resorts enjoyed early season snowstorms. Nonfinancial services activity generally improved in Districts that reported on this sector. Of five Districts reporting transportation services, volumes were slightly up or mixed. Manufacturing activity has increased or held steady since the last report in most Districts. Among Districts reporting on near-term expectations, the manufacturing outlook was optimistic, but spending plans remain cautious.\\nToward the end of 2009, home sales increased in most Districts, especially for lower-priced homes. Home prices appeared to have changed little since the last Beige Book, and residential construction remained at low levels in most Districts. Commercial real estate was still weak in nearly all Districts with rising vacancy rates and falling rents. Since the last report, loan demand continued to decline or remained weak in most Districts, while credit quality continued to deteriorate. Cold weather at the end of the year adversely affected some late crops and stressed livestock, but above-average yields for early crops were reported by some Districts. Energy-related production has risen moderately since the last Beige Book.\\nAlthough some hiring was reported in a few Federal Reserve Districts, labor market conditions remained generally weak with modest wage increases appearing in just a few Districts. Price pressures remained subdued in nearly all Districts, though increases in metals prices were reported and agricultural prices have been mixed.\\nConsumer Spending and Tourism\\nConsumer spending in the recent 2009 holiday season was modestly greater than in 2008 for eight Districts, although as retailers in the Philadelphia and San Francisco Districts noted, 2008 sales were so low compared with 2007, that the relatively small 2009 gains did not represent a significant shift in trend. Consumers were variously described as cautious, price sensitive, and focused on necessities, but sometimes willing to spend on discretionary purchases. Kansas City and New York reported holiday sales comparable to prior year sales, while Cleveland and Richmond reported weaker holiday sales in 2009 than in 2008. Entering the holiday period, retail inventories were maintained or lowered further to lean levels in the Atlanta, Boston, Chicago, Cleveland, and New York Districts. Some Chicago retailers reported running out of high-demand items during the holiday season, but inventory levels rose slightly in the Kansas City District.\\nAuto sales were flat or up slightly for some dealers since the last Beige Book in the Atlanta, Chicago, Cleveland, and Philadelphia Districts. Dealer incentives boosted year-end inventory clearance according to Chicago District contacts. In the Dallas, Minneapolis, New York, and San Francisco Districts auto sales held steady or were mixed across states. The Kansas City and Richmond Districts reported lower auto sales since the last report. Some dealers in the Cleveland and New York Districts cited difficulties securing floor-plan financing. Difficulties securing customer financing was a concern cited by some Kansas City District dealers, while Philadelphia District dealers credited easier financing for supporting their recent sales.\\nEarly-season snowstorms gave ski resorts a big lift in the Richmond and Minneapolis Districts; otherwise travel and tourism reports were mostly flat or weak in these and other Districts. One Minnesota-based travel services firm shut down due to lack of demand, and Richmond's tourism contacts reported consumers searching for deeply discounted packages and dining out less despite special offers. The New York, Atlanta, and Kansas City Districts also reported flat or weaker tourism. New York City's Broadway theaters reported weaker attendance this past holiday season than in 2008. Atlanta reported sluggish tourism throughout their District, but expected a boost from hosting upcoming National Football League events, and from strong 2010 cruise line bookings--a result of deep discounting. Kansas City and San Francisco noted sluggish business travel, placing downward pressure on airline passenger volumes, while Dallas reported airline demand recovering and fares stabilizing. The San Francisco District reported greater visitor volumes in Hawaii and Las Vegas, while occupancy rates in Seattle and Southern California were down.\\nNonfinancial Services\\n\\tDistricts reporting on nonfinancial services generally indicated an upward trend in activity, although in some areas reports were mixed. Boston reported widespread positive activity in advertising, consulting, private equity firms, healthcare, biotechnology, education, and government services. High-tech service firms reported favorable conditions in Kansas City. New York reported a general pickup in activity. Health care providers reported increased demand in the San Francisco District, while professional services, especially advertising and accounting weakened. The Minneapolis District also reported mixed results across sectors, while activity in the Richmond District was generally down. Hiring through staffing firms was reported up in New York, Cleveland, Chicago, and Dallas with office and health care workers in greatest demand. Direct firm hiring was reported up in the St. Louis District, flat in Dallas, flat to down in New York, and down in Richmond.\\nAmong the five Districts reporting on transportation services, activity was mostly up slightly, or mixed. Freight shipping volumes were up slightly in the Atlanta, Cleveland, and Dallas Districts, while Kansas City reported a slight slowdown in activity. The Richmond District's port activity gained from increased international trade, especially imports of high-end vehicles, but intermodal firms in the Dallas District reported that imports dropped and exports flattened producing no increase in cargo volumes. Dallas also reported continued declines in rail cargo volume.\\nManufacturing\\nManufacturing activity has improved since the last report in six Districts. New York reported a general pickup in activity, broad optimism, and some increase in employment. Production was stable or slightly up in the Cleveland District. Firms in the Cleveland District expect greater export opportunities going forward, but steel firms expect slow growth in overall demand. Manufacturers in the Chicago District cited gains at firms tied to the auto industry and those benefiting from an increase in exports to Asia. Firms in the Boston District also cited Asian exports as well as defense work as sources of their positive demand, but identified weak demand for exports to Europe and for products related to energy sectors and commercial construction. San Francisco reported a modest net improvement in manufacturing activity, with semiconductors strengthening and aircraft and parts stabilizing at moderate levels. Metal fabricators and housing products have also stabilized, but at very low levels.\\nThree Districts reported mixed results for manufacturing. Food products, furniture, and chemical firms reported slight increases in the Philadelphia District while other manufacturing sectors continued to decline. Dallas reported strength in high-tech and corrugated packaging, seasonal increases in food producers, little change in fabricated metals and petrochemicals, seasonal decreases in aircraft components, and weaknesses in emergency vehicles and construction-related manufacturing. The Minneapolis District reported manufacturing activity up in Minnesota, but down in the Dakotas based on a recent survey of new orders.\\nManufacturing activity was weak in the other Districts. Richmond reported widespread weakness across shipments, new orders, and employment within its manufacturing sector and Atlanta saw orders and production drop back after an increase in November. The St. Louis District reported a continued decline in activity, persistent weakness in employment, and plant closings, on net.\\nManufacturers' expectations for the near future as reported from the Boston, Chicago, Cleveland, Kansas City, New York, and Philadelphia Districts were all optimistic, although Kansas City firms were less optimistic than the last report. Capital spending plans remained more cautious. Only Boston and Philadelphia reported that firms were planning to increase capital spending in the current year. Cleveland, Chicago, and Kansas City reported expectations of continued modest spending.\\nReal Estate and Construction\\n\\tHomes sales increased toward the end of 2009 in most Federal Reserve Districts, except San Francisco, where demand for housing has been steady, and Kansas City, where residential real estate activity has eased since the last Beige Book. In New York, Richmond, and Atlanta, residential real estate activity was described as mixed across areas of the District. In the Atlanta District, existing home sales increased, but new home sales decreased. In all Districts, sales of lower-priced homes tended to increase proportionately more than sales of higher-priced homes, due at least in part to the first-time buyer federal tax credit, according to real estate contacts.  In several Districts real estate contacts reported that the original expiration date for the credit boosted sales in November and led to a more than usual slowdown in sales in December. However, some contacts noted that the extension of the credit into 2010 could give an added impetus to the expected seasonal sales upturn this spring. Residential construction activity remained at low levels in most Districts, although home building was reported to have increased in the Chicago and Minneapolis Districts. Home prices appeared to have changed little since the last Beige Book, overall. Boston, Philadelphia, and Cleveland reported declines in home prices since the last Beige Book. Richmond reported nearly steady prices. Dallas reported some firming in prices.\\nNonresidential real estate conditions remained soft in nearly all Districts. New York, Philadelphia, Kansas City, and San Francisco reported further weakening in demand for commercial and industrial space. Boston received mixed reports on sales and leasing activity from commercial real estate contacts in the District, and Minneapolis reported some increases in sales of commercial buildings. Richmond reported that sales of nonresidential properties remained slow, but that leasing of office and retail space has picked up. Vacancy rates were rising and rents were declining in most Districts. Several Districts reported that landlords were focused on tenant retention and that slack demand was allowing tenants to negotiate lease extensions at low rents and with favorable allowances. San Francisco reported that lower rents appeared to be supporting an upturn in leasing in some parts of that District, although vacancy rates continued to rise. Nonresidential construction activity was generally weak in all Districts, although St. Louis reported some gains in construction of education facilities and Cleveland reported a recent increase in nonresidential contracting.\\nBanking and Finance\\n\\tLoan demand continued to decline or remained weak in most Districts. St. Louis, Kansas City, Dallas, and San Francisco noted general declines or soft loan demand.  New York reported declining demand for all types of loans except residential mortgages for which demand has been steady. Philadelphia reported continuing declines for all categories of credit. Cleveland noted declining demand for business loans and underutilization of commercial credit lines. Richmond reported that commercial and industrial loan demand was steady to slightly up since the last Beige Book but still down year-to-year. Chicago noted low utilization of commercial credit lines but an uptick in financing of mergers and acquisitions. Other recent increases were reported for mortgage refinancing in the Atlanta District and auto loans in the Chicago District. San Francisco noted a small improvement in venture capital financing and initial public offerings.\\nA number of Districts reported that credit quality continued to deteriorate. Financial institutions in the New York District reported ongoing increases in delinquencies for all types of loans. Banks in the Philadelphia District reported that delinquencies and defaults continued to rise for all types of loans, although less sharply than at the time of the previous Beige Book. Cleveland received reports of steady consumer credit quality but high and rising commercial loan delinquencies. Kansas City noted year-over-year declines in credit quality among financial institutions in the District, and Dallas and San Francisco reported continued deterioration at financial institutions in their Districts.\\nAgriculture and Natural Resources\\n\\tFederal Reserve District Banks reporting on agricultural conditions generally indicated that cold weather at the turn of the year had adversely affected crops and stressed livestock.  Atlanta noted damage to citrus crops from the cold, and Chicago and Minneapolis reported that winter storms halted corn harvesting, and impeded tillage and fertilizer application. However, Dallas reported that rain improved soil conditions after a dry period in that District. Corn and soybean crop yields before the onset of cold weather and storms were described as above average in the Chicago and Kansas City Districts. Kansas City also reported that the winter wheat crop was progressing normally. San Francisco reported an increase in sales of agricultural products, with a boost from a rise in demand from foreign countries. Agricultural prices have been mixed. Grain and soybean prices were mostly on the rise, according to reports from Chicago and Kansas City. Chicago also reported increased prices for milk and hogs, but a decline in cattle prices.\\nProduction of energy-related materials has risen moderately since the last Beige Book. Atlanta reported that oil production has continued to increase. Minneapolis reported an increase in oil and gas exploration, and Kansas City and Dallas reported increases in drilling. San Francisco noted an increase in extraction of natural gas but a continued low rate of oil extraction. In contrast to generally rising oil and gas production, coal production was reported to have declined by Cleveland and St. Louis, and falling iron mining activity was reported by Minneapolis.\\nEmployment, Wages, and Prices\\n\\tLabor market conditions remained soft in most Federal Reserve Districts, although New York reported a modest pickup in hiring and St. Louis reported that several service-sector firms in that District recently announced plans to hire new workers. In the Richmond District, temporary employment agencies gave mixed reports, but some noted increased demand for administrative and sales workers, laborers, and warehousing and distribution workers. Wage pressures remained subdued in most Federal Reserve Districts, and Atlanta noted continued wage freezes at some employers in that District. However, Boston reported some modest pay increases, and Minneapolis indicated that wages in that District have been level or rising moderately.\\nPrice pressures remained subdued in nearly all Federal Reserve Districts, although increases in metals prices were noted in Boston, Cleveland, Minneapolis, Dallas, and San Francisco. Raw materials prices, other than metals, were reported to be mostly steady, although firms in the New York, Philadelphia, and Chicago Districts noted some increases in the cost of the inputs they use. Agricultural commodity prices were reported on the increase by Chicago, Kansas City, and Dallas. Most Districts reported that retail prices have been steady.\\n\\n\\n\\n\\n\\nReturn to top\\n\\n\\xa0\\xa0\\xa0\\xa0\\xa0\\xa0\\xa0\\nBoston \\n\\n\\n\\n\""
      ]
     },
     "execution_count": 131,
     "metadata": {},
     "output_type": "execute_result"
    }
   ],
   "source": [
    "testurl = 'https://www.federalreserve.gov/fomc/beigebook/2010/20100113/default.htm'\n",
    "rqs = requests.get(testurl)\n",
    "s = BeautifulSoup(rqs.content, 'lxml')\n",
    "body = s.find('td', {'width': '490'})\n",
    "body.text"
   ]
  },
  {
   "cell_type": "code",
   "execution_count": 101,
   "metadata": {},
   "outputs": [
    {
     "data": {
      "text/plain": [
       "'\\n\\n\\r\\nFull Report\\n\\n\\r\\nSummary of Commentary on Current Economic Conditions by Federal Reserve District\\r\\n\\n\\r\\n\\r\\nPrepared at the Federal Reserve Bank of Minneapolis and based on information collected before November 18, 2011. This document summarizes comments received from business and other contacts outside the Federal Reserve System and is not a commentary on the views of Federal Reserve officials.\\r\\n\\r\\n\\r\\n\\n       Overall economic activity increased at a slow to moderate pace since the previous report across all Federal Reserve Districts except St. Louis, which reported a decline in economic activity. District reports indicated that consumer spending rose modestly during the reporting period. Motor vehicle sales increased in a number of Districts, and tourism showed signs of strength. Business service activity was flat to higher since the previous report. Manufacturing activity expanded at a steady pace across most of the country. Overall bank lending increased slightly since the previous report, and home refinancing grew at a more rapid pace. Changes in credit standards and credit quality varied across Districts. Residential real estate activity generally remained sluggish, and commercial real estate activity remained lackluster across most of the nation. Single family home construction was weak and commercial construction was slow. Districts mostly reported favorable agricultural conditions. Activity in the energy and mining sectors increased since the previous report.\\n    \\n    \\n       Hiring was generally subdued, although some firms with open positions reported difficulty finding qualified applicants. Wages and salaries remained stable across Districts. Overall price increases remained subdued, and some cost pressures were reported to have eased.\\n    \\n\\nConsumer Spending and Tourism\\n       District reports indicated that consumer spending increased modestly, on balance, during the reporting period. Kansas City reported that consumer spending strengthened, while retail sales rebounded in Richmond. Gains in retail sales were noted in Philadelphia, Cleveland, Minneapolis, and San Francisco. Boston reported that retailers\\' estimates of 2011 sales were generally more positive than they were at the beginning of October, while same-store sales in New York were mostly on or ahead of plan. Meanwhile, in Dallas, retail sales growth moderated, and Atlanta and St. Louis reported weaker activity. A few Districts noted that recent colder weather had spurred apparel sales. Inventory levels were generally at desired or comfortable levels in New York and Dallas. Retailers in Atlanta continued with tight inventory management practices, and retailers in Richmond were cautious regarding inventory and expansion. In Kansas City, inventories were above year-earlier levels. Holiday sales were generally expected to be flat or to increase modestly over a year ago in Cleveland, Atlanta, St. Louis, Minneapolis, Dallas, and San Francisco. In Philadelphia, high-end, online, and outlet retailers were the most optimistic for holiday sales, while retailers in Chicago expected to use extended promotional periods and heavy discounting to keep traffic volumes steady.\\n    \\n\\n       Motor vehicle sales increased in a number of Districts. Gains in auto sales were noted in Philadelphia, Cleveland, Richmond, Atlanta, St. Louis, and Minneapolis. Chicago also reported gains in sales during October, but noted the pace of sales slowed in November and that dealers suspected consumers may be waiting for potential end-of-year deals. Upstate New York dealers reported that sales were steady to stronger and that dealers\\' service and parts departments continued to perform well. Auto sales were solid in Kansas City, while demand held steady in Dallas. Inventory levels were generally lean or lower than dealers would like in Philadelphia, Cleveland, and St. Louis. In Dallas, vehicle inventories had mostly normalized, while inventory levels increased in Kansas City. Both Philadelphia and Dallas noted supply disruptions for some foreign nameplates due to the flooding in Thailand.\\n    \\n\\n       Tourism showed signs of strength. New York and Atlanta described tourism as robust and strong, while activity increased in Minneapolis and posted moderate improvement in Richmond. Boston noted that the travel and tourism sector continued to see strength in overseas and business travel, while discretionary domestic leisure spending was fueled by the affluent customer. In Richmond, tourism was largely flat, but some contacts were cautiously optimistic about the winter season. Airline contacts in Dallas expected to see stable demand through year-end. Strength in hotel bookings and occupancy were noted in Boston, New York, Richmond, Atlanta, Minneapolis, and San Francisco.\\n    \\n\\nNonfinancial Services\\n       Business service activity was flat to higher since the previous report. Boston, New York, Philadelphia, Minneapolis, and Kansas City reported increased activity. St. Louis was mixed, while Richmond, Chicago, and San Francisco indicated overall flat activity. Dallas reported that demand for staffing services held steady at high levels. St. Louis reported that firms in business support services, medical research services, and transportation services announced plans to expand operations and hire new workers, while contacts in temporary help services, government services, and education services announced plans to decrease operations. San Francisco noted that sales continued to grow for providers of technology services, in particular for software applications used for mobile computing and communication devices.\\n    \\n\\nManufacturing\\n       Manufacturing activity grew at a steady pace across most of the country, with all Districts other than St. Louis reporting increases in orders, shipments, or production. Chicago, St. Louis, and San Francisco reported positive results in metals and fabrication, while Cleveland saw flat steel production and Philadelphia noted decreased demand for primary metals. Cleveland and Chicago reported increased auto production year over year, but Boston noted signs of slower auto component production. Dallas saw steady demand for electronics, computers, and high-technology goods, but San Francisco reported that demand for consumer electronics continued to decrease. Philadelphia, Cleveland, and Chicago saw increased production of energy-related products. For construction-related goods, Chicago and Minneapolis reported declining demand, while Dallas said demand was stable. Overall, St. Louis saw more plant closures than plant openings or expansions. Freight transportation volumes increased in Cleveland, held steady in Atlanta and Kansas City, and were mixed in Dallas.\\n    \\n\\nBanking and Finance\\n       Overall bank lending activity increased slightly since the previous report. New York, Philadelphia, Cleveland, and Kansas City reported increased loan demand. Several Districts reported an increase in home refinancing activity. Richmond reported mixed loan activity. Boston noted plentiful financing and favorable terms for premier properties, while financing remains harder to obtain for riskier properties and for those in secondary and tertiary markets. Chicago, St. Louis, Dallas, and San Francisco noted relatively unchanged loans. Atlanta saw soft loan demand as companies continued to reduce their debt loads and limit expansion and capital improvement plans.\\n    \\n\\n       Changes in credit standards and credit quality varied across Districts. Philadelphia noted that credit quality continued to improve but at a slower rate. Kansas City saw stable or improving loan quality. Dallas noted that the quality of loans outstanding continued to improve, with contacts reporting a decline in problem loans. San Francisco saw a slight improvement in overall credit quality. Cleveland, Chicago, and St. Louis noted relatively unchanged credit quality. Boston, Richmond, and Atlanta saw some tightening of standards. In New York, bankers reported declining delinquency rates for commercial and industrial loans, but no change in delinquencies for other loan categories.\\n    \\n\\nReal Estate and Construction\\n       Overall residential real estate activity increased, but conditions were varied across Districts. Philadelphia, Richmond, Minneapolis, Kansas City, and Dallas noted increased activity. New York, Boston, Cleveland, and San Francisco reported flat activity at relatively low levels. Atlanta and St. Louis indicated decreased sales. Residential construction remained sluggish. Single-family home construction remained weak, while multifamily construction picked up in New York, Philadelphia, Cleveland, Chicago, and Minneapolis. San Francisco remained \"anemic,\" while St. Louis and Kansas City reported decreased activity.\\n    \\n\\n       Commercial real estate markets remained sluggish across most of the nation. Boston, New York, Chicago, Minneapolis, and San Francisco indicated roughly unchanged activity. Atlanta and Kansas City noted slight improvement. Philadelphia and Dallas indicated mixed activity. However, Richmond and St. Louis noted that vacancy rates increased. Commercial construction was somewhat mixed. Cleveland saw steady to slowly improving commercial construction; Chicago and Minneapolis experienced modest to moderate increases. New York and Philadelphia noted generally weak conditions; Richmond and St. Louis reported slow activity, although industrial construction picked up.\\n    \\n\\nAgriculture and Natural Resources\\n       Districts mostly reported favorable agricultural conditions. Harvests were ahead of pace or completed in Richmond, Atlanta, Chicago, Minneapolis, and Kansas City. The corn harvest was even with last year in Chicago and Minneapolis, while soybean production decreased. Wheat production was down dramatically in parts of the Minneapolis District. Corn and soybean yields were above average in the northern portions of the Kansas City District, but drought conditions severely cut crop production in the District\\'s southern regions, and the winter wheat crops were in poor to fair condition. The severe drought in the Dallas District continued but eased slightly. Prices for most agricultural commodities except soybeans remained above year-earlier levels, and farm income increases were reported by Chicago, Minneapolis, and Kansas City. Export demand remains strong for agricultural products, particularly meat, but Dallas reported a recent decrease in demand for grain exports.\\n    \\n\\n       Activity in the energy and mining sectors increased since the previous report. Cleveland, Minneapolis, Kansas City, Dallas, and San Francisco saw increases in oil exploration. Cleveland and Dallas also reported growth in shale gas extraction. Coal production was flat in Cleveland and decreased slightly in St. Louis, though it is still up for the year. Minneapolis reported that more wind energy projects were planned. Mining activity increased in San Francisco and remained at elevated levels in Minneapolis.\\n    \\n\\nEmployment, Wages, and Prices\\n       Hiring was generally subdued, but some firms with open positions reported difficulty finding qualified applicants. Stable employment levels or subdued hiring were mentioned by New York, Philadelphia, Cleveland, Atlanta, Chicago, and Dallas. Assessments of labor market conditions were mixed in Richmond and St. Louis, while labor markets showed some signs of reduced availability of labor in Minneapolis. In Boston, demand for workers at services firms grew, but hiring among manufacturers was limited. In Kansas City, hiring plans among manufacturers remained solid, while expectations of future hiring among manufacturers in Philadelphia nearly doubled. Meanwhile, Boston, Philadelphia, Cleveland, Richmond, Atlanta, and Minneapolis noted that some firms looking to fill open positions were having difficulty finding qualified workers, particularly for high-skilled manufacturing and technical positions. Atlanta noted there was growing concern that the skills of the unemployed were deteriorating.\\n    \\n\\n       Wages and salaries remained stable across Districts, although some exceptions were noted. In Cleveland, wage pressures emerged for truck drivers as the pool of available drivers shrank relative to job openings. Manufacturing wage growth strengthened in Richmond, while hiring stabilized and the average workweek was unchanged. Some wage growth was noted among the highly skilled trades in Atlanta. In Minneapolis, wages increased sharply at some fast food restaurants in western North Dakota. Kansas City reported that some energy and information technology firms raised wages for skilled workers; Dallas reported the same for airlines and a few construction-related manufacturers. San Francisco noted persistent upward pressure on benefit costs, especially for employee health care.\\n    \\n\\n       Overall price increases remained subdued, and some cost pressures were reported to have eased. Boston, Atlanta, Chicago, and Kansas City noted a moderation in input cost pressures. In Cleveland, manufacturers\\' reports on changes in raw materials prices were mixed; the transportation sector noted higher prices for tires, parts, and equipment; and fuel prices exhibited some volatility. Richmond reported that raw materials, retail, and services prices grew at a somewhat faster pace. Restaurants in Kansas City expected higher menu prices due to rising food costs. In Dallas, prices for new cars rose slightly, and staffing and legal services firms noted modest increases in billing rates, but natural gas prices remained low. San Francisco reported a recent uptick in the prices for energy inputs, particularly oil, and for assorted food items at the retail level. Atlanta noted that most businesses had limited ability to pass on increases in input prices from earlier in the year.\\n    \\n\\nReturn to top\\n\\n\\n\\r\\nFirst District--Boston \\r\\n    \\r\\n\\r\\n\\n       Most business contacts in the First District continue to report year-over-year revenue increases, but an uncertain outlook. Responding retailers cite mixed results and increased optimism about 2012; manufacturing contacts, by contrast, say they are uncertain about the outlook even though most current results remain good. Software and IT services companies continue to see good demand growth, while results are mixed, though mostly positive, for staffing firms. Real estate markets remain subdued. With the exception of software and IT services, contacts say their firms are doing mostly replacement hiring; some cite difficulty in filling specific skilled jobs. Cost pressures are said to be modest.\\n    \\n    \\nRetail and Tourism\\n       First District retailers contacted in mid-November express less uncertainty about recent business trends than they did in early October; their estimates of 2011 annual sales are generally more positive and the 2012 outlook is more optimistic than last time. One large retailer selling both durable and nondurable goods reports that third quarter comparable store sales were up 3 percent over 2010:Q3. Another durable goods retailer reports that sales in recent weeks have been almost 5 percent above what they consider the benchmark for a solid sales week. Notably, a couple of contacts who last time expected 2011 sales gains of 4 percent or 6.5 percent from 2010 have now revised their estimates upward to between 7.5 percent and 8 percent. With one exception, responding consumer-goods retailers expect final 2011 sales to range from 6 percent to 8 percent over 2010, but one foresees annual 2011 sales to track 1 percent to 9 percent lower than 2010. Respondents say that consumers are regaining some confidence, although such comments are still tempered with caution, particularly regarding durable goods purchases. Budgeted pay increases range from 2 percent to 3.3 percent. Some contacts report ongoing wholesale price increases, while others say cost increases have moderated.\\n    \\n\\n       The travel and tourism sector continues to see strength in overseas and business travel, while discretionary domestic leisure spending is fueled by the affluent consumer. One weak spot is booking for end-of-the-year holiday parties. Hotel bookings for 2012 remain strong. The September tourism slowdown noted in the last round of calls seems to have been temporary. This contact continues to expect 2011 tourism growth of 5 percent to 8 percent over 2010 and predicts 2012 tourism revenues to be 10 to 12 percent above 2011.\\n    \\n\\nManufacturing and Related Services\\n       The First District manufacturing picture remains mixed. On the whole, contacts report relatively strong performance continuing in recent months, but ongoing concern about potential weakness in the global economy is tempering growth forecasts and leading to only limited capital investment and hiring activity. Of the firms contacted this month, all but one recorded sales growth year-on-year and many report double-digit growth. The growth is broad-based geographically; most firms report strongest growth in Asia, followed by domestic sales, but even Europe results remain fairly robust, despite the sovereign debt crisis. One contact making laboratory instruments commented that \"reports of Europe\\'s demise are premature\" but others are less sanguine about Europe. A major supplier to the auto industry reports a September year-on-year sales decline in Europe of 7 percent, but a year-to-date European sales increase of 11 percent, only slightly less than the almost-13 percent recorded in Asia.\\n    \\n\\n       The pricing picture continues to improve. Materials price increases and shortages that characterized the sector in 2010 are said to have largely subsided. One contact in the chemical business says that input costs are \"falling like a rock\" and attributes the attenuation to China \"putting the brakes on.\" A semiconductor contact says that while the price escalation and shortages of rare-earth elements endemic at the beginning of the year are no longer a problem, prices remain high. A laboratory-instrument maker says that high energy prices are leading them to shift freight from air to ships. In general, contacts say they have little trouble passing price increases on to customers. Respondents who cite falling input prices also report increased downward price pressures on the output side.\\n    \\n\\n       Manufacturers in the First District are hiring in general but not a lot; most report hiring only selectively to fill vacancies. Only one firm is laying off workers. A contact supplying the auto industry had planned to increase headcount 3 percent in 2012 but has now decided to freeze hiring, approving no new positions and abandoning approved but unfilled positions. Several firms cite trouble finding qualified staff, generally for technical positions, with one contact in the industrial motor business saying that larger firms are \"poaching\" machinists from a North Carolina plant. A pharmaceutical firm reports problems finding technical staff and also accountants and other less specialized skills.\\n    \\n\\n       Contacts do not, in general, report any major changes to their capital spending plans. Several firms mention increased expenditure on information technology, including two who are installing new ERP (enterprise resource planning) software systems. One contact in industrial distribution said that the purpose of the increased investment is to \"grow the business without increasing headcount.\" Several firms report significant capital expenditures overseas, generally with the goal of supplying overseas markets.\\n    \\n\\n       The outlook for 2012 is very cloudy. Virtually all of our manufacturing contacts express misgivings. Some are concerned about the crisis in Europe but others express the vague fears that have characterized our conversations over the last 18 months. A contact in the semiconductor industry says there is less \"visibility\" than at any previous juncture. Most firms have not officially revised their forecasts for 2012 and continue to plan for growth. A chemical industry contact says he is \"following his head and not his stomach\" because, by the numbers, 2012 looks promising but his experience and intuition tell him otherwise. A contact in the industrial motor business says that their \"book-to-bill\" ratio is 1.07, so backlog is growing, but he describes himself as \"worried.\"\\n    \\n\\nSoftware and Information Technology Services\\n       New England software and information technology contacts report continued growth, with year-over-year revenue increases ranging from mid-single digits to 20 percent in the most recent quarter. Contacts report upticks in demand across the board, including in the manufacturing, financial, and medical sectors. Increased activity has led all contacts to increase their headcounts relative to a year ago, many by over 5 percent; at the same time, many report continued difficulty in attracting and retaining qualified software engineers, programmers, and sales personnel. Respondents report annual wage increases for most employees between 3 percent and 5 percent, with one firm increasing the wages of software engineers by more. Many contacts express renewed concerns regarding the federal budget and the European debt crisis. Nonetheless, First District software and IT contacts are generally more optimistic than they were three months ago. With strong order pipelines, most are expecting revenue in early 2012 to be 10 percent to 20 percent higher than in early 2011.\\n    \\n\\nStaffing Services\\n       First District staffing contacts report mixed activity through the end of October, with some experiencing downticks and others posting modest increases. Year-over-year revenue changes vary widely, from flat to up by more than 25 percent. Labor demand is generally flat relative to three months ago, although a few contacts report upticks in the software-IT, manufacturing, and legal sectors. Demand for permanent and temporary-to-permanent hiring continues to grow. Supply of high-end labor remains tight in the region, and a few contacts report difficulty finding medical assistants, CNC operators, and welders. Bill rates and pay rates are steady or up slightly, with most contacts attributing increases to more high-end placements as well as a tight supply of skilled workers. First District staffing contacts say they believe that the labor market is performing better in New England than in the nation as a whole; they express hope for more consistent growth in 2012.\\n    \\n\\nCommercial Real Estate\\n       The majority of contacts in the First District describe conditions in commercial real estate markets as roughly unchanged since the last report, although some note small improvements in fundamentals. In Hartford, vacancy rates for Class A downtown office space continue to hover around 20 percent and leasing demand remains muted in light of a flat labor market. In Boston, office leasing activity is roughly steady at a moderate pace, although tenants reportedly lack a sense of urgency to sign deals. Boston\\'s Back Bay and East Cambridge submarkets continue to show strong demand and relatively low vacancy rates, with the result that rents on Class A office space in Back Bay now exceed those for comparable space in Boston\\'s financial district, where vacancy rates remain in the mid-teens. Portland saw modest absorption of retail and Class B office space and in recent weeks amid strong overall leasing volume, while some new vacancies arose in the Class A office market. Leasing demand tapered off in recent weeks in Providence, as suburban Rhode Island experienced a modest uptick in leasing activity.\\n    \\n\\n       The investment sales market remains strong in Boston, as prices edge slightly higher for prime office and apartment buildings. Apartment construction in greater Boston remains very active, with numerous developments in progress and more new buildings in the pipeline, although other construction activity remains limited throughout the region. The lending environment continues to offer plentiful financing--and on increasingly favorable terms--for premier properties, especially in Boston, while financing remains harder to obtain for riskier properties and those in secondary and tertiary markets.\\n    \\n\\nResidential Real Estate\\n       Sales activity in New England for single-family homes and condominiums continues to languish according to contacts throughout the region. Sales figures rose moderately in September compared to a year ago, but these increases reflect several months of dismal sales following the expiration of the tax credit in mid-2010. Respondents say housing market conditions have remained largely unchanged in the last several months. Most contacts characterize the market as stable and consistent, but believe the beginning of a recovery remains fairly distant. While low interest rates have made financing more affordable to qualified homebuyers, contacts report tighter credit standards as a constraint. The median sale price of homes also rose in September from a year earlier in the region, except for Rhode Island, where prices have been below year-earlier levels for several months. October data for the Greater Boston area, by contrast, show a 10.5 percent year-over-year decline in the median sale price of homes.\\n    \\n\\n       Outlooks for the remainder of the year are mixed, with some contacts anticipating 2011 sales falling short of last year and others predicting sales to reach last year\\'s level. Respondents expect relatively stable prices in the coming months, but note the possibility of moderate declines.\\n    \\n\\nReturn to top\\n\\n\\n\\r\\nSecond District--New York \\r\\n\\r\\n\\r\\n\\n       The Second District\\'s economy has continued to grow slowly since the last report, while the labor market has generally been stable. Manufacturers report that general business conditions and employment levels have been steady in recent weeks but that they plan to add workers in the months ahead. Consumer spending has continued to expand at a moderate pace: auto dealers report that sales were steady to stronger in October, non-auto retail contacts report that sales have been on or ahead of plan, and tourism activity has been generally robust. Home sales and prices have generally held steady since the last report, though rental markets continued to strengthen. Commercial real estate markets have shown slight signs of softening. New York City financial firms continue to face adverse business conditions and have announced impending layoffs. Finally, bankers report a pickup in demand for commercial mortgage loans, continued tightening in credit standards, and lower delinquency rates on commercial and industrial loans.\\n    \\n    \\nConsumer Spending\\n       Non-auto retailers report that same store sales were mostly on or ahead of plan in October and the first half of November but little changed from a year earlier. Contacts at major malls in upstate New York indicate that sales activity was mixed in October but appeared to improve in the early part of November. One large retail chain indicates that sales in the region were down slightly from a year earlier in October and early November but still somewhat ahead of plan. Retail inventories are generally said to be at desired levels, while prices are reported to be flat to down slightly. Auto dealers in upstate New York report that sales were steady to stronger in October and that dealers\\' service and parts departments continue to perform well.\\n    \\n\\n       Consumer confidence has weakened noticeably since the last report. Both Siena College\\'s October survey of New York State residents and the Conference Board\\'s survey covering the Middle Atlantic states (NY, NJ, PA) show consumer confidence falling to its lowest level in more than a year. Tourism activity has been generally robust since the last report. Albany-area hotels report strong improvement in occupancy rates in September. New York City hotels report that occupancy rates were steady at about 90 percent in September and October--up modestly from 2010 levels; room rates were up roughly 4 percent from a year earlier in October and total revenues were up about 6 percent. However, Broadway theaters report that attendance fell 5-10 percent below year ago levels in October and early November--in part reflecting fewer shows open this year. Still, total revenues have continued to run ahead of 2010 levels, reflecting double-digit percentage increases in revenues per show.\\n    \\n\\nConstruction and Real Estate\\n       Residential real estate markets have been stable, on balance, since the last report, while home construction activity remains low--particularly for single-family homes. New York City\\'s rental market continues to strengthen: asking rents remained on an upward trend up in October and were up 5 to 10 percent from comparable 2010 levels. Scattered reports from elsewhere in the District also point to strengthening rental markets. Co-op and condo prices in Manhattan and Brooklyn were mostly steady since the last report, while transactions activity dipped in October but turned up in early November. In northern New Jersey, home prices are reported to be down modestly, hampered by a glut of distressed properties; while fewer home mortgages are moving into delinquency status recently, there remains a large overhang of distressed properties. New home construction remains at a low level, with multi-family rental buildings accounting for most new development--in both New York City and northern New Jersey. Buffalo-area Realtors report steady home sales activity but some downward drift in prices; they also note a pickup in traffic at open houses.\\n    \\n\\n       Commercial real estate markets have been steady to slightly weaker since the last report. Office vacancy rates in both midtown and downtown Manhattan ticked up in October; the average asking rent continued to climb, but this is attributed to the fact that much of the space recently coming on the market is in high-priced buildings. A contact in western New York State reports that commercial leasing activity remains flat, while commercial construction activity has picked up slightly but remains sluggish; credit availability continues to be a restraining factor for the market.\\n    \\n\\nOther Business Activity\\n       According to an industry contact, financial sector conditions remain adverse, with several thousand layoffs reportedly in the pipeline in the New York City area. This contact notes that regulatory uncertainty is hampering planning and causing shifts in resources among areas. While securities firms are reducing headcounts overall, they are still hiring in the legal and compliance areas. A major New York City employment agency reports that the job market has held steady since the last report with hiring activity described as moderate in October. Starting salaries have remained stable over the past year.\\n    \\n\\n       Both manufacturers and service-sector firms continue to report stable employment levels but indicate plans to increase headcounts, on balance, over the next six months. Manufacturing firms across New York State report that general business conditions have held steady over the past month, and they express increased optimism about the near term outlook. Non-manufacturing contacts are also increasingly optimistic about the near-term outlook, though less so than manufacturers.\\n    \\n\\nFinancial Developments\\n       Small to medium-sized banks in the District report increased demand for commercial mortgages but no change in demand in other loan categories. Bankers also reported an increase in the demand for refinancing. Respondents report tightening credit standards in all categories except residential mortgages, for which they indicate no change. Tightening of standards was most prevalent for commercial mortgages. Contacts report decreases in spreads of loan rates over costs of funds for all loan categories. Respondents also indicate widespread decreases in average deposit rates. Bankers report declining delinquency rates for commercial and industrial loans, but no change in delinquencies for the other loan categories.\\n    \\n\\nReturn to top\\n\\n\\n\\r\\nThird District--Philadelphia \\r\\n\\r\\n\\r\\n\\n       Business activity in the Third District has returned to a path of slow overall growth since the previous Beige Book. Following unusual weather disruptions from an earthquake, a hurricane, and a tropical storm during late summer, the region was visited again \\x96 this time by a rare early season snowstorm. The weekend storm caused widespread electric utility outages and disrupted business, but the cold weather ultimately triggered shoppers\\' interest for the winter season. Since the last Beige Book, manufacturing activity has grown modestly, but steadily. Retailers reported renewed growth in year-over-year sales. Motor vehicle dealers experienced strong year-over-year sales growth; however, Thailand\\'s recent widespread flooding has caused another supply disruption of auto parts. Third District banks have reported slight growth in loan volume outstanding since the last Beige Book. On balance, new home sales continued below year-ago levels, while construction activity strengthened since the last Beige Book. Reports from commercial real estate contacts were more mixed by sector and location, but slightly positive overall. Service-sector firms reported generally modest growth. Price pressures remained contained for most sectors but continued to strain profit margins in all but a few sectors.\\n    \\n    \\n       Most Third District business contacts had already lowered their expectations over the past few months--projecting slow to flat growth through year-end. Ongoing uncertainty since the previous Beige Book has not significantly altered their outlook. Manufacturers still expect a modest rise in shipments and orders during the next six months. Retailers are hopeful for stronger sales, and auto dealers are uncertain; both have lean inventory plans. Most banking and residential real estate contacts had lowered their expectations before the last Beige Book. Commercial real estate contacts and service-sector firms continue to plan for slow growth; however, uncertainty has increased.\\n    \\n\\nManufacturing\\n       Since the last Beige Book, Third District manufacturers have reported modest increases in new orders and shipments. However, the improvement was uneven across and within sectors. Steady, modest growth was reported by various firms that supply or serve manufacturers. These firms expect continued overall growth from their manufacturing clients, despite citing ongoing small factory closures. Firms experiencing growth often cited business returning from China and India, or other market share gains. Other firms cited growth from Marcellus shale gas activity or from new product launches. Factors cited as impeding growth included underfunded public infrastructure, work going to China and India, and ongoing political uncertainty. The makers of food products, lumber and wood products, and primary metals reported declining product demand. Much of their decline is seasonal; they retained positive expectations.\\n    \\n\\n       Third District manufacturers expect business conditions to improve during the next six months, despite persistent uncertainties. Since the last Beige Book, the general outlook has improved substantially, with few firms expecting a decline, while most are divided between no change and some increase. Expectations of capital spending and future hiring have nearly doubled among area manufacturers.\\n    \\n\\nRetail\\n       Third District retailers reported October sales gains compared with September as well as with year-ago levels. Cold weather and an early snowstorm triggered buying of sweaters and other cold weather gear. Prospects for holiday sales vary with the market segment. High-end, online, and outlet retailers are most optimistic. However, a concern was expressed over supply disruptions to some consumer electronics from the flooding in Thailand. Beyond the holiday season, a conventional mall retail contact expects sales to be down in 2012 from 2011, while an outlet mall contact anticipates new mall openings in the fall of 2012 and in 2013.\\n    \\n\\n       Auto sales continued to grow steadily in October, according to Third District auto dealers. The sellers\\' market also continued \\x96 boosting profits \\x96 as used cars remained scarce and as supply disruptions are recurring for Honda and Toyota, this time from Thailand\\'s floods. Inventories remained lean. Pent-up demand for Japanese models may delay a return to normal price competition until well after supply has normalized.\\n    \\n\\nFinance\\n       Third District bankers have reported slight overall growth in loan volumes since the previous Beige Book. However, one banker described margins being squeezed as banks compete for share in a flat market. Another indicated they were picking up loans as foreign banks retreated from the market. Prompted by low interest rates, the strongest loan growth occurred in commercial real estate, home equities, and home mortgages, especially refinancings. C&I lending was flat. Credit quality continues to improve but at a slower rate. Among Third District bankers interviewed in November, business plans for 2012 assume further modest loan growth and challenging competition within markets.\\n    \\n\\nReal Estate and Construction\\n       Residential building activity has increased somewhat since the previous Beige Book, while reports on existing homes sales indicated no change. Existing sales remain lower than last year\\'s levels. Large print ads recently touted record low interest rates, low prices, and high affordability, possibly prompting the flurry of activity noted by one New Jersey builder. Buyers selected mostly a range of mid- to high-priced build-to-suit homes. These price points were also strong for a Pennsylvania builder as were lower-priced multifamily townhomes aimed at move-up and entry-level buyers. One builder noted that producers of many construction materials have shut down and that the supply stream will require 12 to 18 months to start up again after demand for residential construction picks up. There is no change in the relatively weak outlook among builders and real estate agents.\\n    \\n\\n       Nonresidential real estate sectors reported mixed results with leasing strength in select markets but few gains in construction. Investment interest has strengthened in multifamily properties, while leasing activity grew for trophy office space (desired by large legal firms) and for research facilities (for new and expanding biotechnology firms). Demand for retail space continues to weaken. Public infrastructure spending remains low. Beyond generally weak demand, an architect cites regulatory burdens for permits and financing as barriers. New construction or renovation plans are mostly limited to institutional, life sciences, multifamily, and warehousing sectors in select markets. Some construction activity for warehousing represents site relocations within the three-state region. Construction/maintenance work has also slowed in advance of three anticipated oil refinery shutdowns. The overall outlook for demand of nonresidential space is for continued slow growth.\\n    \\n\\nServices\\n       Third District service-sector firms have reported modest growth since the last Beige Book. Advertising was noted as a little soft with a particular weakness in retail. Freight volumes continue to grow, reaching pre-recession levels, according to a logistics firm. Staffing firms indicated that demand is slowing and that virtually all new placements are on a temporary or contract basis, rather than permanent, full-time hires. High-skilled workers, ranging from welders to new hires with business intelligence skills, remain in short supply. Staffing contacts expected little or no improvement by year\\'s end; one was also less bullish for 2012.\\n    \\n\\nPrices and Wages\\n       Few price changes have been reported since the previous Beige Book. One broad business sector supplier announced widespread price hikes for early December. Pricing power remains favorable for freight shippers and auto dealers. Most other sectors report very tight margins, although cost factors have generally remained flat. A few exceptions include cotton products for retailers and drywall for builders. Many bankers, builders, and leasing agents continued to report expectations for concessions from borrowers, buyers, and renters, respectively. Staffing firms reported no upward pressure on wages.\\n    \\n\\nReturn to top\\n\\n\\n\\r\\nFourth District--Cleveland        \\r\\n\\r\\n\\r\\n\\n       Business activity in the Fourth District expanded at a modest pace since our last report. Manufacturers reported that new orders and production were stable. Single-family home building remained sluggish, while construction of multi-family housing rose. Inquiries to nonresidential builders picked up some, but backlogs are still low. Retail sales increased slightly. Auto dealers described sales of new and used vehicles as very good. Shale gas drilling and production continued to expand. Freight transport volume was stable. The demand for business credit grew moderately, while consumer loan demand was weak.\\n    \\n    \\n       Hiring remains at a low level across almost all industry sectors. Staffing-firm representatives reported modest growth in the number of new job openings and placements, with vacancies concentrated in professional business services and energy. Wage pressures are contained. Respondents noted some upward pressure on prices, especially for metals and petroleum-based products.\\n    \\n\\nManufacturing\\n       New orders and production at District factories were stable along seasonal trends during the past six weeks. Compared to year-ago levels, output was mainly higher. Most of our contacts are cautious in their outlook but expect little change in demand during the upcoming months. Steel producers and service centers reported that shipping volume was steady or slightly lower, with demand being driven by energy and industrial equipment industries. Steel representatives remain hopeful that current volume can be maintained, although some seasonal slowing is expected. District auto production held steady in October on a month-over-month basis. Compared to year-ago levels, output rose moderately, more so for domestic nameplates.\\n    \\n\\n       Manufacturers remain committed to their capital spending plans, with many steel companies expecting to increase outlays during the upcoming months. Capacity utilization remains below normal at most factories, while steel producers saw their utilization rates at or near normal levels. Inventories are in line with sales for a majority of our contacts. Reports on raw materials prices were mixed. Half of our respondents said that prices were steady or declining; others told us that prices continue to rise, but at a slower rate than earlier in the year. Increases were mainly associated with metals and petroleum-based products. Changes in raw materials prices were passed through to customers. New hiring remains at a low level. Those adding to payrolls found it difficult to recruit highly skilled workers. Wage pressures are contained.\\n    \\n\\nConstruction\\n       Single-family home construction remained sluggish, while activity in multi-family housing and remodeling expanded. Sales contracts were mainly in the move-up price-point categories. Several builders reported that difficulty in obtaining financing is preventing them from adding to their spec inventory. Little change is expected in residential building for the next one to two years. Not much difference was seen in the list prices or discounting of new houses since our last report. The pickup in hiring by general contractors that occurred late in the summer has diminished.\\n    \\n\\n       Activity in nonresidential construction for small to medium-size builders was described as steady or slowly improving. While the number of inquiries has picked up recently, the biggest challenge facing builders at this time is adding backlog. One contractor commented that the incubation period for public infrastructure projects can be as long as five years. Construction contracts were primarily in education, manufacturing, energy, and research and development. Looking forward, builders expect modest growth at best during the next six months. We heard several reports of upward pressure on prices for copper and steel, though the price of lumber declined. Construction managers are in the process of laying off seasonal workers.\\n    \\n\\nConsumer Spending\\n       Retailers saw a slight improvement in sales during October, when compared to September\\'s results, with several of our contacts noting a pickup in purchases of cold-weather-related items and home furnishings. Transactions were also ahead of last year\\'s levels, mainly in the mid-single digits. Looking ahead to the holiday shopping season, retailers expect stronger sales on a year-over-year basis. We continued to hear numerous reports about upward pressure on supplier costs, particularly for packaging, fuel, and agricultural commodities. A few retailers reported that suppliers have held off passing through the entire price increase, but they may be less reluctant to do so in 2012. Retailers were also selective about passing through rising prices to consumers. Reports on profit margins were mixed. Capital budgets remain on plan. Most of our contacts said that outlays during 2012 will not change appreciably from this year\\'s levels, and that they will be used mainly for technology enhancements, e-commerce investments, and remodeling. Little change in payrolls is expected at existing stores. Seasonal hiring at some stores will be slightly higher than in 2010.\\n    \\n\\n       Auto dealers characterized new-vehicle sales during October as very good, with most of our contacts reporting higher sales volume when compared to year-ago levels. Demand was strongest for fuel-efficient, less-expensive cars, and crossover vehicles. Inventories continue to be rebuilt but remain below what dealers would like. Dealers are cautious in their outlook due to uncertainty about the economy, and the availability of vehicles that consumers want to buy. Demand for used cars is up substantially since the beginning of October; prices remain elevated. Two dealers noted that there has been a sharp increase in manufacturers\\' incentives, which they attributed to the model-year changeover. The few dealers looking to hire reported that it is difficult to find qualified candidates, especially sales representatives and service technicians.\\n    \\n\\nBanking\\n       Demand for business loans showed a moderate improvement, although a few community bankers observed some weakening. Requests are being driven by energy, manufacturing, multi-family housing, and healthcare. Reports indicate continued downward pressure on interest rates for commercial credit. On the consumer side, our contacts described installment loan activity as flat or down; however, direct and indirect auto lending continued to show strength. Interest rates remain very competitive. Activity in the residential mortgage market has slowed since our last report, with most applicants looking to refinance. Many bankers noted a pickup in the number of applicants who are refinancing into 15-year mortgages. No changes were made to loan application standards. Overall core deposits continue to grow, although several bankers reported that the growth is being driven by business customers. Delinquencies were steady or declined across loan categories; any stress was mainly on the consumer side. Payrolls were stable, with little hiring expected in the near-term.\\n    \\n\\nEnergy\\n       Conventional oil and natural gas production rose moderately during the past six weeks, while drilling was little changed. Our contacts were somewhat uncertain about future activity due to falling prices for natural gas. Well-head prices for oil were fairly stable. Activity in shale-gas extraction continued to expand. One report characterized production from confirmation wells drilled in Ohio\\'s Utica shale as good. Coal output is expected to be stable for the remainder of this year, though increases are possible in 2012 as a result of growing demand from export markets and domestic utilities. There is some uncertainty surrounding utility demand due to abundant supplies of low-priced natural gas and regulatory compliance issues for coal-fired generators. Spot prices for coal showed normal fluctuations. Capital outlays are on target, with moderate increases projected by oil and gas companies in the upcoming months. The cost of production equipment and materials was flat during the past six weeks. Energy payrolls held steady.\\n    \\n\\nTransportation\\n       On balance, freight transport volume was stable over the past six weeks and up slightly on a year-over-year basis. Rising demand was seen from the retail and energy (shale gas and coal) sectors. Our contacts expect volume to grow at a slow, steady pace in the near term. We heard numerous reports of rising prices for tires, parts, and equipment, and of some volatility in fuel prices. Much of the cost increase was recovered via fuel surcharges and rate adjustments when contracts came due. Capital outlays have accelerated during 2011 relative to prior-year levels. Spending is mainly to replace aging equipment and to support demand growth, especially from energy customers. All of our contacts reported hiring for driver replacement or adding capacity, although recruiting qualified drivers was difficult. Wage pressures are emerging due to a tightening of the driver pool.\\n    \\n\\nReturn to top\\n\\n\\n\\r\\nFifth District--Richmond \\r\\n\\r\\n\\r\\n\\n       Recent reports on economic activity in the Fifth District mostly described conditions as either unchanged or slightly improved. The more upbeat reports came from the retail sector, which rebounded in November, and the tourism sector, which continued to post moderate improvement. The agricultural sector also enjoyed a good harvest. Reports on manufacturing activity indicated little change over the last month, following several months of contraction. Likewise, the service sector was generally characterized as being flat, although a few bright spots were noted. Other sectors, including finance and real estate, reported generally mixed conditions. We received a wide variety of reports on the labor market, ranging from lower employment in the retail sector to several firms having trouble finding workers. Retail prices rose more rapidly than in our last report, as did service prices and commodity input prices.\\n    \\n    \\nManufacturing\\n       District manufacturing activity was little changed in November. Our latest survey showed virtually no change in shipments and orders across firms, after having indicated declining activity over the past four months. A furniture manufacturer reported a slight firming of new orders, but noted that cancellations had increased. He added that the net change was small and that uncertainty about the economy was holding back demand. Similarly, a textile mill producer said that his company expanded production to a seven-day workweek in order to accommodate new orders. Unfortunately, they ran out of yarn and cut back to a five-day week until suppliers could catch up. An electrical component producer said that flooding in Thailand had lowered production. He added that his company will have serious trouble meeting his customers\\' orders during the next three-to-six months. Also, an electrical equipment manufacturer cited a significant slowdown in order intake due to uncertain global economic situations. He stated that firms were slowing the rate of their order placement. Raw material prices grew at a somewhat faster pace than a month ago, according to survey respondents, while prices for finished goods grew more slowly.\\n    \\n\\nRetail\\n       Retail sales rebounded in recent weeks, with apparel and department store sales leading the improvement. However, some retail and wholesale contacts remained cautious regarding inventory and expansion. A contact at a large pharmacy in South Carolina and a distributor to department stores both reported solid sales growth. Several auto dealers reported stronger sales. A jeweler in Charlotte, North Carolina remained guarded about the economy, and remarked that he is \"only buying what is necessary.\" In addition, a large chain store for homebuilder supplies plans more expansion overseas than domestically. Retail prices rose at a somewhat faster pace since our last report.\\n    \\n\\nServices\\n       Firms reported generally flat revenues since our last report, although a few contacts indicated that demand strengthened. A Baltimore contact noted that local unemployment had reduced the demand for daycare services, and several advertising firms and telecommunications-related businesses reported little change in demand. In contrast, revenues were up significantly for some restaurateurs in the Charlotte, North Carolina region. In addition, a central North Carolina hospital began to add a broad range of specialty physicians and associated staff, and other District healthcare facilities hired technical personnel to meet changing federal requirements for healthcare facilities. Non-retail services prices rose more rapidly in recent weeks.\\n    \\n\\nFinance\\n       Loan demand in the District continued to be mixed. A major lender in the District reported that small business loans at his bank were improving, with much of the demand stemming from the need to expand production and upgrade office equipment and software. An official for a small bank cited a strengthening commercial loan pipeline, resulting from larger banks in his market area shedding customers. A banker who specializes in export financing noted an uptick in demand, but added that many small businesses were not able to meet the bank\\'s lending standards. Several bankers noted continued strength in mortgage refinancing. However, few lenders were issuing new mortgages, and bottlenecks in the appraisal process were delaying closings. In contrast, a central Virginia banker described loan demand as relatively weak, with most applicants failing to meet qualification standards. And a banker on the Eastern Shore reported that loan demand remained weak, with \"no demand for business expansion loans.\" Several bankers and small commercial contractors stated that getting approval for new construction loans was extremely difficult, due to tight credit standards and a poor outlook for profitability.\\n    \\n\\nReal Estate\\n       Indicators of real estate activity around the District were mixed since our last report. Several Realtors reported that sales activity had increased somewhat but housing prices were about the same or down slightly from a month ago. Brokers in Richmond and Fredericksburg noted many showings but few resulting contracts. Sales in the low price range were generally reported as faring much better than sales in the upper ranges. However, a contact in northern Virginia stated that sales at the upper end of the price range were doing much better in his area. A Realtor in the D.C. area said that his inventory and new listings were down considerably. In addition, a homebuilder in the Carolinas said that existing home sales continued to fall, but added that new home sales were up in Charleston, SC, which he attributed to empty nesters relocating to that area. Also, a custom builder in southern Maryland described his business as enjoying the biggest improvement in demand that he had seen in three years.\\n    \\n\\n       We received varied reports on commercial real estate and construction. While construction was generally weak throughout much of the District, several new manufacturing projects were announced in North Carolina. Smaller projects were being built faster due to abundant labor availability. Contractors reported that refurbishing of commercial properties was up in both Maryland and the Carolinas, but no one was adding new capacity. A general contractor in the Baltimore area reported that he was having his \"best year ever\" after partnering with a larger firm. However, a builder in the Baltimore area said that his market was flat. Also, a Virginia contractor noted that commercial and federal work has dried up in most areas of the state, with D.C. capturing much of what little work there is. A real estate manager in West Virginia reported that office demand in that state was down and construction activity was weak. A developer in North Carolina stated that many developers were running out of cash and that getting bank financing was a challenge. Finally, a Maryland developer noted that BRAC-related work was ending and his company had little backlog.\\n    \\n\\nLabor Markets\\n       Assessments of labor market conditions were mixed since our last report. Several employment agencies reported average-to-somewhat-stronger demand for temporary workers in recent weeks, particularly in the information technology and manufacturing sectors. Finding skilled workers continued to be a major concern. A Virginia contact noted that skill shortages and unwillingness of candidates to move to his area were becoming an increasing problem for his firm. Similarly, a manufacturer in North Carolina stated that his company was \"having a tough time hiring good people.\" He added that many workers would not accept a job because their unemployment benefits were too good. Another agent in North Carolina said mobility issues were a major concern because potential hires could not sell their homes. A builder in West Virginia was fearful that his area was losing critically skilled workers, who will be needed whenever the housing sector recovers. According to our latest survey, hiring was flat at services firms, and wage growth on average slowed. Retailers continued to shed employees, and average retail wages over the last month grew at about the same pace as in October. Hiring by manufacturers stabilized over the last month, while the average workweek was unchanged and wage growth strengthened.\\n    \\n\\nTourism\\n       Contacts generally reported slightly higher hotel bookings in recent weeks. A Myrtle Beach contact stated that higher hotel occupancy rates pushed up revenues, although the revenue gains remained below pre-recession highs. A contact in Annapolis, Maryland stated that local hotel bookings were up, but discounting was prevalent, and while the Annapolis Boat Show was well attended, sales there were light. A Virginia resort hotelier remarked that \"the phones have been flooded, but people are still looking for the best deal.\" Tourism remained solid in other areas as well. For example, a hotel manager at a resort in western Virginia noted that season ski passes were selling at about the same rate as a year ago. Reservations were already being made for other local winter recreational events, and the weeks surrounding Christmas were booked. Contacts at District tourist attractions indicated that attendance rose since our last report. Most contacts reported no change in room rates.\\n    \\n\\nAgriculture\\n       Recent weather conditions allowed farmers to make steady progress in harvesting and small grain planting throughout most of the District. The corn harvest was nearing completion in Virginia and was winding down in Maryland, with farmers in those states saying that yields remained mostly good. The cotton harvest was getting into full swing in North Carolina and was ahead of schedule in South Carolina. In addition, the apple harvest was completed in Maryland and nearly completed in Virginia. Farmers in the District were harvesting their early soybean crop, which was reported to be in fair-to-good condition. Small grains had been planted and were off to a good start in much of the District.\\n    \\n\\n Return to top\\n\\n\\n\\r\\nSixth District--Atlanta*\\r\\n\\r\\n\\r\\n\\n       Sixth District business contacts described the economy as expanding at a modest pace in October through mid-November. Retailers noted sluggish sales growth compared with September; however, auto dealers continued to experience robust sales. Tourism activity remained a bright spot for most of the District. According to homebuilders and real estate brokers, sales of new and existing homes remained weak, and home prices continued to decline compared with September. Commercial real estate contractors and brokers noted a slight improvement in nonresidential activity. Manufacturers reported an increase in new orders but a modest decline in production. Lending conditions remained constrained as weak loan demand from businesses and consumers persisted. Reports from businesses suggest that hiring plans continue to be subdued and remain weighted toward hiring temporary or part-time labor. Most businesses reported a moderation in input cost pressures, but also noted limited ability to pass on increases in commodity and other input prices from earlier in the year.\\n    \\n    \\nConsumer Spending and Tourism\\n       The majority of District retailers reported weaker activity in October through mid-November compared with September. However, most merchants said sales were flat to slightly up compared with a year ago. Inventory levels remained largely unchanged as stores have continued with tight inventory management practices. Retailers anticipate holiday sales to be flat to slightly up compared to the same time last year. Auto sales advanced further, with dealers noting double-digit growth compared with a year ago.\\n    \\n\\n       Tourism activity remained strong across the District. Hotel occupancy and room rates were up and convention bookings remained steady. Cruise line contacts reported full occupancy and increased onboard spending; however, advanced bookings were down as people made reservations closer to departure dates. In Florida, international tourists continued to bolster activity with increases in Latin American visitors offsetting declines in European vacationers. Overall, hospitality firms maintained an optimistic outlook regarding the upcoming holiday season.\\n    \\n\\nReal Estate and Construction\\n       Residential brokers indicated that sales softened in October through mid-November compared with September, but were flat to slightly up compared with weak levels from last year. Several brokers noted that potential buyers continued to face challenges securing financing, while others said that deals were falling through because of changes to appraised values or negative inspection results. Contacts continued to report declining home inventories; however, despite fewer available homes, foreclosures and elevated levels of bank-owned properties continued to put downward pressure on home prices. District brokers anticipate sales growth to be flat over the next several months.\\n    \\n\\n       District homebuilders indicated that new home sales and construction activity were flat to slightly down from the previous month and were slightly below weak levels from a year ago. Homebuilders continued to report that new home prices were largely unchanged compared with the previous month and a year ago. Builders anticipate single-family home construction activity to remain flat over the next several months. New activity in multifamily construction was reported in several District states. Contacts in South Florida signaled that condominium development was expected to get underway soon because of strong demand from foreign investors, many of whom pay with cash. Developers plan to cover costs by requiring a significant upfront payment from the purchasers before construction begins. The outlook for new home sales growth over the next several months was flat to slightly up compared with last year\\'s weak levels.\\n    \\n\\n       The majority of District commercial real estate contacts noted modest improvement in nonresidential construction and leasing activity. Brokers reported that vacancy rates declined and that rents have begun to stabilize across much of the District. Contractors cited a small improvement in construction activity from earlier in the year. Most anticipate commercial real estate conditions to remain largely unchanged over the next several quarters.\\n    \\n\\nManufacturing and Transportation\\n       Overall, District manufacturing activity weakened slightly from October through mid-November. Contacts reported a slight increase in new orders, but production declined modestly. Logistics firms noted that retailers had adopted vendor-managed inventories, requiring the supplier to hold inventories until products were ready to be sold. Some manufacturers indicated they were more likely to produce and distribute on a made-to-order basis rather than taking the chance of being caught with excess inventory.\\n    \\n\\n       Transportation companies reported that demand flattened across most industries. Few expect a significant increase in shipment volumes for the holidays compared with last year. Railway firms cited strong automotive shipments and very strong levels of coal cargoes destined for export. Air cargo carriers noted that they have lowered freight projections for the year because of lower demand and higher fuel costs. A few contacts anticipated modest capacity cuts in the near term.\\n    \\n\\nBanking and Finance\\n       Banking contacts described lending conditions as weak because of a combination of soft loan demand from qualified borrowers and strict regulatory requirements. Companies continued to reduce their debt loads and limited expansion plans and capital improvements.\\n    \\n\\n       An informal poll of our small business contacts revealed that a slim majority of mature firms received all or most of the full amount of money requested, while many young businesses reported applying for credit to expand their business but were either denied or offered unacceptable credit terms. Others were discouraged from applying for credit because of the expectation that they would either be denied or be offered unfavorable terms. Overall, 38 percent of all small businesses polled applied for credit, compared with 32 percent in our Q2 survey.\\n    \\n\\nEmployment and Prices\\n       Contacts suggest that employment plans remained subdued across much of the District. Employers expect hiring to be modest, mostly to fill seasonal positions or critical vacancies caused by attrition. Many contacts noted plans to continue using temporary employees until there is a significant and sustained pickup in demand. Companies also indicated that they did not have any plans to cut employment further; employers felt that they had streamlined their operations as much as possible.\\n    \\n\\n       Firms did express having trouble filling both some low-skilled and highly specialized positions. Regarding the former, many contacts noted that entry-level positions were not being filled because applicants were unable to pass aptitude tests or background checks. As for the latter, many indicated recruiting top performers from other firms instead of drawing from the unemployed population. Overall, there was growing concern that the skills of the unemployed were deteriorating.\\n    \\n\\n       Apart from some reports of increases for highly skilled trades, wage growth remained subdued. Businesses reported a moderation in input cost pressures during October through mid-November. However, with the exceptions of manufacturing and some consumer goods markets, most noted limited ability to pass on increases in commodity and other input prices from earlier in the year. Margins remained tight, as contacts continued to characterize their customers as being very sensitive to upward price adjustments. As a result, most businesses continued to attempt to manage margins by focusing on minimizing their costs.\\n    \\n\\nNatural Resources and Agriculture\\n       Energy industry firms indicated that plans to invest in increased production capacity were proceeding. New drilling technologies have reduced costs and increased extraction capabilities for both oil and gas. In particular, contacts expressed that the cost of unconventional drilling continued to drop, allowing for more efficiencies and the ability to find and extract oil and gas.\\n    \\n\\n       Contacts reported strong overseas demand for proteins and related feeds. Farm land values in the District were mixed; crop land values changed slightly, while pasture land declined in some areas. To varying degrees, drought conditions persisted in much of Georgia, Alabama, Louisiana, and the panhandle of Florida. In Georgia, Louisiana, Mississippi and Tennessee cotton harvesting was ahead of the five-year average, while Alabama was slightly below the average.\\n    \\n\\n* The report for the Sixth District (Atlanta) has been corrected to properly report changes in manufacturing production.\\n    \\n\\nReturn to top\\n\\n\\n\\r\\nSeventh District--Chicago\\r\\n\\r\\n\\n       The pace of economic activity in the Seventh District moderated in October and early November. While contacts generally were cautiously optimistic about the economic outlook, many also expressed concern over the increasingly risk adverse business environment. Consumer spending increased, while business spending was steady. Manufacturing production also increased, with growth leveling off over the reporting period. Construction was again subdued, although nonresidential construction increased slightly. Credit conditions were little changed. Wholesale price increases slowed, but there was some further pass-through to the retail level. Corn, soybean, and cattle prices were up from early October, while milk and hog prices were down.\\n    \\n    \\nConsumer Spending\\n       Consumer spending increased in October and early November. Retailers reported moderate sales growth with consumers responding to an increase in promotions during the reporting period. Contacts expected retailers to use extended promotional periods and heavy discounting in an effort to keep traffic volumes steady over the upcoming holiday shopping season. Auto sales also increased in October, but the sales pace slowed in early November. Dealers indicated that consumers may be waiting to see what end-of-the year deals will be offered; they also were concerned that recent stock market volatility would weigh on consumer confidence and willingness to spend.\\n    \\n\\nBusiness Spending\\n       Business spending was steady in October and early November. Several manufacturers said that they were reluctant to build inventories, as the elevated uncertainty surrounding the European and Asian economies had led them to take a \"hand-to-mouth\" attitude towards ordering. In contrast, contacts generally reported moving ahead with planned purchases of equipment and software. Most, however, indicated that hiring plans remained limited. Labor market conditions deteriorated, with some additional layoffs announced and unemployment in the District edging higher. In addition, growth in billable hours continued to moderate for staffing and professional services, although one staffing firm noted that permanent placements were increasing offsetting some of the decline in the demand for temporary workers.\\n    \\n\\nConstruction and Real Estate\\n       Construction activity was again subdued in October and early November. Residential real estate conditions remained depressed. Builders reported very little new single-family home construction, and showroom traffic was steady at a low level. Multi-family construction was stronger in comparison. Nonresidential construction increased moderately. Contacts cited continued growth in the industrial sector and an uptick in demand for medical and professional office space, while retail construction remained very slow. Commercial real estate conditions were little changed on balance with only a slight decline in vacancy rates reported.\\n    \\n\\nManufacturing\\n       Growth in manufacturing production increased further in October before leveling off in early November. Demand for heavy equipment remained strong, led by robust activity in the energy sector. Contacts expected the growth in demand for equipment to moderate going forward, but also noted that the need to replace aging capital would continue to boost demand into next year. Manufacturers of specialty industrial metals also reported greater activity, driven in large part by the auto sector and exports. Auto production in the District continued to steadily improve, although the recent flooding in Thailand was reported to have challenged supply chains and impeded the recovery of dealer inventories of Japanese vehicles. Several contacts cited concerns that going forward moderately higher production levels would begin to strain capacity in the supply chain. In contrast, capacity utilization in the steel industry decreased, and orders coming into service centers were described as spotty. Furthermore, manufacturers of household appliances and construction materials reported declining demand.\\n    \\n\\nBanking and Finance\\n       Credit conditions were little changed on balance during the reporting period. Volatility in equity markets remained elevated, and some additional flight to quality further boosted the demand for Treasury debt. Contacts noted the bankruptcy filing of MF Global Holdings Ltd. was disruptive for the company\\'s former clients, with missing funds and uncertainty about the status of their futures and options positions limiting their ability to manage risk. Corporate funding costs generally edged lower as spreads narrowed relative to low benchmark interest rates. Banking contacts indicated that business loan demand continued to be muted by clients\\' reluctance to take on growth-oriented projects due to economic and political uncertainty. In addition, the lower liquidity in high yield and term loan markets did not seem to be causing much substitution of leveraged financing from bond and syndicated loan markets into individual bank loans. Business loan quality was noted to be stabilizing, with little additional improvement expected in the near-term.\\n    \\n\\nPrices and Costs\\n       Cost pressures remained elevated, even though raw materials prices declined further in October and early November. Steel prices, in particular, moved lower over the reporting period. Contacts again reported extended lead times for specialty metals. In addition, tires were reported to be in shortage, with a contact indicating tight supplies are likely to persist until new plants come on-line in 2013. Wholesale price increases slowed, but cost pressures remained elevated for food, fabrics, diesel fuel, and shipping. Retailers reported they were absorbing most of these higher costs in their margins, but some pass-through to downstream prices continued. Wage pressures remained moderate.\\n    \\n\\nAgriculture\\n       The corn and soybean harvests were running ahead of pace in the District, though yields were coming in below trend. For the District as a whole, more bushels of corn were harvested than a year ago, but soybean production was down. Crop storage on farms increased, as many farmers are expecting to sell their crops for higher prices in the future. This higher farm storage has led to relatively lighter supplies at grain elevators for this time of year, and end users, including ethanol plants, faced the prospect of higher prices. Corn, soybean, and cattle prices were up from early October, while milk and hog prices were down. With the exception of soybeans, these prices were up from last year, boosting farm incomes. There was another surge in farmland values and cash rental rates for the District.\\n    \\n\\nReturn to top\\n\\n\\n\\r\\nEighth District--St. Louis\\r\\n\\r\\n\\r\\n\\n       The economy of the Eighth District has slowed since our previous report. Manufacturing activity has declined, while reports of activity in the services sector have continued to be mixed. Retail sales in September and October declined slightly over year-earlier levels, and auto sales increased over the same period. Residential real estate market activity has continued to decline, while commercial real estate market conditions have been mixed. Overall lending at a sample of large District banks was unchanged during the three-month period ending in October.\\n    \\n    \\nConsumer Spending\\n       Contacts reported that retail sales in September and October were down slightly, on average, over year-earlier levels. About 46 percent of the retailers saw increases in sales, while 37 percent saw decreases and 17 percent saw no changes. Roughly 57 percent of the retailers reported that sales levels met their expectations, 33 percent reported that sales were below expectations, and 10 percent reported that sales were above expectations. About 17 percent of the retailers reported that their inventories were too high, while 9 percent reported that their inventories were too low. The sales outlook through the end of the year was mostly optimistic: About 58 percent of the retailers expect sales to increase over 2010 levels, while 29 percent expect sales to decrease and 13 percent expect sales to be similar to last year\\'s sales.\\n    \\n\\n       Car dealers in the District reported that sales in September and October were up, on average, compared with last year\\'s sales. About 46 percent of the car dealers surveyed saw increases in sales, while 33 percent saw decreases and 21 percent saw no changes. Twenty-five percent of the car dealers reported that new car sales had increased relative to used car sales, while 21 percent reported the opposite. Roughly 29 percent of contacts reported an increase in sales of low-end vehicles relative to high-end vehicles, while 13 percent reported the opposite. Thirty-three percent of the car dealers surveyed reported that their inventories were too low, while 13 percent reported that their inventories were too high. The sales outlook through the end of the year was somewhat optimistic: 50 percent of the car dealers expect sales to increase over 2010 levels, while 25 percent expect sales to decrease and 25 percent expect sales to be similar to last year\\'s sales.\\n    \\n\\nManufacturing and Other Business Activity\\n       Manufacturing activity has declined since our previous report. Several manufacturers reported plans to close plants and decrease operations in the near future, while a smaller number of contacts reported plans to open plants or expand operations. Firms in the primary metal product, surgical appliance and supplies, small engine, paper, and cleaning compound manufacturing industries announced plans to decrease operations and lay off workers. Additionally, a major firm in the refrigeration equipment manufacturing industry announced plans to close a plant and lay off a large number of workers. In contrast, firms in the fabricated metal product, clothing, appliance, hair care product, and air conditioning manufacturing industries announced plans to hire new employees.\\n    \\n\\n       Reports of activity in the District\\'s services sector have continued to be mixed since our previous survey. Firms in business support services, medical research services, and transportation services announced plans to expand operations and hire new workers. In contrast, contacts in temporary help services, government services, and education services announced plans to decrease operations in the District and lay off employees.\\n    \\n\\nReal Estate and Construction\\n       Home sales continued to decline throughout most of the Eighth District. Compared with the same period in 2010, September 2011 year-to-date home sales were down 5 percent in Memphis, 6 percent in St. Louis, 7 percent in Louisville, and 9 percent in Little Rock. Residential construction also continued to decrease throughout the District. September 2011 year-to-date single-family housing permits decreased in the majority of the District metro areas compared with the same period in 2010. Permits decreased 10 percent in Memphis, 23 percent in St. Louis, 19 percent in Louisville, and 25 percent in Little Rock.\\n    \\n\\n       Commercial and industrial real estate market conditions varied throughout the District. Compared with the second quarter of 2011, third quarter 2011 suburban office vacancy rates increased in Little Rock and Louisville but decreased in St. Louis and Memphis. The downtown office vacancy rates increased in Louisville and St. Louis but decreased in Little Rock and Memphis. Industrial vacancy rates increased in Memphis and St. Louis but decreased in Louisville and remained the same in Little Rock. Commercial construction activity was slow throughout most of the District, while industrial construction showed signs of improvement in some areas. Contacts in southern Indiana noted that commercial construction activity continues to be slow. However, contacts in Evansville, Indiana, noted increased power plant construction projects. Similarly, contacts in south central Kentucky noted industrial plant expansions. Contacts in St. Louis reported continued limited commercial and industrial construction activity and expect mainly build-to-suit projects for the remainder of the year.\\n    \\n\\nBanking and Finance\\n       A survey of senior loan officers at a sample of large District banks indicates little change in overall lending activity in the third quarter of 2011 relative to the second quarter of 2011. Credit standards for commercial real estate loans, residential mortgage loans, and consumer loans remained basically unchanged, while the standards for commercial and industrial loans ranged from basically unchanged to somewhat eased. With the exception of the demand for commercial and industrial loans, which remained unchanged, changes in demand for these loans was mixed. The demand for commercial residential loans and residential mortgage loans ranged from relatively unchanged to moderately weaker. The demand for consumer loans, however, ranged from moderately weaker to moderately stronger.\\n    \\n\\nAgriculture and Natural Resources\\n       Winter wheat planting was ahead of its 5-year average completion rate in the Eighth District states, while the fraction of winter wheat crops rated fair or better was over 90 percent in all states except Mississippi. Monthly output of commercial red meat for September 2011 increased by 3.6 percent compared with September 2010. However, the total live weight and number of chickens slaughtered decreased by over 4 percent between August and September 2011. Year-to-date coal production at the end of October in the Eighth District was 3.8 percent higher in 2011 compared with the same period in 2010. Meanwhile, monthly production for October was 2 percent lower than in October 2010.\\n    \\n\\nReturn to top\\n\\n\\n\\r\\nNinth District--Minneapolis\\r\\n\\r\\n\\r\\n\\n       The Ninth District economy grew moderately since the last report. Strong growth was reported in the agriculture, energy and mining sectors. Modest to moderate growth was noted in consumer spending, tourism, residential and commercial construction, residential real estate and professional services. Activity in commercial real estate was flat, while manufacturing was mixed. Labor markets showed some signs of tightening, while wage increases remained moderate. Prices generally were level.\\n    \\n    \\nConsumer Spending and Tourism\\n       Consumer spending grew moderately. A major Minneapolis-based retailer reported that same-store sales in October increased about 3 percent compared with a year earlier. A Minneapolis area mall reported that recent sales were up between 3 percent and 5 percent, as cooler weather inspired shoppers to buy fall goods. According to the University of St. Thomas Holiday Spending Sentiment Survey, Minneapolis-St. Paul households are predicted to spend 3.4 percent more on holiday gifts than last year. Auto sales in the Minneapolis-St. Paul area increased since the last report, according to a domestic auto dealer. However, a Minnesota-based clothing retailer announced plans to close several stores and reduce its workforce. Preliminary results of the Minneapolis Fed\\'s business outlook poll indicated that respondents expect slight increases in consumer spending in their communities and increased sales of their businesses\\' products and services.\\n    \\n\\n       Tourism activity was up from a year ago. According to officials, momentum from a very good summer tourism season in Montana continued into the fall. Occupancy at Minnesota\\'s hotels and motels increased almost 5 percent during the third quarter compared with a year ago.\\n    \\n\\nConstruction and Real Estate\\n       Commercial construction activity increased modestly since the last report. Respondents to a November Minneapolis Fed ad hoc survey of commercial construction contacts reported an increase in construction activity for health care facilities and industrial buildings. However, the value of commercial building permits in the Sioux Falls, S.D., area was down slightly in October from October 2010. Residential construction increased from last year. Several multifamily construction projects were announced or are under construction in the Minneapolis-St. Paul area. The number of permitted residential units in Minnesota was up in September from a year ago. However, in the Sioux Falls area, the value of residential building permits in October was level with the same period a year earlier.\\n    \\n\\n       Commercial real estate markets were flat. Respondents to the Minneapolis Fed\\'s ad hoc survey noted flat revenues and profits over the past three months. The commercial real estate sector is still very weak, particularly in office space. \"Very little expansion by companies, so the only activity seems to be companies shopping for lower rates,\" commented a Minneapolis-St. Paul area contact. Residential real estate markets grew. Home sales in October were up significantly from the same period a year ago in the Minneapolis-St. Paul area, while the inventory available for sale shrank.\\n    \\n\\nServices\\n       On balance, professional business services firms expect increased activity. Based on results from the business outlook poll, respondents from the services sector expect to increase sales and capital investment in 2012. \"Things generally are better,\" commented a Montana professional services firm.\\n    \\n\\nManufacturing\\n       Manufacturing activity was mixed since the last report. An October survey of purchasing managers by Creighton University (Omaha, Neb.) showed that production increased in Minnesota and North Dakota, but unexpectedly contracted slightly in South Dakota. Bank Directors noted that manufacturing was doing well with some equipment backlogs extending throughout 2012. Producers of storage bins for agricultural use reported strong demand. However, a window maker announced that it will lay off workers due to weak home construction. A large printing operation in Minnesota halted expansion plans due to uncertainty about the economy.\\n    \\n\\nEnergy and Mining\\n       The energy and mining sectors saw continued strong growth. Oil exploration activity increased in Montana since the last report, but decreased slightly in North Dakota. In North Dakota, regulators approved plans for a 105-megawatt wind farm, and three other wind energy projects are under review. A short line railroad reported that it saw strong demand growth from the wind energy and oil drilling sectors. District mines continued to operate at very high capacity utilization rates.\\n    \\n\\nAgriculture\\n       Agricultural conditions remained generally strong. Farm financial conditions were very strong due to high commodity prices. Prices for hogs, cattle, turkeys and eggs increased in October; prices for corn, soybeans and wheat declined, but remain substantially above their year-earlier levels. The harvest went quickly, thanks to recent dry weather. District corn production was roughly even with 2010; however, soybean production was down more than 12 percent. Wheat production was down dramatically in some areas of the District.\\n    \\n\\nEmployment, Wages, and Prices\\n       Labor markets showed some signs of tightening. In a recent survey of Minnesota manufacturers, 45 percent of respondents reported that skilled-worker shortages were a moderate or serious problem, particularly for skilled production and IT workers. A Minnesota recreational vehicle manufacturer reported that it isn\\'t running a plant at capacity because of a surprising shortage of workers. A representative of a Minnesota employment services firm noted robust demand for temporary light industrial positions during September and October; demand for permanent positions was volatile. A South Dakota manufacturer reported difficulty finding qualified workers in order to expand operations. In Montana, a job fair indicated that employers were recruiting recent college graduates with engineering, business and computer science majors. According to the business outlook poll, 36 percent of respondents consider securing workers a challenge or serious challenge in 2012, up from 24 percent in last year\\'s poll.\\n    \\n\\n       Wage increases were moderate. Members of a South Dakota county highway union recently agreed to a 5 percent pay cut in 2012. The business outlook poll shows that 96 percent of respondents expect wages and salaries in their communities to increase no more than 3 percent. However, some fast food restaurants in western North Dakota were offering wages as high as $15 per hour to attract employees.\\n    \\n\\n       Prices generally remained level, although some exceptions were noted. Minnesota gasoline prices continued to decrease since the last report, but were still 54 cents per gallon higher than a year ago. Meanwhile, a South Dakota manufacturer noted that steel prices have softened recently. According to respondents to the business outlook poll, 41 percent expect to increase prices for their businesses\\' products and services in 2012, up from 35 percent last year.\\n    \\n\\nReturn to top\\n\\n\\n\\r\\nTenth District--Kansas City \\r\\n\\r\\n\\r\\n\\n       Growth in the Tenth District economy edged higher in October and early November but remained moderate overall. Consumer spending improved further, and manufacturing activity rose modestly. High-tech firms reported generally strong growth, and the energy industry continued to expand at a robust pace. Bankers reported mostly steady loan demand, better loan quality, and rising deposits. Transportation firms reported stable activity, while agricultural activity was mixed due to varying rainfall and drought conditions across the District. Residential and commercial real estate activity remained sluggish, though some improvements were noted. Prices were generally flat, and wage pressures were limited outside of several skilled labor positions.\\n    \\n    \\nConsumer Spending\\n       Consumer spending strengthened, and expectations improved for the months ahead. Retail sales continued to grow solidly, and the majority of contacts expected continued sales growth in coming months. Sales of apparel and seasonal outerwear were noted as particularly strong, while a few contacts characterized sales of high-end appliances and jewelry items as weak. Store inventories leveled out somewhat but were above year-ago levels in most establishments. Auto sales remained solid, with several dealers reporting high demand for mid-size SUVs and fuel efficient vehicles. Expectations for future auto sales were mostly positive, and auto inventories increased slightly over the previous survey. Restaurant sales improved, with further growth expected in coming months. Tourist activity was largely flat, but some contacts were cautiously optimistic about the upcoming winter season.\\n    \\n\\nManufacturing and Other Business Activity\\n       District manufacturing activity edged higher from the previous survey, and expectations rebounded after easing somewhat the past few months. Factory orders slowed slightly, but shipments increased and hiring plans remained solid. Plant managers indicated moderate growth in capital spending plans. Transportation firms noted generally stable conditions, but expectations for future activity increased over the previous survey and capital spending plans were positive. The majority of high-tech services firms reported strong growth in sales and expected this trend to continue. Future capital expenditure plans at high-tech firms remained solid.\\n    \\n\\nReal Estate and Construction\\n       Residential and commercial real estate activity remained generally sluggish in October and early November. Housing starts dropped from the previous survey, with construction of higher-priced homes particularly weak. Expectations for future homebuilding remained slow, and materials were generally available. Sales at residential construction supply firms improved somewhat, driven in part by an increase in remodeling as more consumers updated existing homes. Home sales picked up slightly but remained weak overall. Expectations for future home sales were more positive than in previous months, and home inventories drifted lower as home prices continued to ease in most areas. Mortgage lending activity was positive and remained above year-ago levels, though some contacts reported continued buyer financing difficulties. Commercial real estate activity edged higher from the previous survey, but remained sluggish overall with little further improvement expected. Vacancy rates dropped slightly, though they were expected to rise somewhat in future months. Office prices and rents increased but remained below year-ago levels, and expectations were flat. One contact in Joplin, Missouri noted considerable building activity as a result of the devastating tornado in that area last spring.\\n    \\n\\nBanking\\n       Most bankers reported steady or stronger loan demand, stable or improving loan quality, and increased deposits compared with the previous survey. Overall loan demand increased marginally as demand for commercial and residential real estate loans strengthened, demand for consumer installment loans declined, and demand for commercial and industrial loans weakened slightly. Credit standards remained largely unchanged in all major loan categories, and deposits increased for the seventh straight survey. Bankers generally reported loan quality as steady or improving compared to a year ago, with even more improvement expected for the next six months.\\n    \\n\\nEnergy\\n       Energy activity continued to expand strongly in October and early November. Nearly all contacts reported an increase in drilling activity and were optimistic about the months ahead. Crude oil prices remained favorable for drilling, and one contact noted that overall drilling activity was approaching levels reached before the price collapse in 2008. However, contacts reported that shortages of equipment and labor continued to constrain the rate of increase in exploration to some degree, and one producer said the delay in the Keystone Pipeline project was hindering future growth.\\n    \\n\\nAgriculture\\n       Agricultural activity varied across the District in October and early November. Northern portions of the District, which received ample summer precipitation, reported above average corn and soybean yields at harvest and the majority of Nebraska\\x92s wheat crop emerged in good condition. In contrast, drought conditions severely cut crop production in the District\\x92s southern regions, with Kansas and Oklahoma winter wheat crops in fair or poor condition. Robust export demand continued to boost crop and livestock prices. Farm income rose in areas with bumper harvests, while crop insurance was expected to mitigate losses in cases of poor yields or crop failure. Strong farm income boosted farm loan repayment rates and trimmed demand for operating loans. With rising farm income and strong demand from both farmers and non-farm investors, District farmland values posted another record high, with the strongest gains in the northern Plains.\\n    \\n\\nWages and Prices\\n       Price levels were generally stable, and wage pressures remained mostly contained, outside of a few skilled positions. Manufacturing price pressures moderated somewhat, especially for raw materials, and fewer firms planned to raise selling prices. Prices for construction materials stabilized, and retail prices were also flat as fewer firms expected increases. However, transportation firms reported continued high input prices, and restaurants expected higher menu prices due to rising food costs. Wage pressures were still contained in most industries. However, some firms reported difficulties finding skilled workers and were forced to raise wages, particularly in energy and information technology fields. Hiring plans were generally solid for most firms, particularly those in the energy, information technology, and manufacturing sectors.\\n    \\n\\nReturn to top\\n\\n\\nEleventh District--Dallas\\r\\n\\r\\n\\r\\n\\n       The Eleventh District economy grew at a modest pace since the last report. Manufacturing activity held steady or declined, while demand for business services was flat. Activity in the transportation services sector was mixed. Retailers said sales growth moderated. The single-family housing sector saw continued improvement, and activity in the multifamily sector was strong. Office, retail and industrial leasing activity increased, but commercial real estate investment activity remained sluggish. Financial services respondents said overall loan demand was soft during the reporting period. The energy industry continued to expand at a robust pace, while agricultural conditions remained weak. Employment levels were stable at most responding firms and price pressures were mostly subdued.\\n    \\n    \\nPrices\\n       Price pressures were minimal across industries. Most contacts said prices were stable or down, although prices for new cars rose slightly and staffing and legal services firms noted modest increases in billing rates. The majority of respondents reported that raw materials prices were unchanged or down. The exceptions were producers of paper and of food who noted increased prices for some inputs. Contacts in the agricultural sector said cattle prices rose since the last report.\\n    \\n\\n       The price of WTI was near $76 per barrel in early October, and has risen to nearly $100 per barrel. Demand for gasoline has been soft. Diesel demand, in contrast, has strengthened on a year-over-year basis and prices have climbed much faster than gasoline. Prices of petrochemicals and plastics declined due to weak domestic demand and a stronger dollar. Natural gas prices remained low, near $3.50 per thousand cubic feet throughout the survey period.\\n    \\n\\nLabor Market\\n       Most firms reported steady employment levels, although there were reports of slight hiring activity. Staffing firms continued to note high levels of demand. Some oil services firms, primary metals and transportation manufacturers reported moderate employment increases, and said they continue to look for additional workers. Retailers said holiday hiring was ramping up, and one firm noted that they planned on hiring more seasonal workers than last year. Contacts in the auto sales and airline industries noted slight payroll increases. Wage pressures remained minimal, although upward pressure for certain skilled positions was noted by airlines and a few construction-related manufacturers.\\n    \\n\\nManufacturing\\n       Most construction-related manufacturers reported stable demand, although there were reports of stronger sales related to commercial, government and apartment construction projects. Construction-related outlooks were mostly unchanged, but a few contacts said they expect conditions to improve next year.\\n    \\n\\n       Respondents in high-tech manufacturing report that sales have been flat since the last report, with the exception of demand for mobile devices, cloud computing and data storage which continues to increase. Several contacts expect strength in demand for mobile and productivity enhancing devices to accelerate, and thus improve overall activity in the high-tech manufacturing sector by mid 2012, even if global output remains sluggish or weakens. Most respondents said employment levels have held steady and inventories are at desired levels.\\n    \\n\\n       \\xa0\\n    \\n\\n       Overall conditions in the paper products sector were mixed, but all contacts described outlooks as weak. Automobile and aviation equipment manufacturers said sales had softened since the last report but remained significantly up from year-ago levels. Outlooks are optimistic, with contacts expecting sales to remain strong through next year. Food producers reported a seasonal increase in demand, and outlooks were positive, although they are not hiring due to concerns about current economic conditions.\\n    \\n\\n       Contacts described demand as seasonally weak for petrochemicals and plastics. Sales in domestic markets continued to be sluggish. The recent rise in oil prices together with lower petrochemical prices is making Texas\\' natural gas based products more competitive, spurring exports. Refiner margins were strong and over $25 per barrel in October, but have narrowed in recent weeks with the rise in crude prices. Refinery utilization rates were low, as production declined for the fall maintenance period.\\n    \\n\\nRetail Sales\\n       Retail sales growth moderated since the last report but showed continued gains over the comparable period a year ago. Cooler weather spurred winter clothing sales, and one retailer reported strong online sales. Contacts indicated that they are comfortable with level of inventories. Eleventh District retail sales growth trended roughly in-line with the nation over the reporting period, according to two large retailers. Overall, expectations are for modest growth this holiday season.\\n    \\n\\n       Demand for automobiles held steady. Vehicle inventories have mostly normalized from the tsunami-related shortage experienced earlier in the year, but some foreign manufactures have been recently affected by the flooding in Thailand. The used car market continued to be tight. Contacts expect sales to slow seasonally through year end, and then to rise moderately in 2012.\\n    \\n\\nServices\\n       Demand for staffing services held steady at high levels. One contact reported engineering, IT and healthcare as strong sectors, and another mentioned solid demand for steel workers. Outlooks remain cautious but were more optimistic than the previous reporting period, with contacts expecting demand to remain flat or improve by mid-2012. Demand for accounting services was flat, and outlooks were unchanged. Legal firms reported steady demand, with a slight pickup in litigation activity and continued strength in intellectual property, energy and some real-estate related services.\\n    \\n\\n       Reports from transportation service firms were mixed. Railroad firms reported a broad-based increase in shipments during the reporting period, but said that the numbers were somewhat artificially inflated due to capacity coming back online after the flooding in the northern U.S. Overall container volumes declined during the reporting period, and outlooks were slightly less optimistic than the last report. Small parcel shipments rose in October partly due to growth in retail trade activity. Airlines reported solid and steady demand over the past six weeks. A major airline noted that business travelers were more price sensitive than earlier in the year. Domestic demand and travel to Latin America remained strong, but travel to Europe and Asia was weak. Airline contacts expect to see stable demand through year end.\\n    \\n\\nConstruction and Real Estate\\n       Contacts in the housing sector continued to note improvement. Inventories of existing homes fell further since the last report, and new home inventories remained lean. Single-family home sales are better according to contacts, but economic uncertainty is keeping many would-be buyers on the sidelines.\\n    \\n\\n       Apartment demand rose even more since the last report, and contacts are very positive in their outlooks. Some respondents noted increased sales of apartment complexes to investors.\\n    \\n\\n       Contacts that lease to industrial, retail and business firms noted an increase in demand. However, sales of commercial properties were sluggish given the current financial environment.\\n    \\n\\n       \\xa0\\n    \\n\\nFinancial Services\\n       Financial firms reported steady but soft demand for loans. National banks noted strong demand from large corporations but flat or declining middle-market lending activity. Regional banks said loan demand was flat, and loan pricing remained somewhat aggressive. The quality of loans outstanding continued to improve, with contacts noting a decline in problem loans. Outlooks are cautious, although contacts were less pessimistic than they have been over the past few months.\\n    \\n\\nEnergy\\n       Drilling activity remains strong, with 20 new land rigs added in Texas since the last report. Shale-directed activity continues at high levels. Revenues are growing and backlogs remain solid. Activity in the Gulf of Mexico also rose by six rigs, with new permits issued for deep water drilling.\\n    \\n\\nAgriculture\\n       The District remained in drought, although severity lessened slightly in parts of Texas and New Mexico that received some rain in recent weeks. Planting of winter wheat continued at a fairly normal pace but the crop was in poorer condition than last year due to very low soil moisture. Livestock sell-offs continued at a slower pace, as many producers have already liquidated much of their herds. Grain prices fell slightly over the reporting period, largely due to lower export demand. By contrast, cattle prices were higher than six weeks ago and beef exports remained very strong.\\n    \\n\\nReturn to top\\n\\n\\n\\r\\nTwelfth District--San Francisco \\r\\n\\r\\n\\r\\n\\n       Economic activity in the Twelfth District continued to grow at a moderate pace during the reporting period of October through mid-November. Price increases for final goods and services were limited, and upward pressures on wages were subdued overall. Sales of retail items rose further, and demand grew modestly for business and consumer services. District manufacturing activity edged up on balance. Sales continued to grow for agricultural producers, and activity expanded for extractors of energy and other natural resources. Demand for residential and nonresidential real estate remained weak on balance. Contacts from financial institutions reported little or no change in overall loan demand.\\n    \\n    \\nWages and Prices\\n       Price inflation for final goods and services was limited during the reporting period. Contacts noted a recent uptick in the prices for energy inputs, particularly oil, and price increases for assorted food items at the retail level. However, the combination of robust supplier competition and lackluster final demand continued to hold down price pressures for most retail goods and services.\\n    \\n\\n       Upward wage pressures were very modest overall, although contacts noted persistent upward pressure on benefit costs, especially for employee health care. High levels of unemployment and limited demand for new employees kept compensation gains minimal in most regions and sectors. The primary exception was workers in information technology fields, such as software developers, who continued to see high levels of recruiting activity and significant wage increases.\\n    \\n\\nRetail Trade and Services\\n       Retail sales grew further on balance. Modest gains were noted for traditional department stores and discount chains alike, with particular demand strength for small appliances and other inexpensive household products. By contrast, sales were largely unchanged for retailers of major appliances, furniture, and electronics. Sales were largely flat for grocers, and industry contacts noted that they are keeping a close eye on inventories at the start of the holiday season to avoid overstocking. Sales of new automobiles continued to strengthen, with replenished inventories for some Japanese brands supporting sales gains in response to growing consumer demand. For the upcoming holiday retail season, contacts generally expect sales to match or slightly exceed the levels reached during last year\\'s season.\\n    \\n\\n       Demand for business and consumer services was largely stable or slightly improved on balance. Sales continued to grow for providers of technology services, in particular for software applications used for mobile computing and communication devices, although the pace of growth eased a bit further. Energy utilities noted largely stable demand from businesses and households. Demand for professional services, such as legal services and accounting, also was described as largely unchanged. Providers of health-care services reported that demand softened a bit further, as reflected in a slight decline in inpatient admissions and surgical procedures. Activity in the District\\'s travel and tourism industry picked up: contacts in Hawaii noted an uptick in visitor volumes, reversing the slight decline in the prior period, and contacts in San Diego and Las Vegas reported ongoing increases in hotel occupancy rates.\\n    \\n\\nManufacturing\\n       Manufacturing activity in the District firmed a bit further on net during the reporting period of October through mid-November. For manufacturers of semiconductors and other technology products, capacity utilization rates remained quite high; demand growth stayed positive but continued to slow, especially for components used in consumer electronics products. Production activity expanded a bit from existing high levels for makers of commercial aircraft and parts, as modest growth in new orders added to an existing backlog. Activity was largely stable or up slightly for metal fabricators. For petroleum refiners, weak domestic demand for gasoline was offset by robust domestic and export demand for distillate products, notably diesel fuel, holding overall capacity utilization rates near their long-term averages. Production activity continued to expand for food manufacturers, while demand stayed stuck at depressed levels for manufacturers of wood products.\\n    \\n\\nAgriculture and Resource-related Industries\\n       Demand growth and sales were robust for agricultural products, and extraction activity expanded further for minerals and natural resources used for energy production. Orders and sales continued to grow for assorted crops and livestock products, especially for those with extensive export markets. Contacts noted that agricultural input costs remained largely stable, with the exception of significant increases in the cost of fertilizer. Mining activity expanded further, propelled by high price levels for a variety of metals. Extraction activity grew for crude oil, largely in response to robust foreign demand, and demand for natural gas was largely unchanged.\\n    \\n\\nReal Estate and Construction\\n       Home sales and construction remained anemic, and demand for commercial real estate was largely stable but weak. The pace of home sales was quite subdued, with contacts noting that despite low interest rates, relatively strict lending requirements have constrained purchasing activity. As a result of lackluster sales and the large number of financially distressed properties, the pace of home construction stayed depressed and home prices remained flat. By contrast, demand for residential rental units grew further. Demand for commercial real estate remained weak overall, as reflected in elevated vacancy rates and heightened caution by tenants to commit to long-term leases. However, declining vacancy rates were noted for selected geographic areas that are benefiting from growth in the technology sector, primarily the San Francisco Bay Area and Seattle. The vast majority of contacts expect demand in residential and commercial real estate markets to change little in the near term.\\n    \\n\\nFinancial Institutions\\n       Reports from District banking contacts indicated that loan demand was largely unchanged compared with the prior reporting period. With businesses remaining cautious in their approach to capital spending, the volume of new commercial and industrial loans stayed slightly depressed overall. However, reports continued to indicate stiff competition among lenders to extend credit to well-qualified small and medium-sized businesses, which has been creating downward pressure on rates and fees. No changes in demand for consumer credit were noted. Slight improvements in overall credit quality were noted, but lending standards remained relatively restrictive for many types of business and consumer loans. In a departure from prior positive reports, contacts from the venture capital sector reported a slowdown in investment activity and funding.\\n    \\n\\nReturn to top\\n\\n\\n'"
      ]
     },
     "execution_count": 101,
     "metadata": {},
     "output_type": "execute_result"
    }
   ],
   "source": [
    "url_test = 'https://www.federalreserve.gov/monetarypolicy/beigebook/beigebook201111.htm'\n",
    "rqs = requests.get(url_test)\n",
    "s = BeautifulSoup(rqs.content, 'lxml')\n",
    "body = s.find('div', {'id': 'leftText'})\n",
    "body.text"
   ]
  },
  {
   "cell_type": "code",
   "execution_count": 135,
   "metadata": {},
   "outputs": [
    {
     "ename": "AttributeError",
     "evalue": "'NoneType' object has no attribute 'text'",
     "output_type": "error",
     "traceback": [
      "\u001b[0;31m---------------------------------------------------------------------------\u001b[0m",
      "\u001b[0;31mAttributeError\u001b[0m                            Traceback (most recent call last)",
      "\u001b[0;32m<ipython-input-135-193fd5801ced>\u001b[0m in \u001b[0;36m<module>\u001b[0;34m\u001b[0m\n\u001b[1;32m     11\u001b[0m         \u001b[0;31m#print(body.text)\u001b[0m\u001b[0;34m\u001b[0m\u001b[0;34m\u001b[0m\u001b[0;34m\u001b[0m\u001b[0m\n\u001b[0;32m---> 12\u001b[0;31m         \u001b[0mcontent\u001b[0m\u001b[0;34m[\u001b[0m\u001b[0;34m'minutes'\u001b[0m\u001b[0;34m]\u001b[0m \u001b[0;34m=\u001b[0m \u001b[0mbody\u001b[0m\u001b[0;34m.\u001b[0m\u001b[0mtext\u001b[0m\u001b[0;34m\u001b[0m\u001b[0;34m\u001b[0m\u001b[0m\n\u001b[0m\u001b[1;32m     13\u001b[0m \u001b[0;34m\u001b[0m\u001b[0m\n",
      "\u001b[0;32m/anaconda3/lib/python3.7/site-packages/bs4/element.py\u001b[0m in \u001b[0;36m__getattr__\u001b[0;34m(self, key)\u001b[0m\n\u001b[1;32m   1883\u001b[0m         raise AttributeError(\n\u001b[0;32m-> 1884\u001b[0;31m             \u001b[0;34m\"ResultSet object has no attribute '%s'. You're probably treating a list of items like a single item. Did you call find_all() when you meant to call find()?\"\u001b[0m \u001b[0;34m%\u001b[0m \u001b[0mkey\u001b[0m\u001b[0;34m\u001b[0m\u001b[0;34m\u001b[0m\u001b[0m\n\u001b[0m\u001b[1;32m   1885\u001b[0m         )\n",
      "\u001b[0;31mAttributeError\u001b[0m: ResultSet object has no attribute 'text'. You're probably treating a list of items like a single item. Did you call find_all() when you meant to call find()?",
      "\nDuring handling of the above exception, another exception occurred:\n",
      "\u001b[0;31mAttributeError\u001b[0m                            Traceback (most recent call last)",
      "\u001b[0;32m<ipython-input-135-193fd5801ced>\u001b[0m in \u001b[0;36m<module>\u001b[0;34m\u001b[0m\n\u001b[1;32m     14\u001b[0m     \u001b[0;32mexcept\u001b[0m\u001b[0;34m:\u001b[0m\u001b[0;34m\u001b[0m\u001b[0;34m\u001b[0m\u001b[0m\n\u001b[1;32m     15\u001b[0m         \u001b[0mbody\u001b[0m \u001b[0;34m=\u001b[0m \u001b[0msoup\u001b[0m\u001b[0;34m.\u001b[0m\u001b[0mfind\u001b[0m\u001b[0;34m(\u001b[0m\u001b[0;34m'div'\u001b[0m\u001b[0;34m,\u001b[0m \u001b[0;34m{\u001b[0m\u001b[0;34m'id'\u001b[0m\u001b[0;34m:\u001b[0m \u001b[0;34m'leftText'\u001b[0m\u001b[0;34m}\u001b[0m\u001b[0;34m)\u001b[0m\u001b[0;34m\u001b[0m\u001b[0;34m\u001b[0m\u001b[0m\n\u001b[0;32m---> 16\u001b[0;31m         \u001b[0mcontent\u001b[0m\u001b[0;34m[\u001b[0m\u001b[0;34m'minutes'\u001b[0m\u001b[0;34m]\u001b[0m \u001b[0;34m=\u001b[0m \u001b[0mbody\u001b[0m\u001b[0;34m.\u001b[0m\u001b[0mtext\u001b[0m\u001b[0;34m\u001b[0m\u001b[0;34m\u001b[0m\u001b[0m\n\u001b[0m\u001b[1;32m     17\u001b[0m \u001b[0;34m\u001b[0m\u001b[0m\n\u001b[1;32m     18\u001b[0m     \u001b[0;32melse\u001b[0m\u001b[0;34m:\u001b[0m\u001b[0;34m\u001b[0m\u001b[0;34m\u001b[0m\u001b[0m\n",
      "\u001b[0;31mAttributeError\u001b[0m: 'NoneType' object has no attribute 'text'"
     ]
    }
   ],
   "source": [
    "fomc_docs = []\n",
    "j = 0\n",
    "for link in df_4.link:\n",
    "    #print(link)\n",
    "    url_3 = link\n",
    "    res_3 = requests.get(url_3)\n",
    "    soup = BeautifulSoup(res_3.content, 'lxml')\n",
    "    content = {}\n",
    "    try:\n",
    "        body = soup.find('div', {'id': 'article'})\n",
    "        #print(body.text)\n",
    "        content['minutes'] = body.text\n",
    "        \n",
    "    except:\n",
    "        body = soup.find('div', {'id': 'leftText'})\n",
    "        content['minutes'] = body.text\n",
    "        \n",
    "    else:\n",
    "        body = soup.find('td', {'width': '490'})\n",
    "        content['minutes'] = body\n",
    "        \n",
    "    fomc_docs.append(content)   \n",
    "        \n",
    "        \n",
    "    if (j + 1) % 10 == 0:\n",
    "        print(f'Extracted {j + 1} of {len(df_4.link)}.')\n",
    "        \n",
    "    j += 1\n",
    "    \n",
    "     \n",
    "beige_book_full = pd.DataFrame(fomc_docs)"
   ]
  },
  {
   "cell_type": "code",
   "execution_count": null,
   "metadata": {},
   "outputs": [],
   "source": []
  }
 ],
 "metadata": {
  "kernelspec": {
   "display_name": "Python 3",
   "language": "python",
   "name": "python3"
  },
  "language_info": {
   "codemirror_mode": {
    "name": "ipython",
    "version": 3
   },
   "file_extension": ".py",
   "mimetype": "text/x-python",
   "name": "python",
   "nbconvert_exporter": "python",
   "pygments_lexer": "ipython3",
   "version": "3.7.1"
  }
 },
 "nbformat": 4,
 "nbformat_minor": 2
}
