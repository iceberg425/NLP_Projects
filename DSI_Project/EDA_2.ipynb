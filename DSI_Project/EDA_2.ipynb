{
 "cells": [
  {
   "cell_type": "code",
   "execution_count": 1,
   "metadata": {},
   "outputs": [],
   "source": [
    "# Imports\n",
    "import numpy as np\n",
    "import pandas as pd\n",
    "import matplotlib.pyplot as plt\n",
    "import seaborn as sns\n",
    "\n",
    "plt.style.use('fivethirtyeight')\n",
    "%matplotlib inline"
   ]
  },
  {
   "cell_type": "code",
   "execution_count": 232,
   "metadata": {},
   "outputs": [],
   "source": [
    "from bs4 import BeautifulSoup \n",
    "from nltk.corpus import stopwords\n",
    "import re\n",
    "\n",
    "import spacy\n",
    "from nltk.tokenize import RegexpTokenizer\n",
    "import nltk"
   ]
  },
  {
   "cell_type": "code",
   "execution_count": 134,
   "metadata": {},
   "outputs": [],
   "source": [
    "national = pd.read_csv('./data/beige_book_national.csv')"
   ]
  },
  {
   "cell_type": "code",
   "execution_count": 135,
   "metadata": {},
   "outputs": [
    {
     "data": {
      "text/html": [
       "<div>\n",
       "<style scoped>\n",
       "    .dataframe tbody tr th:only-of-type {\n",
       "        vertical-align: middle;\n",
       "    }\n",
       "\n",
       "    .dataframe tbody tr th {\n",
       "        vertical-align: top;\n",
       "    }\n",
       "\n",
       "    .dataframe thead th {\n",
       "        text-align: right;\n",
       "    }\n",
       "</style>\n",
       "<table border=\"1\" class=\"dataframe\">\n",
       "  <thead>\n",
       "    <tr style=\"text-align: right;\">\n",
       "      <th></th>\n",
       "      <th>Unnamed: 0</th>\n",
       "      <th>national_report</th>\n",
       "      <th>date</th>\n",
       "    </tr>\n",
       "  </thead>\n",
       "  <tbody>\n",
       "    <tr>\n",
       "      <th>0</th>\n",
       "      <td>0</td>\n",
       "      <td>\\n\\r\\n    var ref = document.referrer;\\r\\n    ...</td>\n",
       "      <td>2019-04</td>\n",
       "    </tr>\n",
       "    <tr>\n",
       "      <th>1</th>\n",
       "      <td>1</td>\n",
       "      <td>\\n\\r\\n    var ref = document.referrer;\\r\\n    ...</td>\n",
       "      <td>2019-03</td>\n",
       "    </tr>\n",
       "    <tr>\n",
       "      <th>2</th>\n",
       "      <td>2</td>\n",
       "      <td>\\n\\r\\n    var ref = document.referrer;\\r\\n    ...</td>\n",
       "      <td>2019-01</td>\n",
       "    </tr>\n",
       "    <tr>\n",
       "      <th>3</th>\n",
       "      <td>3</td>\n",
       "      <td>\\n\\r\\n    var ref = document.referrer;\\r\\n    ...</td>\n",
       "      <td>2018-12</td>\n",
       "    </tr>\n",
       "    <tr>\n",
       "      <th>4</th>\n",
       "      <td>4</td>\n",
       "      <td>\\n\\r\\n    var ref = document.referrer;\\r\\n    ...</td>\n",
       "      <td>2018-10</td>\n",
       "    </tr>\n",
       "  </tbody>\n",
       "</table>\n",
       "</div>"
      ],
      "text/plain": [
       "   Unnamed: 0                                    national_report     date\n",
       "0           0  \\n\\r\\n    var ref = document.referrer;\\r\\n    ...  2019-04\n",
       "1           1  \\n\\r\\n    var ref = document.referrer;\\r\\n    ...  2019-03\n",
       "2           2  \\n\\r\\n    var ref = document.referrer;\\r\\n    ...  2019-01\n",
       "3           3  \\n\\r\\n    var ref = document.referrer;\\r\\n    ...  2018-12\n",
       "4           4  \\n\\r\\n    var ref = document.referrer;\\r\\n    ...  2018-10"
      ]
     },
     "execution_count": 135,
     "metadata": {},
     "output_type": "execute_result"
    }
   ],
   "source": [
    "national.head()"
   ]
  },
  {
   "cell_type": "code",
   "execution_count": 136,
   "metadata": {},
   "outputs": [],
   "source": [
    "national.drop(columns='Unnamed: 0', inplace=True)"
   ]
  },
  {
   "cell_type": "code",
   "execution_count": 137,
   "metadata": {},
   "outputs": [
    {
     "data": {
      "text/plain": [
       "(429, 2)"
      ]
     },
     "execution_count": 137,
     "metadata": {},
     "output_type": "execute_result"
    }
   ],
   "source": [
    "national.shape"
   ]
  },
  {
   "cell_type": "markdown",
   "metadata": {},
   "source": [
    "## Data Cleaning"
   ]
  },
  {
   "cell_type": "markdown",
   "metadata": {},
   "source": [
    "### National Summary "
   ]
  },
  {
   "cell_type": "code",
   "execution_count": 139,
   "metadata": {},
   "outputs": [],
   "source": [
    "def html_to_words(raw_text):\n",
    "    # Function to convert a document to a string of words\n",
    "    \n",
    "    # 1. Remove HTML.\n",
    "    document = BeautifulSoup(raw_text).get_text()\n",
    "    \n",
    "    # 2. Remove non-letters.\n",
    "    letters_only = re.sub(\"[^a-zA-Z]\", \" \", document)\n",
    "    \n",
    "    # 3. Convert to lower case, split into individual words.\n",
    "    words = letters_only.lower().split()\n",
    "    \n",
    "    \n",
    "    # 4. In Python, searching a set is much faster than searching\n",
    "    # a list, so convert the stop words to a set.\n",
    "    stops = set(stopwords.words('english')) \n",
    "    extra = ['http','https','www','com','@','...','…', 'var', 'ref', 'document', \n",
    "             'referrer', 'var', 'bbpath', 'href', 'archive', 'function', 'beige',\n",
    "            'book', 'federal', 'reserve', 'summary', 'indexof', 'backtoresults',\n",
    "            'history', 'go', 'else', 'window', 'location', 'back', 'search',\n",
    "            'this', 'report', 'prepared', 'federal', 'reserve', 'bank', 'summarizes',\n",
    "            'january', 'february', 'march', 'april', 'may', 'june', 'july', 'august',\n",
    "            'september', 'october', 'november', 'december', 'atlanta', 'boston', 'chicago',\n",
    "            'cleveland', 'dallas', 'kansas', 'minneapolis', 'york', 'philadelphia', \n",
    "             'richmond', 'san', 'francisco', 'st', 'louis', 'officials', 'comments', \n",
    "             'views', 'commentary', 'national', 'based', 'information', 'collected',\n",
    "             'received', 'contacts', 'outside', 'system']\n",
    "    # 5. Remove stop words.\n",
    "    meaningful_words = [word for word in words if not word in stops and word not in extra]\n",
    "    \n",
    "    # 6. Join the words back into one string separated by space, \n",
    "    # and return the result.\n",
    "    return(\" \".join(meaningful_words))"
   ]
  },
  {
   "cell_type": "code",
   "execution_count": 140,
   "metadata": {},
   "outputs": [
    {
     "data": {
      "text/html": [
       "<div>\n",
       "<style scoped>\n",
       "    .dataframe tbody tr th:only-of-type {\n",
       "        vertical-align: middle;\n",
       "    }\n",
       "\n",
       "    .dataframe tbody tr th {\n",
       "        vertical-align: top;\n",
       "    }\n",
       "\n",
       "    .dataframe thead th {\n",
       "        text-align: right;\n",
       "    }\n",
       "</style>\n",
       "<table border=\"1\" class=\"dataframe\">\n",
       "  <thead>\n",
       "    <tr style=\"text-align: right;\">\n",
       "      <th></th>\n",
       "      <th>national_report</th>\n",
       "      <th>date</th>\n",
       "      <th>clean_text</th>\n",
       "    </tr>\n",
       "  </thead>\n",
       "  <tbody>\n",
       "    <tr>\n",
       "      <th>0</th>\n",
       "      <td>\\n\\r\\n    var ref = document.referrer;\\r\\n    ...</td>\n",
       "      <td>2019-04</td>\n",
       "      <td>overall economic activity economic activity ex...</td>\n",
       "    </tr>\n",
       "    <tr>\n",
       "      <th>1</th>\n",
       "      <td>\\n\\r\\n    var ref = document.referrer;\\r\\n    ...</td>\n",
       "      <td>2019-03</td>\n",
       "      <td>city overall economic activity economic activi...</td>\n",
       "    </tr>\n",
       "    <tr>\n",
       "      <th>2</th>\n",
       "      <td>\\n\\r\\n    var ref = document.referrer;\\r\\n    ...</td>\n",
       "      <td>2019-01</td>\n",
       "      <td>overall economic activity economic activity in...</td>\n",
       "    </tr>\n",
       "    <tr>\n",
       "      <th>3</th>\n",
       "      <td>\\n\\r\\n    var ref = document.referrer;\\r\\n    ...</td>\n",
       "      <td>2018-12</td>\n",
       "      <td>overall economic activity twelve districts rep...</td>\n",
       "    </tr>\n",
       "    <tr>\n",
       "      <th>4</th>\n",
       "      <td>\\n\\r\\n    var ref = document.referrer;\\r\\n    ...</td>\n",
       "      <td>2018-10</td>\n",
       "      <td>overall economic activity economic activity ex...</td>\n",
       "    </tr>\n",
       "  </tbody>\n",
       "</table>\n",
       "</div>"
      ],
      "text/plain": [
       "                                     national_report     date  \\\n",
       "0  \\n\\r\\n    var ref = document.referrer;\\r\\n    ...  2019-04   \n",
       "1  \\n\\r\\n    var ref = document.referrer;\\r\\n    ...  2019-03   \n",
       "2  \\n\\r\\n    var ref = document.referrer;\\r\\n    ...  2019-01   \n",
       "3  \\n\\r\\n    var ref = document.referrer;\\r\\n    ...  2018-12   \n",
       "4  \\n\\r\\n    var ref = document.referrer;\\r\\n    ...  2018-10   \n",
       "\n",
       "                                          clean_text  \n",
       "0  overall economic activity economic activity ex...  \n",
       "1  city overall economic activity economic activi...  \n",
       "2  overall economic activity economic activity in...  \n",
       "3  overall economic activity twelve districts rep...  \n",
       "4  overall economic activity economic activity ex...  "
      ]
     },
     "execution_count": 140,
     "metadata": {},
     "output_type": "execute_result"
    }
   ],
   "source": [
    "# applies the html_to_words function on the minutes column\n",
    "# and creates a new column with clean text\n",
    "\n",
    "national['clean_text'] = national['national_report'].apply(html_to_words)\n",
    "national.head()"
   ]
  },
  {
   "cell_type": "code",
   "execution_count": null,
   "metadata": {},
   "outputs": [],
   "source": [
    "#national['clean_text'][0]"
   ]
  },
  {
   "cell_type": "code",
   "execution_count": 142,
   "metadata": {},
   "outputs": [],
   "source": [
    "# import tokenizer and stemmer\n",
    "from nltk import word_tokenize\n",
    "from nltk.stem import PorterStemmer, WordNetLemmatizer\n",
    "from nltk import word_tokenize"
   ]
  },
  {
   "cell_type": "code",
   "execution_count": 143,
   "metadata": {},
   "outputs": [],
   "source": [
    "# define a function that takes in a text\n",
    "# and tokenizes and stems each word\n",
    "def stem_text(text):    \n",
    "    stm = PorterStemmer()\n",
    "    tokenized = word_tokenize(text)\n",
    "    stem_tokes = []\n",
    "    for toke in tokenized:\n",
    "        stem_tokes.append(stm.stem(toke))\n",
    "    stem_tokes\n",
    "\n",
    "    combined = ''\n",
    "    for stemmed in stem_tokes:\n",
    "        combined += stemmed + ' '\n",
    "    return combined"
   ]
  },
  {
   "cell_type": "code",
   "execution_count": 128,
   "metadata": {},
   "outputs": [],
   "source": [
    "# # define a function that takes in a text\n",
    "# # and tokenizes and lemmatizes that text\n",
    "# def lem_text(text):    \n",
    "#     lem = WordNetLemmatizer()\n",
    "#     tokenizer = RegexpTokenizer('[A-Z]\\w+')\n",
    "#     tokenized = tokenizer.tokenize(text)\n",
    "#     lemmed_tokes = []\n",
    "#     for toke in tokenized:\n",
    "#         lemmed_tokes.append(lem.lemmatize(toke))\n",
    "#     lemmed_tokes\n",
    "\n",
    "#     combined = ''\n",
    "#     for lemmed in lemmed_tokes:\n",
    "#         combined += lemmed + ' '\n",
    "#     return combined"
   ]
  },
  {
   "cell_type": "code",
   "execution_count": 144,
   "metadata": {},
   "outputs": [
    {
     "data": {
      "text/html": [
       "<div>\n",
       "<style scoped>\n",
       "    .dataframe tbody tr th:only-of-type {\n",
       "        vertical-align: middle;\n",
       "    }\n",
       "\n",
       "    .dataframe tbody tr th {\n",
       "        vertical-align: top;\n",
       "    }\n",
       "\n",
       "    .dataframe thead th {\n",
       "        text-align: right;\n",
       "    }\n",
       "</style>\n",
       "<table border=\"1\" class=\"dataframe\">\n",
       "  <thead>\n",
       "    <tr style=\"text-align: right;\">\n",
       "      <th></th>\n",
       "      <th>national_report</th>\n",
       "      <th>date</th>\n",
       "      <th>clean_text</th>\n",
       "      <th>stemmed_text</th>\n",
       "    </tr>\n",
       "  </thead>\n",
       "  <tbody>\n",
       "    <tr>\n",
       "      <th>0</th>\n",
       "      <td>\\n\\r\\n    var ref = document.referrer;\\r\\n    ...</td>\n",
       "      <td>2019-04</td>\n",
       "      <td>overall economic activity economic activity ex...</td>\n",
       "      <td>overal econom activ econom activ expand slight...</td>\n",
       "    </tr>\n",
       "    <tr>\n",
       "      <th>1</th>\n",
       "      <td>\\n\\r\\n    var ref = document.referrer;\\r\\n    ...</td>\n",
       "      <td>2019-03</td>\n",
       "      <td>city overall economic activity economic activi...</td>\n",
       "      <td>citi overal econom activ econom activ continu ...</td>\n",
       "    </tr>\n",
       "    <tr>\n",
       "      <th>2</th>\n",
       "      <td>\\n\\r\\n    var ref = document.referrer;\\r\\n    ...</td>\n",
       "      <td>2019-01</td>\n",
       "      <td>overall economic activity economic activity in...</td>\n",
       "      <td>overal econom activ econom activ increas u eig...</td>\n",
       "    </tr>\n",
       "    <tr>\n",
       "      <th>3</th>\n",
       "      <td>\\n\\r\\n    var ref = document.referrer;\\r\\n    ...</td>\n",
       "      <td>2018-12</td>\n",
       "      <td>overall economic activity twelve districts rep...</td>\n",
       "      <td>overal econom activ twelv district report econ...</td>\n",
       "    </tr>\n",
       "    <tr>\n",
       "      <th>4</th>\n",
       "      <td>\\n\\r\\n    var ref = document.referrer;\\r\\n    ...</td>\n",
       "      <td>2018-10</td>\n",
       "      <td>overall economic activity economic activity ex...</td>\n",
       "      <td>overal econom activ econom activ expand across...</td>\n",
       "    </tr>\n",
       "  </tbody>\n",
       "</table>\n",
       "</div>"
      ],
      "text/plain": [
       "                                     national_report     date  \\\n",
       "0  \\n\\r\\n    var ref = document.referrer;\\r\\n    ...  2019-04   \n",
       "1  \\n\\r\\n    var ref = document.referrer;\\r\\n    ...  2019-03   \n",
       "2  \\n\\r\\n    var ref = document.referrer;\\r\\n    ...  2019-01   \n",
       "3  \\n\\r\\n    var ref = document.referrer;\\r\\n    ...  2018-12   \n",
       "4  \\n\\r\\n    var ref = document.referrer;\\r\\n    ...  2018-10   \n",
       "\n",
       "                                          clean_text  \\\n",
       "0  overall economic activity economic activity ex...   \n",
       "1  city overall economic activity economic activi...   \n",
       "2  overall economic activity economic activity in...   \n",
       "3  overall economic activity twelve districts rep...   \n",
       "4  overall economic activity economic activity ex...   \n",
       "\n",
       "                                        stemmed_text  \n",
       "0  overal econom activ econom activ expand slight...  \n",
       "1  citi overal econom activ econom activ continu ...  \n",
       "2  overal econom activ econom activ increas u eig...  \n",
       "3  overal econom activ twelv district report econ...  \n",
       "4  overal econom activ econom activ expand across...  "
      ]
     },
     "execution_count": 144,
     "metadata": {},
     "output_type": "execute_result"
    }
   ],
   "source": [
    "national['stemmed_text'] = national['clean_text'].apply(stem_text)\n",
    "national.head()"
   ]
  },
  {
   "cell_type": "code",
   "execution_count": null,
   "metadata": {},
   "outputs": [],
   "source": [
    "# national['lemmed_text'] = national['clean_text'].apply(lem_text)\n",
    "# national.head()"
   ]
  },
  {
   "cell_type": "markdown",
   "metadata": {},
   "source": [
    "## Extracting Nouns from Each Document"
   ]
  },
  {
   "cell_type": "code",
   "execution_count": 233,
   "metadata": {},
   "outputs": [],
   "source": [
    "nlp = spacy.load('en') "
   ]
  },
  {
   "cell_type": "code",
   "execution_count": 145,
   "metadata": {},
   "outputs": [],
   "source": [
    "# generate bi_grams of nouns and non-nouns\n",
    "def noun_notnoun(phrase):\n",
    "    doc = nlp(phrase) # create spacy object\n",
    "    token_not_noun = []\n",
    "    notnoun_noun_list = []\n",
    "\n",
    "    for item in doc:\n",
    "        if item.pos_ != \"NOUN\": # separate nouns and not nouns\n",
    "            token_not_noun.append(item.text)\n",
    "        if item.pos_ == \"NOUN\":\n",
    "            noun = item.text\n",
    "\n",
    "    for notnoun in token_not_noun:\n",
    "        notnoun_noun_list.append(notnoun + \" \" + noun)\n",
    "\n",
    "    return notnoun_noun_list"
   ]
  },
  {
   "cell_type": "code",
   "execution_count": 146,
   "metadata": {},
   "outputs": [
    {
     "data": {
      "text/html": [
       "<div>\n",
       "<style scoped>\n",
       "    .dataframe tbody tr th:only-of-type {\n",
       "        vertical-align: middle;\n",
       "    }\n",
       "\n",
       "    .dataframe tbody tr th {\n",
       "        vertical-align: top;\n",
       "    }\n",
       "\n",
       "    .dataframe thead th {\n",
       "        text-align: right;\n",
       "    }\n",
       "</style>\n",
       "<table border=\"1\" class=\"dataframe\">\n",
       "  <thead>\n",
       "    <tr style=\"text-align: right;\">\n",
       "      <th></th>\n",
       "      <th>national_report</th>\n",
       "      <th>date</th>\n",
       "      <th>clean_text</th>\n",
       "      <th>stemmed_text</th>\n",
       "      <th>nouns_notnouns</th>\n",
       "    </tr>\n",
       "  </thead>\n",
       "  <tbody>\n",
       "    <tr>\n",
       "      <th>0</th>\n",
       "      <td>\\n\\r\\n    var ref = document.referrer;\\r\\n    ...</td>\n",
       "      <td>2019-04</td>\n",
       "      <td>overall economic activity economic activity ex...</td>\n",
       "      <td>overal econom activ econom activ expand slight...</td>\n",
       "      <td>[overall activity, economic activity, economic...</td>\n",
       "    </tr>\n",
       "    <tr>\n",
       "      <th>1</th>\n",
       "      <td>\\n\\r\\n    var ref = document.referrer;\\r\\n    ...</td>\n",
       "      <td>2019-03</td>\n",
       "      <td>city overall economic activity economic activi...</td>\n",
       "      <td>citi overal econom activ econom activ continu ...</td>\n",
       "      <td>[overall activity, economic activity, economic...</td>\n",
       "    </tr>\n",
       "    <tr>\n",
       "      <th>2</th>\n",
       "      <td>\\n\\r\\n    var ref = document.referrer;\\r\\n    ...</td>\n",
       "      <td>2019-01</td>\n",
       "      <td>overall economic activity economic activity in...</td>\n",
       "      <td>overal econom activ econom activ increas u eig...</td>\n",
       "      <td>[overall activity, economic activity, economic...</td>\n",
       "    </tr>\n",
       "    <tr>\n",
       "      <th>3</th>\n",
       "      <td>\\n\\r\\n    var ref = document.referrer;\\r\\n    ...</td>\n",
       "      <td>2018-12</td>\n",
       "      <td>overall economic activity twelve districts rep...</td>\n",
       "      <td>overal econom activ twelv district report econ...</td>\n",
       "      <td>[overall activity, economic activity, twelve a...</td>\n",
       "    </tr>\n",
       "    <tr>\n",
       "      <th>4</th>\n",
       "      <td>\\n\\r\\n    var ref = document.referrer;\\r\\n    ...</td>\n",
       "      <td>2018-10</td>\n",
       "      <td>overall economic activity economic activity ex...</td>\n",
       "      <td>overal econom activ econom activ expand across...</td>\n",
       "      <td>[overall activity, economic activity, economic...</td>\n",
       "    </tr>\n",
       "  </tbody>\n",
       "</table>\n",
       "</div>"
      ],
      "text/plain": [
       "                                     national_report     date  \\\n",
       "0  \\n\\r\\n    var ref = document.referrer;\\r\\n    ...  2019-04   \n",
       "1  \\n\\r\\n    var ref = document.referrer;\\r\\n    ...  2019-03   \n",
       "2  \\n\\r\\n    var ref = document.referrer;\\r\\n    ...  2019-01   \n",
       "3  \\n\\r\\n    var ref = document.referrer;\\r\\n    ...  2018-12   \n",
       "4  \\n\\r\\n    var ref = document.referrer;\\r\\n    ...  2018-10   \n",
       "\n",
       "                                          clean_text  \\\n",
       "0  overall economic activity economic activity ex...   \n",
       "1  city overall economic activity economic activi...   \n",
       "2  overall economic activity economic activity in...   \n",
       "3  overall economic activity twelve districts rep...   \n",
       "4  overall economic activity economic activity ex...   \n",
       "\n",
       "                                        stemmed_text  \\\n",
       "0  overal econom activ econom activ expand slight...   \n",
       "1  citi overal econom activ econom activ continu ...   \n",
       "2  overal econom activ econom activ increas u eig...   \n",
       "3  overal econom activ twelv district report econ...   \n",
       "4  overal econom activ econom activ expand across...   \n",
       "\n",
       "                                      nouns_notnouns  \n",
       "0  [overall activity, economic activity, economic...  \n",
       "1  [overall activity, economic activity, economic...  \n",
       "2  [overall activity, economic activity, economic...  \n",
       "3  [overall activity, economic activity, twelve a...  \n",
       "4  [overall activity, economic activity, economic...  "
      ]
     },
     "execution_count": 146,
     "metadata": {},
     "output_type": "execute_result"
    }
   ],
   "source": [
    "national['nouns_notnouns'] = national['clean_text'].apply(noun_notnoun)\n",
    "national.head()"
   ]
  },
  {
   "cell_type": "code",
   "execution_count": 147,
   "metadata": {},
   "outputs": [
    {
     "data": {
      "text/plain": [
       "['reports year',\n",
       " 'twelve year',\n",
       " 'suggest year',\n",
       " 'economic year',\n",
       " 'continued year',\n",
       " 'expand year',\n",
       " 'late year',\n",
       " 'early year',\n",
       " 'indicated year',\n",
       " 'modest year',\n",
       " 'moderate year',\n",
       " 'however year',\n",
       " 'new year',\n",
       " 'reported year',\n",
       " 'overall year',\n",
       " 'compared year',\n",
       " 'previous year',\n",
       " 'improved year',\n",
       " 'mostly year',\n",
       " 'positive year',\n",
       " 'expected year',\n",
       " 'continue year',\n",
       " 'slight year',\n",
       " 'moderate year',\n",
       " 'several year',\n",
       " 'remained year',\n",
       " 'tight year',\n",
       " 'modest year',\n",
       " 'noted year',\n",
       " 'reporting year',\n",
       " 'characterized year',\n",
       " 'fairly year',\n",
       " 'flat year',\n",
       " 'increased year',\n",
       " 'slightly year',\n",
       " 'net year',\n",
       " 'mixed year',\n",
       " 'strong year',\n",
       " 'continued year',\n",
       " 'manufactured year',\n",
       " 'according year',\n",
       " 'saw year',\n",
       " 'uptick year',\n",
       " 'retail year',\n",
       " 'modest year',\n",
       " 'ahead year',\n",
       " 'reports year',\n",
       " 'varied year',\n",
       " 'across year',\n",
       " 'demand year',\n",
       " 'nonfinancial year',\n",
       " 'generally year',\n",
       " 'increased year',\n",
       " 'noted year',\n",
       " 'steady year',\n",
       " 'higher year',\n",
       " 'related year',\n",
       " 'rose year',\n",
       " 'commented year',\n",
       " 'mostly year',\n",
       " 'indicated year',\n",
       " 'residential year',\n",
       " 'real year',\n",
       " 'expanded year',\n",
       " 'although year',\n",
       " 'low year',\n",
       " 'continued year',\n",
       " 'constrain year',\n",
       " 'continued year',\n",
       " 'modest year',\n",
       " 'general year',\n",
       " 'commercial year',\n",
       " 'real year',\n",
       " 'improved year',\n",
       " 'since year',\n",
       " 'last year',\n",
       " 'increased year',\n",
       " 'aside year',\n",
       " 'seasonal year',\n",
       " 'slowing year',\n",
       " 'remained year',\n",
       " 'strong year',\n",
       " 'improved year',\n",
       " 'agricultural year',\n",
       " 'mixed year',\n",
       " 'low year',\n",
       " 'pressured year',\n",
       " 'despite year',\n",
       " 'generally year',\n",
       " 'strong year',\n",
       " 'signs year',\n",
       " 'natural year',\n",
       " 'reports year',\n",
       " 'mixed year',\n",
       " 'expanded year',\n",
       " 'modest year',\n",
       " 'hiring year',\n",
       " 'strongest year',\n",
       " 'noted year',\n",
       " 'new year',\n",
       " 'reported year',\n",
       " 'abated year',\n",
       " 'manufacturing year',\n",
       " 'stable year',\n",
       " 'following year',\n",
       " 'recent year',\n",
       " 'remained year',\n",
       " 'tight year',\n",
       " 'across year',\n",
       " 'varied year',\n",
       " 'across year',\n",
       " 'multiple year',\n",
       " 'hiring year',\n",
       " 'manufacturing year',\n",
       " 'noted year',\n",
       " 'noting year',\n",
       " 'constraining year',\n",
       " 'held year',\n",
       " 'fairly year',\n",
       " 'steady year',\n",
       " 'modest year',\n",
       " 'although year',\n",
       " 'reported year',\n",
       " 'rising year',\n",
       " 'certain year',\n",
       " 'cited year',\n",
       " 'upward year',\n",
       " 'skilled year',\n",
       " 'said year',\n",
       " 'intensified year',\n",
       " 'often year',\n",
       " 'driven year',\n",
       " 'available year',\n",
       " 'competitive year',\n",
       " 'also year',\n",
       " 'caused year',\n",
       " 'retail year',\n",
       " 'prompted year',\n",
       " 'new year',\n",
       " 'increasingly year',\n",
       " 'willing year',\n",
       " 'negotiate year',\n",
       " 'according year',\n",
       " 'also year',\n",
       " 'small year',\n",
       " 'reported year',\n",
       " 'need year',\n",
       " 'previously year',\n",
       " 'dropped year',\n",
       " 'attract year',\n",
       " 'overall year',\n",
       " 'mild year',\n",
       " 'reported year',\n",
       " 'flat year',\n",
       " 'although year',\n",
       " 'slight year',\n",
       " 'noted year',\n",
       " 'among year',\n",
       " 'noted year',\n",
       " 'little year',\n",
       " 'selling year',\n",
       " 'reporting year',\n",
       " 'although year',\n",
       " 'scattered year',\n",
       " 'reports year',\n",
       " 'certain year',\n",
       " 'reported year',\n",
       " 'finished year',\n",
       " 'said year',\n",
       " 'selling year',\n",
       " 'edged year',\n",
       " 'select year',\n",
       " 'retail year',\n",
       " 'incrementally year',\n",
       " 'reducing year',\n",
       " 'reported year',\n",
       " 'deflationary year',\n",
       " 'especially year',\n",
       " 'meat year',\n",
       " 'raised year',\n",
       " 'cited year',\n",
       " 'modest year',\n",
       " 'broader year',\n",
       " 'quite year',\n",
       " 'varied year',\n",
       " 'across year',\n",
       " 'noted year',\n",
       " 'increased year',\n",
       " 'declined year',\n",
       " 'steady year',\n",
       " 'weaker year',\n",
       " 'new year',\n",
       " 'remaining year',\n",
       " 'cited year',\n",
       " 'flat year',\n",
       " 'mixed year',\n",
       " 'also year',\n",
       " 'mixed year',\n",
       " 'accelerated year',\n",
       " 'future year',\n",
       " 'lowered year',\n",
       " 'rose year',\n",
       " 'highest year',\n",
       " 'generally year',\n",
       " 'positive year',\n",
       " 'although year',\n",
       " 'strong year',\n",
       " 'continued year',\n",
       " 'manufactured year',\n",
       " 'looking year',\n",
       " 'across year',\n",
       " 'manufacturing year',\n",
       " 'manufacturing year',\n",
       " 'bright year',\n",
       " 'strong year',\n",
       " 'reported year',\n",
       " 'reported year',\n",
       " 'elevated year',\n",
       " 'growth year',\n",
       " 'fabricated year',\n",
       " 'manufacturing year',\n",
       " 'also year',\n",
       " 'common year',\n",
       " 'seen year',\n",
       " 'fell year',\n",
       " 'weakened year',\n",
       " 'noted year',\n",
       " 'elevated year',\n",
       " 'strong year',\n",
       " 'global year',\n",
       " 'weak year',\n",
       " 'economic year',\n",
       " 'held year',\n",
       " 'several year',\n",
       " 'continued year',\n",
       " 'still year',\n",
       " 'hurting year',\n",
       " 'related year',\n",
       " 'overall year',\n",
       " 'mixed year',\n",
       " 'near year',\n",
       " 'districts year',\n",
       " 'modest year',\n",
       " 'anticipated year',\n",
       " 'mostly year',\n",
       " 'flat year',\n",
       " 'reporting year',\n",
       " 'noted year',\n",
       " 'retail year',\n",
       " 'increased year',\n",
       " 'reporting year',\n",
       " 'although year',\n",
       " 'unseasonably year',\n",
       " 'warm year',\n",
       " 'impacted year',\n",
       " 'cold year',\n",
       " 'new year',\n",
       " 'reduced year',\n",
       " 'spending year',\n",
       " 'international year',\n",
       " 'mixed year',\n",
       " 'declining year',\n",
       " 'noted year',\n",
       " 'increased year',\n",
       " 'noted year',\n",
       " 'mixed year',\n",
       " 'across year',\n",
       " 'according year',\n",
       " 'reporting year',\n",
       " 'new year',\n",
       " 'mentioned year',\n",
       " 'slowed year',\n",
       " 'reporting year',\n",
       " 'noted year',\n",
       " 'steady year',\n",
       " 'said year',\n",
       " 'increased year',\n",
       " 'nonfinancial year',\n",
       " 'demand year',\n",
       " 'nonfinancial year',\n",
       " 'generally year',\n",
       " 'expanded year',\n",
       " 'since year',\n",
       " 'previous year',\n",
       " 'however year',\n",
       " 'new year',\n",
       " 'cited year',\n",
       " 'flat year',\n",
       " 'declining year',\n",
       " 'noted year',\n",
       " 'slowed year',\n",
       " 'slightly year',\n",
       " 'previous year',\n",
       " 'expanded year',\n",
       " 'reporting year',\n",
       " 'demand year',\n",
       " 'high year',\n",
       " 'increased year',\n",
       " 'according year',\n",
       " 'slowed year',\n",
       " 'flat year',\n",
       " 'among year',\n",
       " 'according year',\n",
       " 'noted year',\n",
       " 'optimistic year',\n",
       " 'professional year',\n",
       " 'high year',\n",
       " 'reported year',\n",
       " 'favorable year',\n",
       " 'staffing year',\n",
       " 'grew year',\n",
       " 'improved year',\n",
       " 'slightly year',\n",
       " 'since year',\n",
       " 'prior year',\n",
       " 'strengthened year',\n",
       " 'new year',\n",
       " 'particularly year',\n",
       " 'fort year',\n",
       " 'worth year',\n",
       " 'continued year',\n",
       " 'expand year',\n",
       " 'modest year',\n",
       " 'large year',\n",
       " 'new year',\n",
       " 'said year',\n",
       " 'hiring year',\n",
       " 'brisk year',\n",
       " 'broad year',\n",
       " 'firm year',\n",
       " 'reported year',\n",
       " 'flat year',\n",
       " 'declined year',\n",
       " 'partly year',\n",
       " 'reflecting year',\n",
       " 'weak year',\n",
       " 'excess year',\n",
       " 'lower year',\n",
       " 'related year',\n",
       " 'cited year',\n",
       " 'slight year',\n",
       " 'overall year',\n",
       " 'characterized year',\n",
       " 'mixed year',\n",
       " 'weak year',\n",
       " 'reporting year',\n",
       " 'fell year',\n",
       " 'according year',\n",
       " 'saw year',\n",
       " 'moderate year',\n",
       " 'reported year',\n",
       " 'online year',\n",
       " 'related year',\n",
       " 'rose year',\n",
       " 'underway year',\n",
       " 'approached year',\n",
       " 'according year',\n",
       " 'real year',\n",
       " 'residential year',\n",
       " 'real year',\n",
       " 'expanded year',\n",
       " 'since year',\n",
       " 'prior year',\n",
       " 'expressed year',\n",
       " 'future year',\n",
       " 'fell year',\n",
       " 'markedly year',\n",
       " 'slight year',\n",
       " 'moderate year',\n",
       " 'reported year',\n",
       " 'demand year',\n",
       " 'lower year',\n",
       " 'priced year',\n",
       " 'solid year',\n",
       " 'commented year',\n",
       " 'higher year',\n",
       " 'priced year',\n",
       " 'slowed year',\n",
       " 'new year',\n",
       " 'according year',\n",
       " 'generally year',\n",
       " 'reported year',\n",
       " 'low year',\n",
       " 'declining year',\n",
       " 'restraining year',\n",
       " 'according year',\n",
       " 'continued year',\n",
       " 'rise year',\n",
       " 'modest year',\n",
       " 'across year',\n",
       " 'much year',\n",
       " 'attributed year',\n",
       " 'tight year',\n",
       " 'residential year',\n",
       " 'generally year',\n",
       " 'flat year',\n",
       " 'particular year',\n",
       " 'noted year',\n",
       " 'however year',\n",
       " 'dipped year',\n",
       " 'slightly year',\n",
       " 'partly year',\n",
       " 'due year',\n",
       " 'multifamily year',\n",
       " 'varied year',\n",
       " 'positive year',\n",
       " 'net year',\n",
       " 'noted year',\n",
       " 'excluding year',\n",
       " 'mixed year',\n",
       " 'new year',\n",
       " 'multifamily year',\n",
       " 'positive year',\n",
       " 'mixed year',\n",
       " 'slowed year',\n",
       " 'according year',\n",
       " 'new year',\n",
       " 'commercial year',\n",
       " 'real year',\n",
       " 'generally year',\n",
       " 'improved year',\n",
       " 'mostly year',\n",
       " 'optimistic year',\n",
       " 'although year',\n",
       " 'expressed year',\n",
       " 'economic year',\n",
       " 'surrounding year',\n",
       " 'upcoming year',\n",
       " 'presidential year',\n",
       " 'commercial year',\n",
       " 'flat year',\n",
       " 'generally year',\n",
       " 'low year',\n",
       " 'declined year',\n",
       " 'reporting year',\n",
       " 'except year',\n",
       " 'increased year',\n",
       " 'commercial year',\n",
       " 'characterized year',\n",
       " 'robust year',\n",
       " 'softened year',\n",
       " 'greater year',\n",
       " 'commercial year',\n",
       " 'increased year',\n",
       " 'net year',\n",
       " 'reporting year',\n",
       " 'increased year',\n",
       " 'high year',\n",
       " 'skilled year',\n",
       " 'remained year',\n",
       " 'banking year',\n",
       " 'overall year',\n",
       " 'increased year',\n",
       " 'although year',\n",
       " 'scattered year',\n",
       " 'seasonal year',\n",
       " 'residential year',\n",
       " 'mixed year',\n",
       " 'ranging year',\n",
       " 'seasonal year',\n",
       " 'slowing year',\n",
       " 'growing year',\n",
       " 'commercial year',\n",
       " 'industrial year',\n",
       " 'increased year',\n",
       " 'overall year',\n",
       " 'although year',\n",
       " 'noted year',\n",
       " 'lending year',\n",
       " 'slower year',\n",
       " 'desired year',\n",
       " 'new year',\n",
       " 'reported year',\n",
       " 'steady year',\n",
       " 'remained year',\n",
       " 'strong year',\n",
       " 'across year',\n",
       " 'reporting year',\n",
       " 'remained year',\n",
       " 'strong year',\n",
       " 'improved year',\n",
       " 'new year',\n",
       " 'said year',\n",
       " 'remained year',\n",
       " 'low year',\n",
       " 'declined year',\n",
       " 'since year',\n",
       " 'last year',\n",
       " 'mostly year',\n",
       " 'unchanged year',\n",
       " 'grew year',\n",
       " 'slightly year',\n",
       " 'across year',\n",
       " 'reporting year',\n",
       " 'although year',\n",
       " 'cited year',\n",
       " 'stable year',\n",
       " 'agriculture year',\n",
       " 'natural year',\n",
       " 'agricultural year',\n",
       " 'faced year',\n",
       " 'mixed year',\n",
       " 'reporting year',\n",
       " 'several year',\n",
       " 'reported year',\n",
       " 'strong year',\n",
       " 'yet year',\n",
       " 'noted year',\n",
       " 'low year',\n",
       " 'continued year',\n",
       " 'put year',\n",
       " 'favorable year',\n",
       " 'growing year',\n",
       " 'expected year',\n",
       " 'soybeans year',\n",
       " 'several year',\n",
       " 'noted year',\n",
       " 'expected year',\n",
       " 'reach year',\n",
       " 'average year',\n",
       " 'last year',\n",
       " 'several year',\n",
       " 'slowed year',\n",
       " 'hampered year',\n",
       " 'said year',\n",
       " 'persistently year',\n",
       " 'weak year',\n",
       " 'continued year',\n",
       " 'reduce year',\n",
       " 'concerned year',\n",
       " 'get year',\n",
       " 'adequate year',\n",
       " 'next year',\n",
       " 'continued year',\n",
       " 'reported year',\n",
       " 'drilling year',\n",
       " 'however year',\n",
       " 'demand year',\n",
       " 'remained year',\n",
       " 'depressed year',\n",
       " 'despite year',\n",
       " 'said year',\n",
       " 'drawdown year',\n",
       " 'crude year',\n",
       " 'continued year',\n",
       " 'natural year',\n",
       " 'unchanged year',\n",
       " 'among year',\n",
       " 'continued year',\n",
       " 'saying year',\n",
       " 'expect year',\n",
       " 'better year']"
      ]
     },
     "execution_count": 147,
     "metadata": {},
     "output_type": "execute_result"
    }
   ],
   "source": [
    "national['nouns_notnouns'][20]"
   ]
  },
  {
   "cell_type": "code",
   "execution_count": 148,
   "metadata": {},
   "outputs": [],
   "source": [
    "# define a function to extract a text's nouns \n",
    "# and return them in a single string,\n",
    "# so that the string can then be added back into the dataframe\n",
    "\n",
    "def extract_noun(text):\n",
    "    document = nlp(text)\n",
    "    nouns = []\n",
    "    for token in document:\n",
    "        if token.pos_ == 'NOUN':\n",
    "            nouns.append(str(token))   \n",
    "    #print(NOUNS)\n",
    "    combined = ''\n",
    "    for token in nouns:\n",
    "        combined += token + ' '\n",
    "    return combined"
   ]
  },
  {
   "cell_type": "code",
   "execution_count": 149,
   "metadata": {},
   "outputs": [
    {
     "data": {
      "text/plain": [
       "4209"
      ]
     },
     "execution_count": 149,
     "metadata": {},
     "output_type": "execute_result"
    }
   ],
   "source": [
    "len(extract_noun(national['national_report'][100]))"
   ]
  },
  {
   "cell_type": "code",
   "execution_count": 150,
   "metadata": {},
   "outputs": [
    {
     "data": {
      "text/plain": [
       "13765"
      ]
     },
     "execution_count": 150,
     "metadata": {},
     "output_type": "execute_result"
    }
   ],
   "source": [
    "len(national['national_report'][100])"
   ]
  },
  {
   "cell_type": "code",
   "execution_count": 151,
   "metadata": {},
   "outputs": [
    {
     "data": {
      "text/html": [
       "<div>\n",
       "<style scoped>\n",
       "    .dataframe tbody tr th:only-of-type {\n",
       "        vertical-align: middle;\n",
       "    }\n",
       "\n",
       "    .dataframe tbody tr th {\n",
       "        vertical-align: top;\n",
       "    }\n",
       "\n",
       "    .dataframe thead th {\n",
       "        text-align: right;\n",
       "    }\n",
       "</style>\n",
       "<table border=\"1\" class=\"dataframe\">\n",
       "  <thead>\n",
       "    <tr style=\"text-align: right;\">\n",
       "      <th></th>\n",
       "      <th>national_report</th>\n",
       "      <th>date</th>\n",
       "      <th>clean_text</th>\n",
       "      <th>stemmed_text</th>\n",
       "      <th>nouns_notnouns</th>\n",
       "      <th>nouns</th>\n",
       "    </tr>\n",
       "  </thead>\n",
       "  <tbody>\n",
       "    <tr>\n",
       "      <th>0</th>\n",
       "      <td>\\n\\r\\n    var ref = document.referrer;\\r\\n    ...</td>\n",
       "      <td>2019-04</td>\n",
       "      <td>overall economic activity economic activity ex...</td>\n",
       "      <td>overal econom activ econom activ expand slight...</td>\n",
       "      <td>[overall activity, economic activity, economic...</td>\n",
       "      <td>activity activity pace districts growth pace d...</td>\n",
       "    </tr>\n",
       "    <tr>\n",
       "      <th>1</th>\n",
       "      <td>\\n\\r\\n    var ref = document.referrer;\\r\\n    ...</td>\n",
       "      <td>2019-03</td>\n",
       "      <td>city overall economic activity economic activi...</td>\n",
       "      <td>citi overal econom activ econom activ continu ...</td>\n",
       "      <td>[overall activity, economic activity, economic...</td>\n",
       "      <td>city activity activity districts growth condit...</td>\n",
       "    </tr>\n",
       "    <tr>\n",
       "      <th>2</th>\n",
       "      <td>\\n\\r\\n    var ref = document.referrer;\\r\\n    ...</td>\n",
       "      <td>2019-01</td>\n",
       "      <td>overall economic activity economic activity in...</td>\n",
       "      <td>overal econom activ econom activ increas u eig...</td>\n",
       "      <td>[overall activity, economic activity, economic...</td>\n",
       "      <td>activity activity districts growth nonauto ret...</td>\n",
       "    </tr>\n",
       "    <tr>\n",
       "      <th>3</th>\n",
       "      <td>\\n\\r\\n    var ref = document.referrer;\\r\\n    ...</td>\n",
       "      <td>2018-12</td>\n",
       "      <td>overall economic activity twelve districts rep...</td>\n",
       "      <td>overal econom activ twelv district report econ...</td>\n",
       "      <td>[overall activity, economic activity, twelve a...</td>\n",
       "      <td>activity districts economies pace mid growth p...</td>\n",
       "    </tr>\n",
       "    <tr>\n",
       "      <th>4</th>\n",
       "      <td>\\n\\r\\n    var ref = document.referrer;\\r\\n    ...</td>\n",
       "      <td>2018-10</td>\n",
       "      <td>overall economic activity economic activity ex...</td>\n",
       "      <td>overal econom activ econom activ expand across...</td>\n",
       "      <td>[overall activity, economic activity, economic...</td>\n",
       "      <td>activity activity states majority districts gr...</td>\n",
       "    </tr>\n",
       "  </tbody>\n",
       "</table>\n",
       "</div>"
      ],
      "text/plain": [
       "                                     national_report     date  \\\n",
       "0  \\n\\r\\n    var ref = document.referrer;\\r\\n    ...  2019-04   \n",
       "1  \\n\\r\\n    var ref = document.referrer;\\r\\n    ...  2019-03   \n",
       "2  \\n\\r\\n    var ref = document.referrer;\\r\\n    ...  2019-01   \n",
       "3  \\n\\r\\n    var ref = document.referrer;\\r\\n    ...  2018-12   \n",
       "4  \\n\\r\\n    var ref = document.referrer;\\r\\n    ...  2018-10   \n",
       "\n",
       "                                          clean_text  \\\n",
       "0  overall economic activity economic activity ex...   \n",
       "1  city overall economic activity economic activi...   \n",
       "2  overall economic activity economic activity in...   \n",
       "3  overall economic activity twelve districts rep...   \n",
       "4  overall economic activity economic activity ex...   \n",
       "\n",
       "                                        stemmed_text  \\\n",
       "0  overal econom activ econom activ expand slight...   \n",
       "1  citi overal econom activ econom activ continu ...   \n",
       "2  overal econom activ econom activ increas u eig...   \n",
       "3  overal econom activ twelv district report econ...   \n",
       "4  overal econom activ econom activ expand across...   \n",
       "\n",
       "                                      nouns_notnouns  \\\n",
       "0  [overall activity, economic activity, economic...   \n",
       "1  [overall activity, economic activity, economic...   \n",
       "2  [overall activity, economic activity, economic...   \n",
       "3  [overall activity, economic activity, twelve a...   \n",
       "4  [overall activity, economic activity, economic...   \n",
       "\n",
       "                                               nouns  \n",
       "0  activity activity pace districts growth pace d...  \n",
       "1  city activity activity districts growth condit...  \n",
       "2  activity activity districts growth nonauto ret...  \n",
       "3  activity districts economies pace mid growth p...  \n",
       "4  activity activity states majority districts gr...  "
      ]
     },
     "execution_count": 151,
     "metadata": {},
     "output_type": "execute_result"
    }
   ],
   "source": [
    "national['nouns'] = national['clean_text'].apply(extract_noun)\n",
    "national.head()"
   ]
  },
  {
   "cell_type": "code",
   "execution_count": 152,
   "metadata": {},
   "outputs": [],
   "source": [
    "# define a function to extract a text's proper nouns \n",
    "# and return them in a single string,\n",
    "# so that the string can then be added back into the dataframe\n",
    "\n",
    "def extract_prpnoun(text):\n",
    "    document = nlp(text)\n",
    "    PROPN = []\n",
    "    for token in document:\n",
    "        if token.pos_ == 'PROPN':\n",
    "            PROPN.append(str(token))   \n",
    "    #print(PROPN)\n",
    "    combined = ''\n",
    "    for token in PROPN:\n",
    "        combined += token + ' '\n",
    "    return combined"
   ]
  },
  {
   "cell_type": "code",
   "execution_count": 153,
   "metadata": {},
   "outputs": [
    {
     "data": {
      "text/plain": [
       "589"
      ]
     },
     "execution_count": 153,
     "metadata": {},
     "output_type": "execute_result"
    }
   ],
   "source": [
    "len(extract_prpnoun(national['national_report'][0]))"
   ]
  },
  {
   "cell_type": "code",
   "execution_count": 154,
   "metadata": {},
   "outputs": [
    {
     "data": {
      "text/plain": [
       "8141"
      ]
     },
     "execution_count": 154,
     "metadata": {},
     "output_type": "execute_result"
    }
   ],
   "source": [
    "len(national['national_report'][0])"
   ]
  },
  {
   "cell_type": "code",
   "execution_count": 155,
   "metadata": {},
   "outputs": [
    {
     "data": {
      "text/html": [
       "<div>\n",
       "<style scoped>\n",
       "    .dataframe tbody tr th:only-of-type {\n",
       "        vertical-align: middle;\n",
       "    }\n",
       "\n",
       "    .dataframe tbody tr th {\n",
       "        vertical-align: top;\n",
       "    }\n",
       "\n",
       "    .dataframe thead th {\n",
       "        text-align: right;\n",
       "    }\n",
       "</style>\n",
       "<table border=\"1\" class=\"dataframe\">\n",
       "  <thead>\n",
       "    <tr style=\"text-align: right;\">\n",
       "      <th></th>\n",
       "      <th>national_report</th>\n",
       "      <th>date</th>\n",
       "      <th>clean_text</th>\n",
       "      <th>stemmed_text</th>\n",
       "      <th>nouns_notnouns</th>\n",
       "      <th>nouns</th>\n",
       "      <th>proper_nouns</th>\n",
       "    </tr>\n",
       "  </thead>\n",
       "  <tbody>\n",
       "    <tr>\n",
       "      <th>0</th>\n",
       "      <td>\\n\\r\\n    var ref = document.referrer;\\r\\n    ...</td>\n",
       "      <td>2019-04</td>\n",
       "      <td>overall economic activity economic activity ex...</td>\n",
       "      <td>overal econom activ econom activ expand slight...</td>\n",
       "      <td>[overall activity, economic activity, economic...</td>\n",
       "      <td>activity activity pace districts growth pace d...</td>\n",
       "      <td>activity activity pace districts growth pace d...</td>\n",
       "    </tr>\n",
       "    <tr>\n",
       "      <th>1</th>\n",
       "      <td>\\n\\r\\n    var ref = document.referrer;\\r\\n    ...</td>\n",
       "      <td>2019-03</td>\n",
       "      <td>city overall economic activity economic activi...</td>\n",
       "      <td>citi overal econom activ econom activ continu ...</td>\n",
       "      <td>[overall activity, economic activity, economic...</td>\n",
       "      <td>city activity activity districts growth condit...</td>\n",
       "      <td>city activity activity districts growth condit...</td>\n",
       "    </tr>\n",
       "    <tr>\n",
       "      <th>2</th>\n",
       "      <td>\\n\\r\\n    var ref = document.referrer;\\r\\n    ...</td>\n",
       "      <td>2019-01</td>\n",
       "      <td>overall economic activity economic activity in...</td>\n",
       "      <td>overal econom activ econom activ increas u eig...</td>\n",
       "      <td>[overall activity, economic activity, economic...</td>\n",
       "      <td>activity activity districts growth nonauto ret...</td>\n",
       "      <td>activity activity districts growth nonauto ret...</td>\n",
       "    </tr>\n",
       "    <tr>\n",
       "      <th>3</th>\n",
       "      <td>\\n\\r\\n    var ref = document.referrer;\\r\\n    ...</td>\n",
       "      <td>2018-12</td>\n",
       "      <td>overall economic activity twelve districts rep...</td>\n",
       "      <td>overal econom activ twelv district report econ...</td>\n",
       "      <td>[overall activity, economic activity, twelve a...</td>\n",
       "      <td>activity districts economies pace mid growth p...</td>\n",
       "      <td>activity districts economies pace mid growth p...</td>\n",
       "    </tr>\n",
       "    <tr>\n",
       "      <th>4</th>\n",
       "      <td>\\n\\r\\n    var ref = document.referrer;\\r\\n    ...</td>\n",
       "      <td>2018-10</td>\n",
       "      <td>overall economic activity economic activity ex...</td>\n",
       "      <td>overal econom activ econom activ expand across...</td>\n",
       "      <td>[overall activity, economic activity, economic...</td>\n",
       "      <td>activity activity states majority districts gr...</td>\n",
       "      <td>activity activity states majority districts gr...</td>\n",
       "    </tr>\n",
       "  </tbody>\n",
       "</table>\n",
       "</div>"
      ],
      "text/plain": [
       "                                     national_report     date  \\\n",
       "0  \\n\\r\\n    var ref = document.referrer;\\r\\n    ...  2019-04   \n",
       "1  \\n\\r\\n    var ref = document.referrer;\\r\\n    ...  2019-03   \n",
       "2  \\n\\r\\n    var ref = document.referrer;\\r\\n    ...  2019-01   \n",
       "3  \\n\\r\\n    var ref = document.referrer;\\r\\n    ...  2018-12   \n",
       "4  \\n\\r\\n    var ref = document.referrer;\\r\\n    ...  2018-10   \n",
       "\n",
       "                                          clean_text  \\\n",
       "0  overall economic activity economic activity ex...   \n",
       "1  city overall economic activity economic activi...   \n",
       "2  overall economic activity economic activity in...   \n",
       "3  overall economic activity twelve districts rep...   \n",
       "4  overall economic activity economic activity ex...   \n",
       "\n",
       "                                        stemmed_text  \\\n",
       "0  overal econom activ econom activ expand slight...   \n",
       "1  citi overal econom activ econom activ continu ...   \n",
       "2  overal econom activ econom activ increas u eig...   \n",
       "3  overal econom activ twelv district report econ...   \n",
       "4  overal econom activ econom activ expand across...   \n",
       "\n",
       "                                      nouns_notnouns  \\\n",
       "0  [overall activity, economic activity, economic...   \n",
       "1  [overall activity, economic activity, economic...   \n",
       "2  [overall activity, economic activity, economic...   \n",
       "3  [overall activity, economic activity, twelve a...   \n",
       "4  [overall activity, economic activity, economic...   \n",
       "\n",
       "                                               nouns  \\\n",
       "0  activity activity pace districts growth pace d...   \n",
       "1  city activity activity districts growth condit...   \n",
       "2  activity activity districts growth nonauto ret...   \n",
       "3  activity districts economies pace mid growth p...   \n",
       "4  activity activity states majority districts gr...   \n",
       "\n",
       "                                        proper_nouns  \n",
       "0  activity activity pace districts growth pace d...  \n",
       "1  city activity activity districts growth condit...  \n",
       "2  activity activity districts growth nonauto ret...  \n",
       "3  activity districts economies pace mid growth p...  \n",
       "4  activity activity states majority districts gr...  "
      ]
     },
     "execution_count": 155,
     "metadata": {},
     "output_type": "execute_result"
    }
   ],
   "source": [
    "national['proper_nouns'] = national['clean_text'].apply(extract_noun)\n",
    "national.head()"
   ]
  },
  {
   "cell_type": "markdown",
   "metadata": {},
   "source": [
    "# Colocations"
   ]
  },
  {
   "cell_type": "markdown",
   "metadata": {},
   "source": [
    "Collocations are expressions of multiple words which commonly co-occur."
   ]
  },
  {
   "cell_type": "code",
   "execution_count": 178,
   "metadata": {},
   "outputs": [],
   "source": [
    "# Extracting words from each document\n",
    "\n",
    "# Instantiate Tokenizer\n",
    "tokenizer = RegexpTokenizer(r'\\b[^\\d\\W]+\\b') # Regex here says to get full words but exclude digits\n",
    "\n",
    "# Tokenizer Texts\n",
    "dirty_text_tokens = [tokenizer.tokenize(token.lower().strip()) for token in national['national_report']]\n",
    "\n",
    "# Initialize master list to populate\n",
    "master_text_tokens = []\n",
    "\n",
    "# For each dirty text, get list of clean tokens and append to master_text_tokens\n",
    "for text in dirty_text_tokens:\n",
    "    # Create template for clean tokens to populate for this particular text\n",
    "    clean_text_tokens = []\n",
    "    # For each word/token in each document, make sure it is not a stopword \n",
    "    # or URL piece or main search term \n",
    "    for word in text:\n",
    "        if ((word not in stopwords.words('english')) and (word not in ['http','https','www','com','@','...','…', 'var', 'ref', 'document', \n",
    "             'referrer', 'var', 'bbpath', 'href', 'archive', 'function', 'beige',\n",
    "            'book', 'federal', 'reserve', 'summary', 'indexof', 'backtoresults',\n",
    "            'history', 'go', 'else', 'window', 'location', 'back', 'search',\n",
    "            'this', 'report', 'prepared', 'federal', 'reserve', 'bank', 'summarizes',\n",
    "            'january', 'february', 'march', 'april', 'may', 'june', 'july', 'august',\n",
    "            'september', 'october', 'november', 'december', 'atlanta', 'boston', 'chicago',\n",
    "            'cleveland', 'dallas', 'kansas', 'minneapolis', 'york', 'philadelphia', \n",
    "             'richmond', 'san', 'francisco', 'st', 'louis', 'officials', 'comments', \n",
    "             'views', 'commentary', 'national', 'based', 'information', 'collected',\n",
    "             'received', 'contacts', 'outside', 'system', 'page', 'url', 'link'])):\n",
    "            # Now extract it into clean token list\n",
    "            clean_text_tokens.append(word)\n",
    "    # Append this list of tokens to the master list\n",
    "    master_text_tokens.append(clean_text_tokens)"
   ]
  },
  {
   "cell_type": "code",
   "execution_count": 275,
   "metadata": {},
   "outputs": [],
   "source": [
    "# \"de-lists\" a list of lists. \n",
    "# That is, turns a list of lists into a single list\n",
    "full_list = master_text_tokens[0]\n",
    "for sub_list in master_text_tokens[1:]:\n",
    "    full_list.extend(sub_list)"
   ]
  },
  {
   "cell_type": "code",
   "execution_count": 276,
   "metadata": {},
   "outputs": [
    {
     "data": {
      "text/plain": [
       "'overall'"
      ]
     },
     "execution_count": 276,
     "metadata": {},
     "output_type": "execute_result"
    }
   ],
   "source": [
    "full_list[0]"
   ]
  },
  {
   "cell_type": "code",
   "execution_count": 277,
   "metadata": {},
   "outputs": [
    {
     "data": {
      "text/plain": [
       "641716"
      ]
     },
     "execution_count": 277,
     "metadata": {},
     "output_type": "execute_result"
    }
   ],
   "source": [
    "len(full_list)"
   ]
  },
  {
   "cell_type": "code",
   "execution_count": 278,
   "metadata": {},
   "outputs": [],
   "source": [
    "from nltk.collocations import *"
   ]
  },
  {
   "cell_type": "code",
   "execution_count": 279,
   "metadata": {},
   "outputs": [],
   "source": [
    "bigram_measures = nltk.collocations.BigramAssocMeasures()\n",
    "trigram_measures = nltk.collocations.TrigramAssocMeasures()"
   ]
  },
  {
   "cell_type": "code",
   "execution_count": 280,
   "metadata": {},
   "outputs": [
    {
     "data": {
      "text/plain": [
       "[('ac', 'cording'),\n",
       " ('adamant', 'opposition'),\n",
       " ('addressed', 'advertisements'),\n",
       " ('advertisements', 'parents'),\n",
       " ('ambitious', 'assumptions'),\n",
       " ('ax', 'moats'),\n",
       " ('birmingham', 'jacksonville'),\n",
       " ('bovine', 'tuberculosis'),\n",
       " ('carts', 'snowmobiles'),\n",
       " ('century', 'rollover'),\n",
       " ('citizens', 'teens'),\n",
       " ('clearest', 'impressions'),\n",
       " ('club', 'memberships'),\n",
       " ('colleges', 'tentatively'),\n",
       " ('complexities', 'irs'),\n",
       " ('constructive', 'workout'),\n",
       " ('court', 'decision'),\n",
       " ('crudely', 'clumsily'),\n",
       " ('dangerously', 'illiquid'),\n",
       " ('dazzle', 'imagination')]"
      ]
     },
     "execution_count": 280,
     "metadata": {},
     "output_type": "execute_result"
    }
   ],
   "source": [
    "finder = BigramCollocationFinder.from_words(full_list)\n",
    "finder.nbest(bigram_measures.pmi, 20)"
   ]
  },
  {
   "cell_type": "markdown",
   "metadata": {},
   "source": [
    "*While these words are highly collocated, the expressions are also very infrequent. Therefore, it is useful to apply filters.*"
   ]
  },
  {
   "cell_type": "code",
   "execution_count": 281,
   "metadata": {},
   "outputs": [
    {
     "data": {
      "text/plain": [
       "[('bed', 'methane'),\n",
       " ('flue', 'cured'),\n",
       " ('inaccurate', 'please'),\n",
       " ('please', 'notify'),\n",
       " ('site', 'fix'),\n",
       " ('stretch', 'outs'),\n",
       " ('terrorist', 'attacks'),\n",
       " ('wall', 'street'),\n",
       " ('bore', 'brunt'),\n",
       " ('discovered', 'broken'),\n",
       " ('notify', 'us'),\n",
       " ('referring', 'thank'),\n",
       " ('us', 'discovered'),\n",
       " ('marcellus', 'utica'),\n",
       " ('avian', 'influenza'),\n",
       " ('president', 'speech'),\n",
       " ('elective', 'procedures'),\n",
       " ('broken', 'site'),\n",
       " ('description', 'referring'),\n",
       " ('object', 'requested')]"
      ]
     },
     "execution_count": 281,
     "metadata": {},
     "output_type": "execute_result"
    }
   ],
   "source": [
    "# ignores all bigrams which occur less than n times in the corpus\n",
    "finder.apply_freq_filter(5)\n",
    "finder.nbest(bigram_measures.pmi, 20)"
   ]
  },
  {
   "cell_type": "code",
   "execution_count": 283,
   "metadata": {},
   "outputs": [
    {
     "data": {
      "text/plain": [
       "[('addressed', 'advertisements', 'parents'),\n",
       " ('fleeing', 'escape', 'harsher'),\n",
       " ('golf', 'carts', 'snowmobiles'),\n",
       " ('ml', 'erupt', 'reigniting'),\n",
       " ('motorcycles', 'golf', 'carts'),\n",
       " ('northerners', 'fleeing', 'escape'),\n",
       " ('urn', 'ax', 'moats'),\n",
       " ('vaccinated', 'bovine', 'tuberculosis'),\n",
       " ('ambitious', 'assumptions', 'justify'),\n",
       " ('assumptions', 'justify', 'transaction'),\n",
       " ('attended', 'mardi', 'gras'),\n",
       " ('regain', 'resident', 'populations'),\n",
       " ('underestimated', 'wrangling', 'chaos'),\n",
       " ('video', 'tape', 'recorders'),\n",
       " ('vrms', 'gpms', 'vmms'),\n",
       " ('austin', 'el', 'paso'),\n",
       " ('avocado', 'mango', 'foliage'),\n",
       " ('disney', 'experimental', 'prototype'),\n",
       " ('henry', 'kaufman', 'james'),\n",
       " ('james', 'leary', 'albert')]"
      ]
     },
     "execution_count": 283,
     "metadata": {},
     "output_type": "execute_result"
    }
   ],
   "source": [
    "finder = TrigramCollocationFinder.from_words(full_list)\n",
    "finder.nbest(trigram_measures.pmi, 20)"
   ]
  },
  {
   "cell_type": "markdown",
   "metadata": {},
   "source": [
    "*Using trigrams, we find some expressions that are frequently used. For instance, the expression \"video tape recorder\" and \"attended mardi gras\" are frequently used together.* "
   ]
  },
  {
   "cell_type": "code",
   "execution_count": 284,
   "metadata": {},
   "outputs": [
    {
     "data": {
      "text/plain": [
       "[('inaccurate', 'please', 'notify'),\n",
       " ('notify', 'us', 'discovered'),\n",
       " ('please', 'notify', 'us'),\n",
       " ('broken', 'site', 'fix'),\n",
       " ('description', 'referring', 'thank'),\n",
       " ('discovered', 'broken', 'site'),\n",
       " ('us', 'discovered', 'broken'),\n",
       " ('followed', 'inaccurate', 'please'),\n",
       " ('appearance', 'mad', 'cow'),\n",
       " ('flue', 'cured', 'tobacco'),\n",
       " ('fix', 'provide', 'description'),\n",
       " ('site', 'fix', 'provide'),\n",
       " ('server', 'followed', 'inaccurate'),\n",
       " ('mad', 'cow', 'disease'),\n",
       " ('provide', 'description', 'referring'),\n",
       " ('co', 'op', 'condo'),\n",
       " ('file', 'found', 'object'),\n",
       " ('rocky', 'mountain', 'ski'),\n",
       " ('found', 'object', 'requested'),\n",
       " ('object', 'requested', 'found')]"
      ]
     },
     "execution_count": 284,
     "metadata": {},
     "output_type": "execute_result"
    }
   ],
   "source": [
    "# ignores all trigrams which occur less than n times in the corpus\n",
    "finder.apply_freq_filter(5)\n",
    "finder.nbest(trigram_measures.pmi, 20)"
   ]
  },
  {
   "cell_type": "code",
   "execution_count": 304,
   "metadata": {},
   "outputs": [],
   "source": [
    "list(nltk.bigrams(full_list))\n",
    "from nltk import FreqDist\n",
    "\n",
    "Fdist = FreqDist(list(nltk.bigrams(full_list)))"
   ]
  },
  {
   "cell_type": "code",
   "execution_count": 305,
   "metadata": {},
   "outputs": [
    {
     "data": {
      "text/plain": [
       "[(('real', 'estate'), 2746),\n",
       " (('districts', 'reported'), 2745),\n",
       " (('city', 'districts'), 2032),\n",
       " (('several', 'districts'), 1963),\n",
       " (('loan', 'demand'), 1522),\n",
       " (('retail', 'sales'), 1438),\n",
       " (('consumer', 'spending'), 1388),\n",
       " (('districts', 'noted'), 1151),\n",
       " (('district', 'reported'), 1108),\n",
       " (('new', 'districts'), 1044)]"
      ]
     },
     "execution_count": 305,
     "metadata": {},
     "output_type": "execute_result"
    }
   ],
   "source": [
    "Fdist.most_common(10)"
   ]
  },
  {
   "cell_type": "code",
   "execution_count": 306,
   "metadata": {},
   "outputs": [
    {
     "data": {
      "image/png": "[encoded data removed]",
      "text/plain": [
       "<Figure size 432x288 with 1 Axes>"
      ]
     },
     "metadata": {
      "needs_background": "light"
     },
     "output_type": "display_data"
    }
   ],
   "source": [
    "Fdist.plot(10)"
   ]
  },
  {
   "cell_type": "code",
   "execution_count": 313,
   "metadata": {},
   "outputs": [],
   "source": [
    "#x = [i[0].join(\",\") for i in Fdist.most_common(10)]\n",
    "y = [i[1] for i in Fdist.most_common(10)]\n",
    "\n",
    "x = [i[0][0] + \" \" + i[0][1] for i in Fdist.most_common(10)]"
   ]
  },
  {
   "cell_type": "code",
   "execution_count": 315,
   "metadata": {},
   "outputs": [
    {
     "data": {
      "text/plain": [
       "([0, 1, 2, 3, 4, 5, 6, 7, 8, 9], <a list of 10 Text xticklabel objects>)"
      ]
     },
     "execution_count": 315,
     "metadata": {},
     "output_type": "execute_result"
    },
    {
     "data": {
      "image/png": "[encoded data removed]",
      "text/plain": [
       "<Figure size 432x288 with 1 Axes>"
      ]
     },
     "metadata": {
      "needs_background": "light"
     },
     "output_type": "display_data"
    }
   ],
   "source": [
    "plt.bar(x, y)\n",
    "plt.xticks(rotation=90)"
   ]
  },
  {
   "cell_type": "code",
   "execution_count": null,
   "metadata": {},
   "outputs": [],
   "source": []
  },
  {
   "cell_type": "code",
   "execution_count": 307,
   "metadata": {},
   "outputs": [
    {
     "data": {
      "image/png": "[encoded data removed]",
      "text/plain": [
       "<Figure size 432x288 with 1 Axes>"
      ]
     },
     "metadata": {
      "needs_background": "light"
     },
     "output_type": "display_data"
    }
   ],
   "source": [
    "Fdist.plot(10, cumulative=True)"
   ]
  },
  {
   "cell_type": "code",
   "execution_count": null,
   "metadata": {},
   "outputs": [],
   "source": []
  },
  {
   "cell_type": "markdown",
   "metadata": {},
   "source": [
    "After applying filters, we now observe more meaningful expressions. For example,('sports', 'utility', 'vehicles') is an expression used frequently.  "
   ]
  },
  {
   "cell_type": "markdown",
   "metadata": {},
   "source": [
    "We may similarly find collocations among spanning intervening words."
   ]
  },
  {
   "cell_type": "code",
   "execution_count": 285,
   "metadata": {},
   "outputs": [
    {
     "data": {
      "text/plain": [
       "[('real', 'estate'),\n",
       " ('consumer', 'spending'),\n",
       " ('loan', 'demand'),\n",
       " ('several', 'districts'),\n",
       " ('year', 'ago'),\n",
       " ('retail', 'sales'),\n",
       " ('labor', 'markets'),\n",
       " ('wage', 'pressures'),\n",
       " ('districts', 'reported'),\n",
       " ('commercial', 'real')]"
      ]
     },
     "execution_count": 285,
     "metadata": {},
     "output_type": "execute_result"
    }
   ],
   "source": [
    "finder = BigramCollocationFinder.from_words(full_list)\n",
    "\n",
    "finder.apply_freq_filter(3)\n",
    "ignored_words = nltk.corpus.stopwords.words('english')\n",
    "\n",
    "finder.apply_word_filter(lambda w: len(w) < 3 or w.lower() in ignored_words)\n",
    "finder.nbest(bigram_measures.likelihood_ratio, 10)"
   ]
  },
  {
   "cell_type": "code",
   "execution_count": 286,
   "metadata": {},
   "outputs": [],
   "source": [
    "# print('%0.4f' % bigram_measures.student_t(8, (15828, 4675), 14307668))\n",
    "\n",
    "# print('%0.4f' % bigram_measures.student_t(20, (42, 20), 14307668))"
   ]
  },
  {
   "cell_type": "code",
   "execution_count": 287,
   "metadata": {},
   "outputs": [],
   "source": [
    "# with open('full_list.txt', 'w') as f:\n",
    "#     for item in full_list:\n",
    "#         f.write(\"%s\\n\" % item)"
   ]
  },
  {
   "cell_type": "code",
   "execution_count": 288,
   "metadata": {},
   "outputs": [],
   "source": [
    "# text = open('full_list.txt', 'r')"
   ]
  },
  {
   "cell_type": "markdown",
   "metadata": {},
   "source": [
    "## Searching the National Summary"
   ]
  },
  {
   "cell_type": "code",
   "execution_count": 290,
   "metadata": {},
   "outputs": [
    {
     "data": {
      "text/plain": [
       "list"
      ]
     },
     "execution_count": 290,
     "metadata": {},
     "output_type": "execute_result"
    }
   ],
   "source": [
    "type(full_list)"
   ]
  },
  {
   "cell_type": "code",
   "execution_count": 295,
   "metadata": {},
   "outputs": [],
   "source": [
    "# converts the list into NLTK text\n",
    "full_text = nltk.Text(full_list)"
   ]
  },
  {
   "cell_type": "code",
   "execution_count": 296,
   "metadata": {},
   "outputs": [
    {
     "data": {
      "text/plain": [
       "nltk.text.Text"
      ]
     },
     "execution_count": 296,
     "metadata": {},
     "output_type": "execute_result"
    }
   ],
   "source": [
    "type(full_text)"
   ]
  },
  {
   "cell_type": "markdown",
   "metadata": {},
   "source": [
    "*A concordance permits us to see words in context*"
   ]
  },
  {
   "cell_type": "code",
   "execution_count": 293,
   "metadata": {},
   "outputs": [
    {
     "name": "stdout",
     "output_type": "stream",
     "text": [
      "Displaying 25 of 1066 matches:\n",
      " future rainfall flooding employment wages employment continued increase nation\n",
      "tricts reported moderate wage growth wages skilled unskilled positions generall\n",
      "e range tariffs freight costs rising wages often cited key factors driving tren\n",
      "firms expanded employment moderately wages climbed moderately wide range indust\n",
      "modestly labor market remained tight wages increased balance nonlabor input cos\n",
      "manufacturing little changed balance wages prices rose modestly financial condi\n",
      "ty mixed across districts employment wages employment increased districts modes\n",
      "easingly choosing enter labor market wages continued increase low high skilled \n",
      "districts reported moderately higher wages addition half districts noted rising\n",
      "ment increased modestly many sectors wages grew moderately across board selling\n",
      "district labor market remained tight wages increased average nonlabor input cos\n",
      "nged consumer spending fell modestly wages rose modestly prices rose slightly f\n",
      "ade political uncertainty employment wages employment increased country plurali\n",
      "ls demand anticipation future growth wages grew throughout country majority dis\n",
      "y districts reporting moderate gains wages increased across skill levels numero\n",
      "ricts highlighted rising entry level wages firms sought attract retain workers \n",
      "d robust growth overall labor demand wages increased modestly price growth rema\n",
      "district labor market remained tight wages creased average nonlabor input costs\n",
      " real estate activity little changed wages prices rose modestly financial condi\n",
      " widespread labor shortages elevated wages price pressures eased slightly outlo\n",
      " labor market constraints employment wages labor markets tightened across broad\n",
      "odest moderate pace addition raising wages districts noted examples firms enhan\n",
      "alation firms input prices continued wages selling prices increased moderately \n",
      " persisted firms reported increasing wages nonlabor costs continued rise retail\n",
      "l estate activity decreased slightly wages prices rose modestly financial condi\n"
     ]
    }
   ],
   "source": [
    "full_text.concordance('wages')"
   ]
  },
  {
   "cell_type": "code",
   "execution_count": 267,
   "metadata": {},
   "outputs": [
    {
     "name": "stdout",
     "output_type": "stream",
     "text": [
      "Displaying 10 of 692 matches:\n",
      "attract retain employees tight labor market also led continued wage pressures di\n",
      "y constrained expansions tight labor market constrained hiring spurred wage incr\n",
      "ctivity district grew modestly labor market remained tight wages increased balan\n",
      "continued expand moderate pace labor market conditions remained tight price infl\n",
      "ts increasingly choosing enter labor market wages continued increase low high sk\n",
      "y moderately expanded district labor market remained tight wages increased avera\n",
      "continued expand moderate pace labor market conditions remained tight price infl\n",
      "imistic response increased financial market volatility rising short term interes\n",
      "mproved moderate pace district labor market remained tight wages creased average\n",
      "continued expand moderate pace labor market conditions remained tight price infl\n"
     ]
    }
   ],
   "source": [
    "full_text.concordance('market', width=80, lines=10)"
   ]
  },
  {
   "cell_type": "code",
   "execution_count": 294,
   "metadata": {},
   "outputs": [
    {
     "name": "stdout",
     "output_type": "stream",
     "text": [
      "districts prices reported new district city sales noted activity\n",
      "retail mixed demand however home firms increased manufacturers reports\n",
      "generally indicated\n"
     ]
    }
   ],
   "source": [
    "full_text.similar('wages')"
   ]
  },
  {
   "cell_type": "code",
   "execution_count": 297,
   "metadata": {},
   "outputs": [
    {
     "name": "stdout",
     "output_type": "stream",
     "text": [
      "tight_skilled reported_temporary\n"
     ]
    }
   ],
   "source": [
    "full_text.common_contexts(['wages', 'market'])"
   ]
  },
  {
   "cell_type": "code",
   "execution_count": 298,
   "metadata": {},
   "outputs": [
    {
     "name": "stdout",
     "output_type": "stream",
     "text": [
      "modestly_continued said_expanded overall_gains\n"
     ]
    }
   ],
   "source": [
    "full_text.common_contexts(['economy', 'employment'])"
   ]
  },
  {
   "cell_type": "code",
   "execution_count": 299,
   "metadata": {},
   "outputs": [
    {
     "name": "stdout",
     "output_type": "stream",
     "text": [
      "said_increased districts_remained pressure_district retail_reported\n",
      "employment_districts prices_district increases_generally\n",
      "district_reported manufacturing_city reported_continued\n",
      "manufacturing_continued manufacturing_increased although_reported\n",
      "employment_several reported_retail\n"
     ]
    }
   ],
   "source": [
    "full_text.common_contexts(['wages', 'firms'])"
   ]
  },
  {
   "cell_type": "code",
   "execution_count": 301,
   "metadata": {},
   "outputs": [
    {
     "data": {
      "image/png": "[encoded data removed]",
      "text/plain": [
       "<Figure size 432x288 with 1 Axes>"
      ]
     },
     "metadata": {
      "needs_background": "light"
     },
     "output_type": "display_data"
    }
   ],
   "source": [
    "full_text.dispersion_plot([\"wages\", \"employment\", \"firms\", \"market\", \"unemployment\"])"
   ]
  },
  {
   "cell_type": "code",
   "execution_count": null,
   "metadata": {},
   "outputs": [],
   "source": []
  }
 ],
 "metadata": {
  "kernelspec": {
   "display_name": "Python 3",
   "language": "python",
   "name": "python3"
  },
  "language_info": {
   "codemirror_mode": {
    "name": "ipython",
    "version": 3
   },
   "file_extension": ".py",
   "mimetype": "text/x-python",
   "name": "python",
   "nbconvert_exporter": "python",
   "pygments_lexer": "ipython3",
   "version": "3.7.1"
  }
 },
 "nbformat": 4,
 "nbformat_minor": 2
}
