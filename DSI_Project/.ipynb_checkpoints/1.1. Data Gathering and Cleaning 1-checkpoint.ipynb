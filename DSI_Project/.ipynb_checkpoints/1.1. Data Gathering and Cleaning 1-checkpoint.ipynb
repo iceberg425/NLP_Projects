{
 "cells": [
  {
   "cell_type": "code",
   "execution_count": 1,
   "metadata": {},
   "outputs": [],
   "source": [
    "# Import libaries\n",
    "\n",
    "from bs4 import BeautifulSoup\n",
    "import requests\n",
    "import pandas as pd\n",
    "import numpy as np"
   ]
  },
  {
   "cell_type": "code",
   "execution_count": 23,
   "metadata": {},
   "outputs": [],
   "source": [
    "url = 'https://www.minneapolisfed.org/news-and-events/beige-book-archive/2019-04-su'"
   ]
  },
  {
   "cell_type": "code",
   "execution_count": 24,
   "metadata": {},
   "outputs": [],
   "source": [
    "res = requests.get(url)"
   ]
  },
  {
   "cell_type": "code",
   "execution_count": 25,
   "metadata": {},
   "outputs": [
    {
     "data": {
      "text/plain": [
       "200"
      ]
     },
     "execution_count": 25,
     "metadata": {},
     "output_type": "execute_result"
    }
   ],
   "source": [
    "res.status_code"
   ]
  },
  {
   "cell_type": "code",
   "execution_count": null,
   "metadata": {},
   "outputs": [],
   "source": [
    "soup = BeautifulSoup(res.content, 'lxml')"
   ]
  },
  {
   "cell_type": "code",
   "execution_count": null,
   "metadata": {},
   "outputs": [],
   "source": [
    "#for i in soup.find_all('section', {'class': 'article-content'}):\n",
    "   # print(i.text)"
   ]
  },
  {
   "cell_type": "code",
   "execution_count": null,
   "metadata": {},
   "outputs": [],
   "source": [
    "# url = 'https://www.minneapolisfed.org/news-and-events/beige-book-archive' \n",
    "# res = requests.get(url)"
   ]
  },
  {
   "cell_type": "code",
   "execution_count": null,
   "metadata": {},
   "outputs": [],
   "source": [
    "soup = BeautifulSoup(res.content, 'lxml')"
   ]
  },
  {
   "cell_type": "code",
   "execution_count": null,
   "metadata": {},
   "outputs": [],
   "source": [
    "# page = soup.find('div', {'id': 'page-content'})\n",
    "# page    "
   ]
  },
  {
   "cell_type": "code",
   "execution_count": null,
   "metadata": {},
   "outputs": [],
   "source": [
    "region_links = []\n",
    "for page in soup.find_all('div', {'id': 'left-content'}):\n",
    "    #print(page.attrs)\n",
    "    for i in page('a'):\n",
    "        #print(i.attrs['href'])\n",
    "        #print('https://www.minneapolisfed.org'+i.attrs['href'])\n",
    "        links = {}\n",
    "        links['links'] = 'https://www.minneapolisfed.org'+i.attrs['href']\n",
    "        region_links.append(links)\n",
    "        \n",
    "        \n",
    "pd.DataFrame(region_links)\n",
    "        \n",
    "    \n",
    "        "
   ]
  },
  {
   "cell_type": "code",
   "execution_count": null,
   "metadata": {},
   "outputs": [],
   "source": [
    "# doc = []\n",
    "# book = soup.find('div', {'id': 'page-content'}).find_all('p')[3:]\n",
    "# docs = {}\n",
    "# docs['text'] = book\n",
    "# doc.append(docs)\n",
    "# pd.DataFrame(doc)"
   ]
  },
  {
   "cell_type": "code",
   "execution_count": null,
   "metadata": {},
   "outputs": [],
   "source": [
    "national_report = []\n",
    "for body in soup.find('div', {'id': 'page-content'}).find_all('p')[3:]:\n",
    "            print(body.text)\n",
    "#             #print(i.attrs['href'])\n",
    "#             document = {}\n",
    "#             document['beige_book'] = body.text\n",
    "#             national_report.append(document)\n",
    "            \n",
    "# pd.DataFrame(national_report)"
   ]
  },
  {
   "cell_type": "code",
   "execution_count": 2,
   "metadata": {},
   "outputs": [],
   "source": [
    "webpage = [\n",
    "    '2019-04-su', '2019-03-su', '2019-01-su',\n",
    "           \n",
    "    '2018-12-su', '2018-10-su', '2018-09-su', '2018-09-su', \n",
    "    '2018-05-su', '2018-04-su', '2018-03-su', '2018-01-su',\n",
    "\n",
    "    '2017-11-su', '2017-10-su', '2017-09-su', '2017-07-su',\n",
    "    '2017-05-su', '2017-04-su', '2017-03-su', '2017-01-su',\n",
    "\n",
    "    '2016-11-su', '2016-10-su', '2016-09-su', '2016-07-su',\n",
    "    '2016-06-su', '2016-04-su', '2016-03-su', '2016-01-su',\n",
    "\n",
    "    '2015-12-su', '2015-10-su', '2015-09-su', '2015-07-su', \n",
    "    '2015-06-su', '2015-04-su', '2015-03-su', '2015-01-su',\n",
    "\n",
    "    '2014-12-su', '2014-10-su', '2014-09-su', '2014-07-su', \n",
    "    '2014-06-su', '2014-04-su', '2014-03-su', '2014-01-su',\n",
    "\n",
    "    '2013-12-su', '2013-10-su', '2013-09-su', '2013-07-su', \n",
    "    '2013-05-su', '2013-04-su', '2013-03-su', '2013-01-su',\n",
    "\n",
    "    '2012-11-su', '2012-10-su', '2012-08-su', '2012-07-su', \n",
    "    '2012-06-su', '2012-04-su', '2012-02-su', '2012-01-su',\n",
    "\n",
    "    '2011-11-su', '2011-10-su', '2011-09-su', '2011-07-su', \n",
    "    '2011-06-su', '2011-04-su', '2011-03-su', '2011-01-su',\n",
    "\n",
    "    '2010-12-su', '2010-10-su', '2010-09-su', '2010-07-su', \n",
    "    '2010-06-su', '2010-04-su', '2010-03-su', '2010-01-su',\n",
    "\n",
    "    '2009-12-su', '2009-10-su', '2009-09-su', '2009-07-su', \n",
    "    '2009-06-su', '2009-04-su', '2009-03-su', '2009-01-su',\n",
    "\n",
    "    '2008-12-su', '2008-10-su', '2008-09-su', '2008-07-su', \n",
    "    '2008-06-su', '2008-04-su', '2008-03-su', '2008-01-su',\n",
    "\n",
    "    '2007-11-su', '2007-10-su', '2007-09-su', '2007-07-su',\n",
    "    '2007-06-su', '2007-04-su', '2007-03-su', '2007-01-su',\n",
    "\n",
    "    '2006-11-su', '2006-10-su', '2006-09-su', '2006-07-su',\n",
    "    '2006-06-su', '2006-04-su', '2006-03-su', '2006-01-su',\n",
    "\n",
    "    '2005-11-su', '2005-10-su', '2005-09-su', '2005-07-su',\n",
    "    '2005-06-su', '2005-04-su', '2005-03-su', '2005-01-su',\n",
    "\n",
    "    '2004-12-su', '2004-10-su', '2004-09-su', '2004-07-su',\n",
    "    '2004-06-su', '2004-04-su', '2004-03-su', '2004-01-su',\n",
    "\n",
    "    '2003-11-su', '2003-10-su', '2003-09-su', '2003-07-su',\n",
    "    '2003-06-su', '2003-04-su', '2003-03-su', '2003-01-su',\n",
    "\n",
    "    '2002-11-su', '2002-10-su', '2002-09-su', '2002-07-su', \n",
    "    '2002-06-su', '2002-04-su', '2002-03-su', '2002-01-su',\n",
    "\n",
    "    '2001-11-su', '2001-10-su', '2001-09-su', '2001-08-su', \n",
    "    '2001-06-su', '2001-05-su', '2001-03-su', '2001-01-su',\n",
    "\n",
    "    '2000-12-su', '2000-11-su', '2000-09-su', '2000-08-su', \n",
    "    '2000-06-su', '2000-05-su', '2000-03-su', '2000-01-su',\n",
    "\n",
    "    '1999-12-su', '1999-11-su', '1999-09-su', '1999-08-su', \n",
    "    '1999-06-su', '1999-05-su', '1999-03-su', '1999-01-su',\n",
    "\n",
    "    '1998-12-su', '1998-11-su', '1998-09-su', '1998-08-su', \n",
    "    '1998-06-su', '1998-05-su', '1998-03-su', '1998-01-su',\n",
    "\n",
    "    '1997-12-su', '1997-10-su', '1997-09-su', '1997-08-su', \n",
    "    '1997-06-su', '1997-05-su', '1997-03-su', '1997-01-su',\n",
    "\n",
    "    '1996-12-su', '1996-10-su', '1996-09-su', '1996-08-su', \n",
    "    '1996-06-su', '1996-05-su', '1996-03-su', '1996-01-su',\n",
    "\n",
    "    '1995-12-su', '1995-11-su', '1995-09-su', '1995-08-su', \n",
    "    '1995-06-su', '1995-05-su', '1995-03-su', '1995-01-su',\n",
    "\n",
    "    '1994-12-su', '1994-11-su', '1994-09-su', '1994-08-su', \n",
    "    '1994-06-su', '1994-05-su', '1994-03-su', '1994-01-su',\n",
    "\n",
    "    '1993-12-su', '1993-11-su', '1993-09-su', '1993-08-su', \n",
    "    '1993-06-su', '1993-05-su', '1993-03-su', '1993-01-su',\n",
    "\n",
    "    '1992-12-su', '1992-11-su', '1992-09-su', '1992-08-su', \n",
    "    '1992-06-su', '1992-05-su', '1992-03-su', '1992-01-su',\n",
    "\n",
    "    '1991-12-su', '1991-10-su', '1991-09-su', '1991-08-su', \n",
    "    '1991-06-su', '1991-05-su', '1991-03-su', '1991-01-su',\n",
    "\n",
    "    '1990-12-su', '1990-10-su', '1990-09-su', '1990-08-su', \n",
    "    '1990-06-su', '1990-05-su', '1990-03-su', '1990-01-su',\n",
    "\n",
    "    '1989-12-su', '1989-11-su', '1989-09-su', '1989-08-su', \n",
    "    '1989-06-su', '1989-05-su', '1989-03-su', '1989-01-su',\n",
    "\n",
    "    '1988-11-su', '1988-10-su', '1988-09-su', '1988-08-su', \n",
    "    '1988-06-su', '1988-05-su', '1988-03-su', '1988-01-su',\n",
    "\n",
    "    '1987-12-su', '1987-10-su', '1987-09-su', '1987-08-su', \n",
    "    '1987-06-su', '1987-05-su', '1987-03-su', '1987-01-su',\n",
    "\n",
    "    '1986-12-su', '1986-10-su', '1986-09-su', '1986-08-su', \n",
    "    '1986-06-su', '1986-05-su', '1986-03-su', '1986-01-su',\n",
    "\n",
    "    '1985-12-su', '1985-10-su', '1985-09-su', '1985-08-su', \n",
    "    '1985-06-su', '1985-05-su', '1985-03-su', '1985-01-su',\n",
    "\n",
    "    '1984-12-su', '1984-10-su', '1984-09-su', '1984-08-su', \n",
    "    '1984-06-su', '1984-05-su', '1984-03-su', '1984-01-su',\n",
    "\n",
    "    '1983-12-su', '1983-11-su', '1983-09-su', '1983-08-su', \n",
    "    '1983-07-su', '1983-05-su', '1983-03-su', '1983-02-su',\n",
    "\n",
    "    '1982-12-su', '1982-11-su', '1982-09-su', '1982-08-su', \n",
    "    '1982-06-su', '1982-05-su', '1982-03-su', '1982-01-su',\n",
    "\n",
    "    '1981-12-su', '1981-11-su', '1981-09-su', '1981-08-su', \n",
    "    '1981-06-su', '1981-05-su', '1981-03-su', '1981-01-su',\n",
    "\n",
    "    '1980-12-su', '1980-11-su', '1980-10-su', '1980-09-su', \n",
    "    '1980-08-su', '1980-07-su', '1980-05-su', '1980-04-su',\n",
    "    '1980-03-su','1980-01-su',\n",
    "\n",
    "    '1979-11-su', '1979-10-su', '1979-09-su', '1979-08-su', \n",
    "    '1979-07-su', '1979-05-su', '1979-04-su', '1979-03-su', \n",
    "    '1979-01-su',\n",
    "\n",
    "    '1978-12-su', '1978-11-su', '1978-10-su', '1978-09-su',\n",
    "    '1978-08-su', '1978-07-su', '1978-06-su', '1978-05-su',\n",
    "    '1978-04-su', '1978-03-su', '1978-02-su', '1978-01-su',\n",
    "\n",
    "    '1977-12-su', '1977-11-su', '1977-10-su', '1977-09-su',\n",
    "    '1977-08-su', '1977-07-su', '1977-06-su', '1977-05-su',\n",
    "    '1977-04-su', '1977-03-su', '1977-02-su', '1977-05-su',\n",
    "\n",
    "    '1976-12-su', '1976-11-su', '1976-10-su', '1976-09-su',\n",
    "    '1976-08-su', '1976-07-su', '1976-06-su', '1976-05-su',\n",
    "    '1976-04-su', '1976-03-su', '1976-02-su', '1976-01-su',\n",
    "\n",
    "    '1975-12-su', '1975-11-su', '1975-10-su', '1975-09-su',\n",
    "    '1975-08-su', '1975-07-su', '1975-06-su', '1975-05-su',\n",
    "    '1975-04-su', '1975-03-su', '1975-02-su', '1975-01-su',\n",
    "\n",
    "    '1974-12-su', '1974-11-su', '1974-10-su', '1974-09-su',\n",
    "    '1974-08-su', '1974-07-su', '1974-06-su', '1974-05-su',\n",
    "    '1974-04-su', '1974-03-su', '1974-02-su', '1974-01-su',\n",
    "\n",
    "    '1973-12-su', '1973-11-su', '1973-10-su', '1973-09-su',\n",
    "    '1973-08-su', '1973-07-su', '1973-06-su', '1973-05-su',\n",
    "    '1973-04-su', '1973-03-su', '1973-02-su', '1973-01-su',\n",
    "\n",
    "    '1972-12-su', '1972-11-su', '1972-10-su', '1972-09-su',\n",
    "    '1972-08-su', '1972-07-su', '1972-06-su', '1972-05-su',\n",
    "    '1972-04-su', '1972-03-su', '1972-02-su',\n",
    "\n",
    "    '1971-12-su', '1971-11-su', '1971-10-su', '1971-09-su',\n",
    "    '1971-08-su', '1971-07-su', '1971-06-su', '1971-05-su',\n",
    "    '1971-04-su', '1971-03-su', '1971-02-su', '1971-01-su',\n",
    "\n",
    "    '1970-12-su', '1970-11-su', '1970-10-su', '1970-09-su',\n",
    "    '1970-08-su', '1970-07-su', '1970-06-su', '1970-05-su'\n",
    "\n",
    "    ]\n",
    "\n"
   ]
  },
  {
   "cell_type": "code",
   "execution_count": null,
   "metadata": {},
   "outputs": [],
   "source": [
    "for index, page in enumerate(webpage):\n",
    "    urls = f\"https://www.minneapolisfed.org/news-and-events/beige-book-archive/{webpage}\"\n",
    "    rqs = requests.get(url=urls)\n",
    "    print(page, res.status_code) # used to debug for broken or unavailable links."
   ]
  },
  {
   "cell_type": "code",
   "execution_count": null,
   "metadata": {},
   "outputs": [],
   "source": [
    "#import datetime\n",
    "\n",
    "#base = datetime.datetime.today()\n",
    "\n",
    "#base.year\n",
    "\n",
    "#date_list = [base - datetime.timedelta(days=x) for x in range(0, 100)]"
   ]
  },
  {
   "cell_type": "code",
   "execution_count": null,
   "metadata": {},
   "outputs": [],
   "source": [
    "\n",
    "\n",
    "# regions = []\n",
    "# for i in webpage:\n",
    "#     if 'su' in i:\n",
    "#         new = i.replace('su', 'at')\n",
    "#         regions.append(new)"
   ]
  },
  {
   "cell_type": "code",
   "execution_count": 3,
   "metadata": {},
   "outputs": [],
   "source": [
    "def replacer(label):\n",
    "    regions = []\n",
    "    for i in webpage:\n",
    "        if 'su' in i:\n",
    "            new = i.replace('su', label)\n",
    "            regions.append(new)\n",
    "    return regions"
   ]
  },
  {
   "cell_type": "code",
   "execution_count": 4,
   "metadata": {},
   "outputs": [],
   "source": [
    "district = ['at', 'bo', 'ch', 'cl', 'da', 'kc', 'mi', 'ny', 'ph', 'ri', 'sf', 'sl']\n",
    "fed_districts = []\n",
    "for r in district:\n",
    "    lst = replacer(r)\n",
    "    fed_districts.extend(lst)\n"
   ]
  },
  {
   "cell_type": "code",
   "execution_count": 5,
   "metadata": {},
   "outputs": [
    {
     "data": {
      "text/plain": [
       "5148"
      ]
     },
     "execution_count": 5,
     "metadata": {},
     "output_type": "execute_result"
    }
   ],
   "source": [
    "len(fed_districts)"
   ]
  },
  {
   "cell_type": "code",
   "execution_count": null,
   "metadata": {},
   "outputs": [],
   "source": [
    "full_text = None"
   ]
  },
  {
   "cell_type": "code",
   "execution_count": null,
   "metadata": {},
   "outputs": [],
   "source": [
    "# extracts the national summary beige book from Jan 1970 to April 2019\n",
    "full_text = []\n",
    "for label in webpage:\n",
    "    urls = f\"https://www.minneapolisfed.org/news-and-events/beige-book-archive/{label}\"\n",
    "    #print(urls)\n",
    "    res = requests.get(url=urls)\n",
    "    soup = BeautifulSoup(res.content, 'lxml')\n",
    "    for body in soup.find_all('section', {'class': 'article-content'}):\n",
    "    #for body in soup.find('div', {'id': 'page-content'}).find_all('p')[3:]:\n",
    "        #print(body.text) \n",
    "        report = {}\n",
    "        report['national_report'] = body.text\n",
    "        \n",
    "        full_text.append(report)\n",
    "        \n",
    "\n",
    "        \n",
    "df = pd.DataFrame(full_text)        "
   ]
  },
  {
   "cell_type": "code",
   "execution_count": 30,
   "metadata": {},
   "outputs": [
    {
     "data": {
      "text/plain": [
       "(429, 1)"
      ]
     },
     "execution_count": 30,
     "metadata": {},
     "output_type": "execute_result"
    }
   ],
   "source": [
    "df.shape"
   ]
  },
  {
   "cell_type": "code",
   "execution_count": 33,
   "metadata": {},
   "outputs": [
    {
     "data": {
      "text/plain": [
       "'\\n\\r\\n    var ref = document.referrer;\\r\\n    var bBPath = \\'beige-book-archive\\';\\r\\n    function backToResults() {\\r\\n        if (ref.indexOf(bBPath) > -1) {\\r\\n            history.go(-1);\\r\\n        }\\r\\n        else {\\r\\n            window.location.href = \"./\";\\r\\n        }\\r\\n    }\\r\\n\\n‹ Back to Archive Search\\nBeige Book: National Summary\\nMay 20, 1970\\nThis initial report of economic conditions in the 12 Federal Reserve \\r\\nDistricts is based on information gathered from directors of the \\r\\nReserve Banks, conversations with local bankers, businessmen and \\r\\neconomists, regular monthly surveys of manufacturing and trade \\r\\nindustries conducted by some of the Reserve Banks, and selected \\r\\nstatistical measures of regional economic activity.\\nReports from the Reserve Banks clearly indicate that the current \\r\\noverriding domestic concern is inflation. Businessmen contacted \\r\\ngenerally expect that prices will continue to increase at a rapid \\r\\nrate during the remainder of the year. There appears to be \\r\\nconsiderable skepticism regarding the ability of economic \\r\\nstabilization policies to achieve a significant reduction in the \\r\\nrate of inflation without generating an intolerable level of \\r\\nunemployment or a \\r\\nfull-scale recession. Similarly, there is evidence \\r\\nof extensive concern about the persistence of strong upward wage \\r\\npressures, despite some easing in labor markets. The\\r\\nwage-push \\r\\nproblem is particularly acute in the construction industries. Some \\r\\nof the other major factors that are contributing to an underlying \\r\\ntone of pessimism regarding the business situation are prospects for \\r\\na continued squeeze on corporate profits, concern about the tight \\r\\nliquidity position of some firms, the recent decline in the stock \\r\\nmarket, and domestic social unrest.\\nThere appears to be no consensus as to whether the economy is \\r\\nactually in a recession—or when the floor of the current slowdown \\r\\nwill be realized. Views range from expectations of a further and \\r\\ndeeper deterioration in real economic activity to beliefs that \\r\\nrecovery is already in progress. The trucking strikes and lockouts \\r\\nhave seriously disrupted business conditions in some areas, \\r\\nparticularly in the Midwest. Several Districts noted that \\r\\nconstruction projects have been impeded because of steel shortages, \\r\\nand also because of widespread strikes in the building trades \\r\\nunions. There are also signs that some firms are postponing or \\r\\nstretching out capital spending projects where feasible.\\n'"
      ]
     },
     "execution_count": 33,
     "metadata": {},
     "output_type": "execute_result"
    }
   ],
   "source": [
    "df['national_report'][428]"
   ]
  },
  {
   "cell_type": "code",
   "execution_count": 34,
   "metadata": {},
   "outputs": [
    {
     "data": {
      "text/html": [
       "<div>\n",
       "<style scoped>\n",
       "    .dataframe tbody tr th:only-of-type {\n",
       "        vertical-align: middle;\n",
       "    }\n",
       "\n",
       "    .dataframe tbody tr th {\n",
       "        vertical-align: top;\n",
       "    }\n",
       "\n",
       "    .dataframe thead th {\n",
       "        text-align: right;\n",
       "    }\n",
       "</style>\n",
       "<table border=\"1\" class=\"dataframe\">\n",
       "  <thead>\n",
       "    <tr style=\"text-align: right;\">\n",
       "      <th></th>\n",
       "      <th>date</th>\n",
       "    </tr>\n",
       "  </thead>\n",
       "  <tbody>\n",
       "    <tr>\n",
       "      <th>0</th>\n",
       "      <td>2019-04</td>\n",
       "    </tr>\n",
       "    <tr>\n",
       "      <th>1</th>\n",
       "      <td>2019-03</td>\n",
       "    </tr>\n",
       "    <tr>\n",
       "      <th>2</th>\n",
       "      <td>2019-01</td>\n",
       "    </tr>\n",
       "    <tr>\n",
       "      <th>3</th>\n",
       "      <td>2018-12</td>\n",
       "    </tr>\n",
       "    <tr>\n",
       "      <th>4</th>\n",
       "      <td>2018-10</td>\n",
       "    </tr>\n",
       "  </tbody>\n",
       "</table>\n",
       "</div>"
      ],
      "text/plain": [
       "      date\n",
       "0  2019-04\n",
       "1  2019-03\n",
       "2  2019-01\n",
       "3  2018-12\n",
       "4  2018-10"
      ]
     },
     "execution_count": 34,
     "metadata": {},
     "output_type": "execute_result"
    }
   ],
   "source": [
    "national = []\n",
    "for label in webpage:\n",
    "    date = {}\n",
    "    date['date'] = label.strip('-su')\n",
    "    national.append(date)\n",
    "\n",
    "df_dates = pd.DataFrame(national)\n",
    "df_dates.head()"
   ]
  },
  {
   "cell_type": "code",
   "execution_count": 35,
   "metadata": {},
   "outputs": [
    {
     "data": {
      "text/plain": [
       "(429, 1)"
      ]
     },
     "execution_count": 35,
     "metadata": {},
     "output_type": "execute_result"
    }
   ],
   "source": [
    "df_dates.shape"
   ]
  },
  {
   "cell_type": "code",
   "execution_count": 44,
   "metadata": {},
   "outputs": [],
   "source": [
    "df_2 = df.join(df_dates)"
   ]
  },
  {
   "cell_type": "code",
   "execution_count": 45,
   "metadata": {},
   "outputs": [],
   "source": [
    "df_2.to_csv('./data/beige_book_national.csv')"
   ]
  },
  {
   "cell_type": "code",
   "execution_count": null,
   "metadata": {},
   "outputs": [],
   "source": [
    "# extracts the report from all the fed dsitricts beige book from Jan 1970 to April 2019.\n",
    "# code will take a while to run.\n",
    "regions = []\n",
    "counter = 0\n",
    "for label in fed_districts:\n",
    "    urls_r = f\"https://www.minneapolisfed.org/news-and-events/beige-book-archive/{label}\"\n",
    "    #print(urls_r)\n",
    "    res_r = requests.get(url=urls_r)\n",
    "    soup_r = BeautifulSoup(res_r.content, 'lxml')\n",
    "    for content in soup_r.find_all('section', {'class': 'article-content'}):\n",
    "#     #for body in soup.find('div', {'id': 'page-content'}).find_all('p')[3:]:\n",
    "        #print(content.text) \n",
    "        report = {}\n",
    "        report['district_report'] = content.text\n",
    "        \n",
    "        regions.append(report)\n",
    "        counter += 1\n",
    "        if counter % 10 == 0:\n",
    "            print(f'Pulled {counter} documents out of {len(fed_districts)}')\n",
    "        \n",
    "\n",
    "        \n",
    "df_district = pd.DataFrame(regions)        "
   ]
  },
  {
   "cell_type": "code",
   "execution_count": 75,
   "metadata": {},
   "outputs": [
    {
     "data": {
      "text/html": [
       "<div>\n",
       "<style scoped>\n",
       "    .dataframe tbody tr th:only-of-type {\n",
       "        vertical-align: middle;\n",
       "    }\n",
       "\n",
       "    .dataframe tbody tr th {\n",
       "        vertical-align: top;\n",
       "    }\n",
       "\n",
       "    .dataframe thead th {\n",
       "        text-align: right;\n",
       "    }\n",
       "</style>\n",
       "<table border=\"1\" class=\"dataframe\">\n",
       "  <thead>\n",
       "    <tr style=\"text-align: right;\">\n",
       "      <th></th>\n",
       "      <th>district_report</th>\n",
       "    </tr>\n",
       "  </thead>\n",
       "  <tbody>\n",
       "    <tr>\n",
       "      <th>0</th>\n",
       "      <td>\\n\\r\\n    var ref = document.referrer;\\r\\n    ...</td>\n",
       "    </tr>\n",
       "    <tr>\n",
       "      <th>1</th>\n",
       "      <td>\\n\\r\\n    var ref = document.referrer;\\r\\n    ...</td>\n",
       "    </tr>\n",
       "    <tr>\n",
       "      <th>2</th>\n",
       "      <td>\\n\\r\\n    var ref = document.referrer;\\r\\n    ...</td>\n",
       "    </tr>\n",
       "    <tr>\n",
       "      <th>3</th>\n",
       "      <td>\\n\\r\\n    var ref = document.referrer;\\r\\n    ...</td>\n",
       "    </tr>\n",
       "    <tr>\n",
       "      <th>4</th>\n",
       "      <td>\\n\\r\\n    var ref = document.referrer;\\r\\n    ...</td>\n",
       "    </tr>\n",
       "  </tbody>\n",
       "</table>\n",
       "</div>"
      ],
      "text/plain": [
       "                                     district_report\n",
       "0  \\n\\r\\n    var ref = document.referrer;\\r\\n    ...\n",
       "1  \\n\\r\\n    var ref = document.referrer;\\r\\n    ...\n",
       "2  \\n\\r\\n    var ref = document.referrer;\\r\\n    ...\n",
       "3  \\n\\r\\n    var ref = document.referrer;\\r\\n    ...\n",
       "4  \\n\\r\\n    var ref = document.referrer;\\r\\n    ..."
      ]
     },
     "execution_count": 75,
     "metadata": {},
     "output_type": "execute_result"
    }
   ],
   "source": [
    "df_district.head()"
   ]
  },
  {
   "cell_type": "code",
   "execution_count": 54,
   "metadata": {},
   "outputs": [
    {
     "data": {
      "text/html": [
       "<div>\n",
       "<style scoped>\n",
       "    .dataframe tbody tr th:only-of-type {\n",
       "        vertical-align: middle;\n",
       "    }\n",
       "\n",
       "    .dataframe tbody tr th {\n",
       "        vertical-align: top;\n",
       "    }\n",
       "\n",
       "    .dataframe thead th {\n",
       "        text-align: right;\n",
       "    }\n",
       "</style>\n",
       "<table border=\"1\" class=\"dataframe\">\n",
       "  <thead>\n",
       "    <tr style=\"text-align: right;\">\n",
       "      <th></th>\n",
       "      <th>date</th>\n",
       "    </tr>\n",
       "  </thead>\n",
       "  <tbody>\n",
       "    <tr>\n",
       "      <th>0</th>\n",
       "      <td>2019-04-at</td>\n",
       "    </tr>\n",
       "    <tr>\n",
       "      <th>1</th>\n",
       "      <td>2019-03-at</td>\n",
       "    </tr>\n",
       "    <tr>\n",
       "      <th>2</th>\n",
       "      <td>2019-01-at</td>\n",
       "    </tr>\n",
       "    <tr>\n",
       "      <th>3</th>\n",
       "      <td>2018-12-at</td>\n",
       "    </tr>\n",
       "    <tr>\n",
       "      <th>4</th>\n",
       "      <td>2018-10-at</td>\n",
       "    </tr>\n",
       "  </tbody>\n",
       "</table>\n",
       "</div>"
      ],
      "text/plain": [
       "         date\n",
       "0  2019-04-at\n",
       "1  2019-03-at\n",
       "2  2019-01-at\n",
       "3  2018-12-at\n",
       "4  2018-10-at"
      ]
     },
     "execution_count": 54,
     "metadata": {},
     "output_type": "execute_result"
    }
   ],
   "source": [
    "# extracts dates for each beige book at the district level\n",
    "regional = []\n",
    "for label in fed_districts:\n",
    "    date = {}\n",
    "    date['date'] = label\n",
    "    regional.append(date)\n",
    "\n",
    "df_dates = pd.DataFrame(regional)\n",
    "df_dates.head()"
   ]
  },
  {
   "cell_type": "code",
   "execution_count": 55,
   "metadata": {},
   "outputs": [
    {
     "data": {
      "text/plain": [
       "(5148, 1)"
      ]
     },
     "execution_count": 55,
     "metadata": {},
     "output_type": "execute_result"
    }
   ],
   "source": [
    "df_dates.shape"
   ]
  },
  {
   "cell_type": "code",
   "execution_count": 78,
   "metadata": {},
   "outputs": [],
   "source": [
    "df_3 = df_district.join(df_dates)"
   ]
  },
  {
   "cell_type": "code",
   "execution_count": 79,
   "metadata": {},
   "outputs": [],
   "source": [
    "# save to data directory\n",
    "# data file available upon request.\n",
    "df_3.to_csv('./data/beige_book_district.csv')"
   ]
  },
  {
   "cell_type": "markdown",
   "metadata": {},
   "source": [
    "#### Further Data Cleaning"
   ]
  },
  {
   "cell_type": "markdown",
   "metadata": {},
   "source": [
    "Since the date column is retrieved as a string format, we can perform some operations on it. We seek to create another column called `district` that contains the Fed districts. This column can allow for all sorts of EDA and even the creation of panel data (using a multiindex).   "
   ]
  },
  {
   "cell_type": "code",
   "execution_count": 36,
   "metadata": {},
   "outputs": [
    {
     "data": {
      "text/html": [
       "<div>\n",
       "<style scoped>\n",
       "    .dataframe tbody tr th:only-of-type {\n",
       "        vertical-align: middle;\n",
       "    }\n",
       "\n",
       "    .dataframe tbody tr th {\n",
       "        vertical-align: top;\n",
       "    }\n",
       "\n",
       "    .dataframe thead th {\n",
       "        text-align: right;\n",
       "    }\n",
       "</style>\n",
       "<table border=\"1\" class=\"dataframe\">\n",
       "  <thead>\n",
       "    <tr style=\"text-align: right;\">\n",
       "      <th></th>\n",
       "      <th>district_report</th>\n",
       "      <th>date</th>\n",
       "    </tr>\n",
       "  </thead>\n",
       "  <tbody>\n",
       "    <tr>\n",
       "      <th>0</th>\n",
       "      <td>\\n\\r\\n    var ref = document.referrer;\\r\\n    ...</td>\n",
       "      <td>2019-04-at</td>\n",
       "    </tr>\n",
       "    <tr>\n",
       "      <th>1</th>\n",
       "      <td>\\n\\r\\n    var ref = document.referrer;\\r\\n    ...</td>\n",
       "      <td>2019-03-at</td>\n",
       "    </tr>\n",
       "    <tr>\n",
       "      <th>2</th>\n",
       "      <td>\\n\\r\\n    var ref = document.referrer;\\r\\n    ...</td>\n",
       "      <td>2019-01-at</td>\n",
       "    </tr>\n",
       "    <tr>\n",
       "      <th>3</th>\n",
       "      <td>\\n\\r\\n    var ref = document.referrer;\\r\\n    ...</td>\n",
       "      <td>2018-12-at</td>\n",
       "    </tr>\n",
       "    <tr>\n",
       "      <th>4</th>\n",
       "      <td>\\n\\r\\n    var ref = document.referrer;\\r\\n    ...</td>\n",
       "      <td>2018-10-at</td>\n",
       "    </tr>\n",
       "  </tbody>\n",
       "</table>\n",
       "</div>"
      ],
      "text/plain": [
       "                                     district_report        date\n",
       "0  \\n\\r\\n    var ref = document.referrer;\\r\\n    ...  2019-04-at\n",
       "1  \\n\\r\\n    var ref = document.referrer;\\r\\n    ...  2019-03-at\n",
       "2  \\n\\r\\n    var ref = document.referrer;\\r\\n    ...  2019-01-at\n",
       "3  \\n\\r\\n    var ref = document.referrer;\\r\\n    ...  2018-12-at\n",
       "4  \\n\\r\\n    var ref = document.referrer;\\r\\n    ...  2018-10-at"
      ]
     },
     "execution_count": 36,
     "metadata": {},
     "output_type": "execute_result"
    }
   ],
   "source": [
    "# import the data file and drop the `Unnamed: 0` column.\n",
    "district = pd.read_csv('./data/beige_book_district.csv')\n",
    "district.drop(columns='Unnamed: 0', inplace=True)\n",
    "district.head()"
   ]
  },
  {
   "cell_type": "code",
   "execution_count": 37,
   "metadata": {},
   "outputs": [
    {
     "data": {
      "text/plain": [
       "'at'"
      ]
     },
     "execution_count": 37,
     "metadata": {},
     "output_type": "execute_result"
    }
   ],
   "source": [
    "district['date'][0].split(\"-\")[2]"
   ]
  },
  {
   "cell_type": "code",
   "execution_count": 38,
   "metadata": {},
   "outputs": [
    {
     "data": {
      "text/html": [
       "<div>\n",
       "<style scoped>\n",
       "    .dataframe tbody tr th:only-of-type {\n",
       "        vertical-align: middle;\n",
       "    }\n",
       "\n",
       "    .dataframe tbody tr th {\n",
       "        vertical-align: top;\n",
       "    }\n",
       "\n",
       "    .dataframe thead th {\n",
       "        text-align: right;\n",
       "    }\n",
       "</style>\n",
       "<table border=\"1\" class=\"dataframe\">\n",
       "  <thead>\n",
       "    <tr style=\"text-align: right;\">\n",
       "      <th></th>\n",
       "      <th>district_report</th>\n",
       "      <th>date</th>\n",
       "      <th>district</th>\n",
       "    </tr>\n",
       "  </thead>\n",
       "  <tbody>\n",
       "    <tr>\n",
       "      <th>0</th>\n",
       "      <td>\\n\\r\\n    var ref = document.referrer;\\r\\n    ...</td>\n",
       "      <td>2019-04-at</td>\n",
       "      <td>at</td>\n",
       "    </tr>\n",
       "    <tr>\n",
       "      <th>1</th>\n",
       "      <td>\\n\\r\\n    var ref = document.referrer;\\r\\n    ...</td>\n",
       "      <td>2019-03-at</td>\n",
       "      <td>at</td>\n",
       "    </tr>\n",
       "    <tr>\n",
       "      <th>2</th>\n",
       "      <td>\\n\\r\\n    var ref = document.referrer;\\r\\n    ...</td>\n",
       "      <td>2019-01-at</td>\n",
       "      <td>at</td>\n",
       "    </tr>\n",
       "    <tr>\n",
       "      <th>3</th>\n",
       "      <td>\\n\\r\\n    var ref = document.referrer;\\r\\n    ...</td>\n",
       "      <td>2018-12-at</td>\n",
       "      <td>at</td>\n",
       "    </tr>\n",
       "    <tr>\n",
       "      <th>4</th>\n",
       "      <td>\\n\\r\\n    var ref = document.referrer;\\r\\n    ...</td>\n",
       "      <td>2018-10-at</td>\n",
       "      <td>at</td>\n",
       "    </tr>\n",
       "  </tbody>\n",
       "</table>\n",
       "</div>"
      ],
      "text/plain": [
       "                                     district_report        date district\n",
       "0  \\n\\r\\n    var ref = document.referrer;\\r\\n    ...  2019-04-at       at\n",
       "1  \\n\\r\\n    var ref = document.referrer;\\r\\n    ...  2019-03-at       at\n",
       "2  \\n\\r\\n    var ref = document.referrer;\\r\\n    ...  2019-01-at       at\n",
       "3  \\n\\r\\n    var ref = document.referrer;\\r\\n    ...  2018-12-at       at\n",
       "4  \\n\\r\\n    var ref = document.referrer;\\r\\n    ...  2018-10-at       at"
      ]
     },
     "execution_count": 38,
     "metadata": {},
     "output_type": "execute_result"
    }
   ],
   "source": [
    "# splits the distrcit label from the date and creates a new column \n",
    "districts = []\n",
    "for i in district['date']:\n",
    "    #suffix = i.split(\"-\")[2]\n",
    "    #print(suffix)\n",
    "    district_name = {}\n",
    "    district_name['district'] = i.split(\"-\")[2]\n",
    "    districts.append(district_name)\n",
    "dist = pd.DataFrame(districts)\n",
    "district_df = district.join(dist)\n",
    "district_df.head()"
   ]
  },
  {
   "cell_type": "code",
   "execution_count": 39,
   "metadata": {},
   "outputs": [
    {
     "data": {
      "text/plain": [
       "'2019-04'"
      ]
     },
     "execution_count": 39,
     "metadata": {},
     "output_type": "execute_result"
    }
   ],
   "source": [
    "district['date'][0].strip(\"-\")[:-3]"
   ]
  },
  {
   "cell_type": "code",
   "execution_count": 46,
   "metadata": {},
   "outputs": [],
   "source": [
    "# a function that strips the date\n",
    "def date_strip(data):\n",
    "    suffix = data.strip(\"-\")[:-3]\n",
    "    #print(suffix)\n",
    "    return suffix"
   ]
  },
  {
   "cell_type": "code",
   "execution_count": 47,
   "metadata": {},
   "outputs": [
    {
     "data": {
      "text/plain": [
       "'2019-04'"
      ]
     },
     "execution_count": 47,
     "metadata": {},
     "output_type": "execute_result"
    }
   ],
   "source": [
    "date_strip(district['date'][0])"
   ]
  },
  {
   "cell_type": "code",
   "execution_count": 49,
   "metadata": {},
   "outputs": [],
   "source": [
    "# use the apply function to apply our date_strip function to the dataframe.\n",
    "district_df['date'] = district_df['date'].apply(date_strip)"
   ]
  },
  {
   "cell_type": "code",
   "execution_count": 50,
   "metadata": {},
   "outputs": [
    {
     "data": {
      "text/html": [
       "<div>\n",
       "<style scoped>\n",
       "    .dataframe tbody tr th:only-of-type {\n",
       "        vertical-align: middle;\n",
       "    }\n",
       "\n",
       "    .dataframe tbody tr th {\n",
       "        vertical-align: top;\n",
       "    }\n",
       "\n",
       "    .dataframe thead th {\n",
       "        text-align: right;\n",
       "    }\n",
       "</style>\n",
       "<table border=\"1\" class=\"dataframe\">\n",
       "  <thead>\n",
       "    <tr style=\"text-align: right;\">\n",
       "      <th></th>\n",
       "      <th>district_report</th>\n",
       "      <th>date</th>\n",
       "      <th>district</th>\n",
       "    </tr>\n",
       "  </thead>\n",
       "  <tbody>\n",
       "    <tr>\n",
       "      <th>0</th>\n",
       "      <td>\\n\\r\\n    var ref = document.referrer;\\r\\n    ...</td>\n",
       "      <td>2019-04</td>\n",
       "      <td>at</td>\n",
       "    </tr>\n",
       "    <tr>\n",
       "      <th>1</th>\n",
       "      <td>\\n\\r\\n    var ref = document.referrer;\\r\\n    ...</td>\n",
       "      <td>2019-03</td>\n",
       "      <td>at</td>\n",
       "    </tr>\n",
       "    <tr>\n",
       "      <th>2</th>\n",
       "      <td>\\n\\r\\n    var ref = document.referrer;\\r\\n    ...</td>\n",
       "      <td>2019-01</td>\n",
       "      <td>at</td>\n",
       "    </tr>\n",
       "    <tr>\n",
       "      <th>3</th>\n",
       "      <td>\\n\\r\\n    var ref = document.referrer;\\r\\n    ...</td>\n",
       "      <td>2018-12</td>\n",
       "      <td>at</td>\n",
       "    </tr>\n",
       "    <tr>\n",
       "      <th>4</th>\n",
       "      <td>\\n\\r\\n    var ref = document.referrer;\\r\\n    ...</td>\n",
       "      <td>2018-10</td>\n",
       "      <td>at</td>\n",
       "    </tr>\n",
       "  </tbody>\n",
       "</table>\n",
       "</div>"
      ],
      "text/plain": [
       "                                     district_report     date district\n",
       "0  \\n\\r\\n    var ref = document.referrer;\\r\\n    ...  2019-04       at\n",
       "1  \\n\\r\\n    var ref = document.referrer;\\r\\n    ...  2019-03       at\n",
       "2  \\n\\r\\n    var ref = document.referrer;\\r\\n    ...  2019-01       at\n",
       "3  \\n\\r\\n    var ref = document.referrer;\\r\\n    ...  2018-12       at\n",
       "4  \\n\\r\\n    var ref = document.referrer;\\r\\n    ...  2018-10       at"
      ]
     },
     "execution_count": 50,
     "metadata": {},
     "output_type": "execute_result"
    }
   ],
   "source": [
    "district_df.head()"
   ]
  },
  {
   "cell_type": "code",
   "execution_count": 52,
   "metadata": {},
   "outputs": [],
   "source": [
    "# save the dataframe to a csv.\n",
    "# due to its large size, the data directory is hidden in the repo.\n",
    "# data available upon request\n",
    "\n",
    "district_df.to_csv('./data/beige_book_district.csv', index=False)"
   ]
  },
  {
   "cell_type": "code",
   "execution_count": null,
   "metadata": {},
   "outputs": [],
   "source": []
  }
 ],
 "metadata": {
  "kernelspec": {
   "display_name": "Python 3",
   "language": "python",
   "name": "python3"
  },
  "language_info": {
   "codemirror_mode": {
    "name": "ipython",
    "version": 3
   },
   "file_extension": ".py",
   "mimetype": "text/x-python",
   "name": "python",
   "nbconvert_exporter": "python",
   "pygments_lexer": "ipython3",
   "version": "3.7.1"
  }
 },
 "nbformat": 4,
 "nbformat_minor": 2
}
